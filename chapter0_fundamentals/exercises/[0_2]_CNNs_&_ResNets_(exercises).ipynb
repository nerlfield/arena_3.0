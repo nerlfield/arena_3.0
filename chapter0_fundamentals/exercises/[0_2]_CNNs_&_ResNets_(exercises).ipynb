{
 "cells": [
  {
   "cell_type": "markdown",
   "metadata": {
    "id": "PVsn9JeJLjC3"
   },
   "source": [
    "# [0.2] - CNNs & ResNets"
   ]
  },
  {
   "cell_type": "markdown",
   "metadata": {
    "id": "E482P_ATLk-w"
   },
   "source": [
    "Colab: [exercises](https://colab.research.google.com/drive/1sZpsnjN7gI4EucRcD0mCafN5Vg1DPOnm) | [solutions](https://colab.research.google.com/drive/1LDv8fB47OPKPp4C83CO_gTzaUE2bR-Ve)\n",
    "\n",
    "ARENA 3.0 [Streamlit page](https://arena3-chapter0-fundamentals.streamlit.app/[0.2]_CNNs_&_ResNets)\n",
    "\n",
    "Please send any problems / bugs on the `#errata` channel in the [Slack group](https://join.slack.com/t/arena-la82367/shared_invite/zt-1uvoagohe-JUv9xB7Vr143pdx1UBPrzQ), and ask any questions on the dedicated channels for this chapter of material.\n",
    "\n",
    "To view solutions for the exercises, see the Colab solutions page or the Streamlit page.\n"
   ]
  },
  {
   "cell_type": "markdown",
   "metadata": {
    "id": "ST7GZ0xkxW6j"
   },
   "source": [
    "<img src=\"https://raw.githubusercontent.com/callummcdougall/Fundamentals/main/images/cnn.png\" width=\"350\">\n"
   ]
  },
  {
   "cell_type": "markdown",
   "metadata": {
    "id": "jd3LpCav3UXu"
   },
   "source": [
    "# Introduction\n",
    "\n"
   ]
  },
  {
   "cell_type": "markdown",
   "metadata": {
    "id": "yyh3U2Q_sG9y"
   },
   "source": [
    "This section is designed to get you familiar with basic neural networks: how they are structured, the basic operations like linear layers and convolutions which go into making them, and why they work as well as they do. You'll start by making very simple neural networks, and by the end of today you'll build up to assembling ResNet34, a comparatively much more complicated architecture."
   ]
  },
  {
   "cell_type": "markdown",
   "metadata": {
    "id": "pCGJzuxZsG9y"
   },
   "source": [
    "## Content & Learning Objectives\n"
   ]
  },
  {
   "cell_type": "markdown",
   "metadata": {
    "id": "DJVhlvPlsG9y"
   },
   "source": [
    "### 1️⃣ Making your own modules\n",
    "\n",
    "In the first set of exercises, we'll cover the general structure of modules in PyTorch. You'll also implement your own basic modules, including for ReLU and Linear layers. You'll finish by assembling a very simple neural network.\n",
    "\n",
    "> ##### Learning objectives\n",
    ">\n",
    "> - Learn how to create your own modules in PyTorch, by inheriting from `nn.Module`\n",
    "> - Assemble the pieces together to create a simple fully-connected network, to classify MNIST digits\n",
    "\n",
    "### 2️⃣ Training Neural Networks\n",
    "\n",
    "Here, you'll learn how to write a training loop in PyTorch. We'll keep it simple for today (and later on we'll experiment with more modular and extensible designs).\n",
    "\n",
    "> ##### Learning objectives\n",
    ">\n",
    "> - Understand how to work with transforms, datasets and dataloaders\n",
    "> - Understand the basic structure of a training loop\n",
    "> - Learn how to write your own validation loop\n",
    "\n",
    "### 3️⃣ Convolutions\n",
    "\n",
    "In this section, you'll read about convolutions, and implement them as an `nn.Module` (not from scratch; we leave that to the bonus exercises). You'll also learn about maxpooling, and implement that as well.\n",
    "\n",
    "> ##### Learning Objectives\n",
    ">\n",
    "> * Learn how convolutions work, and why they are useful for vision models\n",
    "> * Implement your own convolutions, and maxpooling layers\n",
    "\n",
    "### 4️⃣ ResNets\n",
    "\n",
    "Here, you'll combine all the pieces you've learned so far to assemble ResNet34, a much more complex architecture used for image classification.\n",
    "\n",
    "> ##### Learning Objectives\n",
    ">\n",
    "> * Learn about skip connections, and how they help overcome the degradation problem\n",
    "> * Learn about batch normalization, and why it is used in training\n",
    "> * Assemble your own ResNet, and load in weights from PyTorch's ResNet implementation\n",
    "\n",
    "### 5️⃣ Bonus - Convolutions From Scratch\n",
    "\n",
    "This section takes you through the low-level details of how to actually implement convolutions. It's not necessary to understand this section to complete the exercises, but it's a good way to get a deeper understanding of how convolutions work.\n",
    "\n",
    "> ##### Learning objectives\n",
    ">\n",
    "> * Understand how array strides work, and why they're important for efficient linear operations\n",
    "> * Learn how to use `as_strided` to perform simple linear operations like trace and matrix multiplication\n",
    "> * Implement your own convolutions and maxpooling functions using stride-based methods\n",
    "\n",
    "### 6️⃣ Bonus - Feature Extraction\n",
    "\n",
    "In this section, you'll learn how to repurpose your ResNet to perform a different task than it was designed for, using feature extraction.\n",
    "\n",
    "> ##### Learning Objectives\n",
    ">\n",
    "> * Understand the difference between feature extraction and finetuning\n",
    "> * Perform feature extraction on a pre-trained ResNet"
   ]
  },
  {
   "cell_type": "markdown",
   "metadata": {
    "id": "XcgAnZZOyBYk"
   },
   "source": [
    "## Setup (don't read, just run!)\n"
   ]
  },
  {
   "cell_type": "code",
   "execution_count": 2,
   "metadata": {
    "colab": {
     "base_uri": "https://localhost:8080/"
    },
    "id": "7yYsYe32yl9U",
    "outputId": "9c057b52-1b8e-443e-a106-94eb01805b66"
   },
   "outputs": [],
   "source": [
    "try:\n",
    "    import google.colab\n",
    "    IN_COLAB = True\n",
    "except:\n",
    "    IN_COLAB = False\n",
    "\n",
    "if IN_COLAB:\n",
    "    # Install packages\n",
    "    %pip install einops\n",
    "    %pip install jaxtyping\n",
    "\n",
    "    # Code to make sure output widgets display\n",
    "    from google.colab import output\n",
    "    output.enable_custom_widget_manager()\n",
    "\n",
    "    # Code to download the necessary files (e.g. solutions, test funcs)\n",
    "    import os, sys\n",
    "    if not os.path.exists(\"chapter0_fundamentals\"):\n",
    "        !wget https://github.com/callummcdougall/ARENA_3.0/archive/refs/heads/main.zip\n",
    "        !unzip /content/main.zip 'ARENA_3.0-main/chapter0_fundamentals/exercises/*'\n",
    "        os.remove(\"/content/main.zip\")\n",
    "        os.rename(\"ARENA_3.0-main/chapter0_fundamentals\", \"chapter0_fundamentals\")\n",
    "        os.rmdir(\"ARENA_3.0-main\")\n",
    "        sys.path.insert(0, \"chapter0_fundamentals/exercises\")\n",
    "\n",
    "    # Clear output\n",
    "    from IPython.display import clear_output\n",
    "    clear_output()\n",
    "    print(\"Imports & installations complete!\")\n",
    "\n",
    "else:\n",
    "    from IPython import get_ipython\n",
    "    ipython = get_ipython()\n",
    "    ipython.run_line_magic(\"load_ext\", \"autoreload\")\n",
    "    ipython.run_line_magic(\"autoreload\", \"2\")"
   ]
  },
  {
   "cell_type": "code",
   "execution_count": 3,
   "metadata": {
    "id": "DRQ9j4ftyHXf"
   },
   "outputs": [],
   "source": [
    "import os\n",
    "import sys\n",
    "import numpy as np\n",
    "import einops\n",
    "from typing import Union, Optional, Tuple, Dict, List\n",
    "import torch as t\n",
    "from torch import Tensor\n",
    "import torch.nn as nn\n",
    "import torch.nn.functional as F\n",
    "from jaxtyping import Float, Int\n",
    "import functools\n",
    "from pathlib import Path\n",
    "from torchvision import datasets, transforms, models\n",
    "from torch.utils.data import DataLoader, Subset\n",
    "from tqdm.notebook import tqdm\n",
    "from dataclasses import dataclass\n",
    "from PIL import Image\n",
    "import json\n",
    "\n",
    "# Get file paths to this set of exercises\n",
    "exercises_dir = Path(\"chapter0_fundamentals/exercises\")\n",
    "section_dir = exercises_dir / \"part2_cnns\"\n",
    "\n",
    "from plotly_utils import imshow, line, bar\n",
    "import part2_cnns.tests as tests\n",
    "from part2_cnns.utils import print_param_count"
   ]
  },
  {
   "cell_type": "markdown",
   "metadata": {
    "id": "hLj6KotcClq7"
   },
   "source": [
    "<details>\n",
    "<summary>Help - I get a NumPy-related error</summary>\n",
    "\n",
    "This is an annoying colab-related issue which I haven't been able to find a satisfying fix for. If you restart runtime (but don't delete runtime), and run just the imports cell above again (but not the `%pip install` cell), the problem should go away.\n",
    "</details>\n"
   ]
  },
  {
   "cell_type": "markdown",
   "metadata": {
    "id": "cmgIafL_7EUG"
   },
   "source": [
    "# 1️⃣ Making your own modules"
   ]
  },
  {
   "cell_type": "markdown",
   "metadata": {
    "id": "4zGfJO-U7iD_"
   },
   "source": [
    "> ### Learning objectives\n",
    ">\n",
    "> - Learn how to create your own modules in PyTorch, by inheriting from `nn.Module`\n",
    "> - Assemble the pieces together to create a simple fully-connected network, to classify MNIST digits\n"
   ]
  },
  {
   "cell_type": "markdown",
   "metadata": {
    "id": "PQP9PYkh7jVu"
   },
   "source": [
    "## Subclassing `nn.Module`\n",
    "\n",
    "One of the most basic parts of PyTorch that you will see over and over is the `nn.Module` class. All types of neural net components inherit from it, from the simplest `nn.Relu` to the most complex `nn.Transformer`. Often, a complex `nn.Module` will have sub-`Module`s which implement smaller pieces of its functionality.\n",
    "\n",
    "Other common `Module`s  you'll see include\n",
    "\n",
    "- `nn.Linear`, for fully-connected layers with or without a bias\n",
    "- `nn.Conv2d`, for a two-dimensional convolution (we'll see more of these in a future section)\n",
    "- `nn.Softmax`, which implements the [softmax](https://pytorch.org/docs/stable/generated/torch.nn.Softmax.html) function\n",
    "\n",
    "The list goes on, including activation functions, normalizations, pooling, attention, and more. You can see all the `Module`s that PyTorch provides [here](https://pytorch.org/docs/stable/nn.html). You can also create your own `Module`s, as we will do often!\n",
    "\n",
    "The `Module` class provides a lot of functionality, but we'll only cover a little bit of it here.\n",
    "\n",
    "In this section, we'll add another layer of abstraction to all the linear operations we've done in previous sections, by packaging them inside `nn.Module` objects."
   ]
  },
  {
   "cell_type": "code",
   "execution_count": 4,
   "metadata": {
    "id": "-TlUaVtvDill"
   },
   "outputs": [],
   "source": [
    "a = t.tensor([]).to('cuda')"
   ]
  },
  {
   "cell_type": "markdown",
   "metadata": {
    "id": "5ltogr-l7lUZ"
   },
   "source": [
    "### `__init__` and `forward`\n",
    "\n",
    "A subclass of `nn.Module` usually looks something like this:\n",
    "\n",
    "```python\n",
    "import torch.nn as nn\n",
    "\n",
    "class MyModule(nn.Module):\n",
    "    def __init__(self, arg1, arg2, ...):\n",
    "        super().__init__()\n",
    "        # Initialization code\n",
    "\n",
    "    def forward(self, x: t.Tensor) -> t.Tensor:\n",
    "        # Forward pass code\n",
    "```\n",
    "\n",
    "The initialization sets up attributes that will be used for the life of the `Module`, like its parameters, hyperparameters, or other sub-`Module`s it might need to use. These are usually added to the instance with something like `self.attribute = attr`, where `attr` might be provided as an argument. Some modules are simple enough that they don't need any persistent attributes, and in this case you can skip the `__init__`.\n",
    "\n",
    "The `forward` method is called on each forward pass of the `Module`, possibly using the attributes that were set up in the `__init__`. It should take in the input, do whatever it's supposed to do, and return the result. Subclassing `nn.Module` automatically makes instances of your class callable, so you can do `model(x)` on an input `x` to invoke the `forward` method."
   ]
  },
  {
   "cell_type": "markdown",
   "metadata": {
    "id": "MDDBH7ZW7mn7"
   },
   "source": [
    "### The `nn.Parameter` class\n",
    "\n",
    "A `nn.Parameter` is a special type of `Tensor`. Basically, this is the class that torch has provided for storing the weights and biases of a `Module`. It has some special properties for doing this:\n",
    "\n",
    "- If a `Parameter` is set as an attribute of a `Module`, it will be auto-detected by torch and returned when you call `module.parameters()` (along with all the other `Parameters` associated with the `Module`, or any of the `Module`'s sub-modules!).\n",
    "- This makes it easy to pass all the parameters of a model into an optimizer and update them all at once.\n",
    "\n",
    "When you create a `Module` that has weights or biases, be sure to wrap them in `nn.Parameter` so that torch can detect and update them appropriately:\n",
    "\n",
    "```python\n",
    "class MyModule(nn.Module):\n",
    "    def __init__(self, weights: t.Tensor, biases: t.Tensor):\n",
    "        super().__init__()\n",
    "        self.weights = nn.Parameter(weights) # wrapping a tensor in nn.Parameter\n",
    "        self.biases = nn.Parameter(biases)\n",
    "```"
   ]
  },
  {
   "cell_type": "markdown",
   "metadata": {
    "id": "OPe4E7lu7oAB"
   },
   "source": [
    "### Printing information with `extra_repr`\n",
    "\n",
    "Another useful method is called `extra_repr`. This allows you to format the string representation of your `Module` in a way that's more informative than the default. For example, the following:\n",
    "\n",
    "```python\n",
    "class MyModule(nn.Module):\n",
    "    def __init__(self, arg1, arg2, ...):\n",
    "        super().__init__()\n",
    "        # Initialization code\n",
    "\n",
    "    def extra_repr(self) -> str:\n",
    "        return f\"arg1={self.arg1}, arg2={self.arg2}, ...\"\n",
    "```\n",
    "\n",
    "will result in the output `\"MyModule(arg1=arg1, arg2=arg2, ...)\"` when you print an instance of this module. You might want to take this opportunity to print out useful invariant information about the module. The Python built-in function `getattr` might be helpful here (it can be used e.g. as `getattr(self, \"arg1\")`, which returns the same as `self.arg1` would). For simple modules, it's fine not to implement `extra_repr`."
   ]
  },
  {
   "cell_type": "markdown",
   "metadata": {
    "id": "6sHgF6En7o_F"
   },
   "source": [
    "## ReLU\n",
    "\n",
    "The first module you should implement is `ReLU`. This will relatively simple, since it doesn't involve any argument (so we only need to implement `forward`). Make sure you look at the PyTorch documentation page for [ReLU](https://pytorch.org/docs/stable/generated/torch.nn.ReLU.html) so that you're comfortable with what they do and why they're useful in neural networks."
   ]
  },
  {
   "cell_type": "markdown",
   "metadata": {
    "id": "2OSobLjv7qJB"
   },
   "source": [
    "### Exercise - implement `ReLU`\n",
    "\n",
    "```yaml\n",
    "Difficulty: 🔴🔴⚪⚪⚪\n",
    "Importance: 🔵🔵🔵⚪⚪\n",
    "\n",
    "You should spend up to ~10 minutes on this exercise.\n",
    "```\n",
    "\n",
    "You should fill in the `forward` method of the `ReLU` class below."
   ]
  },
  {
   "cell_type": "code",
   "execution_count": 5,
   "metadata": {
    "colab": {
     "base_uri": "https://localhost:8080/"
    },
    "id": "UBk1wLQw7rOG",
    "outputId": "85a8b796-d166-4508-cc1f-a93eb7d2bb2d"
   },
   "outputs": [
    {
     "name": "stdout",
     "output_type": "stream",
     "text": [
      "All tests in `test_relu` passed!\n"
     ]
    }
   ],
   "source": [
    "class ReLU(nn.Module):\n",
    "    def forward(self, x: t.Tensor) -> t.Tensor:\n",
    "        return t.max(t.zeros_like(x), x)\n",
    "\n",
    "\n",
    "tests.test_relu(ReLU)"
   ]
  },
  {
   "cell_type": "markdown",
   "metadata": {
    "id": "G2ZE1rrk7uh2"
   },
   "source": [
    "## Linear\n",
    "\n",
    "Now implement your own `Linear` module. This applies a simple linear transformation, with a weight matrix and optional bias vector. The PyTorch documentation page is [here](https://pytorch.org/docs/stable/generated/torch.nn.Linear.html). Note that this is the first `Module` you'll implement that has learnable weights and biases.\n",
    "\n",
    "<details>\n",
    "<summary>Question - what type should these variables be?</summary>\n",
    "\n",
    "They have to be `torch.Tensor` objects wrapped in `nn.Parameter` in order for `nn.Module` to recognize them. If you forget to do this, `module.parameters()` won't include your `Parameter`, which prevents an optimizer from being able to modify it during training.\n",
    "        \n",
    "Also, in tomorrow's exercises we'll be building a ResNet and loading in weights from a pretrained model, and this is hard to do if you haven't registered all your parameters!\n",
    "</details>\n",
    "\n",
    "For any layer, initialization is very important for the stability of training: with a bad initialization, your model will take much longer to converge or may completely fail to learn anything. The default PyTorch behavior isn't necessarily optimal and you can often improve performance by using something more custom, but we'll follow it for today because it's simple and works decently well.\n",
    "\n",
    "Each float in the weight and bias tensors are drawn independently from the uniform distribution on the interval:\n",
    "\n",
    "$$\n",
    "\\bigg[-\\frac{1}{\\sqrt{N_{in}}}, \\frac{1}{\\sqrt{N_{in}}}\\bigg]\n",
    "$$\n",
    "\n",
    "where $N_{in}$ is the number of inputs contributing to each output value. The rough intuition for this is that it keeps the variance of the activations at each layer constant, since each one is calculated by taking the sum over $N_{in}$ inputs multiplied by the weights (and standard deviation of the sum of independent random variables scales as the square root of number of variables).\n",
    "\n",
    "The name for this is **Kaiming (uniform) initialisation**.\n",
    "\n",
    "<details>\n",
    "<summary>Technical details (derivation of distribution)</summary>\n",
    "\n",
    "The key intuition behind Kaiming initialisation (and others like it) is that we want the variance of our activations to be the same through all layers of the model when we initialize. Suppose $x$ and $y$ are activations from two adjacent layers, and $w$ are the weights connecting them (so we have $y_i = \\sum_j w_{ij} x_j + b_i$, where $b$ is the bias). With $N_{x}$ as the number of neurons in layer $x$, we have:\n",
    "\n",
    "$$\n",
    "\\begin{aligned}\n",
    "\\operatorname{Var}\\left(y_i\\right)=\\sigma_x^2 & =\\operatorname{Var}\\left(\\sum_j w_{i j} x_j\\right) \\\\\n",
    "& =\\sum_j \\operatorname{Var}\\left(w_{i j} x_j\\right) \\quad \\text { Inputs and weights are independent of each other } \\\\\n",
    "& =\\sum_j \\operatorname{Var}\\left(w_{i j}\\right) \\cdot \\operatorname{Var}\\left(x_j\\right) \\quad \\text { Variance of product of independent RVs with zero mean is product of variances } \\\\\n",
    "& = N_x \\cdot \\sigma_x^2 \\cdot \\operatorname{Var}\\left(w_{i j}\\right) \\quad \\text { Variance equal for all } N_x \\text { neurons, call this value } \\sigma_x^2\n",
    "\\end{aligned}\n",
    "$$\n",
    "\n",
    "For this to be the same as $\\sigma_x^2$, we need $\\operatorname{Var}(w_{ij}) = \\frac{1}{N_x}$, so the standard deviation is $\\frac{1}{\\sqrt{N_x}}$.\n",
    "\n",
    "This is not exactly the case for the Kaiming uniform distribution (which has variance $\\frac{12}{(2 \\sqrt{N_x})^2} = \\frac{3}{N_x}$), and as far as I'm aware there's no principled reason why PyTorch does this. But the most important thing is that the variance scales as $O(1 / N_x)$, rather than what the exact scaling constant is.\n",
    "\n",
    "There are other initializations with some theoretical justification. For instance, **Xavier initialization** has a uniform distribution in the interval:\n",
    "\n",
    "$$\n",
    "\\bigg[-\\frac{\\sqrt{6}}{\\sqrt{N_{in} + N_{out} + 1}}, \\frac{\\sqrt{6}}{\\sqrt{N_{in} + N_{out} + 1}}\\bigg]\n",
    "$$\n",
    "\n",
    "which is motivated by the idea of both keeping the variance of activations constant and keeping the ***gradients*** constant when we backpropagate.\n",
    "\n",
    "However, you don't need to worry about any of this here, just implement Kaiming He uniform with a bound of $\\frac{1}{\\sqrt{N_{in}}}$!\n",
    "</details>"
   ]
  },
  {
   "cell_type": "markdown",
   "metadata": {
    "id": "NvmqP-K27wNf"
   },
   "source": [
    "### Exercise - implement `Linear`\n",
    "\n",
    "```yaml\n",
    "Difficulty: 🔴🔴⚪⚪⚪\n",
    "Importance: 🔵🔵🔵🔵⚪\n",
    "\n",
    "You should spend up to ~10 minutes on this exercise.\n",
    "```\n",
    "\n",
    "Remember, you should define the weights (and bias, if appropriate) in the `__init__` block. Also, make sure not to mix up `bias` (which is the boolean parameter to `__init__`) and `self.bias` (which should either be the actual bias tensor, or `None` if `bias` is false)."
   ]
  },
  {
   "cell_type": "code",
   "execution_count": 6,
   "metadata": {
    "id": "OPzEbK9NGcG1"
   },
   "outputs": [],
   "source": [
    "import math"
   ]
  },
  {
   "cell_type": "code",
   "execution_count": 7,
   "metadata": {
    "colab": {
     "base_uri": "https://localhost:8080/"
    },
    "id": "upr0jDLx7yMh",
    "outputId": "4ac81002-73af-40c7-994d-542c2ae4d8a7"
   },
   "outputs": [
    {
     "name": "stdout",
     "output_type": "stream",
     "text": [
      "All tests in `test_linear_forward` passed!\n",
      "All tests in `test_linear_parameters` passed!\n",
      "All tests in `test_linear_no_bias` passed!\n"
     ]
    }
   ],
   "source": [
    "class Linear(nn.Module):\n",
    "    def __init__(self, in_features: int, out_features: int, bias=True):\n",
    "        '''\n",
    "        A simple linear (technically, affine) transformation.\n",
    "\n",
    "        The fields should be named `weight` and `bias` for compatibility with PyTorch.\n",
    "        If `bias` is False, set `self.bias` to None.\n",
    "        '''\n",
    "        super().__init__()\n",
    "\n",
    "        k = 1 / in_features\n",
    "        k_sqrt = math.sqrt(k)\n",
    "\n",
    "        self.weight = nn.Parameter(t.FloatTensor(out_features, in_features).uniform_(-k_sqrt, k_sqrt))\n",
    "        self.bias = nn.Parameter(t.FloatTensor(out_features).uniform_(-k_sqrt, k_sqrt)) if bias else None\n",
    "        pass\n",
    "\n",
    "    def forward(self, x: t.Tensor) -> t.Tensor:\n",
    "        '''\n",
    "        x: shape (*, in_features)\n",
    "        Return: shape (*, out_features)\n",
    "        '''\n",
    "\n",
    "        h = x @ self.weight.T\n",
    "\n",
    "        if self.bias is not None:\n",
    "            h += self.bias\n",
    "\n",
    "        return h\n",
    "\n",
    "    def extra_repr(self) -> str:\n",
    "        return f\"self.weight.shape={self.weight.shape}\"\n",
    "\n",
    "\n",
    "tests.test_linear_forward(Linear)\n",
    "tests.test_linear_parameters(Linear)\n",
    "tests.test_linear_no_bias(Linear)"
   ]
  },
  {
   "cell_type": "markdown",
   "metadata": {
    "id": "vk4vqA7I70Cs"
   },
   "source": [
    "<details>\n",
    "<summary>Help - when I print my Linear module, it also prints a large tensor.</summary>\n",
    "\n",
    "This is because you've (correctly) defined `self.bias` as either `torch.Tensor` or `None`, rather than set it to the boolean value of `bias` used in initialisation.\n",
    "        \n",
    "To fix this, you will need to change `extra_repr` so that it prints the boolean value of `bias` rather than the value of `self.bias`.\n",
    "</details>"
   ]
  },
  {
   "cell_type": "markdown",
   "metadata": {
    "id": "zuICXMve7xYp"
   },
   "source": [
    "## Flatten\n",
    "\n",
    "Lastly, we'll implement `Flatten`. This is a standardised way to rearrange our tensors so that they can be fed into a linear layer. It's a bit like `einops.flatten`, but more specialised (we recommend you use the torch `reshape` method rather than `einops` for this exercise, although it is possible to use einops)."
   ]
  },
  {
   "cell_type": "markdown",
   "metadata": {
    "id": "cZ5S4ovC8Zdf"
   },
   "source": []
  },
  {
   "cell_type": "markdown",
   "metadata": {
    "id": "6dGN9rSP8aEw"
   },
   "source": [
    "### Exercise - implement `Flatten`\n",
    "\n",
    "```c\n",
    "Difficulty: 🔴🔴🔴🔴⚪\n",
    "Importance: 🔵🔵🔵⚪⚪\n",
    "\n",
    "You should spend up to 10-15 minutes on this exercise.\n",
    "```"
   ]
  },
  {
   "cell_type": "code",
   "execution_count": 8,
   "metadata": {
    "colab": {
     "base_uri": "https://localhost:8080/"
    },
    "id": "FkzI7AfL8cbf",
    "outputId": "e4e6e1d2-24d7-468e-cc26-47122994be67"
   },
   "outputs": [
    {
     "name": "stdout",
     "output_type": "stream",
     "text": [
      "All tests in `test_flatten` passed!\n"
     ]
    }
   ],
   "source": [
    "class Flatten(nn.Module):\n",
    "    def __init__(self, start_dim: int = 1, end_dim: int = -1) -> None:\n",
    "        super().__init__()\n",
    "\n",
    "        self.start_dim = start_dim\n",
    "        self.end_dim = end_dim\n",
    "        pass\n",
    "\n",
    "    def forward(self, input: t.Tensor) -> t.Tensor:\n",
    "        '''\n",
    "        Flatten out dimensions from start_dim to end_dim, inclusive of both.\n",
    "        '''\n",
    "        input_shape = input.shape\n",
    "\n",
    "        end_dim = len(input_shape) if self.end_dim == -1 else self.end_dim+1\n",
    "\n",
    "        pref = input_shape[:self.start_dim]\n",
    "        root = 1\n",
    "        for i in input_shape[self.start_dim:end_dim]:\n",
    "            root *= i\n",
    "\n",
    "        post = input_shape[end_dim:]\n",
    "\n",
    "        return input.reshape(list(pref) + [root] + list(post))\n",
    "\n",
    "    def extra_repr(self) -> str:\n",
    "        pass\n",
    "\n",
    "\n",
    "tests.test_flatten(Flatten)"
   ]
  },
  {
   "cell_type": "markdown",
   "metadata": {
    "id": "J-Mpbc7R8eQL"
   },
   "source": [
    "<details>\n",
    "<summary>Help - I can't figure out what shape the output should be in Flatten.</summary>\n",
    "\n",
    "If `input.shape = (n0, n1, ..., nk)`, and the `Flatten` module has `start_dim=i, end_dim=j`, then the new shape should be `(n0, n1, ..., ni*...*nj, ..., nk)`. This is because we're **flattening** over the dimensions `(ni, ..., nj)`.\n",
    "\n",
    "</details>\n",
    "\n",
    "<details>\n",
    "<summary>Help - I can't see why my Flatten module is failing the tests.</summary>\n",
    "\n",
    "The most common reason is failing to correctly handle indices. Make sure that:\n",
    "* You're indexing up to **and including** `end_dim`.\n",
    "* You're correctly managing the times when `end_dim` is negative (e.g. if `input` is an nD tensor, and `end_dim=-1`, this should be interpreted as `end_dim=n-1`).\n",
    "</details>"
   ]
  },
  {
   "cell_type": "markdown",
   "metadata": {
    "id": "L5Xp60208gg3"
   },
   "source": [
    "## Simple Multi-Layer Perceptron\n",
    "\n",
    "Now, we can put together these two modules to create a neural network. We'll create one of the simplest networks which can be used to separate data that is non-linearly separable: a single linear layer, followed by a nonlinear function (ReLU), followed by another linear layer. This type of architecture (alternating linear layers and nonlinear functions) is often called a **multi-layer perceptron** (MLP).\n",
    "\n",
    "The output of this network will have 10 dimensions, corresponding to the 10 classes of MNIST digits. We can then use the **softmax function** $x_i \\to \\frac{e^{x_i}}{\\sum_i e^{x_i}}$ to turn these values into probabilities. However, it's common practice for the output of a neural network to be the values before we take softmax, rather than after. We call these pre-softmax values the **logits**.\n",
    "\n",
    "<details>\n",
    "<summary>Question - can you see what makes logits non-unique (i.e. why any given set of probabilities might correspond to several different possible sets of logits)?</summary>\n",
    "\n",
    "Logits are **translation invariant**. If you add some constant $c$ to all logits $x_i$, then the new probabilities are:\n",
    "\n",
    "$$\n",
    "p_i' = \\frac{e^{x_i + c}}{\\sum_j e^{x_j + c}} = \\frac{e^{x_i}}{\\sum_j e^{x_j}} = p_i\n",
    "$$\n",
    "\n",
    "in other words, the probabilities don't change.\n",
    "\n",
    "We can define **logprobs** as the log of the probabilities, i.e. $y_i = \\log p_i$. Unlike logits, these are uniquely defined.\n",
    "\n",
    "</details>"
   ]
  },
  {
   "cell_type": "markdown",
   "metadata": {
    "id": "Cy6th9SH8h17"
   },
   "source": [
    "### Exercise - implement the simple MLP\n",
    "\n",
    "```yaml\n",
    "Difficulty: 🔴🔴🔴⚪⚪\n",
    "Importance: 🔵🔵🔵🔵⚪\n",
    "\n",
    "You should spend up to ~20 minutes on this exercise.\n",
    "```\n",
    "\n",
    "The diagram below shows what your MLP should look like:\n",
    "\n",
    "<img src=\"https://raw.githubusercontent.com/callummcdougall/computational-thread-art/master/example_images/misc/mlp-mermaid.svg\" width=\"170\">\n",
    "\n",
    "Please ask a TA (or message the Slack group) if any part of this diagram is unclear."
   ]
  },
  {
   "cell_type": "code",
   "execution_count": 9,
   "metadata": {
    "colab": {
     "base_uri": "https://localhost:8080/"
    },
    "id": "ddCsPsay8kVu",
    "outputId": "f805b03e-bcbf-4ab2-a623-0db2e6bbcd8d"
   },
   "outputs": [
    {
     "name": "stdout",
     "output_type": "stream",
     "text": [
      "All tests in `test_mlp` passed!\n"
     ]
    }
   ],
   "source": [
    "class SimpleMLP(nn.Module):\n",
    "    def __init__(self):\n",
    "        super().__init__()\n",
    "        self.flatten = Flatten()\n",
    "\n",
    "        self.linear1 = Linear(28*28, 100)\n",
    "        self.relu = ReLU()\n",
    "        self.linear2 = Linear(100, 10)\n",
    "\n",
    "\n",
    "    def forward(self, x: t.Tensor) -> t.Tensor:\n",
    "        h = self.flatten(x)\n",
    "        h = self.linear1(h)\n",
    "        h = self.relu(h)\n",
    "        h = self.linear2(h)\n",
    "        return h\n",
    "\n",
    "tests.test_mlp(SimpleMLP)"
   ]
  },
  {
   "cell_type": "markdown",
   "metadata": {
    "id": "udDZbwye-EeL"
   },
   "source": [
    "In the next section, we'll learn how to train and evaluate our model on real data.\n"
   ]
  },
  {
   "cell_type": "markdown",
   "metadata": {
    "id": "59YGDI3p7FdX"
   },
   "source": [
    "# 2️⃣ Training Neural Networks"
   ]
  },
  {
   "cell_type": "markdown",
   "metadata": {
    "id": "Ui6zDqfl-GUh"
   },
   "source": [
    "## Transforms, Datasets & DataLoaders\n",
    "\n",
    "Before we use this model to make any predictions, we first need to think about our input data. Below is a block of code to fetch and process MNIST data. We will go through it line by line.\n"
   ]
  },
  {
   "cell_type": "code",
   "execution_count": 10,
   "metadata": {
    "colab": {
     "base_uri": "https://localhost:8080/"
    },
    "id": "F48W9yU6E2Ms",
    "outputId": "3539239e-b401-490f-92f3-7f3db8f37677"
   },
   "outputs": [],
   "source": [
    "MNIST_TRANSFORM = transforms.Compose([\n",
    "    transforms.ToTensor(),\n",
    "    transforms.Normalize((0.1307,), (0.3081,))\n",
    "])\n",
    "\n",
    "def get_mnist(subset: int = 1):\n",
    "    '''Returns MNIST training data, sampled by the frequency given in `subset`.'''\n",
    "    mnist_trainset = datasets.MNIST(root=\"./data\", train=True, download=True, transform=MNIST_TRANSFORM)\n",
    "    mnist_testset = datasets.MNIST(root=\"./data\", train=False, download=True, transform=MNIST_TRANSFORM)\n",
    "\n",
    "    if subset > 1:\n",
    "        mnist_trainset = Subset(mnist_trainset, indices=range(0, len(mnist_trainset), subset))\n",
    "        mnist_testset = Subset(mnist_testset, indices=range(0, len(mnist_testset), subset))\n",
    "\n",
    "    return mnist_trainset, mnist_testset\n",
    "\n",
    "\n",
    "mnist_trainset, mnist_testset = get_mnist()\n",
    "mnist_trainloader = DataLoader(mnist_trainset, batch_size=64, shuffle=True)\n",
    "mnist_testloader = DataLoader(mnist_testset, batch_size=64, shuffle=False)"
   ]
  },
  {
   "cell_type": "markdown",
   "metadata": {
    "id": "LZnIpdLuE3_8"
   },
   "source": [
    "The `torchvision` package consists of popular datasets, model architectures, and common image transformations for computer vision. `transforms` is a library from `torchvision` which provides access to a suite of functions for preprocessing data.\n",
    "\n",
    "We define a transform for the MNIST data (which is applied to each image in the dataset) by composing `ToTensor` (which converts a `PIL.Image` object into a PyTorch tensor) and `Normalize` (which takes arguments for the mean and standard deviation, and performs the linear transformation `x -> (x - mean) / std`)."
   ]
  },
  {
   "cell_type": "markdown",
   "metadata": {
    "id": "r11WFh4Q-WCa"
   },
   "source": [
    "Next, we define our datasets, using the `torchvision.datasets` library. The argument `root=\"./data\"` indicates that we're storing our data in the `./data` directory, and `transform=MNIST_TRANSFORM` tells us that we should apply our previously defined `transform` to each element in our dataset.\n",
    "\n",
    "The `Subset` function allows us to take a subset of a dataset. The argument `indices` is a list of indices to sample from the dataset. For example, `Subset(mnist_trainset, indices=[0, 1, 2])` will return a dataset containing only the first three elements of `mnist_trainset`."
   ]
  },
  {
   "cell_type": "markdown",
   "metadata": {
    "id": "HcjIPO6H-X42"
   },
   "source": [
    "Finally, `DataLoader` provides a useful abstraction to work with a dataset. It takes in a dataset, and a few arguments including `batch_size` (how many inputs to feed through the model on which to compute the loss before each step of gradient descent) and `shuffle` (whether to randomise the order each time you iterate). The object that it returns can be iterated through as follows:\n",
    "\n",
    "```python\n",
    "for X, y in mnist_trainloader:\n",
    "    ...\n",
    "```\n",
    "\n",
    "where `X` is a 3D array of shape `(batch_size, 28, 28)` where each slice is an image, and `y` is a 1D tensor of labels of length `batch_size`. Without using this helpful object, we'd have to iterate through our dataset as follows:\n",
    "\n",
    "```python\n",
    "for i in range(len(mnist_trainset) // batch_size):\n",
    "    \n",
    "    X = mnist_trainset.data[i*batch_size: (i+1)*batch_size]\n",
    "    y = mnist_trainset.targets[i*batch_size: (i+1)*batch_size]\n",
    "\n",
    "    ...\n",
    "```\n",
    "\n",
    "A note about batch size - it's common to see batch sizes which are powers of two. The motivation is for efficient GPU utilisation, since processor architectures are normally organised around powers of 2, and computational efficiency is often increased by having the items in each batch split across processors. Or at least, that's the idea. The truth is a bit more complicated, and some studies dispute whether it actually saves time. We'll dive much deeper into these kinds of topics during the week on training at scale."
   ]
  },
  {
   "cell_type": "markdown",
   "metadata": {
    "id": "KskQlRbR-Zvd"
   },
   "source": [
    "---"
   ]
  },
  {
   "cell_type": "markdown",
   "metadata": {
    "id": "QvY7Y4P2-aVA"
   },
   "source": [
    "Before proceeding, try and answer the following questions:\n",
    "\n",
    "\n",
    "<details>\n",
    "<summary>Question - can you explain why we include a data normalization function in <code>torchvision.transforms</code> ?</summary>\n",
    "\n",
    "One consequence of unnormalized data is that you might find yourself stuck in a very flat region of the domain, and gradient descent may take much longer to converge.\n",
    "\n",
    "Normalization isn't strictly necessary for this reason, because any rescaling of an input vector can be effectively undone by the network learning different weights and biases. But in practice, it does usually help speed up convergence.\n",
    "\n",
    "Normalization also helps avoid numerical issues.\n",
    "</details>\n",
    "\n",
    "<details>\n",
    "<summary>Question - what is the benefit of using <code>shuffle=True</code> when defining our dataloaders? What might the problem be if we didn't do this?</summary>\n",
    "\n",
    "Shuffling is done during the training to make sure we aren't exposing our model to the same cycle (order) of data in every epoch. It is basically done to ensure the model isn't adapting its learning to any kind of spurious pattern.\n",
    "</details>"
   ]
  },
  {
   "cell_type": "markdown",
   "metadata": {
    "id": "1fcLlMgX-b2r"
   },
   "source": [
    "---"
   ]
  },
  {
   "cell_type": "markdown",
   "metadata": {
    "id": "dt9un-Iu-cea"
   },
   "source": [
    "### Aside - `tqdm`\n",
    "\n",
    "You might have seen some blue progress bars running when you first downloaded your MNIST data. These were generated using a library called `tqdm`, which is also a really useful tool when training models or running any process that takes a long period of time.\n",
    "\n",
    "You can run the cell below to see how these progress bars are used (note that you might need to install the `tqdm` library first).\n"
   ]
  },
  {
   "cell_type": "code",
   "execution_count": 11,
   "metadata": {
    "id": "Lcfb6IvDLNK2"
   },
   "outputs": [
    {
     "data": {
      "application/vnd.jupyter.widget-view+json": {
       "model_id": "9b25252611084e9e8205c25c30b49ea6",
       "version_major": 2,
       "version_minor": 0
      },
      "text/plain": [
       "  0%|          | 0/100 [00:00<?, ?it/s]"
      ]
     },
     "metadata": {},
     "output_type": "display_data"
    }
   ],
   "source": [
    "from tqdm.auto import tqdm\n",
    "import time\n",
    "\n",
    "for i in tqdm(range(100)):\n",
    "    time.sleep(0.01)"
   ]
  },
  {
   "cell_type": "markdown",
   "metadata": {
    "id": "nL-JxP6MLL3A"
   },
   "source": [
    "`tqdm` wraps around a list, range or other iterable, but other than that it doesn't affect the structure of your loop.\n",
    "\n",
    "One gotcha when it comes to `tqdm` - you need to make sure you pass it something with a well-defined length. For instance, if you pass it an `enumerate` or `zip` object, it won't work as expected because it can't infer length from the object. You can fix this problem by wrapping your iterator in a list (e.g. `tqdm(list(zip(...)))`)."
   ]
  },
  {
   "cell_type": "markdown",
   "metadata": {
    "id": "a5sbESFg-d2W"
   },
   "source": [
    "### Aside - `device`\n",
    "\n",
    "One last thing to discuss before we move onto training our model: **GPUs**. We'll discuss this in more detail in later exercises. For now, [this page](https://wandb.ai/wandb/common-ml-errors/reports/How-To-Use-GPU-with-PyTorch---VmlldzozMzAxMDk) should provide a basic overview of how to use your GPU. A few things to be aware of here:\n",
    "\n",
    "* The `to` method is really useful here - it can move objects between different devices (i.e. CPU and GPU) *as well as* changing a tensor's datatype.\n",
    "    * Note that `to` is never inplace for tensors (i.e. you have to call `x = x.to(device)`), but when working with models, calling `model = model.to(device)` or `model.to(device)` are both perfectly valid.\n",
    "* Errors from having one tensor on cpu and another on cuda are very common. Some useful practices to avoid this:\n",
    "    * Throw in assert statements, to make sure tensors are on the same device\n",
    "    * Remember that when you initialise an array (e.g. with `t.zeros` or `t.arange`), it will be on CPU by default.\n",
    "    * Tensor methods like [`new_zeros`](https://pytorch.org/docs/stable/generated/torch.Tensor.new_zeros.html) or [`new_full`](https://pytorch.org/docs/stable/generated/torch.Tensor.new_full.html) are useful, because they'll create tensors which match the device and dtype of the base tensor.\n",
    "\n",
    "It's common practice to put a line like this at the top of your file, defining a global variable which you can use in subsequent modules and functions (excluding the print statement):"
   ]
  },
  {
   "cell_type": "code",
   "execution_count": 12,
   "metadata": {
    "id": "_YrSIwthvkSg"
   },
   "outputs": [
    {
     "name": "stdout",
     "output_type": "stream",
     "text": [
      "cuda\n"
     ]
    }
   ],
   "source": [
    "device = t.device('cuda' if t.cuda.is_available() else 'cpu')\n",
    "\n",
    "# Assuming that we are on a CUDA machine, this should print a CUDA device:\n",
    "print(device)"
   ]
  },
  {
   "cell_type": "markdown",
   "metadata": {
    "id": "AGinZFlb-f0h"
   },
   "source": [
    "## Training loop\n",
    "\n",
    "Below is a very simple training loop, which you can run to train your model.\n",
    "\n",
    "In later exercises, we'll try to **modularize** our training loops. This will involve things like creating a `Trainer` class which wraps around our model, and giving it methods like `training_step` and `validation_step` which correspond to different parts of the training loop. This will make it easier to add features like logging and validation, and will also make our code more readable and easier to refactor. However, for now we've kept things simple."
   ]
  },
  {
   "cell_type": "code",
   "execution_count": 15,
   "metadata": {
    "id": "uVpCJprY-hHv"
   },
   "outputs": [
    {
     "data": {
      "application/vnd.jupyter.widget-view+json": {
       "model_id": "bde16739ec6b4c4183ac5859a3d8e090",
       "version_major": 2,
       "version_minor": 0
      },
      "text/plain": [
       "  0%|          | 0/3 [00:00<?, ?it/s]"
      ]
     },
     "metadata": {},
     "output_type": "display_data"
    },
    {
     "data": {
      "application/vnd.plotly.v1+json": {
       "config": {
        "plotlyServerURL": "https://plot.ly"
       },
       "data": [
        {
         "hovertemplate": "Num batches seen=%{x}<br>Cross entropy loss=%{y}<extra></extra>",
         "legendgroup": "",
         "line": {
          "color": "#636efa",
          "dash": "solid"
         },
         "marker": {
          "symbol": "circle"
         },
         "mode": "lines",
         "name": "",
         "orientation": "v",
         "showlegend": false,
         "type": "scatter",
         "x": [
          0,
          1,
          2,
          3,
          4,
          5,
          6,
          7,
          8,
          9,
          10,
          11,
          12,
          13,
          14,
          15,
          16,
          17,
          18,
          19,
          20,
          21,
          22,
          23,
          24,
          25,
          26,
          27,
          28,
          29,
          30,
          31,
          32,
          33,
          34,
          35,
          36,
          37,
          38,
          39,
          40,
          41,
          42,
          43,
          44,
          45,
          46,
          47,
          48,
          49,
          50,
          51,
          52,
          53,
          54,
          55,
          56,
          57,
          58,
          59,
          60,
          61,
          62,
          63,
          64,
          65,
          66,
          67,
          68,
          69,
          70,
          71,
          72,
          73,
          74,
          75,
          76,
          77,
          78,
          79,
          80,
          81,
          82,
          83,
          84,
          85,
          86,
          87,
          88,
          89,
          90,
          91,
          92,
          93,
          94,
          95,
          96,
          97,
          98,
          99,
          100,
          101,
          102,
          103,
          104,
          105,
          106,
          107,
          108,
          109,
          110,
          111,
          112,
          113,
          114,
          115,
          116,
          117,
          118,
          119,
          120,
          121,
          122,
          123,
          124,
          125,
          126,
          127,
          128,
          129,
          130,
          131,
          132,
          133,
          134,
          135,
          136,
          137,
          138,
          139,
          140,
          141,
          142,
          143,
          144,
          145,
          146,
          147,
          148,
          149,
          150,
          151,
          152,
          153,
          154,
          155,
          156,
          157,
          158,
          159,
          160,
          161,
          162,
          163,
          164,
          165,
          166,
          167,
          168,
          169,
          170,
          171,
          172,
          173,
          174,
          175,
          176,
          177,
          178,
          179,
          180,
          181,
          182,
          183,
          184,
          185,
          186,
          187,
          188,
          189,
          190,
          191,
          192,
          193,
          194,
          195,
          196,
          197,
          198,
          199,
          200,
          201,
          202,
          203,
          204,
          205,
          206,
          207,
          208,
          209,
          210,
          211,
          212,
          213,
          214,
          215,
          216,
          217,
          218,
          219,
          220,
          221,
          222,
          223,
          224,
          225,
          226,
          227,
          228,
          229,
          230,
          231,
          232,
          233,
          234,
          235,
          236,
          237,
          238,
          239,
          240,
          241,
          242,
          243,
          244,
          245,
          246,
          247,
          248,
          249,
          250,
          251,
          252,
          253,
          254,
          255,
          256,
          257,
          258,
          259,
          260,
          261,
          262,
          263,
          264,
          265,
          266,
          267,
          268,
          269,
          270,
          271,
          272,
          273,
          274,
          275,
          276,
          277,
          278,
          279,
          280,
          281
         ],
         "xaxis": "x",
         "y": [
          2.350264310836792,
          2.235025405883789,
          2.049053430557251,
          1.9356563091278076,
          1.8516086339950562,
          1.8641606569290161,
          1.7573975324630737,
          1.5300654172897339,
          1.4943143129348755,
          1.424484372138977,
          1.2630947828292847,
          1.1835681200027466,
          1.086794137954712,
          1.1192775964736938,
          0.9563040733337402,
          1.0385292768478394,
          0.8845179080963135,
          0.9795936942100525,
          0.9267133474349976,
          0.8595777750015259,
          0.878635823726654,
          0.7558417916297913,
          0.8971393704414368,
          0.8153418898582458,
          0.8964205980300903,
          0.8728358745574951,
          0.7856996059417725,
          0.7565988302230835,
          0.7078813314437866,
          0.5784316658973694,
          0.49493440985679626,
          0.5885694622993469,
          0.6370874047279358,
          0.41782698035240173,
          0.4770606756210327,
          0.6043955087661743,
          0.39370495080947876,
          0.718816339969635,
          0.5051732659339905,
          0.3154046833515167,
          0.4931451678276062,
          0.5925471782684326,
          0.5510007739067078,
          0.6180304884910583,
          0.46142593026161194,
          0.39249706268310547,
          0.5880672931671143,
          0.5639033317565918,
          0.5784997940063477,
          0.4887182116508484,
          0.4201076626777649,
          0.41841334104537964,
          0.3450513482093811,
          0.5270770788192749,
          0.5967627763748169,
          0.6005963683128357,
          0.358981192111969,
          0.42804422974586487,
          0.4713902771472931,
          0.2909706234931946,
          0.4333876371383667,
          0.30297306180000305,
          0.4583941698074341,
          0.5077407360076904,
          0.4702339172363281,
          0.5403496623039246,
          0.2551387846469879,
          0.41939133405685425,
          0.6936542391777039,
          0.4704659581184387,
          0.5088359713554382,
          0.39688757061958313,
          0.3479151129722595,
          0.5340158939361572,
          0.5535452961921692,
          0.49722033739089966,
          0.46295490860939026,
          0.44930192828178406,
          0.45770934224128723,
          0.4093787968158722,
          0.5132740139961243,
          0.3718910813331604,
          0.5141837000846863,
          0.3230590224266052,
          0.38586145639419556,
          0.39225536584854126,
          0.5364586710929871,
          0.2733657956123352,
          0.2499733865261078,
          0.401780903339386,
          0.37832924723625183,
          0.32776689529418945,
          0.32342255115509033,
          0.5444344282150269,
          0.4041748344898224,
          0.3975764214992523,
          0.22469352185726166,
          0.36992165446281433,
          0.32997411489486694,
          0.3418853282928467,
          0.29609689116477966,
          0.49751773476600647,
          0.2895790636539459,
          0.2609065771102905,
          0.3285504877567291,
          0.46836739778518677,
          0.23201632499694824,
          0.3659866154193878,
          0.20910915732383728,
          0.31270840764045715,
          0.1481839269399643,
          0.27061524987220764,
          0.3132195472717285,
          0.5889646410942078,
          0.3862636387348175,
          0.2919585704803467,
          0.49383991956710815,
          0.3328198194503784,
          0.44137465953826904,
          0.26245617866516113,
          0.3322618305683136,
          0.3307855725288391,
          0.3466991186141968,
          0.27497875690460205,
          0.3755749762058258,
          0.2872328758239746,
          0.2789962589740753,
          0.6319037675857544,
          0.41028574109077454,
          0.42633628845214844,
          0.268015056848526,
          0.30808025598526,
          0.27693209052085876,
          0.5185232758522034,
          0.2020111232995987,
          0.20211128890514374,
          0.3943081200122833,
          0.3776865601539612,
          0.3071513772010803,
          0.46219369769096375,
          0.35795101523399353,
          0.24346718192100525,
          0.23305721580982208,
          0.49465930461883545,
          0.23939475417137146,
          0.42778292298316956,
          0.5051795244216919,
          0.4800131916999817,
          0.42608505487442017,
          0.5147911906242371,
          0.31070083379745483,
          0.5780946016311646,
          0.33875182271003723,
          0.18911419808864594,
          0.2723446488380432,
          0.3410279154777527,
          0.1362326592206955,
          0.3530280292034149,
          0.24017083644866943,
          0.19297683238983154,
          0.21103714406490326,
          0.5870248675346375,
          0.3412150740623474,
          0.3827376365661621,
          0.23494093120098114,
          0.278177946805954,
          0.2041543573141098,
          0.1972307711839676,
          0.2593481242656708,
          0.2337007075548172,
          0.23800210654735565,
          0.4913747310638428,
          0.27842843532562256,
          0.25648003816604614,
          0.3027677536010742,
          0.3577061891555786,
          0.4613768458366394,
          0.18240517377853394,
          0.3561091721057892,
          0.3672720491886139,
          0.15798549354076385,
          0.28887584805488586,
          0.5222846865653992,
          0.2030610293149948,
          0.4460780918598175,
          0.3361377716064453,
          0.378806471824646,
          0.22380690276622772,
          0.15611059963703156,
          0.12765160202980042,
          0.22313494980335236,
          0.3291851878166199,
          0.2223767638206482,
          0.19356998801231384,
          0.3345803916454315,
          0.25661733746528625,
          0.19889332354068756,
          0.16073355078697205,
          0.2804596424102783,
          0.3247162401676178,
          0.4769495129585266,
          0.22497430443763733,
          0.1687723994255066,
          0.33213678002357483,
          0.13497699797153473,
          0.26677894592285156,
          0.535749614238739,
          0.22098666429519653,
          0.284087598323822,
          0.3248911499977112,
          0.2264297604560852,
          0.19947773218154907,
          0.26474958658218384,
          0.30240398645401,
          0.33407536149024963,
          0.1854284703731537,
          0.39013054966926575,
          0.23222225904464722,
          0.22403642535209656,
          0.21569094061851501,
          0.27589643001556396,
          0.15204738080501556,
          0.3745866119861603,
          0.2655778229236603,
          0.26356202363967896,
          0.2666645348072052,
          0.12225911766290665,
          0.28922006487846375,
          0.10005602985620499,
          0.6461663842201233,
          0.2327505648136139,
          0.5853939056396484,
          0.2040804624557495,
          0.27968716621398926,
          0.1907312572002411,
          0.3076654374599457,
          0.22106730937957764,
          0.2503120005130768,
          0.2788196802139282,
          0.18537816405296326,
          0.2050650417804718,
          0.20897333323955536,
          0.18193693459033966,
          0.2761130630970001,
          0.17945876717567444,
          0.24067221581935883,
          0.3321738839149475,
          0.43259358406066895,
          0.36267900466918945,
          0.2554355263710022,
          0.24099880456924438,
          0.21842843294143677,
          0.26136672496795654,
          0.3496425747871399,
          0.33246392011642456,
          0.2418309450149536,
          0.266043096780777,
          0.3016268312931061,
          0.16768474876880646,
          0.21893292665481567,
          0.3017999529838562,
          0.27799612283706665,
          0.16654399037361145,
          0.33792153000831604,
          0.2731972336769104,
          0.2581647038459778,
          0.3413245379924774,
          0.31709572672843933,
          0.22437068819999695,
          0.2466973066329956,
          0.12039604038000107,
          0.20894084870815277,
          0.19023452699184418,
          0.27242594957351685,
          0.20002734661102295,
          0.1437336802482605,
          0.600212574005127,
          0.20351926982402802,
          0.22799235582351685,
          0.5844135880470276,
          0.21563346683979034,
          0.12826693058013916
         ],
         "yaxis": "y"
        }
       ],
       "layout": {
        "height": 360,
        "hovermode": "x unified",
        "legend": {
         "tracegroupgap": 0
        },
        "template": {
         "data": {
          "bar": [
           {
            "error_x": {
             "color": "#2a3f5f"
            },
            "error_y": {
             "color": "#2a3f5f"
            },
            "marker": {
             "line": {
              "color": "#E5ECF6",
              "width": 0.5
             },
             "pattern": {
              "fillmode": "overlay",
              "size": 10,
              "solidity": 0.2
             }
            },
            "type": "bar"
           }
          ],
          "barpolar": [
           {
            "marker": {
             "line": {
              "color": "#E5ECF6",
              "width": 0.5
             },
             "pattern": {
              "fillmode": "overlay",
              "size": 10,
              "solidity": 0.2
             }
            },
            "type": "barpolar"
           }
          ],
          "carpet": [
           {
            "aaxis": {
             "endlinecolor": "#2a3f5f",
             "gridcolor": "white",
             "linecolor": "white",
             "minorgridcolor": "white",
             "startlinecolor": "#2a3f5f"
            },
            "baxis": {
             "endlinecolor": "#2a3f5f",
             "gridcolor": "white",
             "linecolor": "white",
             "minorgridcolor": "white",
             "startlinecolor": "#2a3f5f"
            },
            "type": "carpet"
           }
          ],
          "choropleth": [
           {
            "colorbar": {
             "outlinewidth": 0,
             "ticks": ""
            },
            "type": "choropleth"
           }
          ],
          "contour": [
           {
            "colorbar": {
             "outlinewidth": 0,
             "ticks": ""
            },
            "colorscale": [
             [
              0,
              "#0d0887"
             ],
             [
              0.1111111111111111,
              "#46039f"
             ],
             [
              0.2222222222222222,
              "#7201a8"
             ],
             [
              0.3333333333333333,
              "#9c179e"
             ],
             [
              0.4444444444444444,
              "#bd3786"
             ],
             [
              0.5555555555555556,
              "#d8576b"
             ],
             [
              0.6666666666666666,
              "#ed7953"
             ],
             [
              0.7777777777777778,
              "#fb9f3a"
             ],
             [
              0.8888888888888888,
              "#fdca26"
             ],
             [
              1,
              "#f0f921"
             ]
            ],
            "type": "contour"
           }
          ],
          "contourcarpet": [
           {
            "colorbar": {
             "outlinewidth": 0,
             "ticks": ""
            },
            "type": "contourcarpet"
           }
          ],
          "heatmap": [
           {
            "colorbar": {
             "outlinewidth": 0,
             "ticks": ""
            },
            "colorscale": [
             [
              0,
              "#0d0887"
             ],
             [
              0.1111111111111111,
              "#46039f"
             ],
             [
              0.2222222222222222,
              "#7201a8"
             ],
             [
              0.3333333333333333,
              "#9c179e"
             ],
             [
              0.4444444444444444,
              "#bd3786"
             ],
             [
              0.5555555555555556,
              "#d8576b"
             ],
             [
              0.6666666666666666,
              "#ed7953"
             ],
             [
              0.7777777777777778,
              "#fb9f3a"
             ],
             [
              0.8888888888888888,
              "#fdca26"
             ],
             [
              1,
              "#f0f921"
             ]
            ],
            "type": "heatmap"
           }
          ],
          "heatmapgl": [
           {
            "colorbar": {
             "outlinewidth": 0,
             "ticks": ""
            },
            "colorscale": [
             [
              0,
              "#0d0887"
             ],
             [
              0.1111111111111111,
              "#46039f"
             ],
             [
              0.2222222222222222,
              "#7201a8"
             ],
             [
              0.3333333333333333,
              "#9c179e"
             ],
             [
              0.4444444444444444,
              "#bd3786"
             ],
             [
              0.5555555555555556,
              "#d8576b"
             ],
             [
              0.6666666666666666,
              "#ed7953"
             ],
             [
              0.7777777777777778,
              "#fb9f3a"
             ],
             [
              0.8888888888888888,
              "#fdca26"
             ],
             [
              1,
              "#f0f921"
             ]
            ],
            "type": "heatmapgl"
           }
          ],
          "histogram": [
           {
            "marker": {
             "pattern": {
              "fillmode": "overlay",
              "size": 10,
              "solidity": 0.2
             }
            },
            "type": "histogram"
           }
          ],
          "histogram2d": [
           {
            "colorbar": {
             "outlinewidth": 0,
             "ticks": ""
            },
            "colorscale": [
             [
              0,
              "#0d0887"
             ],
             [
              0.1111111111111111,
              "#46039f"
             ],
             [
              0.2222222222222222,
              "#7201a8"
             ],
             [
              0.3333333333333333,
              "#9c179e"
             ],
             [
              0.4444444444444444,
              "#bd3786"
             ],
             [
              0.5555555555555556,
              "#d8576b"
             ],
             [
              0.6666666666666666,
              "#ed7953"
             ],
             [
              0.7777777777777778,
              "#fb9f3a"
             ],
             [
              0.8888888888888888,
              "#fdca26"
             ],
             [
              1,
              "#f0f921"
             ]
            ],
            "type": "histogram2d"
           }
          ],
          "histogram2dcontour": [
           {
            "colorbar": {
             "outlinewidth": 0,
             "ticks": ""
            },
            "colorscale": [
             [
              0,
              "#0d0887"
             ],
             [
              0.1111111111111111,
              "#46039f"
             ],
             [
              0.2222222222222222,
              "#7201a8"
             ],
             [
              0.3333333333333333,
              "#9c179e"
             ],
             [
              0.4444444444444444,
              "#bd3786"
             ],
             [
              0.5555555555555556,
              "#d8576b"
             ],
             [
              0.6666666666666666,
              "#ed7953"
             ],
             [
              0.7777777777777778,
              "#fb9f3a"
             ],
             [
              0.8888888888888888,
              "#fdca26"
             ],
             [
              1,
              "#f0f921"
             ]
            ],
            "type": "histogram2dcontour"
           }
          ],
          "mesh3d": [
           {
            "colorbar": {
             "outlinewidth": 0,
             "ticks": ""
            },
            "type": "mesh3d"
           }
          ],
          "parcoords": [
           {
            "line": {
             "colorbar": {
              "outlinewidth": 0,
              "ticks": ""
             }
            },
            "type": "parcoords"
           }
          ],
          "pie": [
           {
            "automargin": true,
            "type": "pie"
           }
          ],
          "scatter": [
           {
            "fillpattern": {
             "fillmode": "overlay",
             "size": 10,
             "solidity": 0.2
            },
            "type": "scatter"
           }
          ],
          "scatter3d": [
           {
            "line": {
             "colorbar": {
              "outlinewidth": 0,
              "ticks": ""
             }
            },
            "marker": {
             "colorbar": {
              "outlinewidth": 0,
              "ticks": ""
             }
            },
            "type": "scatter3d"
           }
          ],
          "scattercarpet": [
           {
            "marker": {
             "colorbar": {
              "outlinewidth": 0,
              "ticks": ""
             }
            },
            "type": "scattercarpet"
           }
          ],
          "scattergeo": [
           {
            "marker": {
             "colorbar": {
              "outlinewidth": 0,
              "ticks": ""
             }
            },
            "type": "scattergeo"
           }
          ],
          "scattergl": [
           {
            "marker": {
             "colorbar": {
              "outlinewidth": 0,
              "ticks": ""
             }
            },
            "type": "scattergl"
           }
          ],
          "scattermapbox": [
           {
            "marker": {
             "colorbar": {
              "outlinewidth": 0,
              "ticks": ""
             }
            },
            "type": "scattermapbox"
           }
          ],
          "scatterpolar": [
           {
            "marker": {
             "colorbar": {
              "outlinewidth": 0,
              "ticks": ""
             }
            },
            "type": "scatterpolar"
           }
          ],
          "scatterpolargl": [
           {
            "marker": {
             "colorbar": {
              "outlinewidth": 0,
              "ticks": ""
             }
            },
            "type": "scatterpolargl"
           }
          ],
          "scatterternary": [
           {
            "marker": {
             "colorbar": {
              "outlinewidth": 0,
              "ticks": ""
             }
            },
            "type": "scatterternary"
           }
          ],
          "surface": [
           {
            "colorbar": {
             "outlinewidth": 0,
             "ticks": ""
            },
            "colorscale": [
             [
              0,
              "#0d0887"
             ],
             [
              0.1111111111111111,
              "#46039f"
             ],
             [
              0.2222222222222222,
              "#7201a8"
             ],
             [
              0.3333333333333333,
              "#9c179e"
             ],
             [
              0.4444444444444444,
              "#bd3786"
             ],
             [
              0.5555555555555556,
              "#d8576b"
             ],
             [
              0.6666666666666666,
              "#ed7953"
             ],
             [
              0.7777777777777778,
              "#fb9f3a"
             ],
             [
              0.8888888888888888,
              "#fdca26"
             ],
             [
              1,
              "#f0f921"
             ]
            ],
            "type": "surface"
           }
          ],
          "table": [
           {
            "cells": {
             "fill": {
              "color": "#EBF0F8"
             },
             "line": {
              "color": "white"
             }
            },
            "header": {
             "fill": {
              "color": "#C8D4E3"
             },
             "line": {
              "color": "white"
             }
            },
            "type": "table"
           }
          ]
         },
         "layout": {
          "annotationdefaults": {
           "arrowcolor": "#2a3f5f",
           "arrowhead": 0,
           "arrowwidth": 1
          },
          "autotypenumbers": "strict",
          "coloraxis": {
           "colorbar": {
            "outlinewidth": 0,
            "ticks": ""
           }
          },
          "colorscale": {
           "diverging": [
            [
             0,
             "#8e0152"
            ],
            [
             0.1,
             "#c51b7d"
            ],
            [
             0.2,
             "#de77ae"
            ],
            [
             0.3,
             "#f1b6da"
            ],
            [
             0.4,
             "#fde0ef"
            ],
            [
             0.5,
             "#f7f7f7"
            ],
            [
             0.6,
             "#e6f5d0"
            ],
            [
             0.7,
             "#b8e186"
            ],
            [
             0.8,
             "#7fbc41"
            ],
            [
             0.9,
             "#4d9221"
            ],
            [
             1,
             "#276419"
            ]
           ],
           "sequential": [
            [
             0,
             "#0d0887"
            ],
            [
             0.1111111111111111,
             "#46039f"
            ],
            [
             0.2222222222222222,
             "#7201a8"
            ],
            [
             0.3333333333333333,
             "#9c179e"
            ],
            [
             0.4444444444444444,
             "#bd3786"
            ],
            [
             0.5555555555555556,
             "#d8576b"
            ],
            [
             0.6666666666666666,
             "#ed7953"
            ],
            [
             0.7777777777777778,
             "#fb9f3a"
            ],
            [
             0.8888888888888888,
             "#fdca26"
            ],
            [
             1,
             "#f0f921"
            ]
           ],
           "sequentialminus": [
            [
             0,
             "#0d0887"
            ],
            [
             0.1111111111111111,
             "#46039f"
            ],
            [
             0.2222222222222222,
             "#7201a8"
            ],
            [
             0.3333333333333333,
             "#9c179e"
            ],
            [
             0.4444444444444444,
             "#bd3786"
            ],
            [
             0.5555555555555556,
             "#d8576b"
            ],
            [
             0.6666666666666666,
             "#ed7953"
            ],
            [
             0.7777777777777778,
             "#fb9f3a"
            ],
            [
             0.8888888888888888,
             "#fdca26"
            ],
            [
             1,
             "#f0f921"
            ]
           ]
          },
          "colorway": [
           "#636efa",
           "#EF553B",
           "#00cc96",
           "#ab63fa",
           "#FFA15A",
           "#19d3f3",
           "#FF6692",
           "#B6E880",
           "#FF97FF",
           "#FECB52"
          ],
          "font": {
           "color": "#2a3f5f"
          },
          "geo": {
           "bgcolor": "white",
           "lakecolor": "white",
           "landcolor": "#E5ECF6",
           "showlakes": true,
           "showland": true,
           "subunitcolor": "white"
          },
          "hoverlabel": {
           "align": "left"
          },
          "hovermode": "closest",
          "mapbox": {
           "style": "light"
          },
          "paper_bgcolor": "white",
          "plot_bgcolor": "#E5ECF6",
          "polar": {
           "angularaxis": {
            "gridcolor": "white",
            "linecolor": "white",
            "ticks": ""
           },
           "bgcolor": "#E5ECF6",
           "radialaxis": {
            "gridcolor": "white",
            "linecolor": "white",
            "ticks": ""
           }
          },
          "scene": {
           "xaxis": {
            "backgroundcolor": "#E5ECF6",
            "gridcolor": "white",
            "gridwidth": 2,
            "linecolor": "white",
            "showbackground": true,
            "ticks": "",
            "zerolinecolor": "white"
           },
           "yaxis": {
            "backgroundcolor": "#E5ECF6",
            "gridcolor": "white",
            "gridwidth": 2,
            "linecolor": "white",
            "showbackground": true,
            "ticks": "",
            "zerolinecolor": "white"
           },
           "zaxis": {
            "backgroundcolor": "#E5ECF6",
            "gridcolor": "white",
            "gridwidth": 2,
            "linecolor": "white",
            "showbackground": true,
            "ticks": "",
            "zerolinecolor": "white"
           }
          },
          "shapedefaults": {
           "line": {
            "color": "#2a3f5f"
           }
          },
          "ternary": {
           "aaxis": {
            "gridcolor": "white",
            "linecolor": "white",
            "ticks": ""
           },
           "baxis": {
            "gridcolor": "white",
            "linecolor": "white",
            "ticks": ""
           },
           "bgcolor": "#E5ECF6",
           "caxis": {
            "gridcolor": "white",
            "linecolor": "white",
            "ticks": ""
           }
          },
          "title": {
           "x": 0.05
          },
          "xaxis": {
           "automargin": true,
           "gridcolor": "white",
           "linecolor": "white",
           "ticks": "",
           "title": {
            "standoff": 15
           },
           "zerolinecolor": "white",
           "zerolinewidth": 2
          },
          "yaxis": {
           "automargin": true,
           "gridcolor": "white",
           "linecolor": "white",
           "ticks": "",
           "title": {
            "standoff": 15
           },
           "zerolinecolor": "white",
           "zerolinewidth": 2
          }
         }
        },
        "title": {
         "text": "SimpleMLP training on MNIST"
        },
        "width": 700,
        "xaxis": {
         "anchor": "y",
         "autorange": true,
         "domain": [
          0,
          1
         ],
         "range": [
          0,
          281
         ],
         "title": {
          "text": "Num batches seen"
         },
         "type": "linear"
        },
        "yaxis": {
         "anchor": "x",
         "domain": [
          0,
          1
         ],
         "range": [
          0,
          2.450264310836792
         ],
         "title": {
          "text": "Cross entropy loss"
         },
         "type": "linear"
        }
       }
      },
      "image/png": "[encoded data removed]",
      "text/html": [
       "<div>                            <div id=\"7a15b5d6-37df-423b-8af4-b92a9fd0d1f8\" class=\"plotly-graph-div\" style=\"height:525px; width:700px;\"></div>            <script type=\"text/javascript\">                require([\"plotly\"], function(Plotly) {                    window.PLOTLYENV=window.PLOTLYENV || {};                                    if (document.getElementById(\"7a15b5d6-37df-423b-8af4-b92a9fd0d1f8\")) {                    Plotly.newPlot(                        \"7a15b5d6-37df-423b-8af4-b92a9fd0d1f8\",                        [{\"hovertemplate\":\"Num batches seen=%{x}\\u003cbr\\u003eCross entropy loss=%{y}\\u003cextra\\u003e\\u003c\\u002fextra\\u003e\",\"legendgroup\":\"\",\"line\":{\"color\":\"#636efa\",\"dash\":\"solid\"},\"marker\":{\"symbol\":\"circle\"},\"mode\":\"lines\",\"name\":\"\",\"orientation\":\"v\",\"showlegend\":false,\"x\":[0,1,2,3,4,5,6,7,8,9,10,11,12,13,14,15,16,17,18,19,20,21,22,23,24,25,26,27,28,29,30,31,32,33,34,35,36,37,38,39,40,41,42,43,44,45,46,47,48,49,50,51,52,53,54,55,56,57,58,59,60,61,62,63,64,65,66,67,68,69,70,71,72,73,74,75,76,77,78,79,80,81,82,83,84,85,86,87,88,89,90,91,92,93,94,95,96,97,98,99,100,101,102,103,104,105,106,107,108,109,110,111,112,113,114,115,116,117,118,119,120,121,122,123,124,125,126,127,128,129,130,131,132,133,134,135,136,137,138,139,140,141,142,143,144,145,146,147,148,149,150,151,152,153,154,155,156,157,158,159,160,161,162,163,164,165,166,167,168,169,170,171,172,173,174,175,176,177,178,179,180,181,182,183,184,185,186,187,188,189,190,191,192,193,194,195,196,197,198,199,200,201,202,203,204,205,206,207,208,209,210,211,212,213,214,215,216,217,218,219,220,221,222,223,224,225,226,227,228,229,230,231,232,233,234,235,236,237,238,239,240,241,242,243,244,245,246,247,248,249,250,251,252,253,254,255,256,257,258,259,260,261,262,263,264,265,266,267,268,269,270,271,272,273,274,275,276,277,278,279,280,281],\"xaxis\":\"x\",\"y\":[2.350264310836792,2.235025405883789,2.049053430557251,1.9356563091278076,1.8516086339950562,1.8641606569290161,1.7573975324630737,1.5300654172897339,1.4943143129348755,1.424484372138977,1.2630947828292847,1.1835681200027466,1.086794137954712,1.1192775964736938,0.9563040733337402,1.0385292768478394,0.8845179080963135,0.9795936942100525,0.9267133474349976,0.8595777750015259,0.878635823726654,0.7558417916297913,0.8971393704414368,0.8153418898582458,0.8964205980300903,0.8728358745574951,0.7856996059417725,0.7565988302230835,0.7078813314437866,0.5784316658973694,0.49493440985679626,0.5885694622993469,0.6370874047279358,0.41782698035240173,0.4770606756210327,0.6043955087661743,0.39370495080947876,0.718816339969635,0.5051732659339905,0.3154046833515167,0.4931451678276062,0.5925471782684326,0.5510007739067078,0.6180304884910583,0.46142593026161194,0.39249706268310547,0.5880672931671143,0.5639033317565918,0.5784997940063477,0.4887182116508484,0.4201076626777649,0.41841334104537964,0.3450513482093811,0.5270770788192749,0.5967627763748169,0.6005963683128357,0.358981192111969,0.42804422974586487,0.4713902771472931,0.2909706234931946,0.4333876371383667,0.30297306180000305,0.4583941698074341,0.5077407360076904,0.4702339172363281,0.5403496623039246,0.2551387846469879,0.41939133405685425,0.6936542391777039,0.4704659581184387,0.5088359713554382,0.39688757061958313,0.3479151129722595,0.5340158939361572,0.5535452961921692,0.49722033739089966,0.46295490860939026,0.44930192828178406,0.45770934224128723,0.4093787968158722,0.5132740139961243,0.3718910813331604,0.5141837000846863,0.3230590224266052,0.38586145639419556,0.39225536584854126,0.5364586710929871,0.2733657956123352,0.2499733865261078,0.401780903339386,0.37832924723625183,0.32776689529418945,0.32342255115509033,0.5444344282150269,0.4041748344898224,0.3975764214992523,0.22469352185726166,0.36992165446281433,0.32997411489486694,0.3418853282928467,0.29609689116477966,0.49751773476600647,0.2895790636539459,0.2609065771102905,0.3285504877567291,0.46836739778518677,0.23201632499694824,0.3659866154193878,0.20910915732383728,0.31270840764045715,0.1481839269399643,0.27061524987220764,0.3132195472717285,0.5889646410942078,0.3862636387348175,0.2919585704803467,0.49383991956710815,0.3328198194503784,0.44137465953826904,0.26245617866516113,0.3322618305683136,0.3307855725288391,0.3466991186141968,0.27497875690460205,0.3755749762058258,0.2872328758239746,0.2789962589740753,0.6319037675857544,0.41028574109077454,0.42633628845214844,0.268015056848526,0.30808025598526,0.27693209052085876,0.5185232758522034,0.2020111232995987,0.20211128890514374,0.3943081200122833,0.3776865601539612,0.3071513772010803,0.46219369769096375,0.35795101523399353,0.24346718192100525,0.23305721580982208,0.49465930461883545,0.23939475417137146,0.42778292298316956,0.5051795244216919,0.4800131916999817,0.42608505487442017,0.5147911906242371,0.31070083379745483,0.5780946016311646,0.33875182271003723,0.18911419808864594,0.2723446488380432,0.3410279154777527,0.1362326592206955,0.3530280292034149,0.24017083644866943,0.19297683238983154,0.21103714406490326,0.5870248675346375,0.3412150740623474,0.3827376365661621,0.23494093120098114,0.278177946805954,0.2041543573141098,0.1972307711839676,0.2593481242656708,0.2337007075548172,0.23800210654735565,0.4913747310638428,0.27842843532562256,0.25648003816604614,0.3027677536010742,0.3577061891555786,0.4613768458366394,0.18240517377853394,0.3561091721057892,0.3672720491886139,0.15798549354076385,0.28887584805488586,0.5222846865653992,0.2030610293149948,0.4460780918598175,0.3361377716064453,0.378806471824646,0.22380690276622772,0.15611059963703156,0.12765160202980042,0.22313494980335236,0.3291851878166199,0.2223767638206482,0.19356998801231384,0.3345803916454315,0.25661733746528625,0.19889332354068756,0.16073355078697205,0.2804596424102783,0.3247162401676178,0.4769495129585266,0.22497430443763733,0.1687723994255066,0.33213678002357483,0.13497699797153473,0.26677894592285156,0.535749614238739,0.22098666429519653,0.284087598323822,0.3248911499977112,0.2264297604560852,0.19947773218154907,0.26474958658218384,0.30240398645401,0.33407536149024963,0.1854284703731537,0.39013054966926575,0.23222225904464722,0.22403642535209656,0.21569094061851501,0.27589643001556396,0.15204738080501556,0.3745866119861603,0.2655778229236603,0.26356202363967896,0.2666645348072052,0.12225911766290665,0.28922006487846375,0.10005602985620499,0.6461663842201233,0.2327505648136139,0.5853939056396484,0.2040804624557495,0.27968716621398926,0.1907312572002411,0.3076654374599457,0.22106730937957764,0.2503120005130768,0.2788196802139282,0.18537816405296326,0.2050650417804718,0.20897333323955536,0.18193693459033966,0.2761130630970001,0.17945876717567444,0.24067221581935883,0.3321738839149475,0.43259358406066895,0.36267900466918945,0.2554355263710022,0.24099880456924438,0.21842843294143677,0.26136672496795654,0.3496425747871399,0.33246392011642456,0.2418309450149536,0.266043096780777,0.3016268312931061,0.16768474876880646,0.21893292665481567,0.3017999529838562,0.27799612283706665,0.16654399037361145,0.33792153000831604,0.2731972336769104,0.2581647038459778,0.3413245379924774,0.31709572672843933,0.22437068819999695,0.2466973066329956,0.12039604038000107,0.20894084870815277,0.19023452699184418,0.27242594957351685,0.20002734661102295,0.1437336802482605,0.600212574005127,0.20351926982402802,0.22799235582351685,0.5844135880470276,0.21563346683979034,0.12826693058013916],\"yaxis\":\"y\",\"type\":\"scatter\"}],                        {\"template\":{\"data\":{\"histogram2dcontour\":[{\"type\":\"histogram2dcontour\",\"colorbar\":{\"outlinewidth\":0,\"ticks\":\"\"},\"colorscale\":[[0.0,\"#0d0887\"],[0.1111111111111111,\"#46039f\"],[0.2222222222222222,\"#7201a8\"],[0.3333333333333333,\"#9c179e\"],[0.4444444444444444,\"#bd3786\"],[0.5555555555555556,\"#d8576b\"],[0.6666666666666666,\"#ed7953\"],[0.7777777777777778,\"#fb9f3a\"],[0.8888888888888888,\"#fdca26\"],[1.0,\"#f0f921\"]]}],\"choropleth\":[{\"type\":\"choropleth\",\"colorbar\":{\"outlinewidth\":0,\"ticks\":\"\"}}],\"histogram2d\":[{\"type\":\"histogram2d\",\"colorbar\":{\"outlinewidth\":0,\"ticks\":\"\"},\"colorscale\":[[0.0,\"#0d0887\"],[0.1111111111111111,\"#46039f\"],[0.2222222222222222,\"#7201a8\"],[0.3333333333333333,\"#9c179e\"],[0.4444444444444444,\"#bd3786\"],[0.5555555555555556,\"#d8576b\"],[0.6666666666666666,\"#ed7953\"],[0.7777777777777778,\"#fb9f3a\"],[0.8888888888888888,\"#fdca26\"],[1.0,\"#f0f921\"]]}],\"heatmap\":[{\"type\":\"heatmap\",\"colorbar\":{\"outlinewidth\":0,\"ticks\":\"\"},\"colorscale\":[[0.0,\"#0d0887\"],[0.1111111111111111,\"#46039f\"],[0.2222222222222222,\"#7201a8\"],[0.3333333333333333,\"#9c179e\"],[0.4444444444444444,\"#bd3786\"],[0.5555555555555556,\"#d8576b\"],[0.6666666666666666,\"#ed7953\"],[0.7777777777777778,\"#fb9f3a\"],[0.8888888888888888,\"#fdca26\"],[1.0,\"#f0f921\"]]}],\"heatmapgl\":[{\"type\":\"heatmapgl\",\"colorbar\":{\"outlinewidth\":0,\"ticks\":\"\"},\"colorscale\":[[0.0,\"#0d0887\"],[0.1111111111111111,\"#46039f\"],[0.2222222222222222,\"#7201a8\"],[0.3333333333333333,\"#9c179e\"],[0.4444444444444444,\"#bd3786\"],[0.5555555555555556,\"#d8576b\"],[0.6666666666666666,\"#ed7953\"],[0.7777777777777778,\"#fb9f3a\"],[0.8888888888888888,\"#fdca26\"],[1.0,\"#f0f921\"]]}],\"contourcarpet\":[{\"type\":\"contourcarpet\",\"colorbar\":{\"outlinewidth\":0,\"ticks\":\"\"}}],\"contour\":[{\"type\":\"contour\",\"colorbar\":{\"outlinewidth\":0,\"ticks\":\"\"},\"colorscale\":[[0.0,\"#0d0887\"],[0.1111111111111111,\"#46039f\"],[0.2222222222222222,\"#7201a8\"],[0.3333333333333333,\"#9c179e\"],[0.4444444444444444,\"#bd3786\"],[0.5555555555555556,\"#d8576b\"],[0.6666666666666666,\"#ed7953\"],[0.7777777777777778,\"#fb9f3a\"],[0.8888888888888888,\"#fdca26\"],[1.0,\"#f0f921\"]]}],\"surface\":[{\"type\":\"surface\",\"colorbar\":{\"outlinewidth\":0,\"ticks\":\"\"},\"colorscale\":[[0.0,\"#0d0887\"],[0.1111111111111111,\"#46039f\"],[0.2222222222222222,\"#7201a8\"],[0.3333333333333333,\"#9c179e\"],[0.4444444444444444,\"#bd3786\"],[0.5555555555555556,\"#d8576b\"],[0.6666666666666666,\"#ed7953\"],[0.7777777777777778,\"#fb9f3a\"],[0.8888888888888888,\"#fdca26\"],[1.0,\"#f0f921\"]]}],\"mesh3d\":[{\"type\":\"mesh3d\",\"colorbar\":{\"outlinewidth\":0,\"ticks\":\"\"}}],\"scatter\":[{\"fillpattern\":{\"fillmode\":\"overlay\",\"size\":10,\"solidity\":0.2},\"type\":\"scatter\"}],\"parcoords\":[{\"type\":\"parcoords\",\"line\":{\"colorbar\":{\"outlinewidth\":0,\"ticks\":\"\"}}}],\"scatterpolargl\":[{\"type\":\"scatterpolargl\",\"marker\":{\"colorbar\":{\"outlinewidth\":0,\"ticks\":\"\"}}}],\"bar\":[{\"error_x\":{\"color\":\"#2a3f5f\"},\"error_y\":{\"color\":\"#2a3f5f\"},\"marker\":{\"line\":{\"color\":\"#E5ECF6\",\"width\":0.5},\"pattern\":{\"fillmode\":\"overlay\",\"size\":10,\"solidity\":0.2}},\"type\":\"bar\"}],\"scattergeo\":[{\"type\":\"scattergeo\",\"marker\":{\"colorbar\":{\"outlinewidth\":0,\"ticks\":\"\"}}}],\"scatterpolar\":[{\"type\":\"scatterpolar\",\"marker\":{\"colorbar\":{\"outlinewidth\":0,\"ticks\":\"\"}}}],\"histogram\":[{\"marker\":{\"pattern\":{\"fillmode\":\"overlay\",\"size\":10,\"solidity\":0.2}},\"type\":\"histogram\"}],\"scattergl\":[{\"type\":\"scattergl\",\"marker\":{\"colorbar\":{\"outlinewidth\":0,\"ticks\":\"\"}}}],\"scatter3d\":[{\"type\":\"scatter3d\",\"line\":{\"colorbar\":{\"outlinewidth\":0,\"ticks\":\"\"}},\"marker\":{\"colorbar\":{\"outlinewidth\":0,\"ticks\":\"\"}}}],\"scattermapbox\":[{\"type\":\"scattermapbox\",\"marker\":{\"colorbar\":{\"outlinewidth\":0,\"ticks\":\"\"}}}],\"scatterternary\":[{\"type\":\"scatterternary\",\"marker\":{\"colorbar\":{\"outlinewidth\":0,\"ticks\":\"\"}}}],\"scattercarpet\":[{\"type\":\"scattercarpet\",\"marker\":{\"colorbar\":{\"outlinewidth\":0,\"ticks\":\"\"}}}],\"carpet\":[{\"aaxis\":{\"endlinecolor\":\"#2a3f5f\",\"gridcolor\":\"white\",\"linecolor\":\"white\",\"minorgridcolor\":\"white\",\"startlinecolor\":\"#2a3f5f\"},\"baxis\":{\"endlinecolor\":\"#2a3f5f\",\"gridcolor\":\"white\",\"linecolor\":\"white\",\"minorgridcolor\":\"white\",\"startlinecolor\":\"#2a3f5f\"},\"type\":\"carpet\"}],\"table\":[{\"cells\":{\"fill\":{\"color\":\"#EBF0F8\"},\"line\":{\"color\":\"white\"}},\"header\":{\"fill\":{\"color\":\"#C8D4E3\"},\"line\":{\"color\":\"white\"}},\"type\":\"table\"}],\"barpolar\":[{\"marker\":{\"line\":{\"color\":\"#E5ECF6\",\"width\":0.5},\"pattern\":{\"fillmode\":\"overlay\",\"size\":10,\"solidity\":0.2}},\"type\":\"barpolar\"}],\"pie\":[{\"automargin\":true,\"type\":\"pie\"}]},\"layout\":{\"autotypenumbers\":\"strict\",\"colorway\":[\"#636efa\",\"#EF553B\",\"#00cc96\",\"#ab63fa\",\"#FFA15A\",\"#19d3f3\",\"#FF6692\",\"#B6E880\",\"#FF97FF\",\"#FECB52\"],\"font\":{\"color\":\"#2a3f5f\"},\"hovermode\":\"closest\",\"hoverlabel\":{\"align\":\"left\"},\"paper_bgcolor\":\"white\",\"plot_bgcolor\":\"#E5ECF6\",\"polar\":{\"bgcolor\":\"#E5ECF6\",\"angularaxis\":{\"gridcolor\":\"white\",\"linecolor\":\"white\",\"ticks\":\"\"},\"radialaxis\":{\"gridcolor\":\"white\",\"linecolor\":\"white\",\"ticks\":\"\"}},\"ternary\":{\"bgcolor\":\"#E5ECF6\",\"aaxis\":{\"gridcolor\":\"white\",\"linecolor\":\"white\",\"ticks\":\"\"},\"baxis\":{\"gridcolor\":\"white\",\"linecolor\":\"white\",\"ticks\":\"\"},\"caxis\":{\"gridcolor\":\"white\",\"linecolor\":\"white\",\"ticks\":\"\"}},\"coloraxis\":{\"colorbar\":{\"outlinewidth\":0,\"ticks\":\"\"}},\"colorscale\":{\"sequential\":[[0.0,\"#0d0887\"],[0.1111111111111111,\"#46039f\"],[0.2222222222222222,\"#7201a8\"],[0.3333333333333333,\"#9c179e\"],[0.4444444444444444,\"#bd3786\"],[0.5555555555555556,\"#d8576b\"],[0.6666666666666666,\"#ed7953\"],[0.7777777777777778,\"#fb9f3a\"],[0.8888888888888888,\"#fdca26\"],[1.0,\"#f0f921\"]],\"sequentialminus\":[[0.0,\"#0d0887\"],[0.1111111111111111,\"#46039f\"],[0.2222222222222222,\"#7201a8\"],[0.3333333333333333,\"#9c179e\"],[0.4444444444444444,\"#bd3786\"],[0.5555555555555556,\"#d8576b\"],[0.6666666666666666,\"#ed7953\"],[0.7777777777777778,\"#fb9f3a\"],[0.8888888888888888,\"#fdca26\"],[1.0,\"#f0f921\"]],\"diverging\":[[0,\"#8e0152\"],[0.1,\"#c51b7d\"],[0.2,\"#de77ae\"],[0.3,\"#f1b6da\"],[0.4,\"#fde0ef\"],[0.5,\"#f7f7f7\"],[0.6,\"#e6f5d0\"],[0.7,\"#b8e186\"],[0.8,\"#7fbc41\"],[0.9,\"#4d9221\"],[1,\"#276419\"]]},\"xaxis\":{\"gridcolor\":\"white\",\"linecolor\":\"white\",\"ticks\":\"\",\"title\":{\"standoff\":15},\"zerolinecolor\":\"white\",\"automargin\":true,\"zerolinewidth\":2},\"yaxis\":{\"gridcolor\":\"white\",\"linecolor\":\"white\",\"ticks\":\"\",\"title\":{\"standoff\":15},\"zerolinecolor\":\"white\",\"automargin\":true,\"zerolinewidth\":2},\"scene\":{\"xaxis\":{\"backgroundcolor\":\"#E5ECF6\",\"gridcolor\":\"white\",\"linecolor\":\"white\",\"showbackground\":true,\"ticks\":\"\",\"zerolinecolor\":\"white\",\"gridwidth\":2},\"yaxis\":{\"backgroundcolor\":\"#E5ECF6\",\"gridcolor\":\"white\",\"linecolor\":\"white\",\"showbackground\":true,\"ticks\":\"\",\"zerolinecolor\":\"white\",\"gridwidth\":2},\"zaxis\":{\"backgroundcolor\":\"#E5ECF6\",\"gridcolor\":\"white\",\"linecolor\":\"white\",\"showbackground\":true,\"ticks\":\"\",\"zerolinecolor\":\"white\",\"gridwidth\":2}},\"shapedefaults\":{\"line\":{\"color\":\"#2a3f5f\"}},\"annotationdefaults\":{\"arrowcolor\":\"#2a3f5f\",\"arrowhead\":0,\"arrowwidth\":1},\"geo\":{\"bgcolor\":\"white\",\"landcolor\":\"#E5ECF6\",\"subunitcolor\":\"white\",\"showland\":true,\"showlakes\":true,\"lakecolor\":\"white\"},\"title\":{\"x\":0.05},\"mapbox\":{\"style\":\"light\"}}},\"xaxis\":{\"anchor\":\"y\",\"domain\":[0.0,1.0],\"title\":{\"text\":\"Num batches seen\"}},\"yaxis\":{\"anchor\":\"x\",\"domain\":[0.0,1.0],\"title\":{\"text\":\"Cross entropy loss\"},\"range\":[0,2.450264310836792]},\"legend\":{\"tracegroupgap\":0},\"title\":{\"text\":\"SimpleMLP training on MNIST\"},\"width\":700,\"hovermode\":\"x unified\"},                        {\"responsive\": true}                    ).then(function(){\n",
       "                            \n",
       "var gd = document.getElementById('7a15b5d6-37df-423b-8af4-b92a9fd0d1f8');\n",
       "var x = new MutationObserver(function (mutations, observer) {{\n",
       "        var display = window.getComputedStyle(gd).display;\n",
       "        if (!display || display === 'none') {{\n",
       "            console.log([gd, 'removed!']);\n",
       "            Plotly.purge(gd);\n",
       "            observer.disconnect();\n",
       "        }}\n",
       "}});\n",
       "\n",
       "// Listen for the removal of the full notebook cells\n",
       "var notebookContainer = gd.closest('#notebook-container');\n",
       "if (notebookContainer) {{\n",
       "    x.observe(notebookContainer, {childList: true});\n",
       "}}\n",
       "\n",
       "// Listen for the clearing of the current output cell\n",
       "var outputEl = gd.closest('.output');\n",
       "if (outputEl) {{\n",
       "    x.observe(outputEl, {childList: true});\n",
       "}}\n",
       "\n",
       "                        })                };                });            </script>        </div>"
      ]
     },
     "metadata": {},
     "output_type": "display_data"
    }
   ],
   "source": [
    "model = SimpleMLP().to(device)\n",
    "\n",
    "batch_size = 64\n",
    "epochs = 3\n",
    "\n",
    "mnist_trainset, _ = get_mnist(subset = 10)\n",
    "mnist_trainloader = DataLoader(mnist_trainset, batch_size=batch_size, shuffle=True)\n",
    "\n",
    "optimizer = t.optim.AdamW(model.parameters(), lr=1e-3)\n",
    "loss_list = []\n",
    "\n",
    "for epoch in tqdm(range(epochs)):\n",
    "    for imgs, labels in mnist_trainloader:\n",
    "        imgs = imgs.to(device)\n",
    "        labels = labels.to(device)\n",
    "        logits = model(imgs)\n",
    "        loss = F.cross_entropy(logits, labels)\n",
    "        loss.backward()\n",
    "        optimizer.step()\n",
    "        optimizer.zero_grad()\n",
    "        loss_list.append(loss.item())\n",
    "\n",
    "line(\n",
    "    loss_list,\n",
    "    yaxis_range=[0, max(loss_list) + 0.1],\n",
    "    labels={\"x\": \"Num batches seen\", \"y\": \"Cross entropy loss\"},\n",
    "    title=\"SimpleMLP training on MNIST\",\n",
    "    width=700\n",
    ")"
   ]
  },
  {
   "cell_type": "markdown",
   "metadata": {
    "id": "e5Uh-HUN-ihe"
   },
   "source": [
    "Let's break down the important parts of this code.\n",
    "\n",
    "The batch size is the number of samples in each batch (i.e. the number of samples we feed into the model at once). While training our model, we differentiate with respect to the average loss over all samples in the batch (so a smaller batch usually means the loss is more noisy). However, if you're working with large models, then often having a batch size too large will result in a memory error. This will be relevant for models later on in the course, but for now we're working with very small models so this isn't an issue.\n",
    "\n",
    "Next, we get our training set, via the helper function `get_mnist`. This helper function used `torchvision.datasets.MNIST` to load in data, and then (optionally) the `torch.utils.data.Subset` function to return a subset of this data. Don't worry about the details of this function, it's not the kind of thing you'll need to know by heart.\n",
    "\n",
    "We then define our optimizer, using `torch.optim.Adam`. The `torch.optim` module gives a wide variety of modules, such as Adam, SGD, and RMSProp. Adam is generally the most popular and seen as the most effective in the majority of cases. We'll discuss optimizers in more detail tomorrow, but for now it's enough to understand that the optimizer calculates the amount to update parameters by (as a function of those parameters' gradients, and sometimes other inputs), and performs this update step. The first argument passed to our optimizer is the parameters of our model (because these are the values that will be updated via gradient descent), and you can also pass keyword arguments to the optimizer which change its behaviour (e.g. the learning rate).\n",
    "\n",
    "Lastly, we have the actual training loop. We iterate through our training data, and for each batch we:\n",
    "\n",
    "1. Evaluate our model on the batch of data, to get the logits for our class predictions,\n",
    "2. Calculate the loss between our logits and the true class labels,\n",
    "3. Backpropagate the loss through our model (this step accumulates gradients in our model parameters),\n",
    "4. Step our optimizer, which is what actually updates the model parameters,\n",
    "5. Zero the gradients of our optimizer, ready for the next step."
   ]
  },
  {
   "cell_type": "markdown",
   "metadata": {
    "id": "Kas4EG9V-kP8"
   },
   "source": [
    "### Cross entropy loss\n",
    "\n",
    "The formula for cross entropy loss over a batch of size $N$ is:\n",
    "\n",
    "$$\n",
    "\\begin{aligned}\n",
    "l &= \\frac{1}{N} \\sum_{n=1}^{N} l_n \\\\\n",
    "l_n &=-\\log p_{n, y_{n}}\n",
    "\\end{aligned}\n",
    "$$\n",
    "\n",
    "where $p_{n, c}$ is the probability the model assigns to class $c$ for sample $n$, and $y_{n}$ is the true label for this sample.\n",
    "\n",
    "<details>\n",
    "<summary>See this dropdown, if you're still confused about this formula, and how this relates to the information-theoretic general formula for cross entropy.</summary>\n",
    "\n",
    "The cross entropy of a distribution $p$ relate to a distribution $q$ is:\n",
    "\n",
    "$$\n",
    "\\begin{aligned}\n",
    "H(q, p) &= -\\sum_{n} q(n) \\log p(n)\n",
    "\\end{aligned}\n",
    "$$\n",
    "\n",
    "In our case, $q$ is the true distribution (i.e. the one-hot encoded labels, which equals one for $n = y_n$, zero otherwise), and $p$ is our model's output. With these subsitutions, this formula becomes equivalent to the formula for $l$ given above.\n",
    "</details>\n",
    "\n",
    "<details>\n",
    "<summary>See this dropdown, if you're confused about how this is the same as the <a href=\"https://pytorch.org/docs/stable/generated/torch.nn.CrossEntropyLoss.html#torch.nn.CrossEntropyLoss\">PyTorch definition</a>.</summary>\n",
    "\n",
    "The PyTorch definition of cross entropy loss is:\n",
    "\n",
    "$$\n",
    "\\ell(x, y)=\\frac{1}{N}\\sum_{n=1}^{N} l_n, \\quad l_n=-\\sum_{c=1}^C w_c \\log \\frac{\\exp \\left(x_{n, c}\\right)}{\\sum_{i=1}^C \\exp \\left(x_{n, i}\\right)} y_{n, c}\n",
    "$$\n",
    "\n",
    "$w_c$ are the weights (which all equal one by default), $p_{n, c} = \\frac{\\exp \\left(x_{n, c}\\right)}{\\sum_{i=1}^C \\exp \\left(x_{n, i}\\right)}$ are the probabilities, and $y_{n, c}$ are the true labels (which are one-hot encoded, i.e. their value is one at the correct label $c$ and zero everywhere else). With this, the formula for $l_n$ reduces to the one we see above (i.e. the mean of the negative log probabilities).\n",
    "\n",
    "</details>\n",
    "\n",
    "The function `torch.functional.cross_entropy` expects the **unnormalized logits** as its first input, rather than probabilities. We get probabilities from logits by applying the softmax function:\n",
    "\n",
    "$$\n",
    "\\begin{aligned}\n",
    "p_{n, c} &= \\frac{\\exp(x_{n, c})}{\\sum_{c'=1}^{C} \\exp(x_{n, c'})}\n",
    "\\end{aligned}\n",
    "$$\n",
    "\n",
    "where $x_{n, c}$ is the model's output for class $c$ and sample $n$, and $C$ is the number of classes (in the case of MNIST, $C = 10$).\n",
    "\n",
    "Some terminology notes:\n",
    "\n",
    "* When we say **logits**, we mean the output of the model before applying softmax. We can uniquely define a distribution with a set of logits, just like we can define a distribution with a set of probabilities (and sometimes it's easier to think of a distribution in terms of logits, as we'll see later in the course).\n",
    "\n",
    "* When we say **unnormalized**, we mean the denominator term $\\sum_{c'} \\exp(x_{n, c'})$ isn't necessarily equal to 1. We can add a constant value onto all the logits which makes this term 1 without changing any of the actual probabilities, then we have the relation $p_{n, c} = \\exp(-l_{n, c})$. Here, we call $-l_{n, c}$ the **log probabilities** (or log probs), since $-l_{n, c} = \\log p_{n, c}$.\n",
    "\n",
    "If you're interested in the intuition behind cross entropy as a loss function, see [this post on KL divergence](https://www.lesswrong.com/posts/no5jDTut5Byjqb4j5/six-and-a-half-intuitions-for-kl-divergence) (note that KL divergence and cross entropy differ by an amount which is independent of our model's predictions, so minimizing cross entropy is equivalent to minimizing KL divergence). Also see these two videos:\n",
    "\n",
    "* [Intuitively Understanding the Cross Entropy Loss](https://www.youtube.com/watch?v=Pwgpl9mKars&amp;ab_channel=AdianLiusie)\n",
    "* [Intuitively Understanding the KL Divergence](https://www.youtube.com/watch?v=SxGYPqCgJWM&amp;ab_channel=AdianLiusie)"
   ]
  },
  {
   "cell_type": "markdown",
   "metadata": {
    "id": "biTzObCR-lmw"
   },
   "source": [
    "### Aside - `dataclasses`\n",
    "\n",
    "Sometimes, when we have a lot of different input parameters to our model, it can be helpful to use dataclasses to keep track of them all. Dataclasses are a special kind of class which come with built-in methods for initialising and printing (i.e. no need to define an `__init__` or `__repr__`). Another advantage of using them is autocompletion: when you type in `args.` in VSCode, you'll get a dropdown of all your different dataclass attributes, which can be useful when you've forgotten what you called a variable!\n",
    "\n",
    "Here's an example of how we might rewrite our training code above using dataclasses. We've wrapped all the training code inside a single argument called `train`, which takes a `SimpleMLPTrainingArgs` object as its only argument."
   ]
  },
  {
   "cell_type": "code",
   "execution_count": 16,
   "metadata": {
    "id": "UlL1kSbr-nPw"
   },
   "outputs": [
    {
     "data": {
      "application/vnd.jupyter.widget-view+json": {
       "model_id": "73129c951dec4ad19eef64ea9c46b7e3",
       "version_major": 2,
       "version_minor": 0
      },
      "text/plain": [
       "  0%|          | 0/3 [00:00<?, ?it/s]"
      ]
     },
     "metadata": {},
     "output_type": "display_data"
    },
    {
     "data": {
      "application/vnd.plotly.v1+json": {
       "config": {
        "plotlyServerURL": "https://plot.ly"
       },
       "data": [
        {
         "hovertemplate": "Num batches seen=%{x}<br>Cross entropy loss=%{y}<extra></extra>",
         "legendgroup": "",
         "line": {
          "color": "#636efa",
          "dash": "solid"
         },
         "marker": {
          "symbol": "circle"
         },
         "mode": "lines",
         "name": "",
         "orientation": "v",
         "showlegend": false,
         "type": "scatter",
         "x": [
          0,
          1,
          2,
          3,
          4,
          5,
          6,
          7,
          8,
          9,
          10,
          11,
          12,
          13,
          14,
          15,
          16,
          17,
          18,
          19,
          20,
          21,
          22,
          23,
          24,
          25,
          26,
          27,
          28,
          29,
          30,
          31,
          32,
          33,
          34,
          35,
          36,
          37,
          38,
          39,
          40,
          41,
          42,
          43,
          44,
          45,
          46,
          47,
          48,
          49,
          50,
          51,
          52,
          53,
          54,
          55,
          56,
          57,
          58,
          59,
          60,
          61,
          62,
          63,
          64,
          65,
          66,
          67,
          68,
          69,
          70,
          71,
          72,
          73,
          74,
          75,
          76,
          77,
          78,
          79,
          80,
          81,
          82,
          83,
          84,
          85,
          86,
          87,
          88,
          89,
          90,
          91,
          92,
          93,
          94,
          95,
          96,
          97,
          98,
          99,
          100,
          101,
          102,
          103,
          104,
          105,
          106,
          107,
          108,
          109,
          110,
          111,
          112,
          113,
          114,
          115,
          116,
          117,
          118,
          119,
          120,
          121,
          122,
          123,
          124,
          125,
          126,
          127,
          128,
          129,
          130,
          131,
          132,
          133,
          134,
          135,
          136,
          137,
          138,
          139,
          140,
          141,
          142,
          143,
          144,
          145,
          146,
          147,
          148,
          149,
          150,
          151,
          152,
          153,
          154,
          155,
          156,
          157,
          158,
          159,
          160,
          161,
          162,
          163,
          164,
          165,
          166,
          167,
          168,
          169,
          170,
          171,
          172,
          173,
          174,
          175,
          176,
          177,
          178,
          179,
          180,
          181,
          182,
          183,
          184,
          185,
          186,
          187,
          188,
          189,
          190,
          191,
          192,
          193,
          194,
          195,
          196,
          197,
          198,
          199,
          200,
          201,
          202,
          203,
          204,
          205,
          206,
          207,
          208,
          209,
          210,
          211,
          212,
          213,
          214,
          215,
          216,
          217,
          218,
          219,
          220,
          221,
          222,
          223,
          224,
          225,
          226,
          227,
          228,
          229,
          230,
          231,
          232,
          233,
          234,
          235,
          236,
          237,
          238,
          239,
          240,
          241,
          242,
          243,
          244,
          245,
          246,
          247,
          248,
          249,
          250,
          251,
          252,
          253,
          254,
          255,
          256,
          257,
          258,
          259,
          260,
          261,
          262,
          263,
          264,
          265,
          266,
          267,
          268,
          269,
          270,
          271,
          272,
          273,
          274,
          275,
          276,
          277,
          278,
          279,
          280,
          281
         ],
         "xaxis": "x",
         "y": [
          2.3150830268859863,
          2.1586124897003174,
          2.053394079208374,
          1.9672266244888306,
          1.8262585401535034,
          1.793580174446106,
          1.611608624458313,
          1.4868190288543701,
          1.5566235780715942,
          1.373016595840454,
          1.3178751468658447,
          1.2381465435028076,
          1.0709820985794067,
          1.0914888381958008,
          0.8494225740432739,
          1.0182723999023438,
          0.93961101770401,
          0.761029064655304,
          0.9297029972076416,
          0.7954700589179993,
          0.8947067260742188,
          0.7175912857055664,
          0.9943854808807373,
          0.8193609118461609,
          0.6670267581939697,
          0.559883713722229,
          0.6233106255531311,
          0.4103871285915375,
          0.5979475378990173,
          0.537551999092102,
          0.6886678338050842,
          0.6416114568710327,
          0.5021601915359497,
          0.7086927890777588,
          0.5121199488639832,
          0.5525045990943909,
          0.5252710580825806,
          0.5368770360946655,
          0.5302258133888245,
          0.5082839727401733,
          0.5610030293464661,
          0.61819988489151,
          0.6200894713401794,
          0.6910662055015564,
          0.5729553699493408,
          0.39775988459587097,
          0.40134397149086,
          0.5495495200157166,
          0.4200478792190552,
          0.36766517162323,
          0.6633040904998779,
          0.40066322684288025,
          0.46547430753707886,
          0.4043504595756531,
          0.47758758068084717,
          0.4476794898509979,
          0.5457769632339478,
          0.34422165155410767,
          0.3612259030342102,
          0.47404608130455017,
          0.3788374066352844,
          0.4540107846260071,
          0.5135058760643005,
          0.29477787017822266,
          0.4104539453983307,
          0.45676031708717346,
          0.5703814029693604,
          0.599147617816925,
          0.355337530374527,
          0.32572826743125916,
          0.40070590376853943,
          0.42969051003456116,
          0.5000534653663635,
          0.2860867977142334,
          0.3963038921356201,
          0.4132629632949829,
          0.36339500546455383,
          0.2621538043022156,
          0.2861073613166809,
          0.4753683805465698,
          0.45958516001701355,
          0.4565283954143524,
          0.5245352983474731,
          0.46470972895622253,
          0.3978040814399719,
          0.525227963924408,
          0.47098466753959656,
          0.5921087861061096,
          0.5602784752845764,
          0.4605015516281128,
          0.590128481388092,
          0.2661524713039398,
          0.420492947101593,
          0.46135413646698,
          0.3502929210662842,
          0.4866673946380615,
          0.44998759031295776,
          0.35936373472213745,
          0.27142786979675293,
          0.29091203212738037,
          0.4122371971607208,
          0.3084719181060791,
          0.25458645820617676,
          0.19761274755001068,
          0.2805992364883423,
          0.2974996268749237,
          0.35746830701828003,
          0.3964996039867401,
          0.29772719740867615,
          0.2677929103374481,
          0.3582870662212372,
          0.5314988493919373,
          0.2978810966014862,
          0.2833930253982544,
          0.4671565890312195,
          0.3621937930583954,
          0.5540755391120911,
          0.41266071796417236,
          0.28197237849235535,
          0.2316747009754181,
          0.5040181875228882,
          0.462803453207016,
          0.44805365800857544,
          0.2767862379550934,
          0.5240942239761353,
          0.3748832046985626,
          0.45081156492233276,
          0.3318488597869873,
          0.42237532138824463,
          0.414538711309433,
          0.3729275166988373,
          0.3245324194431305,
          0.5419614315032959,
          0.3216259777545929,
          0.25069940090179443,
          0.22943104803562164,
          0.38158077001571655,
          0.19502945244312286,
          0.29708269238471985,
          0.4753142297267914,
          0.29641494154930115,
          0.3064561188220978,
          0.22561492025852203,
          0.23697657883167267,
          0.2824375033378601,
          0.14492303133010864,
          0.34855762124061584,
          0.30003318190574646,
          0.4500288963317871,
          0.4873797595500946,
          0.44796597957611084,
          0.46970924735069275,
          0.34897375106811523,
          0.23389296233654022,
          0.3318031430244446,
          0.3469927906990051,
          0.3833753764629364,
          0.2928670346736908,
          0.46668311953544617,
          0.33224135637283325,
          0.27782824635505676,
          0.3250603675842285,
          0.30172041058540344,
          0.32651644945144653,
          0.5330692529678345,
          0.10089540481567383,
          0.347856342792511,
          0.30982786417007446,
          0.40509432554244995,
          0.29709699749946594,
          0.3959517776966095,
          0.17119170725345612,
          0.5446330904960632,
          0.3879258334636688,
          0.4625050723552704,
          0.2550103962421417,
          0.3602573275566101,
          0.28351029753685,
          0.28424930572509766,
          0.20302723348140717,
          0.3258051872253418,
          0.30882272124290466,
          0.18484805524349213,
          0.16353268921375275,
          0.49385514855384827,
          0.44190657138824463,
          0.2604309320449829,
          0.5648446679115295,
          0.22968238592147827,
          0.2247522622346878,
          0.2142079472541809,
          0.17885670065879822,
          0.15638767182826996,
          0.2550218403339386,
          0.47874367237091064,
          0.289669007062912,
          0.30599164962768555,
          0.2010434865951538,
          0.19154085218906403,
          0.25638946890830994,
          0.2933148443698883,
          0.2996363043785095,
          0.31314587593078613,
          0.19335760176181793,
          0.3006899952888489,
          0.3995223045349121,
          0.21163694560527802,
          0.31910616159439087,
          0.24963685870170593,
          0.3161502778530121,
          0.1566757708787918,
          0.26117008924484253,
          0.3255476951599121,
          0.400308758020401,
          0.2413627952337265,
          0.2232666164636612,
          0.22433680295944214,
          0.17682215571403503,
          0.27705276012420654,
          0.3403301239013672,
          0.22508470714092255,
          0.29528677463531494,
          0.23719477653503418,
          0.5622870326042175,
          0.4424537122249603,
          0.345162957906723,
          0.27207228541374207,
          0.2883746325969696,
          0.2082698941230774,
          0.2896329164505005,
          0.335968554019928,
          0.5521500706672668,
          0.24432124197483063,
          0.19861748814582825,
          0.35894644260406494,
          0.29515132308006287,
          0.2622108459472656,
          0.3580331802368164,
          0.23115843534469604,
          0.1296454519033432,
          0.47604355216026306,
          0.33274057507514954,
          0.29162633419036865,
          0.15440373122692108,
          0.2470102608203888,
          0.2544911801815033,
          0.14084184169769287,
          0.15669472515583038,
          0.23879553377628326,
          0.3499528467655182,
          0.25269415974617004,
          0.370181143283844,
          0.37665486335754395,
          0.3062695860862732,
          0.2193911075592041,
          0.3715534806251526,
          0.24547910690307617,
          0.28435221314430237,
          0.17798060178756714,
          0.1947402060031891,
          0.20956678688526154,
          0.22570988535881042,
          0.16750217974185944,
          0.32088780403137207,
          0.25132137537002563,
          0.15525349974632263,
          0.571132242679596,
          0.2389991730451584,
          0.4043320417404175,
          0.30196112394332886,
          0.2753777503967285,
          0.284770131111145,
          0.21152885258197784,
          0.23108702898025513,
          0.16662850975990295,
          0.30902987718582153,
          0.25001171231269836,
          0.27299121022224426,
          0.3514595627784729,
          0.16627442836761475,
          0.33159124851226807,
          0.17927341163158417
         ],
         "yaxis": "y"
        }
       ],
       "layout": {
        "height": 360,
        "hovermode": "x unified",
        "legend": {
         "tracegroupgap": 0
        },
        "template": {
         "data": {
          "bar": [
           {
            "error_x": {
             "color": "#2a3f5f"
            },
            "error_y": {
             "color": "#2a3f5f"
            },
            "marker": {
             "line": {
              "color": "#E5ECF6",
              "width": 0.5
             },
             "pattern": {
              "fillmode": "overlay",
              "size": 10,
              "solidity": 0.2
             }
            },
            "type": "bar"
           }
          ],
          "barpolar": [
           {
            "marker": {
             "line": {
              "color": "#E5ECF6",
              "width": 0.5
             },
             "pattern": {
              "fillmode": "overlay",
              "size": 10,
              "solidity": 0.2
             }
            },
            "type": "barpolar"
           }
          ],
          "carpet": [
           {
            "aaxis": {
             "endlinecolor": "#2a3f5f",
             "gridcolor": "white",
             "linecolor": "white",
             "minorgridcolor": "white",
             "startlinecolor": "#2a3f5f"
            },
            "baxis": {
             "endlinecolor": "#2a3f5f",
             "gridcolor": "white",
             "linecolor": "white",
             "minorgridcolor": "white",
             "startlinecolor": "#2a3f5f"
            },
            "type": "carpet"
           }
          ],
          "choropleth": [
           {
            "colorbar": {
             "outlinewidth": 0,
             "ticks": ""
            },
            "type": "choropleth"
           }
          ],
          "contour": [
           {
            "colorbar": {
             "outlinewidth": 0,
             "ticks": ""
            },
            "colorscale": [
             [
              0,
              "#0d0887"
             ],
             [
              0.1111111111111111,
              "#46039f"
             ],
             [
              0.2222222222222222,
              "#7201a8"
             ],
             [
              0.3333333333333333,
              "#9c179e"
             ],
             [
              0.4444444444444444,
              "#bd3786"
             ],
             [
              0.5555555555555556,
              "#d8576b"
             ],
             [
              0.6666666666666666,
              "#ed7953"
             ],
             [
              0.7777777777777778,
              "#fb9f3a"
             ],
             [
              0.8888888888888888,
              "#fdca26"
             ],
             [
              1,
              "#f0f921"
             ]
            ],
            "type": "contour"
           }
          ],
          "contourcarpet": [
           {
            "colorbar": {
             "outlinewidth": 0,
             "ticks": ""
            },
            "type": "contourcarpet"
           }
          ],
          "heatmap": [
           {
            "colorbar": {
             "outlinewidth": 0,
             "ticks": ""
            },
            "colorscale": [
             [
              0,
              "#0d0887"
             ],
             [
              0.1111111111111111,
              "#46039f"
             ],
             [
              0.2222222222222222,
              "#7201a8"
             ],
             [
              0.3333333333333333,
              "#9c179e"
             ],
             [
              0.4444444444444444,
              "#bd3786"
             ],
             [
              0.5555555555555556,
              "#d8576b"
             ],
             [
              0.6666666666666666,
              "#ed7953"
             ],
             [
              0.7777777777777778,
              "#fb9f3a"
             ],
             [
              0.8888888888888888,
              "#fdca26"
             ],
             [
              1,
              "#f0f921"
             ]
            ],
            "type": "heatmap"
           }
          ],
          "heatmapgl": [
           {
            "colorbar": {
             "outlinewidth": 0,
             "ticks": ""
            },
            "colorscale": [
             [
              0,
              "#0d0887"
             ],
             [
              0.1111111111111111,
              "#46039f"
             ],
             [
              0.2222222222222222,
              "#7201a8"
             ],
             [
              0.3333333333333333,
              "#9c179e"
             ],
             [
              0.4444444444444444,
              "#bd3786"
             ],
             [
              0.5555555555555556,
              "#d8576b"
             ],
             [
              0.6666666666666666,
              "#ed7953"
             ],
             [
              0.7777777777777778,
              "#fb9f3a"
             ],
             [
              0.8888888888888888,
              "#fdca26"
             ],
             [
              1,
              "#f0f921"
             ]
            ],
            "type": "heatmapgl"
           }
          ],
          "histogram": [
           {
            "marker": {
             "pattern": {
              "fillmode": "overlay",
              "size": 10,
              "solidity": 0.2
             }
            },
            "type": "histogram"
           }
          ],
          "histogram2d": [
           {
            "colorbar": {
             "outlinewidth": 0,
             "ticks": ""
            },
            "colorscale": [
             [
              0,
              "#0d0887"
             ],
             [
              0.1111111111111111,
              "#46039f"
             ],
             [
              0.2222222222222222,
              "#7201a8"
             ],
             [
              0.3333333333333333,
              "#9c179e"
             ],
             [
              0.4444444444444444,
              "#bd3786"
             ],
             [
              0.5555555555555556,
              "#d8576b"
             ],
             [
              0.6666666666666666,
              "#ed7953"
             ],
             [
              0.7777777777777778,
              "#fb9f3a"
             ],
             [
              0.8888888888888888,
              "#fdca26"
             ],
             [
              1,
              "#f0f921"
             ]
            ],
            "type": "histogram2d"
           }
          ],
          "histogram2dcontour": [
           {
            "colorbar": {
             "outlinewidth": 0,
             "ticks": ""
            },
            "colorscale": [
             [
              0,
              "#0d0887"
             ],
             [
              0.1111111111111111,
              "#46039f"
             ],
             [
              0.2222222222222222,
              "#7201a8"
             ],
             [
              0.3333333333333333,
              "#9c179e"
             ],
             [
              0.4444444444444444,
              "#bd3786"
             ],
             [
              0.5555555555555556,
              "#d8576b"
             ],
             [
              0.6666666666666666,
              "#ed7953"
             ],
             [
              0.7777777777777778,
              "#fb9f3a"
             ],
             [
              0.8888888888888888,
              "#fdca26"
             ],
             [
              1,
              "#f0f921"
             ]
            ],
            "type": "histogram2dcontour"
           }
          ],
          "mesh3d": [
           {
            "colorbar": {
             "outlinewidth": 0,
             "ticks": ""
            },
            "type": "mesh3d"
           }
          ],
          "parcoords": [
           {
            "line": {
             "colorbar": {
              "outlinewidth": 0,
              "ticks": ""
             }
            },
            "type": "parcoords"
           }
          ],
          "pie": [
           {
            "automargin": true,
            "type": "pie"
           }
          ],
          "scatter": [
           {
            "fillpattern": {
             "fillmode": "overlay",
             "size": 10,
             "solidity": 0.2
            },
            "type": "scatter"
           }
          ],
          "scatter3d": [
           {
            "line": {
             "colorbar": {
              "outlinewidth": 0,
              "ticks": ""
             }
            },
            "marker": {
             "colorbar": {
              "outlinewidth": 0,
              "ticks": ""
             }
            },
            "type": "scatter3d"
           }
          ],
          "scattercarpet": [
           {
            "marker": {
             "colorbar": {
              "outlinewidth": 0,
              "ticks": ""
             }
            },
            "type": "scattercarpet"
           }
          ],
          "scattergeo": [
           {
            "marker": {
             "colorbar": {
              "outlinewidth": 0,
              "ticks": ""
             }
            },
            "type": "scattergeo"
           }
          ],
          "scattergl": [
           {
            "marker": {
             "colorbar": {
              "outlinewidth": 0,
              "ticks": ""
             }
            },
            "type": "scattergl"
           }
          ],
          "scattermapbox": [
           {
            "marker": {
             "colorbar": {
              "outlinewidth": 0,
              "ticks": ""
             }
            },
            "type": "scattermapbox"
           }
          ],
          "scatterpolar": [
           {
            "marker": {
             "colorbar": {
              "outlinewidth": 0,
              "ticks": ""
             }
            },
            "type": "scatterpolar"
           }
          ],
          "scatterpolargl": [
           {
            "marker": {
             "colorbar": {
              "outlinewidth": 0,
              "ticks": ""
             }
            },
            "type": "scatterpolargl"
           }
          ],
          "scatterternary": [
           {
            "marker": {
             "colorbar": {
              "outlinewidth": 0,
              "ticks": ""
             }
            },
            "type": "scatterternary"
           }
          ],
          "surface": [
           {
            "colorbar": {
             "outlinewidth": 0,
             "ticks": ""
            },
            "colorscale": [
             [
              0,
              "#0d0887"
             ],
             [
              0.1111111111111111,
              "#46039f"
             ],
             [
              0.2222222222222222,
              "#7201a8"
             ],
             [
              0.3333333333333333,
              "#9c179e"
             ],
             [
              0.4444444444444444,
              "#bd3786"
             ],
             [
              0.5555555555555556,
              "#d8576b"
             ],
             [
              0.6666666666666666,
              "#ed7953"
             ],
             [
              0.7777777777777778,
              "#fb9f3a"
             ],
             [
              0.8888888888888888,
              "#fdca26"
             ],
             [
              1,
              "#f0f921"
             ]
            ],
            "type": "surface"
           }
          ],
          "table": [
           {
            "cells": {
             "fill": {
              "color": "#EBF0F8"
             },
             "line": {
              "color": "white"
             }
            },
            "header": {
             "fill": {
              "color": "#C8D4E3"
             },
             "line": {
              "color": "white"
             }
            },
            "type": "table"
           }
          ]
         },
         "layout": {
          "annotationdefaults": {
           "arrowcolor": "#2a3f5f",
           "arrowhead": 0,
           "arrowwidth": 1
          },
          "autotypenumbers": "strict",
          "coloraxis": {
           "colorbar": {
            "outlinewidth": 0,
            "ticks": ""
           }
          },
          "colorscale": {
           "diverging": [
            [
             0,
             "#8e0152"
            ],
            [
             0.1,
             "#c51b7d"
            ],
            [
             0.2,
             "#de77ae"
            ],
            [
             0.3,
             "#f1b6da"
            ],
            [
             0.4,
             "#fde0ef"
            ],
            [
             0.5,
             "#f7f7f7"
            ],
            [
             0.6,
             "#e6f5d0"
            ],
            [
             0.7,
             "#b8e186"
            ],
            [
             0.8,
             "#7fbc41"
            ],
            [
             0.9,
             "#4d9221"
            ],
            [
             1,
             "#276419"
            ]
           ],
           "sequential": [
            [
             0,
             "#0d0887"
            ],
            [
             0.1111111111111111,
             "#46039f"
            ],
            [
             0.2222222222222222,
             "#7201a8"
            ],
            [
             0.3333333333333333,
             "#9c179e"
            ],
            [
             0.4444444444444444,
             "#bd3786"
            ],
            [
             0.5555555555555556,
             "#d8576b"
            ],
            [
             0.6666666666666666,
             "#ed7953"
            ],
            [
             0.7777777777777778,
             "#fb9f3a"
            ],
            [
             0.8888888888888888,
             "#fdca26"
            ],
            [
             1,
             "#f0f921"
            ]
           ],
           "sequentialminus": [
            [
             0,
             "#0d0887"
            ],
            [
             0.1111111111111111,
             "#46039f"
            ],
            [
             0.2222222222222222,
             "#7201a8"
            ],
            [
             0.3333333333333333,
             "#9c179e"
            ],
            [
             0.4444444444444444,
             "#bd3786"
            ],
            [
             0.5555555555555556,
             "#d8576b"
            ],
            [
             0.6666666666666666,
             "#ed7953"
            ],
            [
             0.7777777777777778,
             "#fb9f3a"
            ],
            [
             0.8888888888888888,
             "#fdca26"
            ],
            [
             1,
             "#f0f921"
            ]
           ]
          },
          "colorway": [
           "#636efa",
           "#EF553B",
           "#00cc96",
           "#ab63fa",
           "#FFA15A",
           "#19d3f3",
           "#FF6692",
           "#B6E880",
           "#FF97FF",
           "#FECB52"
          ],
          "font": {
           "color": "#2a3f5f"
          },
          "geo": {
           "bgcolor": "white",
           "lakecolor": "white",
           "landcolor": "#E5ECF6",
           "showlakes": true,
           "showland": true,
           "subunitcolor": "white"
          },
          "hoverlabel": {
           "align": "left"
          },
          "hovermode": "closest",
          "mapbox": {
           "style": "light"
          },
          "paper_bgcolor": "white",
          "plot_bgcolor": "#E5ECF6",
          "polar": {
           "angularaxis": {
            "gridcolor": "white",
            "linecolor": "white",
            "ticks": ""
           },
           "bgcolor": "#E5ECF6",
           "radialaxis": {
            "gridcolor": "white",
            "linecolor": "white",
            "ticks": ""
           }
          },
          "scene": {
           "xaxis": {
            "backgroundcolor": "#E5ECF6",
            "gridcolor": "white",
            "gridwidth": 2,
            "linecolor": "white",
            "showbackground": true,
            "ticks": "",
            "zerolinecolor": "white"
           },
           "yaxis": {
            "backgroundcolor": "#E5ECF6",
            "gridcolor": "white",
            "gridwidth": 2,
            "linecolor": "white",
            "showbackground": true,
            "ticks": "",
            "zerolinecolor": "white"
           },
           "zaxis": {
            "backgroundcolor": "#E5ECF6",
            "gridcolor": "white",
            "gridwidth": 2,
            "linecolor": "white",
            "showbackground": true,
            "ticks": "",
            "zerolinecolor": "white"
           }
          },
          "shapedefaults": {
           "line": {
            "color": "#2a3f5f"
           }
          },
          "ternary": {
           "aaxis": {
            "gridcolor": "white",
            "linecolor": "white",
            "ticks": ""
           },
           "baxis": {
            "gridcolor": "white",
            "linecolor": "white",
            "ticks": ""
           },
           "bgcolor": "#E5ECF6",
           "caxis": {
            "gridcolor": "white",
            "linecolor": "white",
            "ticks": ""
           }
          },
          "title": {
           "x": 0.05
          },
          "xaxis": {
           "automargin": true,
           "gridcolor": "white",
           "linecolor": "white",
           "ticks": "",
           "title": {
            "standoff": 15
           },
           "zerolinecolor": "white",
           "zerolinewidth": 2
          },
          "yaxis": {
           "automargin": true,
           "gridcolor": "white",
           "linecolor": "white",
           "ticks": "",
           "title": {
            "standoff": 15
           },
           "zerolinecolor": "white",
           "zerolinewidth": 2
          }
         }
        },
        "title": {
         "text": "SimpleMLP training on MNIST"
        },
        "width": 700,
        "xaxis": {
         "anchor": "y",
         "autorange": true,
         "domain": [
          0,
          1
         ],
         "range": [
          0,
          281
         ],
         "title": {
          "text": "Num batches seen"
         },
         "type": "linear"
        },
        "yaxis": {
         "anchor": "x",
         "domain": [
          0,
          1
         ],
         "range": [
          0,
          2.4150830268859864
         ],
         "title": {
          "text": "Cross entropy loss"
         },
         "type": "linear"
        }
       }
      },
      "image/png": "[encoded data removed]",
      "text/html": [
       "<div>                            <div id=\"1e9beed1-6ebf-4521-98ed-a1eb94ab7bd2\" class=\"plotly-graph-div\" style=\"height:525px; width:700px;\"></div>            <script type=\"text/javascript\">                require([\"plotly\"], function(Plotly) {                    window.PLOTLYENV=window.PLOTLYENV || {};                                    if (document.getElementById(\"1e9beed1-6ebf-4521-98ed-a1eb94ab7bd2\")) {                    Plotly.newPlot(                        \"1e9beed1-6ebf-4521-98ed-a1eb94ab7bd2\",                        [{\"hovertemplate\":\"Num batches seen=%{x}\\u003cbr\\u003eCross entropy loss=%{y}\\u003cextra\\u003e\\u003c\\u002fextra\\u003e\",\"legendgroup\":\"\",\"line\":{\"color\":\"#636efa\",\"dash\":\"solid\"},\"marker\":{\"symbol\":\"circle\"},\"mode\":\"lines\",\"name\":\"\",\"orientation\":\"v\",\"showlegend\":false,\"x\":[0,1,2,3,4,5,6,7,8,9,10,11,12,13,14,15,16,17,18,19,20,21,22,23,24,25,26,27,28,29,30,31,32,33,34,35,36,37,38,39,40,41,42,43,44,45,46,47,48,49,50,51,52,53,54,55,56,57,58,59,60,61,62,63,64,65,66,67,68,69,70,71,72,73,74,75,76,77,78,79,80,81,82,83,84,85,86,87,88,89,90,91,92,93,94,95,96,97,98,99,100,101,102,103,104,105,106,107,108,109,110,111,112,113,114,115,116,117,118,119,120,121,122,123,124,125,126,127,128,129,130,131,132,133,134,135,136,137,138,139,140,141,142,143,144,145,146,147,148,149,150,151,152,153,154,155,156,157,158,159,160,161,162,163,164,165,166,167,168,169,170,171,172,173,174,175,176,177,178,179,180,181,182,183,184,185,186,187,188,189,190,191,192,193,194,195,196,197,198,199,200,201,202,203,204,205,206,207,208,209,210,211,212,213,214,215,216,217,218,219,220,221,222,223,224,225,226,227,228,229,230,231,232,233,234,235,236,237,238,239,240,241,242,243,244,245,246,247,248,249,250,251,252,253,254,255,256,257,258,259,260,261,262,263,264,265,266,267,268,269,270,271,272,273,274,275,276,277,278,279,280,281],\"xaxis\":\"x\",\"y\":[2.3150830268859863,2.1586124897003174,2.053394079208374,1.9672266244888306,1.8262585401535034,1.793580174446106,1.611608624458313,1.4868190288543701,1.5566235780715942,1.373016595840454,1.3178751468658447,1.2381465435028076,1.0709820985794067,1.0914888381958008,0.8494225740432739,1.0182723999023438,0.93961101770401,0.761029064655304,0.9297029972076416,0.7954700589179993,0.8947067260742188,0.7175912857055664,0.9943854808807373,0.8193609118461609,0.6670267581939697,0.559883713722229,0.6233106255531311,0.4103871285915375,0.5979475378990173,0.537551999092102,0.6886678338050842,0.6416114568710327,0.5021601915359497,0.7086927890777588,0.5121199488639832,0.5525045990943909,0.5252710580825806,0.5368770360946655,0.5302258133888245,0.5082839727401733,0.5610030293464661,0.61819988489151,0.6200894713401794,0.6910662055015564,0.5729553699493408,0.39775988459587097,0.40134397149086,0.5495495200157166,0.4200478792190552,0.36766517162323,0.6633040904998779,0.40066322684288025,0.46547430753707886,0.4043504595756531,0.47758758068084717,0.4476794898509979,0.5457769632339478,0.34422165155410767,0.3612259030342102,0.47404608130455017,0.3788374066352844,0.4540107846260071,0.5135058760643005,0.29477787017822266,0.4104539453983307,0.45676031708717346,0.5703814029693604,0.599147617816925,0.355337530374527,0.32572826743125916,0.40070590376853943,0.42969051003456116,0.5000534653663635,0.2860867977142334,0.3963038921356201,0.4132629632949829,0.36339500546455383,0.2621538043022156,0.2861073613166809,0.4753683805465698,0.45958516001701355,0.4565283954143524,0.5245352983474731,0.46470972895622253,0.3978040814399719,0.525227963924408,0.47098466753959656,0.5921087861061096,0.5602784752845764,0.4605015516281128,0.590128481388092,0.2661524713039398,0.420492947101593,0.46135413646698,0.3502929210662842,0.4866673946380615,0.44998759031295776,0.35936373472213745,0.27142786979675293,0.29091203212738037,0.4122371971607208,0.3084719181060791,0.25458645820617676,0.19761274755001068,0.2805992364883423,0.2974996268749237,0.35746830701828003,0.3964996039867401,0.29772719740867615,0.2677929103374481,0.3582870662212372,0.5314988493919373,0.2978810966014862,0.2833930253982544,0.4671565890312195,0.3621937930583954,0.5540755391120911,0.41266071796417236,0.28197237849235535,0.2316747009754181,0.5040181875228882,0.462803453207016,0.44805365800857544,0.2767862379550934,0.5240942239761353,0.3748832046985626,0.45081156492233276,0.3318488597869873,0.42237532138824463,0.414538711309433,0.3729275166988373,0.3245324194431305,0.5419614315032959,0.3216259777545929,0.25069940090179443,0.22943104803562164,0.38158077001571655,0.19502945244312286,0.29708269238471985,0.4753142297267914,0.29641494154930115,0.3064561188220978,0.22561492025852203,0.23697657883167267,0.2824375033378601,0.14492303133010864,0.34855762124061584,0.30003318190574646,0.4500288963317871,0.4873797595500946,0.44796597957611084,0.46970924735069275,0.34897375106811523,0.23389296233654022,0.3318031430244446,0.3469927906990051,0.3833753764629364,0.2928670346736908,0.46668311953544617,0.33224135637283325,0.27782824635505676,0.3250603675842285,0.30172041058540344,0.32651644945144653,0.5330692529678345,0.10089540481567383,0.347856342792511,0.30982786417007446,0.40509432554244995,0.29709699749946594,0.3959517776966095,0.17119170725345612,0.5446330904960632,0.3879258334636688,0.4625050723552704,0.2550103962421417,0.3602573275566101,0.28351029753685,0.28424930572509766,0.20302723348140717,0.3258051872253418,0.30882272124290466,0.18484805524349213,0.16353268921375275,0.49385514855384827,0.44190657138824463,0.2604309320449829,0.5648446679115295,0.22968238592147827,0.2247522622346878,0.2142079472541809,0.17885670065879822,0.15638767182826996,0.2550218403339386,0.47874367237091064,0.289669007062912,0.30599164962768555,0.2010434865951538,0.19154085218906403,0.25638946890830994,0.2933148443698883,0.2996363043785095,0.31314587593078613,0.19335760176181793,0.3006899952888489,0.3995223045349121,0.21163694560527802,0.31910616159439087,0.24963685870170593,0.3161502778530121,0.1566757708787918,0.26117008924484253,0.3255476951599121,0.400308758020401,0.2413627952337265,0.2232666164636612,0.22433680295944214,0.17682215571403503,0.27705276012420654,0.3403301239013672,0.22508470714092255,0.29528677463531494,0.23719477653503418,0.5622870326042175,0.4424537122249603,0.345162957906723,0.27207228541374207,0.2883746325969696,0.2082698941230774,0.2896329164505005,0.335968554019928,0.5521500706672668,0.24432124197483063,0.19861748814582825,0.35894644260406494,0.29515132308006287,0.2622108459472656,0.3580331802368164,0.23115843534469604,0.1296454519033432,0.47604355216026306,0.33274057507514954,0.29162633419036865,0.15440373122692108,0.2470102608203888,0.2544911801815033,0.14084184169769287,0.15669472515583038,0.23879553377628326,0.3499528467655182,0.25269415974617004,0.370181143283844,0.37665486335754395,0.3062695860862732,0.2193911075592041,0.3715534806251526,0.24547910690307617,0.28435221314430237,0.17798060178756714,0.1947402060031891,0.20956678688526154,0.22570988535881042,0.16750217974185944,0.32088780403137207,0.25132137537002563,0.15525349974632263,0.571132242679596,0.2389991730451584,0.4043320417404175,0.30196112394332886,0.2753777503967285,0.284770131111145,0.21152885258197784,0.23108702898025513,0.16662850975990295,0.30902987718582153,0.25001171231269836,0.27299121022224426,0.3514595627784729,0.16627442836761475,0.33159124851226807,0.17927341163158417],\"yaxis\":\"y\",\"type\":\"scatter\"}],                        {\"template\":{\"data\":{\"histogram2dcontour\":[{\"type\":\"histogram2dcontour\",\"colorbar\":{\"outlinewidth\":0,\"ticks\":\"\"},\"colorscale\":[[0.0,\"#0d0887\"],[0.1111111111111111,\"#46039f\"],[0.2222222222222222,\"#7201a8\"],[0.3333333333333333,\"#9c179e\"],[0.4444444444444444,\"#bd3786\"],[0.5555555555555556,\"#d8576b\"],[0.6666666666666666,\"#ed7953\"],[0.7777777777777778,\"#fb9f3a\"],[0.8888888888888888,\"#fdca26\"],[1.0,\"#f0f921\"]]}],\"choropleth\":[{\"type\":\"choropleth\",\"colorbar\":{\"outlinewidth\":0,\"ticks\":\"\"}}],\"histogram2d\":[{\"type\":\"histogram2d\",\"colorbar\":{\"outlinewidth\":0,\"ticks\":\"\"},\"colorscale\":[[0.0,\"#0d0887\"],[0.1111111111111111,\"#46039f\"],[0.2222222222222222,\"#7201a8\"],[0.3333333333333333,\"#9c179e\"],[0.4444444444444444,\"#bd3786\"],[0.5555555555555556,\"#d8576b\"],[0.6666666666666666,\"#ed7953\"],[0.7777777777777778,\"#fb9f3a\"],[0.8888888888888888,\"#fdca26\"],[1.0,\"#f0f921\"]]}],\"heatmap\":[{\"type\":\"heatmap\",\"colorbar\":{\"outlinewidth\":0,\"ticks\":\"\"},\"colorscale\":[[0.0,\"#0d0887\"],[0.1111111111111111,\"#46039f\"],[0.2222222222222222,\"#7201a8\"],[0.3333333333333333,\"#9c179e\"],[0.4444444444444444,\"#bd3786\"],[0.5555555555555556,\"#d8576b\"],[0.6666666666666666,\"#ed7953\"],[0.7777777777777778,\"#fb9f3a\"],[0.8888888888888888,\"#fdca26\"],[1.0,\"#f0f921\"]]}],\"heatmapgl\":[{\"type\":\"heatmapgl\",\"colorbar\":{\"outlinewidth\":0,\"ticks\":\"\"},\"colorscale\":[[0.0,\"#0d0887\"],[0.1111111111111111,\"#46039f\"],[0.2222222222222222,\"#7201a8\"],[0.3333333333333333,\"#9c179e\"],[0.4444444444444444,\"#bd3786\"],[0.5555555555555556,\"#d8576b\"],[0.6666666666666666,\"#ed7953\"],[0.7777777777777778,\"#fb9f3a\"],[0.8888888888888888,\"#fdca26\"],[1.0,\"#f0f921\"]]}],\"contourcarpet\":[{\"type\":\"contourcarpet\",\"colorbar\":{\"outlinewidth\":0,\"ticks\":\"\"}}],\"contour\":[{\"type\":\"contour\",\"colorbar\":{\"outlinewidth\":0,\"ticks\":\"\"},\"colorscale\":[[0.0,\"#0d0887\"],[0.1111111111111111,\"#46039f\"],[0.2222222222222222,\"#7201a8\"],[0.3333333333333333,\"#9c179e\"],[0.4444444444444444,\"#bd3786\"],[0.5555555555555556,\"#d8576b\"],[0.6666666666666666,\"#ed7953\"],[0.7777777777777778,\"#fb9f3a\"],[0.8888888888888888,\"#fdca26\"],[1.0,\"#f0f921\"]]}],\"surface\":[{\"type\":\"surface\",\"colorbar\":{\"outlinewidth\":0,\"ticks\":\"\"},\"colorscale\":[[0.0,\"#0d0887\"],[0.1111111111111111,\"#46039f\"],[0.2222222222222222,\"#7201a8\"],[0.3333333333333333,\"#9c179e\"],[0.4444444444444444,\"#bd3786\"],[0.5555555555555556,\"#d8576b\"],[0.6666666666666666,\"#ed7953\"],[0.7777777777777778,\"#fb9f3a\"],[0.8888888888888888,\"#fdca26\"],[1.0,\"#f0f921\"]]}],\"mesh3d\":[{\"type\":\"mesh3d\",\"colorbar\":{\"outlinewidth\":0,\"ticks\":\"\"}}],\"scatter\":[{\"fillpattern\":{\"fillmode\":\"overlay\",\"size\":10,\"solidity\":0.2},\"type\":\"scatter\"}],\"parcoords\":[{\"type\":\"parcoords\",\"line\":{\"colorbar\":{\"outlinewidth\":0,\"ticks\":\"\"}}}],\"scatterpolargl\":[{\"type\":\"scatterpolargl\",\"marker\":{\"colorbar\":{\"outlinewidth\":0,\"ticks\":\"\"}}}],\"bar\":[{\"error_x\":{\"color\":\"#2a3f5f\"},\"error_y\":{\"color\":\"#2a3f5f\"},\"marker\":{\"line\":{\"color\":\"#E5ECF6\",\"width\":0.5},\"pattern\":{\"fillmode\":\"overlay\",\"size\":10,\"solidity\":0.2}},\"type\":\"bar\"}],\"scattergeo\":[{\"type\":\"scattergeo\",\"marker\":{\"colorbar\":{\"outlinewidth\":0,\"ticks\":\"\"}}}],\"scatterpolar\":[{\"type\":\"scatterpolar\",\"marker\":{\"colorbar\":{\"outlinewidth\":0,\"ticks\":\"\"}}}],\"histogram\":[{\"marker\":{\"pattern\":{\"fillmode\":\"overlay\",\"size\":10,\"solidity\":0.2}},\"type\":\"histogram\"}],\"scattergl\":[{\"type\":\"scattergl\",\"marker\":{\"colorbar\":{\"outlinewidth\":0,\"ticks\":\"\"}}}],\"scatter3d\":[{\"type\":\"scatter3d\",\"line\":{\"colorbar\":{\"outlinewidth\":0,\"ticks\":\"\"}},\"marker\":{\"colorbar\":{\"outlinewidth\":0,\"ticks\":\"\"}}}],\"scattermapbox\":[{\"type\":\"scattermapbox\",\"marker\":{\"colorbar\":{\"outlinewidth\":0,\"ticks\":\"\"}}}],\"scatterternary\":[{\"type\":\"scatterternary\",\"marker\":{\"colorbar\":{\"outlinewidth\":0,\"ticks\":\"\"}}}],\"scattercarpet\":[{\"type\":\"scattercarpet\",\"marker\":{\"colorbar\":{\"outlinewidth\":0,\"ticks\":\"\"}}}],\"carpet\":[{\"aaxis\":{\"endlinecolor\":\"#2a3f5f\",\"gridcolor\":\"white\",\"linecolor\":\"white\",\"minorgridcolor\":\"white\",\"startlinecolor\":\"#2a3f5f\"},\"baxis\":{\"endlinecolor\":\"#2a3f5f\",\"gridcolor\":\"white\",\"linecolor\":\"white\",\"minorgridcolor\":\"white\",\"startlinecolor\":\"#2a3f5f\"},\"type\":\"carpet\"}],\"table\":[{\"cells\":{\"fill\":{\"color\":\"#EBF0F8\"},\"line\":{\"color\":\"white\"}},\"header\":{\"fill\":{\"color\":\"#C8D4E3\"},\"line\":{\"color\":\"white\"}},\"type\":\"table\"}],\"barpolar\":[{\"marker\":{\"line\":{\"color\":\"#E5ECF6\",\"width\":0.5},\"pattern\":{\"fillmode\":\"overlay\",\"size\":10,\"solidity\":0.2}},\"type\":\"barpolar\"}],\"pie\":[{\"automargin\":true,\"type\":\"pie\"}]},\"layout\":{\"autotypenumbers\":\"strict\",\"colorway\":[\"#636efa\",\"#EF553B\",\"#00cc96\",\"#ab63fa\",\"#FFA15A\",\"#19d3f3\",\"#FF6692\",\"#B6E880\",\"#FF97FF\",\"#FECB52\"],\"font\":{\"color\":\"#2a3f5f\"},\"hovermode\":\"closest\",\"hoverlabel\":{\"align\":\"left\"},\"paper_bgcolor\":\"white\",\"plot_bgcolor\":\"#E5ECF6\",\"polar\":{\"bgcolor\":\"#E5ECF6\",\"angularaxis\":{\"gridcolor\":\"white\",\"linecolor\":\"white\",\"ticks\":\"\"},\"radialaxis\":{\"gridcolor\":\"white\",\"linecolor\":\"white\",\"ticks\":\"\"}},\"ternary\":{\"bgcolor\":\"#E5ECF6\",\"aaxis\":{\"gridcolor\":\"white\",\"linecolor\":\"white\",\"ticks\":\"\"},\"baxis\":{\"gridcolor\":\"white\",\"linecolor\":\"white\",\"ticks\":\"\"},\"caxis\":{\"gridcolor\":\"white\",\"linecolor\":\"white\",\"ticks\":\"\"}},\"coloraxis\":{\"colorbar\":{\"outlinewidth\":0,\"ticks\":\"\"}},\"colorscale\":{\"sequential\":[[0.0,\"#0d0887\"],[0.1111111111111111,\"#46039f\"],[0.2222222222222222,\"#7201a8\"],[0.3333333333333333,\"#9c179e\"],[0.4444444444444444,\"#bd3786\"],[0.5555555555555556,\"#d8576b\"],[0.6666666666666666,\"#ed7953\"],[0.7777777777777778,\"#fb9f3a\"],[0.8888888888888888,\"#fdca26\"],[1.0,\"#f0f921\"]],\"sequentialminus\":[[0.0,\"#0d0887\"],[0.1111111111111111,\"#46039f\"],[0.2222222222222222,\"#7201a8\"],[0.3333333333333333,\"#9c179e\"],[0.4444444444444444,\"#bd3786\"],[0.5555555555555556,\"#d8576b\"],[0.6666666666666666,\"#ed7953\"],[0.7777777777777778,\"#fb9f3a\"],[0.8888888888888888,\"#fdca26\"],[1.0,\"#f0f921\"]],\"diverging\":[[0,\"#8e0152\"],[0.1,\"#c51b7d\"],[0.2,\"#de77ae\"],[0.3,\"#f1b6da\"],[0.4,\"#fde0ef\"],[0.5,\"#f7f7f7\"],[0.6,\"#e6f5d0\"],[0.7,\"#b8e186\"],[0.8,\"#7fbc41\"],[0.9,\"#4d9221\"],[1,\"#276419\"]]},\"xaxis\":{\"gridcolor\":\"white\",\"linecolor\":\"white\",\"ticks\":\"\",\"title\":{\"standoff\":15},\"zerolinecolor\":\"white\",\"automargin\":true,\"zerolinewidth\":2},\"yaxis\":{\"gridcolor\":\"white\",\"linecolor\":\"white\",\"ticks\":\"\",\"title\":{\"standoff\":15},\"zerolinecolor\":\"white\",\"automargin\":true,\"zerolinewidth\":2},\"scene\":{\"xaxis\":{\"backgroundcolor\":\"#E5ECF6\",\"gridcolor\":\"white\",\"linecolor\":\"white\",\"showbackground\":true,\"ticks\":\"\",\"zerolinecolor\":\"white\",\"gridwidth\":2},\"yaxis\":{\"backgroundcolor\":\"#E5ECF6\",\"gridcolor\":\"white\",\"linecolor\":\"white\",\"showbackground\":true,\"ticks\":\"\",\"zerolinecolor\":\"white\",\"gridwidth\":2},\"zaxis\":{\"backgroundcolor\":\"#E5ECF6\",\"gridcolor\":\"white\",\"linecolor\":\"white\",\"showbackground\":true,\"ticks\":\"\",\"zerolinecolor\":\"white\",\"gridwidth\":2}},\"shapedefaults\":{\"line\":{\"color\":\"#2a3f5f\"}},\"annotationdefaults\":{\"arrowcolor\":\"#2a3f5f\",\"arrowhead\":0,\"arrowwidth\":1},\"geo\":{\"bgcolor\":\"white\",\"landcolor\":\"#E5ECF6\",\"subunitcolor\":\"white\",\"showland\":true,\"showlakes\":true,\"lakecolor\":\"white\"},\"title\":{\"x\":0.05},\"mapbox\":{\"style\":\"light\"}}},\"xaxis\":{\"anchor\":\"y\",\"domain\":[0.0,1.0],\"title\":{\"text\":\"Num batches seen\"}},\"yaxis\":{\"anchor\":\"x\",\"domain\":[0.0,1.0],\"title\":{\"text\":\"Cross entropy loss\"},\"range\":[0,2.4150830268859864]},\"legend\":{\"tracegroupgap\":0},\"title\":{\"text\":\"SimpleMLP training on MNIST\"},\"width\":700,\"hovermode\":\"x unified\"},                        {\"responsive\": true}                    ).then(function(){\n",
       "                            \n",
       "var gd = document.getElementById('1e9beed1-6ebf-4521-98ed-a1eb94ab7bd2');\n",
       "var x = new MutationObserver(function (mutations, observer) {{\n",
       "        var display = window.getComputedStyle(gd).display;\n",
       "        if (!display || display === 'none') {{\n",
       "            console.log([gd, 'removed!']);\n",
       "            Plotly.purge(gd);\n",
       "            observer.disconnect();\n",
       "        }}\n",
       "}});\n",
       "\n",
       "// Listen for the removal of the full notebook cells\n",
       "var notebookContainer = gd.closest('#notebook-container');\n",
       "if (notebookContainer) {{\n",
       "    x.observe(notebookContainer, {childList: true});\n",
       "}}\n",
       "\n",
       "// Listen for the clearing of the current output cell\n",
       "var outputEl = gd.closest('.output');\n",
       "if (outputEl) {{\n",
       "    x.observe(outputEl, {childList: true});\n",
       "}}\n",
       "\n",
       "                        })                };                });            </script>        </div>"
      ]
     },
     "metadata": {},
     "output_type": "display_data"
    }
   ],
   "source": [
    "@dataclass\n",
    "class SimpleMLPTrainingArgs():\n",
    "    '''\n",
    "    Defining this class implicitly creates an __init__ method, which sets arguments as\n",
    "    given below, e.g. self.batch_size = 64. Any of these arguments can also be overridden\n",
    "    when you create an instance, e.g. args = SimpleMLPTrainingArgs(batch_size=128).\n",
    "    '''\n",
    "    batch_size: int = 64\n",
    "    epochs: int = 3\n",
    "    learning_rate: float = 1e-3\n",
    "    subset: int = 10\n",
    "\n",
    "\n",
    "def train(args: SimpleMLPTrainingArgs):\n",
    "    '''\n",
    "    Trains the model, using training parameters from the `args` object.\n",
    "    '''\n",
    "    model = SimpleMLP().to(device)\n",
    "\n",
    "    mnist_trainset, _ = get_mnist(subset=args.subset)\n",
    "    mnist_trainloader = DataLoader(mnist_trainset, batch_size=args.batch_size, shuffle=True)\n",
    "\n",
    "    optimizer = t.optim.Adam(model.parameters(), lr=args.learning_rate)\n",
    "    loss_list = []\n",
    "\n",
    "    for epoch in tqdm(range(args.epochs)):\n",
    "        for imgs, labels in mnist_trainloader:\n",
    "            imgs = imgs.to(device)\n",
    "            labels = labels.to(device)\n",
    "            logits = model(imgs)\n",
    "            loss = F.cross_entropy(logits, labels)\n",
    "            loss.backward()\n",
    "            optimizer.step()\n",
    "            optimizer.zero_grad()\n",
    "            loss_list.append(loss.item())\n",
    "\n",
    "    line(\n",
    "        loss_list,\n",
    "        yaxis_range=[0, max(loss_list) + 0.1],\n",
    "        labels={\"x\": \"Num batches seen\", \"y\": \"Cross entropy loss\"},\n",
    "        title=\"SimpleMLP training on MNIST\",\n",
    "        width=700\n",
    "    )\n",
    "\n",
    "\n",
    "args = SimpleMLPTrainingArgs()\n",
    "train(args)"
   ]
  },
  {
   "cell_type": "markdown",
   "metadata": {
    "id": "gQw6lskQ-rCj"
   },
   "source": [
    "### Exercise - add a validation loop\n",
    "\n",
    "```yaml\n",
    "Difficulty: 🔴🔴🔴⚪⚪\n",
    "Importance: 🔵🔵🔵🔵🔵\n",
    "\n",
    "You should spend up to ~20 minutes on this exercise.\n",
    "\n",
    "It is very important that you understand training loops and how they work, because we'll be doing a lot of model training in this way.\n",
    "```\n",
    "\n",
    "Edit the `train` function above to include a validation loop. Train your model, making sure you measure the accuracy at the end of each epoch.\n",
    "\n",
    "Here are a few tips to help you:\n",
    "\n",
    "* During the validation step, you should be measuring **accuracy**, which is defined as **the fraction of correctly classified images**.\n",
    "    * Note that (unlike loss) accuracy should only be logged after you've gone through the whole validation set. This is because your model doesn't update between computing different accuracies, so it doesn't make sense to log all of them separately.\n",
    "* You don't need to convert to probabilities before calculating accuracy (or even to logprobs), because softmax is an order-preserving function.\n",
    "* You can wrap your code in `with t.inference_mode():` to make sure that your model is in inference mode during validation (i.e. gradients don't propagate).\n",
    "    * Note you could also use the decorator `@t.inference_mode()` to do this, if your training loop was a function.\n",
    "* The `get_mnist` function returns both a trainset and a testset. In the `train` function above we only used the first one, but you should use both.\n",
    "* You'll need a dataloader for the testset, just like we did for the trainset. It doesn't matter whether you shuffle the testset or not, because we're not updating our model parameters during validation."
   ]
  },
  {
   "cell_type": "code",
   "execution_count": 41,
   "metadata": {
    "id": "kgsv8rPG-sLS"
   },
   "outputs": [],
   "source": [
    "def train_val(args: SimpleMLPTrainingArgs):\n",
    "    '''\n",
    "    Trains the model, using training parameters from the `args` object.\n",
    "    '''\n",
    "    model = SimpleMLP().to(device)\n",
    "\n",
    "    mnist_trainset, mnist_valset = get_mnist(subset=args.subset)\n",
    "    mnist_trainloader = DataLoader(mnist_trainset, batch_size=args.batch_size, shuffle=True)\n",
    "    mnist_valloader = DataLoader(mnist_valset, batch_size=args.batch_size, shuffle=True)\n",
    "\n",
    "    optimizer = t.optim.Adam(model.parameters(), lr=args.learning_rate)\n",
    "    loss_list = []\n",
    "    accuracies_list = []\n",
    "\n",
    "    for epoch in tqdm(range(args.epochs)):\n",
    "        for imgs, labels in mnist_trainloader:\n",
    "            imgs = imgs.to(device)\n",
    "            labels = labels.to(device)\n",
    "            logits = model(imgs)\n",
    "            loss = F.cross_entropy(logits, labels)\n",
    "            loss.backward()\n",
    "            optimizer.step()\n",
    "            optimizer.zero_grad()\n",
    "            loss_list.append(loss.item())\n",
    "\n",
    "        with t.inference_mode():\n",
    "            correct_n = 0\n",
    "            for imgs, labels in mnist_valloader:\n",
    "                imgs = imgs.to(device)\n",
    "                labels = labels.to(device)\n",
    "                logits = model(imgs)\n",
    "                correct_n += (t.argmax(logits, dim=1) == labels).sum()\n",
    "            accuracies_list.append((correct_n / len(mnist_valset)).item())\n",
    "            \n",
    "    print(f\"The achieved accuracy is: {correct_n / len(mnist_valset)}, where N of val set is: {len(mnist_valset)}\")\n",
    "\n",
    "    line(\n",
    "        loss_list,\n",
    "        yaxis_range=[0, max(loss_list) + 0.1],\n",
    "        labels={\"x\": \"Num batches seen\", \"y\": \"Cross entropy loss\"},\n",
    "        title=\"SimpleMLP training on MNIST\",\n",
    "        width=700\n",
    "    )\n",
    "\n",
    "    line(\n",
    "        accuracies_list,\n",
    "        yaxis_range=[min(accuracies_list)-0.1, max(accuracies_list) + 0.1],\n",
    "        labels={\"x\": \"Num epoch seen\", \"y\": \"Accuracy\"},\n",
    "        title=\"SimpleMLP training on MNIST\",\n",
    "        width=700\n",
    "    )"
   ]
  },
  {
   "cell_type": "code",
   "execution_count": 43,
   "metadata": {},
   "outputs": [
    {
     "data": {
      "application/vnd.jupyter.widget-view+json": {
       "model_id": "bb4c388f57df43ef83325fb83f15c1ee",
       "version_major": 2,
       "version_minor": 0
      },
      "text/plain": [
       "  0%|          | 0/3 [00:00<?, ?it/s]"
      ]
     },
     "metadata": {},
     "output_type": "display_data"
    },
    {
     "name": "stdout",
     "output_type": "stream",
     "text": [
      "The achieved accuracy is: 0.9735999703407288, where N of val set is: 10000\n"
     ]
    },
    {
     "data": {
      "application/vnd.plotly.v1+json": {
       "config": {
        "plotlyServerURL": "https://plot.ly"
       },
       "data": [
        {
         "hovertemplate": "Num batches seen=%{x}<br>Cross entropy loss=%{y}<extra></extra>",
         "legendgroup": "",
         "line": {
          "color": "#636efa",
          "dash": "solid"
         },
         "marker": {
          "symbol": "circle"
         },
         "mode": "lines",
         "name": "",
         "showlegend": false,
         "type": "scattergl",
         "x": [
          0,
          1,
          2,
          3,
          4,
          5,
          6,
          7,
          8,
          9,
          10,
          11,
          12,
          13,
          14,
          15,
          16,
          17,
          18,
          19,
          20,
          21,
          22,
          23,
          24,
          25,
          26,
          27,
          28,
          29,
          30,
          31,
          32,
          33,
          34,
          35,
          36,
          37,
          38,
          39,
          40,
          41,
          42,
          43,
          44,
          45,
          46,
          47,
          48,
          49,
          50,
          51,
          52,
          53,
          54,
          55,
          56,
          57,
          58,
          59,
          60,
          61,
          62,
          63,
          64,
          65,
          66,
          67,
          68,
          69,
          70,
          71,
          72,
          73,
          74,
          75,
          76,
          77,
          78,
          79,
          80,
          81,
          82,
          83,
          84,
          85,
          86,
          87,
          88,
          89,
          90,
          91,
          92,
          93,
          94,
          95,
          96,
          97,
          98,
          99,
          100,
          101,
          102,
          103,
          104,
          105,
          106,
          107,
          108,
          109,
          110,
          111,
          112,
          113,
          114,
          115,
          116,
          117,
          118,
          119,
          120,
          121,
          122,
          123,
          124,
          125,
          126,
          127,
          128,
          129,
          130,
          131,
          132,
          133,
          134,
          135,
          136,
          137,
          138,
          139,
          140,
          141,
          142,
          143,
          144,
          145,
          146,
          147,
          148,
          149,
          150,
          151,
          152,
          153,
          154,
          155,
          156,
          157,
          158,
          159,
          160,
          161,
          162,
          163,
          164,
          165,
          166,
          167,
          168,
          169,
          170,
          171,
          172,
          173,
          174,
          175,
          176,
          177,
          178,
          179,
          180,
          181,
          182,
          183,
          184,
          185,
          186,
          187,
          188,
          189,
          190,
          191,
          192,
          193,
          194,
          195,
          196,
          197,
          198,
          199,
          200,
          201,
          202,
          203,
          204,
          205,
          206,
          207,
          208,
          209,
          210,
          211,
          212,
          213,
          214,
          215,
          216,
          217,
          218,
          219,
          220,
          221,
          222,
          223,
          224,
          225,
          226,
          227,
          228,
          229,
          230,
          231,
          232,
          233,
          234,
          235,
          236,
          237,
          238,
          239,
          240,
          241,
          242,
          243,
          244,
          245,
          246,
          247,
          248,
          249,
          250,
          251,
          252,
          253,
          254,
          255,
          256,
          257,
          258,
          259,
          260,
          261,
          262,
          263,
          264,
          265,
          266,
          267,
          268,
          269,
          270,
          271,
          272,
          273,
          274,
          275,
          276,
          277,
          278,
          279,
          280,
          281,
          282,
          283,
          284,
          285,
          286,
          287,
          288,
          289,
          290,
          291,
          292,
          293,
          294,
          295,
          296,
          297,
          298,
          299,
          300,
          301,
          302,
          303,
          304,
          305,
          306,
          307,
          308,
          309,
          310,
          311,
          312,
          313,
          314,
          315,
          316,
          317,
          318,
          319,
          320,
          321,
          322,
          323,
          324,
          325,
          326,
          327,
          328,
          329,
          330,
          331,
          332,
          333,
          334,
          335,
          336,
          337,
          338,
          339,
          340,
          341,
          342,
          343,
          344,
          345,
          346,
          347,
          348,
          349,
          350,
          351,
          352,
          353,
          354,
          355,
          356,
          357,
          358,
          359,
          360,
          361,
          362,
          363,
          364,
          365,
          366,
          367,
          368,
          369,
          370,
          371,
          372,
          373,
          374,
          375,
          376,
          377,
          378,
          379,
          380,
          381,
          382,
          383,
          384,
          385,
          386,
          387,
          388,
          389,
          390,
          391,
          392,
          393,
          394,
          395,
          396,
          397,
          398,
          399,
          400,
          401,
          402,
          403,
          404,
          405,
          406,
          407,
          408,
          409,
          410,
          411,
          412,
          413,
          414,
          415,
          416,
          417,
          418,
          419,
          420,
          421,
          422,
          423,
          424,
          425,
          426,
          427,
          428,
          429,
          430,
          431,
          432,
          433,
          434,
          435,
          436,
          437,
          438,
          439,
          440,
          441,
          442,
          443,
          444,
          445,
          446,
          447,
          448,
          449,
          450,
          451,
          452,
          453,
          454,
          455,
          456,
          457,
          458,
          459,
          460,
          461,
          462,
          463,
          464,
          465,
          466,
          467,
          468,
          469,
          470,
          471,
          472,
          473,
          474,
          475,
          476,
          477,
          478,
          479,
          480,
          481,
          482,
          483,
          484,
          485,
          486,
          487,
          488,
          489,
          490,
          491,
          492,
          493,
          494,
          495,
          496,
          497,
          498,
          499,
          500,
          501,
          502,
          503,
          504,
          505,
          506,
          507,
          508,
          509,
          510,
          511,
          512,
          513,
          514,
          515,
          516,
          517,
          518,
          519,
          520,
          521,
          522,
          523,
          524,
          525,
          526,
          527,
          528,
          529,
          530,
          531,
          532,
          533,
          534,
          535,
          536,
          537,
          538,
          539,
          540,
          541,
          542,
          543,
          544,
          545,
          546,
          547,
          548,
          549,
          550,
          551,
          552,
          553,
          554,
          555,
          556,
          557,
          558,
          559,
          560,
          561,
          562,
          563,
          564,
          565,
          566,
          567,
          568,
          569,
          570,
          571,
          572,
          573,
          574,
          575,
          576,
          577,
          578,
          579,
          580,
          581,
          582,
          583,
          584,
          585,
          586,
          587,
          588,
          589,
          590,
          591,
          592,
          593,
          594,
          595,
          596,
          597,
          598,
          599,
          600,
          601,
          602,
          603,
          604,
          605,
          606,
          607,
          608,
          609,
          610,
          611,
          612,
          613,
          614,
          615,
          616,
          617,
          618,
          619,
          620,
          621,
          622,
          623,
          624,
          625,
          626,
          627,
          628,
          629,
          630,
          631,
          632,
          633,
          634,
          635,
          636,
          637,
          638,
          639,
          640,
          641,
          642,
          643,
          644,
          645,
          646,
          647,
          648,
          649,
          650,
          651,
          652,
          653,
          654,
          655,
          656,
          657,
          658,
          659,
          660,
          661,
          662,
          663,
          664,
          665,
          666,
          667,
          668,
          669,
          670,
          671,
          672,
          673,
          674,
          675,
          676,
          677,
          678,
          679,
          680,
          681,
          682,
          683,
          684,
          685,
          686,
          687,
          688,
          689,
          690,
          691,
          692,
          693,
          694,
          695,
          696,
          697,
          698,
          699,
          700,
          701,
          702,
          703,
          704,
          705,
          706,
          707,
          708,
          709,
          710,
          711,
          712,
          713,
          714,
          715,
          716,
          717,
          718,
          719,
          720,
          721,
          722,
          723,
          724,
          725,
          726,
          727,
          728,
          729,
          730,
          731,
          732,
          733,
          734,
          735,
          736,
          737,
          738,
          739,
          740,
          741,
          742,
          743,
          744,
          745,
          746,
          747,
          748,
          749,
          750,
          751,
          752,
          753,
          754,
          755,
          756,
          757,
          758,
          759,
          760,
          761,
          762,
          763,
          764,
          765,
          766,
          767,
          768,
          769,
          770,
          771,
          772,
          773,
          774,
          775,
          776,
          777,
          778,
          779,
          780,
          781,
          782,
          783,
          784,
          785,
          786,
          787,
          788,
          789,
          790,
          791,
          792,
          793,
          794,
          795,
          796,
          797,
          798,
          799,
          800,
          801,
          802,
          803,
          804,
          805,
          806,
          807,
          808,
          809,
          810,
          811,
          812,
          813,
          814,
          815,
          816,
          817,
          818,
          819,
          820,
          821,
          822,
          823,
          824,
          825,
          826,
          827,
          828,
          829,
          830,
          831,
          832,
          833,
          834,
          835,
          836,
          837,
          838,
          839,
          840,
          841,
          842,
          843,
          844,
          845,
          846,
          847,
          848,
          849,
          850,
          851,
          852,
          853,
          854,
          855,
          856,
          857,
          858,
          859,
          860,
          861,
          862,
          863,
          864,
          865,
          866,
          867,
          868,
          869,
          870,
          871,
          872,
          873,
          874,
          875,
          876,
          877,
          878,
          879,
          880,
          881,
          882,
          883,
          884,
          885,
          886,
          887,
          888,
          889,
          890,
          891,
          892,
          893,
          894,
          895,
          896,
          897,
          898,
          899,
          900,
          901,
          902,
          903,
          904,
          905,
          906,
          907,
          908,
          909,
          910,
          911,
          912,
          913,
          914,
          915,
          916,
          917,
          918,
          919,
          920,
          921,
          922,
          923,
          924,
          925,
          926,
          927,
          928,
          929,
          930,
          931,
          932,
          933,
          934,
          935,
          936,
          937,
          938,
          939,
          940,
          941,
          942,
          943,
          944,
          945,
          946,
          947,
          948,
          949,
          950,
          951,
          952,
          953,
          954,
          955,
          956,
          957,
          958,
          959,
          960,
          961,
          962,
          963,
          964,
          965,
          966,
          967,
          968,
          969,
          970,
          971,
          972,
          973,
          974,
          975,
          976,
          977,
          978,
          979,
          980,
          981,
          982,
          983,
          984,
          985,
          986,
          987,
          988,
          989,
          990,
          991,
          992,
          993,
          994,
          995,
          996,
          997,
          998,
          999,
          1000,
          1001,
          1002,
          1003,
          1004,
          1005,
          1006,
          1007,
          1008,
          1009,
          1010,
          1011,
          1012,
          1013,
          1014,
          1015,
          1016,
          1017,
          1018,
          1019,
          1020,
          1021,
          1022,
          1023,
          1024,
          1025,
          1026,
          1027,
          1028,
          1029,
          1030,
          1031,
          1032,
          1033,
          1034,
          1035,
          1036,
          1037,
          1038,
          1039,
          1040,
          1041,
          1042,
          1043,
          1044,
          1045,
          1046,
          1047,
          1048,
          1049,
          1050,
          1051,
          1052,
          1053,
          1054,
          1055,
          1056,
          1057,
          1058,
          1059,
          1060,
          1061,
          1062,
          1063,
          1064,
          1065,
          1066,
          1067,
          1068,
          1069,
          1070,
          1071,
          1072,
          1073,
          1074,
          1075,
          1076,
          1077,
          1078,
          1079,
          1080,
          1081,
          1082,
          1083,
          1084,
          1085,
          1086,
          1087,
          1088,
          1089,
          1090,
          1091,
          1092,
          1093,
          1094,
          1095,
          1096,
          1097,
          1098,
          1099,
          1100,
          1101,
          1102,
          1103,
          1104,
          1105,
          1106,
          1107,
          1108,
          1109,
          1110,
          1111,
          1112,
          1113,
          1114,
          1115,
          1116,
          1117,
          1118,
          1119,
          1120,
          1121,
          1122,
          1123,
          1124,
          1125,
          1126,
          1127,
          1128,
          1129,
          1130,
          1131,
          1132,
          1133,
          1134,
          1135,
          1136,
          1137,
          1138,
          1139,
          1140,
          1141,
          1142,
          1143,
          1144,
          1145,
          1146,
          1147,
          1148,
          1149,
          1150,
          1151,
          1152,
          1153,
          1154,
          1155,
          1156,
          1157,
          1158,
          1159,
          1160,
          1161,
          1162,
          1163,
          1164,
          1165,
          1166,
          1167,
          1168,
          1169,
          1170,
          1171,
          1172,
          1173,
          1174,
          1175,
          1176,
          1177,
          1178,
          1179,
          1180,
          1181,
          1182,
          1183,
          1184,
          1185,
          1186,
          1187,
          1188,
          1189,
          1190,
          1191,
          1192,
          1193,
          1194,
          1195,
          1196,
          1197,
          1198,
          1199,
          1200,
          1201,
          1202,
          1203,
          1204,
          1205,
          1206,
          1207,
          1208,
          1209,
          1210,
          1211,
          1212,
          1213,
          1214,
          1215,
          1216,
          1217,
          1218,
          1219,
          1220,
          1221,
          1222,
          1223,
          1224,
          1225,
          1226,
          1227,
          1228,
          1229,
          1230,
          1231,
          1232,
          1233,
          1234,
          1235,
          1236,
          1237,
          1238,
          1239,
          1240,
          1241,
          1242,
          1243,
          1244,
          1245,
          1246,
          1247,
          1248,
          1249,
          1250,
          1251,
          1252,
          1253,
          1254,
          1255,
          1256,
          1257,
          1258,
          1259,
          1260,
          1261,
          1262,
          1263,
          1264,
          1265,
          1266,
          1267,
          1268,
          1269,
          1270,
          1271,
          1272,
          1273,
          1274,
          1275,
          1276,
          1277,
          1278,
          1279,
          1280,
          1281,
          1282,
          1283,
          1284,
          1285,
          1286,
          1287,
          1288,
          1289,
          1290,
          1291,
          1292,
          1293,
          1294,
          1295,
          1296,
          1297,
          1298,
          1299,
          1300,
          1301,
          1302,
          1303,
          1304,
          1305,
          1306,
          1307,
          1308,
          1309,
          1310,
          1311,
          1312,
          1313,
          1314,
          1315,
          1316,
          1317,
          1318,
          1319,
          1320,
          1321,
          1322,
          1323,
          1324,
          1325,
          1326,
          1327,
          1328,
          1329,
          1330,
          1331,
          1332,
          1333,
          1334,
          1335,
          1336,
          1337,
          1338,
          1339,
          1340,
          1341,
          1342,
          1343,
          1344,
          1345,
          1346,
          1347,
          1348,
          1349,
          1350,
          1351,
          1352,
          1353,
          1354,
          1355,
          1356,
          1357,
          1358,
          1359,
          1360,
          1361,
          1362,
          1363,
          1364,
          1365,
          1366,
          1367,
          1368,
          1369,
          1370,
          1371,
          1372,
          1373,
          1374,
          1375,
          1376,
          1377,
          1378,
          1379,
          1380,
          1381,
          1382,
          1383,
          1384,
          1385,
          1386,
          1387,
          1388,
          1389,
          1390,
          1391,
          1392,
          1393,
          1394,
          1395,
          1396,
          1397,
          1398,
          1399,
          1400,
          1401,
          1402,
          1403,
          1404,
          1405,
          1406,
          1407,
          1408,
          1409,
          1410,
          1411,
          1412,
          1413,
          1414,
          1415,
          1416,
          1417,
          1418,
          1419,
          1420,
          1421,
          1422,
          1423,
          1424,
          1425,
          1426,
          1427,
          1428,
          1429,
          1430,
          1431,
          1432,
          1433,
          1434,
          1435,
          1436,
          1437,
          1438,
          1439,
          1440,
          1441,
          1442,
          1443,
          1444,
          1445,
          1446,
          1447,
          1448,
          1449,
          1450,
          1451,
          1452,
          1453,
          1454,
          1455,
          1456,
          1457,
          1458,
          1459,
          1460,
          1461,
          1462,
          1463,
          1464,
          1465,
          1466,
          1467,
          1468,
          1469,
          1470,
          1471,
          1472,
          1473,
          1474,
          1475,
          1476,
          1477,
          1478,
          1479,
          1480,
          1481,
          1482,
          1483,
          1484,
          1485,
          1486,
          1487,
          1488,
          1489,
          1490,
          1491,
          1492,
          1493,
          1494,
          1495,
          1496,
          1497,
          1498,
          1499,
          1500,
          1501,
          1502,
          1503,
          1504,
          1505,
          1506,
          1507,
          1508,
          1509,
          1510,
          1511,
          1512,
          1513,
          1514,
          1515,
          1516,
          1517,
          1518,
          1519,
          1520,
          1521,
          1522,
          1523,
          1524,
          1525,
          1526,
          1527,
          1528,
          1529,
          1530,
          1531,
          1532,
          1533,
          1534,
          1535,
          1536,
          1537,
          1538,
          1539,
          1540,
          1541,
          1542,
          1543,
          1544,
          1545,
          1546,
          1547,
          1548,
          1549,
          1550,
          1551,
          1552,
          1553,
          1554,
          1555,
          1556,
          1557,
          1558,
          1559,
          1560,
          1561,
          1562,
          1563,
          1564,
          1565,
          1566,
          1567,
          1568,
          1569,
          1570,
          1571,
          1572,
          1573,
          1574,
          1575,
          1576,
          1577,
          1578,
          1579,
          1580,
          1581,
          1582,
          1583,
          1584,
          1585,
          1586,
          1587,
          1588,
          1589,
          1590,
          1591,
          1592,
          1593,
          1594,
          1595,
          1596,
          1597,
          1598,
          1599,
          1600,
          1601,
          1602,
          1603,
          1604,
          1605,
          1606,
          1607,
          1608,
          1609,
          1610,
          1611,
          1612,
          1613,
          1614,
          1615,
          1616,
          1617,
          1618,
          1619,
          1620,
          1621,
          1622,
          1623,
          1624,
          1625,
          1626,
          1627,
          1628,
          1629,
          1630,
          1631,
          1632,
          1633,
          1634,
          1635,
          1636,
          1637,
          1638,
          1639,
          1640,
          1641,
          1642,
          1643,
          1644,
          1645,
          1646,
          1647,
          1648,
          1649,
          1650,
          1651,
          1652,
          1653,
          1654,
          1655,
          1656,
          1657,
          1658,
          1659,
          1660,
          1661,
          1662,
          1663,
          1664,
          1665,
          1666,
          1667,
          1668,
          1669,
          1670,
          1671,
          1672,
          1673,
          1674,
          1675,
          1676,
          1677,
          1678,
          1679,
          1680,
          1681,
          1682,
          1683,
          1684,
          1685,
          1686,
          1687,
          1688,
          1689,
          1690,
          1691,
          1692,
          1693,
          1694,
          1695,
          1696,
          1697,
          1698,
          1699,
          1700,
          1701,
          1702,
          1703,
          1704,
          1705,
          1706,
          1707,
          1708,
          1709,
          1710,
          1711,
          1712,
          1713,
          1714,
          1715,
          1716,
          1717,
          1718,
          1719,
          1720,
          1721,
          1722,
          1723,
          1724,
          1725,
          1726,
          1727,
          1728,
          1729,
          1730,
          1731,
          1732,
          1733,
          1734,
          1735,
          1736,
          1737,
          1738,
          1739,
          1740,
          1741,
          1742,
          1743,
          1744,
          1745,
          1746,
          1747,
          1748,
          1749,
          1750,
          1751,
          1752,
          1753,
          1754,
          1755,
          1756,
          1757,
          1758,
          1759,
          1760,
          1761,
          1762,
          1763,
          1764,
          1765,
          1766,
          1767,
          1768,
          1769,
          1770,
          1771,
          1772,
          1773,
          1774,
          1775,
          1776,
          1777,
          1778,
          1779,
          1780,
          1781,
          1782,
          1783,
          1784,
          1785,
          1786,
          1787,
          1788,
          1789,
          1790,
          1791,
          1792,
          1793,
          1794,
          1795,
          1796,
          1797,
          1798,
          1799,
          1800,
          1801,
          1802,
          1803,
          1804,
          1805,
          1806,
          1807,
          1808,
          1809,
          1810,
          1811,
          1812,
          1813,
          1814,
          1815,
          1816,
          1817,
          1818,
          1819,
          1820,
          1821,
          1822,
          1823,
          1824,
          1825,
          1826,
          1827,
          1828,
          1829,
          1830,
          1831,
          1832,
          1833,
          1834,
          1835,
          1836,
          1837,
          1838,
          1839,
          1840,
          1841,
          1842,
          1843,
          1844,
          1845,
          1846,
          1847,
          1848,
          1849,
          1850,
          1851,
          1852,
          1853,
          1854,
          1855,
          1856,
          1857,
          1858,
          1859,
          1860,
          1861,
          1862,
          1863,
          1864,
          1865,
          1866,
          1867,
          1868,
          1869,
          1870,
          1871,
          1872,
          1873,
          1874,
          1875,
          1876,
          1877,
          1878,
          1879,
          1880,
          1881,
          1882,
          1883,
          1884,
          1885,
          1886,
          1887,
          1888,
          1889,
          1890,
          1891,
          1892,
          1893,
          1894,
          1895,
          1896,
          1897,
          1898,
          1899,
          1900,
          1901,
          1902,
          1903,
          1904,
          1905,
          1906,
          1907,
          1908,
          1909,
          1910,
          1911,
          1912,
          1913,
          1914,
          1915,
          1916,
          1917,
          1918,
          1919,
          1920,
          1921,
          1922,
          1923,
          1924,
          1925,
          1926,
          1927,
          1928,
          1929,
          1930,
          1931,
          1932,
          1933,
          1934,
          1935,
          1936,
          1937,
          1938,
          1939,
          1940,
          1941,
          1942,
          1943,
          1944,
          1945,
          1946,
          1947,
          1948,
          1949,
          1950,
          1951,
          1952,
          1953,
          1954,
          1955,
          1956,
          1957,
          1958,
          1959,
          1960,
          1961,
          1962,
          1963,
          1964,
          1965,
          1966,
          1967,
          1968,
          1969,
          1970,
          1971,
          1972,
          1973,
          1974,
          1975,
          1976,
          1977,
          1978,
          1979,
          1980,
          1981,
          1982,
          1983,
          1984,
          1985,
          1986,
          1987,
          1988,
          1989,
          1990,
          1991,
          1992,
          1993,
          1994,
          1995,
          1996,
          1997,
          1998,
          1999,
          2000,
          2001,
          2002,
          2003,
          2004,
          2005,
          2006,
          2007,
          2008,
          2009,
          2010,
          2011,
          2012,
          2013,
          2014,
          2015,
          2016,
          2017,
          2018,
          2019,
          2020,
          2021,
          2022,
          2023,
          2024,
          2025,
          2026,
          2027,
          2028,
          2029,
          2030,
          2031,
          2032,
          2033,
          2034,
          2035,
          2036,
          2037,
          2038,
          2039,
          2040,
          2041,
          2042,
          2043,
          2044,
          2045,
          2046,
          2047,
          2048,
          2049,
          2050,
          2051,
          2052,
          2053,
          2054,
          2055,
          2056,
          2057,
          2058,
          2059,
          2060,
          2061,
          2062,
          2063,
          2064,
          2065,
          2066,
          2067,
          2068,
          2069,
          2070,
          2071,
          2072,
          2073,
          2074,
          2075,
          2076,
          2077,
          2078,
          2079,
          2080,
          2081,
          2082,
          2083,
          2084,
          2085,
          2086,
          2087,
          2088,
          2089,
          2090,
          2091,
          2092,
          2093,
          2094,
          2095,
          2096,
          2097,
          2098,
          2099,
          2100,
          2101,
          2102,
          2103,
          2104,
          2105,
          2106,
          2107,
          2108,
          2109,
          2110,
          2111,
          2112,
          2113,
          2114,
          2115,
          2116,
          2117,
          2118,
          2119,
          2120,
          2121,
          2122,
          2123,
          2124,
          2125,
          2126,
          2127,
          2128,
          2129,
          2130,
          2131,
          2132,
          2133,
          2134,
          2135,
          2136,
          2137,
          2138,
          2139,
          2140,
          2141,
          2142,
          2143,
          2144,
          2145,
          2146,
          2147,
          2148,
          2149,
          2150,
          2151,
          2152,
          2153,
          2154,
          2155,
          2156,
          2157,
          2158,
          2159,
          2160,
          2161,
          2162,
          2163,
          2164,
          2165,
          2166,
          2167,
          2168,
          2169,
          2170,
          2171,
          2172,
          2173,
          2174,
          2175,
          2176,
          2177,
          2178,
          2179,
          2180,
          2181,
          2182,
          2183,
          2184,
          2185,
          2186,
          2187,
          2188,
          2189,
          2190,
          2191,
          2192,
          2193,
          2194,
          2195,
          2196,
          2197,
          2198,
          2199,
          2200,
          2201,
          2202,
          2203,
          2204,
          2205,
          2206,
          2207,
          2208,
          2209,
          2210,
          2211,
          2212,
          2213,
          2214,
          2215,
          2216,
          2217,
          2218,
          2219,
          2220,
          2221,
          2222,
          2223,
          2224,
          2225,
          2226,
          2227,
          2228,
          2229,
          2230,
          2231,
          2232,
          2233,
          2234,
          2235,
          2236,
          2237,
          2238,
          2239,
          2240,
          2241,
          2242,
          2243,
          2244,
          2245,
          2246,
          2247,
          2248,
          2249,
          2250,
          2251,
          2252,
          2253,
          2254,
          2255,
          2256,
          2257,
          2258,
          2259,
          2260,
          2261,
          2262,
          2263,
          2264,
          2265,
          2266,
          2267,
          2268,
          2269,
          2270,
          2271,
          2272,
          2273,
          2274,
          2275,
          2276,
          2277,
          2278,
          2279,
          2280,
          2281,
          2282,
          2283,
          2284,
          2285,
          2286,
          2287,
          2288,
          2289,
          2290,
          2291,
          2292,
          2293,
          2294,
          2295,
          2296,
          2297,
          2298,
          2299,
          2300,
          2301,
          2302,
          2303,
          2304,
          2305,
          2306,
          2307,
          2308,
          2309,
          2310,
          2311,
          2312,
          2313,
          2314,
          2315,
          2316,
          2317,
          2318,
          2319,
          2320,
          2321,
          2322,
          2323,
          2324,
          2325,
          2326,
          2327,
          2328,
          2329,
          2330,
          2331,
          2332,
          2333,
          2334,
          2335,
          2336,
          2337,
          2338,
          2339,
          2340,
          2341,
          2342,
          2343,
          2344,
          2345,
          2346,
          2347,
          2348,
          2349,
          2350,
          2351,
          2352,
          2353,
          2354,
          2355,
          2356,
          2357,
          2358,
          2359,
          2360,
          2361,
          2362,
          2363,
          2364,
          2365,
          2366,
          2367,
          2368,
          2369,
          2370,
          2371,
          2372,
          2373,
          2374,
          2375,
          2376,
          2377,
          2378,
          2379,
          2380,
          2381,
          2382,
          2383,
          2384,
          2385,
          2386,
          2387,
          2388,
          2389,
          2390,
          2391,
          2392,
          2393,
          2394,
          2395,
          2396,
          2397,
          2398,
          2399,
          2400,
          2401,
          2402,
          2403,
          2404,
          2405,
          2406,
          2407,
          2408,
          2409,
          2410,
          2411,
          2412,
          2413,
          2414,
          2415,
          2416,
          2417,
          2418,
          2419,
          2420,
          2421,
          2422,
          2423,
          2424,
          2425,
          2426,
          2427,
          2428,
          2429,
          2430,
          2431,
          2432,
          2433,
          2434,
          2435,
          2436,
          2437,
          2438,
          2439,
          2440,
          2441,
          2442,
          2443,
          2444,
          2445,
          2446,
          2447,
          2448,
          2449,
          2450,
          2451,
          2452,
          2453,
          2454,
          2455,
          2456,
          2457,
          2458,
          2459,
          2460,
          2461,
          2462,
          2463,
          2464,
          2465,
          2466,
          2467,
          2468,
          2469,
          2470,
          2471,
          2472,
          2473,
          2474,
          2475,
          2476,
          2477,
          2478,
          2479,
          2480,
          2481,
          2482,
          2483,
          2484,
          2485,
          2486,
          2487,
          2488,
          2489,
          2490,
          2491,
          2492,
          2493,
          2494,
          2495,
          2496,
          2497,
          2498,
          2499,
          2500,
          2501,
          2502,
          2503,
          2504,
          2505,
          2506,
          2507,
          2508,
          2509,
          2510,
          2511,
          2512,
          2513,
          2514,
          2515,
          2516,
          2517,
          2518,
          2519,
          2520,
          2521,
          2522,
          2523,
          2524,
          2525,
          2526,
          2527,
          2528,
          2529,
          2530,
          2531,
          2532,
          2533,
          2534,
          2535,
          2536,
          2537,
          2538,
          2539,
          2540,
          2541,
          2542,
          2543,
          2544,
          2545,
          2546,
          2547,
          2548,
          2549,
          2550,
          2551,
          2552,
          2553,
          2554,
          2555,
          2556,
          2557,
          2558,
          2559,
          2560,
          2561,
          2562,
          2563,
          2564,
          2565,
          2566,
          2567,
          2568,
          2569,
          2570,
          2571,
          2572,
          2573,
          2574,
          2575,
          2576,
          2577,
          2578,
          2579,
          2580,
          2581,
          2582,
          2583,
          2584,
          2585,
          2586,
          2587,
          2588,
          2589,
          2590,
          2591,
          2592,
          2593,
          2594,
          2595,
          2596,
          2597,
          2598,
          2599,
          2600,
          2601,
          2602,
          2603,
          2604,
          2605,
          2606,
          2607,
          2608,
          2609,
          2610,
          2611,
          2612,
          2613,
          2614,
          2615,
          2616,
          2617,
          2618,
          2619,
          2620,
          2621,
          2622,
          2623,
          2624,
          2625,
          2626,
          2627,
          2628,
          2629,
          2630,
          2631,
          2632,
          2633,
          2634,
          2635,
          2636,
          2637,
          2638,
          2639,
          2640,
          2641,
          2642,
          2643,
          2644,
          2645,
          2646,
          2647,
          2648,
          2649,
          2650,
          2651,
          2652,
          2653,
          2654,
          2655,
          2656,
          2657,
          2658,
          2659,
          2660,
          2661,
          2662,
          2663,
          2664,
          2665,
          2666,
          2667,
          2668,
          2669,
          2670,
          2671,
          2672,
          2673,
          2674,
          2675,
          2676,
          2677,
          2678,
          2679,
          2680,
          2681,
          2682,
          2683,
          2684,
          2685,
          2686,
          2687,
          2688,
          2689,
          2690,
          2691,
          2692,
          2693,
          2694,
          2695,
          2696,
          2697,
          2698,
          2699,
          2700,
          2701,
          2702,
          2703,
          2704,
          2705,
          2706,
          2707,
          2708,
          2709,
          2710,
          2711,
          2712,
          2713,
          2714,
          2715,
          2716,
          2717,
          2718,
          2719,
          2720,
          2721,
          2722,
          2723,
          2724,
          2725,
          2726,
          2727,
          2728,
          2729,
          2730,
          2731,
          2732,
          2733,
          2734,
          2735,
          2736,
          2737,
          2738,
          2739,
          2740,
          2741,
          2742,
          2743,
          2744,
          2745,
          2746,
          2747,
          2748,
          2749,
          2750,
          2751,
          2752,
          2753,
          2754,
          2755,
          2756,
          2757,
          2758,
          2759,
          2760,
          2761,
          2762,
          2763,
          2764,
          2765,
          2766,
          2767,
          2768,
          2769,
          2770,
          2771,
          2772,
          2773,
          2774,
          2775,
          2776,
          2777,
          2778,
          2779,
          2780,
          2781,
          2782,
          2783,
          2784,
          2785,
          2786,
          2787,
          2788,
          2789,
          2790,
          2791,
          2792,
          2793,
          2794,
          2795,
          2796,
          2797,
          2798,
          2799,
          2800,
          2801,
          2802,
          2803,
          2804,
          2805,
          2806,
          2807,
          2808,
          2809,
          2810,
          2811,
          2812,
          2813
         ],
         "xaxis": "x",
         "y": [
          2.3251559734344482,
          2.1899561882019043,
          2.0857603549957275,
          2.007858991622925,
          1.924787998199463,
          1.785571575164795,
          1.7026519775390625,
          1.6517277956008911,
          1.5013939142227173,
          1.3114511966705322,
          1.244167447090149,
          1.1490024328231812,
          1.0637861490249634,
          1.0831713676452637,
          1.1527951955795288,
          0.9597364664077759,
          0.8293412327766418,
          0.8561869263648987,
          0.6329257488250732,
          0.7269243001937866,
          0.6823172569274902,
          0.7884976863861084,
          0.6540948748588562,
          0.7205842137336731,
          0.681823194026947,
          0.7854545712471008,
          0.6578453183174133,
          0.5725762844085693,
          0.6509605646133423,
          0.5277220606803894,
          0.6837617754936218,
          0.6697075963020325,
          0.43317893147468567,
          0.586920440196991,
          0.39207273721694946,
          0.49177566170692444,
          0.6929730176925659,
          0.5363925695419312,
          0.41898277401924133,
          0.7507126331329346,
          0.5796421766281128,
          0.5422189235687256,
          0.471838116645813,
          0.5398873686790466,
          0.6038573980331421,
          0.4603736996650696,
          0.5160475969314575,
          0.42081135511398315,
          0.35898640751838684,
          0.4584179222583771,
          0.5210264325141907,
          0.4477579891681671,
          0.3517126739025116,
          0.501759946346283,
          0.3151480555534363,
          0.5130077004432678,
          0.5823908448219299,
          0.48610439896583557,
          0.5041514039039612,
          0.289551705121994,
          0.560695469379425,
          0.32094451785087585,
          0.46514928340911865,
          0.23731157183647156,
          0.26500341296195984,
          0.4696921408176422,
          0.313387006521225,
          0.5674278736114502,
          0.4478105902671814,
          0.5569561123847961,
          0.4649234712123871,
          0.29630783200263977,
          0.38782113790512085,
          0.44228026270866394,
          0.3822709918022156,
          0.4883017838001251,
          0.33133605122566223,
          0.4443925619125366,
          0.18105189502239227,
          0.5302590131759644,
          0.4637221097946167,
          0.4322969913482666,
          0.3138696849346161,
          0.2226809710264206,
          0.32036420702934265,
          0.34152811765670776,
          0.29036590456962585,
          0.11999925971031189,
          0.3235601484775543,
          0.37805044651031494,
          0.46483883261680603,
          0.3396788239479065,
          0.33302849531173706,
          0.367986798286438,
          0.2956910729408264,
          0.47921058535575867,
          0.4392392039299011,
          0.27168744802474976,
          0.29026225209236145,
          0.3440994918346405,
          0.2612208425998688,
          0.25778335332870483,
          0.4175955057144165,
          0.30101412534713745,
          0.48220688104629517,
          0.5455048084259033,
          0.2060815691947937,
          0.3750016987323761,
          0.3945344388484955,
          0.4852844178676605,
          0.48455801606178284,
          0.2127954512834549,
          0.38645923137664795,
          0.25360140204429626,
          0.40147271752357483,
          0.32708191871643066,
          0.4968951940536499,
          0.30172136425971985,
          0.22496618330478668,
          0.41339045763015747,
          0.2873397767543793,
          0.33641141653060913,
          0.44447213411331177,
          0.5871761441230774,
          0.12900418043136597,
          0.3271261751651764,
          0.28516384959220886,
          0.29566922783851624,
          0.27328401803970337,
          0.31692060828208923,
          0.19964316487312317,
          0.3272361755371094,
          0.25594812631607056,
          0.20906469225883484,
          0.2776690125465393,
          0.1433883011341095,
          0.3140854835510254,
          0.3745763897895813,
          0.29840415716171265,
          0.45707666873931885,
          0.5187821388244629,
          0.14155688881874084,
          0.3293939530849457,
          0.3066982328891754,
          0.2797439396381378,
          0.40219542384147644,
          0.4045370817184448,
          0.23388756811618805,
          0.4494650661945343,
          0.17257075011730194,
          0.22765275835990906,
          0.4840378761291504,
          0.43202900886535645,
          0.2563993036746979,
          0.2757203280925751,
          0.2322169542312622,
          0.24704167246818542,
          0.16106519103050232,
          0.4632319211959839,
          0.2870085835456848,
          0.4020470976829529,
          0.4021774232387543,
          0.3811730444431305,
          0.24485614895820618,
          0.4410777688026428,
          0.8566401600837708,
          0.3571203947067261,
          0.5971840620040894,
          0.4945521354675293,
          0.3525782525539398,
          0.28109627962112427,
          0.22833506762981415,
          0.34595242142677307,
          0.3457775413990021,
          0.29265135526657104,
          0.31667327880859375,
          0.3283950090408325,
          0.18049828708171844,
          0.3115043640136719,
          0.21778666973114014,
          0.2675008475780487,
          0.366507351398468,
          0.3682393431663513,
          0.25381287932395935,
          0.46083468198776245,
          0.3897990882396698,
          0.46100571751594543,
          0.18727034330368042,
          0.3976878523826599,
          0.25199687480926514,
          0.5800707340240479,
          0.40537795424461365,
          0.30375662446022034,
          0.20063625276088715,
          0.33021214604377747,
          0.47613584995269775,
          0.39649510383605957,
          0.310016006231308,
          0.49132034182548523,
          0.3148745894432068,
          0.36173215508461,
          0.3215623199939728,
          0.26902416348457336,
          0.19134308397769928,
          0.4711717665195465,
          0.4659413695335388,
          0.3859255015850067,
          0.22243903577327728,
          0.1390688270330429,
          0.5044440031051636,
          0.311852365732193,
          0.5356876850128174,
          0.40021052956581116,
          0.28770437836647034,
          0.319064199924469,
          0.14958734810352325,
          0.279670387506485,
          0.2768874764442444,
          0.12799732387065887,
          0.21462392807006836,
          0.30768513679504395,
          0.2853284776210785,
          0.2408108413219452,
          0.29265615344047546,
          0.2345108538866043,
          0.273762971162796,
          0.26658129692077637,
          0.39381226897239685,
          0.13981637358665466,
          0.3321920335292816,
          0.23693828284740448,
          0.28265854716300964,
          0.2390156388282776,
          0.4393821656703949,
          0.27193883061408997,
          0.3756847679615021,
          0.27507269382476807,
          0.3780671954154968,
          0.20961487293243408,
          0.2450093775987625,
          0.2184392213821411,
          0.09151209145784378,
          0.172663614153862,
          0.4943062663078308,
          0.35154634714126587,
          0.39736780524253845,
          0.3725520670413971,
          0.19380752742290497,
          0.36651918292045593,
          0.26778149604797363,
          0.2066883146762848,
          0.21085600554943085,
          0.21130436658859253,
          0.1792125701904297,
          0.22070865333080292,
          0.3009386658668518,
          0.2064770758152008,
          0.29268309473991394,
          0.2653668522834778,
          0.3048960864543915,
          0.3540976941585541,
          0.35530972480773926,
          0.11045525968074799,
          0.22716933488845825,
          0.22516562044620514,
          0.21531449258327484,
          0.10355453938245773,
          0.2454478144645691,
          0.3028315603733063,
          0.2587295174598694,
          0.19051997363567352,
          0.3375782072544098,
          0.29178309440612793,
          0.2787752151489258,
          0.5697841644287109,
          0.17624671757221222,
          0.2418874204158783,
          0.26464030146598816,
          0.2153782993555069,
          0.21805544197559357,
          0.19188933074474335,
          0.17975375056266785,
          0.2252267599105835,
          0.3532177209854126,
          0.34167060256004333,
          0.22979535162448883,
          0.2101205289363861,
          0.4267437756061554,
          0.19228814542293549,
          0.41226208209991455,
          0.18511267006397247,
          0.2770368158817291,
          0.33639416098594666,
          0.24024324119091034,
          0.1727076768875122,
          0.38208669424057007,
          0.15001221001148224,
          0.1641603410243988,
          0.3283620774745941,
          0.291427344083786,
          0.20078690350055695,
          0.24308465421199799,
          0.4144570529460907,
          0.4333830773830414,
          0.12951074540615082,
          0.3828151524066925,
          0.2880403697490692,
          0.1479635238647461,
          0.272051066160202,
          0.2664293348789215,
          0.3772113025188446,
          0.2193855345249176,
          0.3042413592338562,
          0.24015511572360992,
          0.5944554209709167,
          0.3933604955673218,
          0.27352043986320496,
          0.48991864919662476,
          0.4957175552845001,
          0.25492730736732483,
          0.22910484671592712,
          0.2344701588153839,
          0.406264990568161,
          0.4145345687866211,
          0.17571263015270233,
          0.13363556563854218,
          0.19960959255695343,
          0.34536585211753845,
          0.3579893410205841,
          0.3161415457725525,
          0.19995485246181488,
          0.2754595875740051,
          0.1288806051015854,
          0.34795477986335754,
          0.2541655898094177,
          0.19778881967067719,
          0.3275222182273865,
          0.21119575202465057,
          0.18249846994876862,
          0.39815786480903625,
          0.27460628747940063,
          0.32680439949035645,
          0.2596583664417267,
          0.23460239171981812,
          0.258274644613266,
          0.3738999366760254,
          0.34628355503082275,
          0.19557933509349823,
          0.18501687049865723,
          0.3981912136077881,
          0.3196711242198944,
          0.23745371401309967,
          0.2060624063014984,
          0.21360081434249878,
          0.24532067775726318,
          0.1858641803264618,
          0.1816800832748413,
          0.09181062877178192,
          0.44118553400039673,
          0.19886024296283722,
          0.2150406539440155,
          0.30691787600517273,
          0.16740453243255615,
          0.16474761068820953,
          0.18002364039421082,
          0.13716953992843628,
          0.38663730025291443,
          0.3171843886375427,
          0.3082220256328583,
          0.1507420390844345,
          0.09432771056890488,
          0.21552728116512299,
          0.15700310468673706,
          0.08928681164979935,
          0.5011956691741943,
          0.3381175994873047,
          0.16800127923488617,
          0.20620197057724,
          0.3755919635295868,
          0.32744070887565613,
          0.18740972876548767,
          0.26707109808921814,
          0.16213110089302063,
          0.2585687041282654,
          0.17549556493759155,
          0.1769687980413437,
          0.1746365875005722,
          0.264989972114563,
          0.17616169154644012,
          0.12556864321231842,
          0.5121352672576904,
          0.1760351061820984,
          0.1488310545682907,
          0.3994169533252716,
          0.4082100987434387,
          0.14618416130542755,
          0.15522487461566925,
          0.14765720069408417,
          0.24820055067539215,
          0.27235913276672363,
          0.2949942648410797,
          0.31930145621299744,
          0.20159870386123657,
          0.2149975299835205,
          0.07945442199707031,
          0.32928764820098877,
          0.21906933188438416,
          0.22756552696228027,
          0.12017940729856491,
          0.3679504990577698,
          0.13853999972343445,
          0.3304555416107178,
          0.20069918036460876,
          0.1419176459312439,
          0.27875086665153503,
          0.15573449432849884,
          0.2958223521709442,
          0.1659165620803833,
          0.17708468437194824,
          0.18006956577301025,
          0.33583635091781616,
          0.12306888401508331,
          0.1919420212507248,
          0.18338583409786224,
          0.14238771796226501,
          0.21136023104190826,
          0.24440120160579681,
          0.22287112474441528,
          0.48332419991493225,
          0.19169096648693085,
          0.23285721242427826,
          0.2117987424135208,
          0.1739286184310913,
          0.08352234214544296,
          0.23816676437854767,
          0.37656739354133606,
          0.28513166308403015,
          0.29971975088119507,
          0.4360061287879944,
          0.17165793478488922,
          0.20401105284690857,
          0.1566358208656311,
          0.19224506616592407,
          0.18091905117034912,
          0.135064497590065,
          0.28645995259284973,
          0.4252340793609619,
          0.19027744233608246,
          0.37370043992996216,
          0.18191535770893097,
          0.2725375294685364,
          0.1827262043952942,
          0.25863078236579895,
          0.37798231840133667,
          0.2851925492286682,
          0.24578551948070526,
          0.18885943293571472,
          0.1504128873348236,
          0.34772950410842896,
          0.21747072041034698,
          0.15392106771469116,
          0.25825366377830505,
          0.2621166706085205,
          0.4179515242576599,
          0.19106411933898926,
          0.4651854932308197,
          0.3294034004211426,
          0.40448227524757385,
          0.12013151496648788,
          0.2000412791967392,
          0.09802086651325226,
          0.22891227900981903,
          0.15441147983074188,
          0.15190285444259644,
          0.2727634608745575,
          0.24703864753246307,
          0.1386682540178299,
          0.17063884437084198,
          0.26474815607070923,
          0.17227217555046082,
          0.33365899324417114,
          0.23477253317832947,
          0.19913087785243988,
          0.10789678990840912,
          0.5219326615333557,
          0.06364984065294266,
          0.24054507911205292,
          0.18895870447158813,
          0.26770728826522827,
          0.18665573000907898,
          0.110844187438488,
          0.3267715871334076,
          0.34959179162979126,
          0.38341182470321655,
          0.26056283712387085,
          0.15371032059192657,
          0.22023433446884155,
          0.15886016190052032,
          0.11858335137367249,
          0.2975376844406128,
          0.28411057591438293,
          0.3295496106147766,
          0.19970767199993134,
          0.27227991819381714,
          0.1411341279745102,
          0.1798219531774521,
          0.2381734400987625,
          0.17249080538749695,
          0.1751561015844345,
          0.1714617908000946,
          0.15764132142066956,
          0.15879955887794495,
          0.11985380202531815,
          0.10363452136516571,
          0.2199145257472992,
          0.2350124567747116,
          0.16980578005313873,
          0.09297124296426773,
          0.2798289656639099,
          0.2570478916168213,
          0.1735757738351822,
          0.22623378038406372,
          0.21492193639278412,
          0.14644421637058258,
          0.30270126461982727,
          0.43347635865211487,
          0.4091281294822693,
          0.22812750935554504,
          0.17841553688049316,
          0.21236185729503632,
          0.3633696436882019,
          0.3808248043060303,
          0.13673897087574005,
          0.13543155789375305,
          0.24370282888412476,
          0.19195379316806793,
          0.2910044193267822,
          0.18562942743301392,
          0.12911351025104523,
          0.22463059425354004,
          0.08765232563018799,
          0.06225528568029404,
          0.19087079167366028,
          0.25957170128822327,
          0.12996500730514526,
          0.28117746114730835,
          0.21388082206249237,
          0.2273435741662979,
          0.251971036195755,
          0.26519760489463806,
          0.14817658066749573,
          0.18855948746204376,
          0.11648613959550858,
          0.08796782791614532,
          0.14667503535747528,
          0.17777666449546814,
          0.36135244369506836,
          0.5428962111473083,
          0.07763367891311646,
          0.13882693648338318,
          0.41437026858329773,
          0.0715409591794014,
          0.19523929059505463,
          0.11719491332769394,
          0.28529515862464905,
          0.1272478997707367,
          0.28823941946029663,
          0.341244101524353,
          0.08620460331439972,
          0.27614277601242065,
          0.13479213416576385,
          0.20292407274246216,
          0.16709443926811218,
          0.2553018033504486,
          0.2328941375017166,
          0.26444512605667114,
          0.3048819601535797,
          0.4283015727996826,
          0.13011573255062103,
          0.20894679427146912,
          0.5003724098205566,
          0.1777552217245102,
          0.1989850401878357,
          0.19308029115200043,
          0.11288507282733917,
          0.18344807624816895,
          0.18220576643943787,
          0.16361989080905914,
          0.2272830754518509,
          0.15225280821323395,
          0.39008206129074097,
          0.2423446923494339,
          0.08381175249814987,
          0.20802515745162964,
          0.2751651704311371,
          0.20096208155155182,
          0.16233591735363007,
          0.17949222028255463,
          0.19851553440093994,
          0.29631179571151733,
          0.10552052408456802,
          0.1877518743276596,
          0.14572183787822723,
          0.09321603924036026,
          0.0862119048833847,
          0.25246167182922363,
          0.25380319356918335,
          0.3522402048110962,
          0.14872461557388306,
          0.14821001887321472,
          0.1662828028202057,
          0.12067246437072754,
          0.1083577573299408,
          0.1945716142654419,
          0.23486225306987762,
          0.2772294282913208,
          0.24319276213645935,
          0.19922882318496704,
          0.14970920979976654,
          0.10359353572130203,
          0.11471595615148544,
          0.1762664020061493,
          0.3197285532951355,
          0.18878231942653656,
          0.15697506070137024,
          0.08934088051319122,
          0.31725430488586426,
          0.16306503117084503,
          0.10978297889232635,
          0.21887598931789398,
          0.16104914247989655,
          0.13103336095809937,
          0.13155823945999146,
          0.16578012704849243,
          0.1770658940076828,
          0.1904260218143463,
          0.27375710010528564,
          0.2818145453929901,
          0.2217170000076294,
          0.2262984812259674,
          0.12779085338115692,
          0.1707341969013214,
          0.14300650358200073,
          0.09210549294948578,
          0.4030059278011322,
          0.17744772136211395,
          0.4269717037677765,
          0.16526734828948975,
          0.17500774562358856,
          0.16554640233516693,
          0.16788780689239502,
          0.26081356406211853,
          0.0738956481218338,
          0.2646152377128601,
          0.08672905713319778,
          0.19772394001483917,
          0.2593453526496887,
          0.17129868268966675,
          0.29780706763267517,
          0.17930927872657776,
          0.44671010971069336,
          0.23913565278053284,
          0.24004580080509186,
          0.19622698426246643,
          0.24392305314540863,
          0.22166743874549866,
          0.17841333150863647,
          0.2741507291793823,
          0.06191222369670868,
          0.2646493911743164,
          0.10903481394052505,
          0.10367009043693542,
          0.2427797168493271,
          0.1546313464641571,
          0.23384840786457062,
          0.11556780338287354,
          0.15125855803489685,
          0.20910657942295074,
          0.1265203207731247,
          0.25385695695877075,
          0.1104750856757164,
          0.1615544855594635,
          0.11884792149066925,
          0.17765790224075317,
          0.23537184298038483,
          0.24537518620491028,
          0.11171786487102509,
          0.26464059948921204,
          0.22683437168598175,
          0.1286545693874359,
          0.1471705585718155,
          0.21211330592632294,
          0.19840893149375916,
          0.1112828329205513,
          0.1222173348069191,
          0.18539436161518097,
          0.3118833303451538,
          0.3502795398235321,
          0.15507625043392181,
          0.22218438982963562,
          0.11259952932596207,
          0.15447475016117096,
          0.07219881564378738,
          0.07090502977371216,
          0.18274933099746704,
          0.256041556596756,
          0.09519112855195999,
          0.11596328765153885,
          0.20051224529743195,
          0.13217030465602875,
          0.2673514485359192,
          0.144053652882576,
          0.22470800578594208,
          0.283662885427475,
          0.20688335597515106,
          0.15979835391044617,
          0.2820785343647003,
          0.1626676768064499,
          0.15403234958648682,
          0.12759797275066376,
          0.05119491368532181,
          0.29907310009002686,
          0.1049194410443306,
          0.20728431642055511,
          0.1852867305278778,
          0.2760736048221588,
          0.2703063189983368,
          0.19118236005306244,
          0.1437481790781021,
          0.3368335962295532,
          0.21788965165615082,
          0.15035422146320343,
          0.18390537798404694,
          0.47211211919784546,
          0.13095590472221375,
          0.078761525452137,
          0.251034140586853,
          0.15658023953437805,
          0.19539648294448853,
          0.20337969064712524,
          0.13430878520011902,
          0.19439105689525604,
          0.22134268283843994,
          0.16511403024196625,
          0.09220384061336517,
          0.10015558451414108,
          0.1636277139186859,
          0.1911231130361557,
          0.31960928440093994,
          0.16016675531864166,
          0.10707829147577286,
          0.30405911803245544,
          0.40467584133148193,
          0.06411084532737732,
          0.4261011779308319,
          0.33457767963409424,
          0.15477032959461212,
          0.16801615059375763,
          0.29487425088882446,
          0.1901722550392151,
          0.25329503417015076,
          0.06316739320755005,
          0.17143559455871582,
          0.25032493472099304,
          0.11783641576766968,
          0.2685455083847046,
          0.12518377602100372,
          0.24145324528217316,
          0.11351355910301208,
          0.2539471685886383,
          0.07915504276752472,
          0.1309945434331894,
          0.0969833955168724,
          0.5244238376617432,
          0.11642419546842575,
          0.11457956582307816,
          0.20727334916591644,
          0.20179976522922516,
          0.11199524998664856,
          0.16121381521224976,
          0.233764186501503,
          0.08055253326892853,
          0.36651885509490967,
          0.17937615513801575,
          0.1407098025083542,
          0.06944540143013,
          0.04602080583572388,
          0.14093011617660522,
          0.08594736456871033,
          0.16604289412498474,
          0.30752721428871155,
          0.10850553959608078,
          0.15963715314865112,
          0.19770929217338562,
          0.08790276199579239,
          0.05903518944978714,
          0.0950717031955719,
          0.2265050709247589,
          0.1657257378101349,
          0.35770946741104126,
          0.27355360984802246,
          0.1804906725883484,
          0.13426370918750763,
          0.2105283886194229,
          0.1479257047176361,
          0.16464389860630035,
          0.15952810645103455,
          0.22071108222007751,
          0.16293929517269135,
          0.324407696723938,
          0.16565805673599243,
          0.19710764288902283,
          0.10529737174510956,
          0.18765859305858612,
          0.16192209720611572,
          0.1871204972267151,
          0.3009454607963562,
          0.15643452107906342,
          0.1025657057762146,
          0.25676047801971436,
          0.21213001012802124,
          0.14995868504047394,
          0.34324532747268677,
          0.12052178382873535,
          0.17855656147003174,
          0.1392744928598404,
          0.056492745876312256,
          0.12068044394254684,
          0.11804378777742386,
          0.16996900737285614,
          0.13026423752307892,
          0.12479221820831299,
          0.1675257533788681,
          0.17219310998916626,
          0.15667136013507843,
          0.10308368504047394,
          0.15071316063404083,
          0.19468985497951508,
          0.11632457375526428,
          0.12695175409317017,
          0.19432464241981506,
          0.2774161696434021,
          0.29885536432266235,
          0.0518413670361042,
          0.1318550854921341,
          0.0978083461523056,
          0.3703779876232147,
          0.22642190754413605,
          0.23146015405654907,
          0.1187174841761589,
          0.11659390479326248,
          0.14367127418518066,
          0.11192221194505692,
          0.12477991729974747,
          0.16711491346359253,
          0.0909300446510315,
          0.08375149220228195,
          0.1888325959444046,
          0.16702397167682648,
          0.10005389899015427,
          0.1670207977294922,
          0.05911669135093689,
          0.17328248918056488,
          0.20830179750919342,
          0.3487856388092041,
          0.2127138376235962,
          0.2361767292022705,
          0.10566039383411407,
          0.1693788319826126,
          0.0697430968284607,
          0.09851005673408508,
          0.09847693145275116,
          0.18413467705249786,
          0.19782918691635132,
          0.2876285910606384,
          0.05362022668123245,
          0.21309657394886017,
          0.11008226871490479,
          0.1365794688463211,
          0.09453613311052322,
          0.06500812619924545,
          0.2880442440509796,
          0.15676207840442657,
          0.10332540422677994,
          0.12727515399456024,
          0.1818564534187317,
          0.17346960306167603,
          0.14525073766708374,
          0.20109640061855316,
          0.23718807101249695,
          0.16974478960037231,
          0.22707833349704742,
          0.13491448760032654,
          0.24024145305156708,
          0.19048340618610382,
          0.15823213756084442,
          0.1330891251564026,
          0.09414804726839066,
          0.08826731145381927,
          0.1522757112979889,
          0.2368108481168747,
          0.347586452960968,
          0.06771565973758698,
          0.12957090139389038,
          0.08469454944133759,
          0.1641548126935959,
          0.1718732714653015,
          0.02738642692565918,
          0.14205271005630493,
          0.11856827884912491,
          0.060466039925813675,
          0.20977866649627686,
          0.15272529423236847,
          0.09630823880434036,
          0.11352789402008057,
          0.3116726875305176,
          0.07827898859977722,
          0.0599542073905468,
          0.2790253758430481,
          0.32091259956359863,
          0.30157870054244995,
          0.11024744808673859,
          0.0787997841835022,
          0.16626325249671936,
          0.20640581846237183,
          0.1458623707294464,
          0.1285887211561203,
          0.1632271409034729,
          0.2566016912460327,
          0.4419585168361664,
          0.23934626579284668,
          0.19483178853988647,
          0.1643473505973816,
          0.18908768892288208,
          0.168232724070549,
          0.18080544471740723,
          0.23319827020168304,
          0.17985597252845764,
          0.10007605701684952,
          0.19009892642498016,
          0.16912434995174408,
          0.09927764534950256,
          0.15465135872364044,
          0.14471159875392914,
          0.2058761715888977,
          0.06787887960672379,
          0.02628868818283081,
          0.13754642009735107,
          0.07380004227161407,
          0.16041404008865356,
          0.12297084182500839,
          0.13932886719703674,
          0.1158963218331337,
          0.11408369243144989,
          0.23174495995044708,
          0.1477803736925125,
          0.13558048009872437,
          0.15935833752155304,
          0.13899827003479004,
          0.10780759155750275,
          0.19045448303222656,
          0.37095755338668823,
          0.2978185713291168,
          0.2340153455734253,
          0.11841607093811035,
          0.14105603098869324,
          0.1783708930015564,
          0.188473179936409,
          0.10927644371986389,
          0.07400691509246826,
          0.06447943300008774,
          0.13863268494606018,
          0.20909053087234497,
          0.06016214191913605,
          0.2549334764480591,
          0.10637563467025757,
          0.2964003384113312,
          0.0884605199098587,
          0.11612366139888763,
          0.18815971910953522,
          0.055082034319639206,
          0.15241533517837524,
          0.17405381798744202,
          0.19214199483394623,
          0.06420388072729111,
          0.03142257407307625,
          0.08109164983034134,
          0.08686602860689163,
          0.10081440955400467,
          0.16388921439647675,
          0.19845519959926605,
          0.13400660455226898,
          0.1012897714972496,
          0.2013421654701233,
          0.13288922607898712,
          0.13790756464004517,
          0.05111943557858467,
          0.067318856716156,
          0.03997991606593132,
          0.19057978689670563,
          0.2379303276538849,
          0.09371648728847504,
          0.052006982266902924,
          0.05906405299901962,
          0.238655686378479,
          0.1763598471879959,
          0.14202287793159485,
          0.1361844390630722,
          0.12323364615440369,
          0.04010246321558952,
          0.19357018172740936,
          0.16932639479637146,
          0.15006689727306366,
          0.23998573422431946,
          0.0831526666879654,
          0.06006687134504318,
          0.09129834175109863,
          0.1353379637002945,
          0.11207694560289383,
          0.14747996628284454,
          0.08679648488759995,
          0.0935051217675209,
          0.1117536798119545,
          0.0798325464129448,
          0.25407645106315613,
          0.13061924278736115,
          0.18640713393688202,
          0.15455591678619385,
          0.33555078506469727,
          0.1788119375705719,
          0.046593405306339264,
          0.09379871934652328,
          0.14090269804000854,
          0.12977075576782227,
          0.16068601608276367,
          0.10736781358718872,
          0.13403728604316711,
          0.12573324143886566,
          0.13253158330917358,
          0.13819895684719086,
          0.10981450229883194,
          0.07464025914669037,
          0.1638355404138565,
          0.17949478328227997,
          0.22060959041118622,
          0.10816027969121933,
          0.13124299049377441,
          0.21318134665489197,
          0.1910540908575058,
          0.11713782697916031,
          0.2158677875995636,
          0.21953654289245605,
          0.13952279090881348,
          0.18875762820243835,
          0.13137558102607727,
          0.19405758380889893,
          0.1693151444196701,
          0.14378367364406586,
          0.24442820250988007,
          0.42966461181640625,
          0.20383568108081818,
          0.05403878167271614,
          0.17557890713214874,
          0.0594908781349659,
          0.26102954149246216,
          0.19229428470134735,
          0.15841782093048096,
          0.1198856458067894,
          0.27603161334991455,
          0.07516298443078995,
          0.10904096066951752,
          0.10283105075359344,
          0.11250381916761398,
          0.08297737687826157,
          0.15388357639312744,
          0.09215682744979858,
          0.1530863344669342,
          0.3430885970592499,
          0.07745411992073059,
          0.22982294857501984,
          0.1462349146604538,
          0.26910120248794556,
          0.07824546843767166,
          0.13682794570922852,
          0.12978877127170563,
          0.16481168568134308,
          0.12368243932723999,
          0.12409994751214981,
          0.1582038700580597,
          0.03650131821632385,
          0.07974877953529358,
          0.20904016494750977,
          0.09322039783000946,
          0.12587551772594452,
          0.13744013011455536,
          0.11007073521614075,
          0.07306379824876785,
          0.1582285761833191,
          0.21550863981246948,
          0.09609927982091904,
          0.13483625650405884,
          0.12458565831184387,
          0.11049686372280121,
          0.08224734663963318,
          0.11351991444826126,
          0.09593082964420319,
          0.17649005353450775,
          0.08373309671878815,
          0.1229269951581955,
          0.16596779227256775,
          0.11340705305337906,
          0.07132136076688766,
          0.09555170685052872,
          0.06121019273996353,
          0.11111890524625778,
          0.09421399235725403,
          0.03496904671192169,
          0.1100720688700676,
          0.04815167933702469,
          0.050597552210092545,
          0.12041261792182922,
          0.0515650250017643,
          0.04920511692762375,
          0.167489156126976,
          0.1252458393573761,
          0.04834058880805969,
          0.06503915786743164,
          0.1487254500389099,
          0.08202579617500305,
          0.08034743368625641,
          0.17652811110019684,
          0.061262696981430054,
          0.1375778764486313,
          0.08314240723848343,
          0.14191073179244995,
          0.14967775344848633,
          0.016457902267575264,
          0.1069299653172493,
          0.1514934003353119,
          0.10559709370136261,
          0.10207070410251617,
          0.11854512244462967,
          0.19907496869564056,
          0.24937571585178375,
          0.0588952861726284,
          0.12201796472072601,
          0.08565987646579742,
          0.1334201693534851,
          0.14993242919445038,
          0.2823804020881653,
          0.17270542681217194,
          0.25432083010673523,
          0.0996527373790741,
          0.11460030823945999,
          0.11977490782737732,
          0.10808819532394409,
          0.10694818198680878,
          0.06155027821660042,
          0.1474754959344864,
          0.15394310653209686,
          0.23738300800323486,
          0.16845189034938812,
          0.10519919544458389,
          0.19277802109718323,
          0.05138882249593735,
          0.3703145980834961,
          0.1779402792453766,
          0.0889025554060936,
          0.07421566545963287,
          0.06379745155572891,
          0.09916465729475021,
          0.15607692301273346,
          0.0914299413561821,
          0.12746596336364746,
          0.08986417204141617,
          0.032048389315605164,
          0.06809461116790771,
          0.04046132043004036,
          0.08788865804672241,
          0.04613649100065231,
          0.21418435871601105,
          0.24437987804412842,
          0.08476787805557251,
          0.160551518201828,
          0.08506572991609573,
          0.12031133472919464,
          0.08056503534317017,
          0.15763017535209656,
          0.1289682686328888,
          0.20290663838386536,
          0.08442019671201706,
          0.2542042136192322,
          0.20556508004665375,
          0.14925099909305573,
          0.26875555515289307,
          0.12404229491949081,
          0.03416372835636139,
          0.16196365654468536,
          0.06106628477573395,
          0.0567966029047966,
          0.07960116118192673,
          0.17507225275039673,
          0.045345015823841095,
          0.1449166238307953,
          0.07789960503578186,
          0.2117086499929428,
          0.10778166353702545,
          0.16567160189151764,
          0.10238081216812134,
          0.12751127779483795,
          0.10256727039813995,
          0.29495367407798767,
          0.10873556137084961,
          0.16243155300617218,
          0.29623058438301086,
          0.0814870074391365,
          0.10857617855072021,
          0.031740691512823105,
          0.06403752416372299,
          0.19948610663414001,
          0.06696072220802307,
          0.09255818277597427,
          0.062463656067848206,
          0.2725655436515808,
          0.05472393333911896,
          0.06085557863116264,
          0.09622150659561157,
          0.28368765115737915,
          0.2549116015434265,
          0.12172744423151016,
          0.07554617524147034,
          0.056309815496206284,
          0.04922957345843315,
          0.0745781883597374,
          0.08926290273666382,
          0.07728873938322067,
          0.16640737652778625,
          0.09159605950117111,
          0.15476547181606293,
          0.17262393236160278,
          0.15327471494674683,
          0.2220688909292221,
          0.15285563468933105,
          0.21873778104782104,
          0.11884667724370956,
          0.14535050094127655,
          0.22973939776420593,
          0.06420465558767319,
          0.20942743122577667,
          0.32810765504837036,
          0.10147085785865784,
          0.15002571046352386,
          0.08417006582021713,
          0.1711951196193695,
          0.0586945116519928,
          0.08302802592515945,
          0.15320973098278046,
          0.12504726648330688,
          0.15079618990421295,
          0.3621879816055298,
          0.11477579921483994,
          0.16201020777225494,
          0.09092941135168076,
          0.06659357249736786,
          0.08912328630685806,
          0.017401210963726044,
          0.31002673506736755,
          0.08926156163215637,
          0.14075104892253876,
          0.04583219811320305,
          0.13721582293510437,
          0.13439004123210907,
          0.07019254565238953,
          0.08138111233711243,
          0.1440662443637848,
          0.05651266127824783,
          0.27215927839279175,
          0.06545349210500717,
          0.1308974176645279,
          0.15873001515865326,
          0.09574762731790543,
          0.09463822841644287,
          0.09008526802062988,
          0.17284442484378815,
          0.13026756048202515,
          0.15251749753952026,
          0.08047178387641907,
          0.11015971004962921,
          0.12216474860906601,
          0.193106010556221,
          0.14392279088497162,
          0.05336258187890053,
          0.05045462027192116,
          0.135040745139122,
          0.09380505234003067,
          0.3639974296092987,
          0.11136562377214432,
          0.3105911910533905,
          0.15003521740436554,
          0.15539123117923737,
          0.14473216235637665,
          0.04623468220233917,
          0.10721132904291153,
          0.04282664507627487,
          0.12981879711151123,
          0.14924398064613342,
          0.09002377092838287,
          0.05118367448449135,
          0.10807916522026062,
          0.06590704619884491,
          0.14895901083946228,
          0.16666829586029053,
          0.073863185942173,
          0.06653419137001038,
          0.07001297175884247,
          0.07444321364164352,
          0.17301951348781586,
          0.07519661635160446,
          0.07369710505008698,
          0.11231517791748047,
          0.07552416622638702,
          0.13616624474525452,
          0.06227016821503639,
          0.05914893001317978,
          0.07080914080142975,
          0.10394104570150375,
          0.09093975275754929,
          0.069890595972538,
          0.15547806024551392,
          0.16170157492160797,
          0.10592379420995712,
          0.11917169392108917,
          0.18564456701278687,
          0.09498060494661331,
          0.24513103067874908,
          0.15873539447784424,
          0.19335401058197021,
          0.08039242029190063,
          0.17535385489463806,
          0.03782971575856209,
          0.2125779241323471,
          0.05848460644483566,
          0.16160666942596436,
          0.04585680738091469,
          0.08612258732318878,
          0.193623885512352,
          0.11901616305112839,
          0.07619927078485489,
          0.0673728957772255,
          0.271004319190979,
          0.12873977422714233,
          0.1500108391046524,
          0.10738056898117065,
          0.044124212116003036,
          0.08167543262243271,
          0.09540683031082153,
          0.33644890785217285,
          0.053696684539318085,
          0.12446249276399612,
          0.08269406855106354,
          0.24544194340705872,
          0.17844222486019135,
          0.0332784503698349,
          0.03315521776676178,
          0.07398855686187744,
          0.2146235853433609,
          0.14570006728172302,
          0.06471607089042664,
          0.1554880142211914,
          0.1172901839017868,
          0.14504489302635193,
          0.09007599949836731,
          0.08462465554475784,
          0.049722567200660706,
          0.06536317616701126,
          0.26285648345947266,
          0.13923929631710052,
          0.11261124908924103,
          0.14366717636585236,
          0.11572946608066559,
          0.06334645301103592,
          0.1652640551328659,
          0.5676178932189941,
          0.10553457587957382,
          0.07998713105916977,
          0.17137299478054047,
          0.0837918072938919,
          0.23358798027038574,
          0.07223239541053772,
          0.036866653710603714,
          0.1648356020450592,
          0.1668260395526886,
          0.04265514016151428,
          0.4082447588443756,
          0.3018091320991516,
          0.22495737671852112,
          0.15101487934589386,
          0.17879842221736908,
          0.08480823040008545,
          0.11448339372873306,
          0.1529092788696289,
          0.11333410441875458,
          0.16809505224227905,
          0.1524261087179184,
          0.1406942903995514,
          0.15429256856441498,
          0.21595431864261627,
          0.15360631048679352,
          0.10884203016757965,
          0.13027656078338623,
          0.03722285106778145,
          0.12028999626636505,
          0.08290156722068787,
          0.06823045760393143,
          0.04605705291032791,
          0.13185612857341766,
          0.10314291715621948,
          0.1828959435224533,
          0.21993201971054077,
          0.21937738358974457,
          0.06579259783029556,
          0.09628881514072418,
          0.21398408710956573,
          0.0637284517288208,
          0.10047879815101624,
          0.13471966981887817,
          0.09949279576539993,
          0.11233741790056229,
          0.23102425038814545,
          0.05336432904005051,
          0.184167742729187,
          0.04085391014814377,
          0.09514272212982178,
          0.09556090086698532,
          0.0634523332118988,
          0.17552052438259125,
          0.09485437721014023,
          0.11027336120605469,
          0.17519523203372955,
          0.08604475110769272,
          0.13958503305912018,
          0.04810338839888573,
          0.07067330926656723,
          0.0822691097855568,
          0.07921841740608215,
          0.08449190855026245,
          0.274062842130661,
          0.0736951157450676,
          0.23923994600772858,
          0.1082376092672348,
          0.08771487325429916,
          0.09343519806861877,
          0.26345378160476685,
          0.07305476069450378,
          0.02748948149383068,
          0.18734388053417206,
          0.11705031991004944,
          0.06007068231701851,
          0.15526683628559113,
          0.0575496144592762,
          0.028374571353197098,
          0.05162644758820534,
          0.06637892872095108,
          0.26784875988960266,
          0.10388697683811188,
          0.12709522247314453,
          0.12790849804878235,
          0.010960557498037815,
          0.15120728313922882,
          0.10796540975570679,
          0.12385005503892899,
          0.09471090883016586,
          0.09138479828834534,
          0.02988317608833313,
          0.1080208495259285,
          0.1103295087814331,
          0.046411119401454926,
          0.2403039038181305,
          0.33668142557144165,
          0.030759422108530998,
          0.08655760437250137,
          0.054703280329704285,
          0.12137211859226227,
          0.13803605735301971,
          0.15371327102184296,
          0.1103452742099762,
          0.04171214625239372,
          0.1313025802373886,
          0.04235255718231201,
          0.14994020760059357,
          0.12590037286281586,
          0.0821998119354248,
          0.20957770943641663,
          0.12234336882829666,
          0.07444073259830475,
          0.028010953217744827,
          0.021440725773572922,
          0.06825027614831924,
          0.28337737917900085,
          0.20577184855937958,
          0.10242847353219986,
          0.1038362979888916,
          0.12354572862386703,
          0.07747474312782288,
          0.040176186710596085,
          0.13249795138835907,
          0.08368981629610062,
          0.1619100570678711,
          0.11853540688753128,
          0.030967961996793747,
          0.03328981623053551,
          0.19185954332351685,
          0.15175378322601318,
          0.22557811439037323,
          0.0976024642586708,
          0.05098898336291313,
          0.17990875244140625,
          0.11987601220607758,
          0.17130470275878906,
          0.20436403155326843,
          0.06721484661102295,
          0.06838724762201309,
          0.19369161128997803,
          0.12135946750640869,
          0.09052721410989761,
          0.1100401058793068,
          0.10506020486354828,
          0.3140324652194977,
          0.2256614863872528,
          0.22743897140026093,
          0.11876514554023743,
          0.1267879158258438,
          0.05724986270070076,
          0.24252891540527344,
          0.10073969513177872,
          0.060231439769268036,
          0.05564742535352707,
          0.10848303884267807,
          0.151835635304451,
          0.24886426329612732,
          0.10063081979751587,
          0.24301472306251526,
          0.06652049720287323,
          0.0500507652759552,
          0.06869702786207199,
          0.030487434938549995,
          0.035496193915605545,
          0.11714445054531097,
          0.06224263831973076,
          0.13646988570690155,
          0.1607532948255539,
          0.10850292444229126,
          0.16066430509090424,
          0.09224247187376022,
          0.23666560649871826,
          0.08798836171627045,
          0.05965948849916458,
          0.14224717020988464,
          0.11725755780935287,
          0.22416478395462036,
          0.10008450597524643,
          0.11635355651378632,
          0.20395991206169128,
          0.07169663906097412,
          0.13438814878463745,
          0.04790087044239044,
          0.06076197326183319,
          0.05962555110454559,
          0.23105311393737793,
          0.045562587678432465,
          0.1296868771314621,
          0.2701442837715149,
          0.21093763411045074,
          0.06711523234844208,
          0.2387315183877945,
          0.22885900735855103,
          0.19046330451965332,
          0.13621151447296143,
          0.10457407683134079,
          0.10221070051193237,
          0.07201523333787918,
          0.09190157800912857,
          0.07034625858068466,
          0.04359709843993187,
          0.07417085766792297,
          0.05884112790226936,
          0.06676305830478668,
          0.09179767221212387,
          0.0896105170249939,
          0.06611989438533783,
          0.24278299510478973,
          0.22257521748542786,
          0.05314052477478981,
          0.07011772692203522,
          0.2420702576637268,
          0.12071231007575989,
          0.027664421126246452,
          0.2003890424966812,
          0.06555245816707611,
          0.16533830761909485,
          0.06704754382371902,
          0.10983927547931671,
          0.08200160413980484,
          0.11829933524131775,
          0.1749802529811859,
          0.098879374563694,
          0.045502688735723495,
          0.06797183305025101,
          0.09898218512535095,
          0.13642901182174683,
          0.08039093017578125,
          0.0481535904109478,
          0.05304182320833206,
          0.1026574969291687,
          0.08604927361011505,
          0.09413711726665497,
          0.12657105922698975,
          0.051471807062625885,
          0.20041967928409576,
          0.046955350786447525,
          0.06608337163925171,
          0.035787712782621384,
          0.06523251533508301,
          0.12533116340637207,
          0.1229528859257698,
          0.17392262816429138,
          0.14781953394412994,
          0.020449919626116753,
          0.14684385061264038,
          0.1058633103966713,
          0.05795856565237045,
          0.12540404498577118,
          0.12210604548454285,
          0.1501692533493042,
          0.0648459941148758,
          0.08475389331579208,
          0.12308068573474884,
          0.17159338295459747,
          0.018585722893476486,
          0.0413784496486187,
          0.07451097667217255,
          0.12216582894325256,
          0.05075693130493164,
          0.08103977888822556,
          0.1780467927455902,
          0.11443457752466202,
          0.1760164052248001,
          0.11585107445716858,
          0.09491393715143204,
          0.07801441103219986,
          0.08643409609794617,
          0.17295213043689728,
          0.1443949043750763,
          0.09396358579397202,
          0.15239523351192474,
          0.10098101943731308,
          0.05732344835996628,
          0.16261006891727448,
          0.07619722187519073,
          0.05118300020694733,
          0.09643935412168503,
          0.2613784074783325,
          0.06525455415248871,
          0.1316251903772354,
          0.07162606716156006,
          0.09687484055757523,
          0.1549071967601776,
          0.06945064663887024,
          0.1011357456445694,
          0.11765680462121964,
          0.1697654277086258,
          0.08401118963956833,
          0.0806894525885582,
          0.11310885101556778,
          0.1273660659790039,
          0.02611391246318817,
          0.1759941577911377,
          0.18659941852092743,
          0.08592599630355835,
          0.05671973153948784,
          0.10449977964162827,
          0.19138628244400024,
          0.11428140848875046,
          0.13840535283088684,
          0.16659240424633026,
          0.16206178069114685,
          0.0997684895992279,
          0.11289776116609573,
          0.2177465707063675,
          0.15192832052707672,
          0.06801454722881317,
          0.0369592159986496,
          0.2400919646024704,
          0.18384073674678802,
          0.06736864894628525,
          0.13005682826042175,
          0.17941735684871674,
          0.08837993443012238,
          0.0908132866024971,
          0.21148955821990967,
          0.07976136356592178,
          0.12061409652233124,
          0.09930232912302017,
          0.12416458874940872,
          0.21349096298217773,
          0.06785303354263306,
          0.019817039370536804,
          0.06196804717183113,
          0.23259127140045166,
          0.053876060992479324,
          0.05856165289878845,
          0.0695420429110527,
          0.08873004466295242,
          0.057015154510736465,
          0.19113919138908386,
          0.09454215317964554,
          0.1109292283654213,
          0.09409221261739731,
          0.1285994052886963,
          0.04980914667248726,
          0.038011662662029266,
          0.07266557961702347,
          0.03674980252981186,
          0.15328934788703918,
          0.15263141691684723,
          0.2852889895439148,
          0.13973720371723175,
          0.10580349713563919,
          0.11116869747638702,
          0.09018254280090332,
          0.11981089413166046,
          0.2063741385936737,
          0.1903940886259079,
          0.09282334893941879,
          0.056090958416461945,
          0.10168969631195068,
          0.12787316739559174,
          0.027674783021211624,
          0.14530174434185028,
          0.06456363201141357,
          0.08748723566532135,
          0.24794897437095642,
          0.14902861416339874,
          0.09001915901899338,
          0.1731414794921875,
          0.05729788541793823,
          0.09559977799654007,
          0.10727734863758087,
          0.10019172728061676,
          0.03676937520503998,
          0.22413279116153717,
          0.06755708903074265,
          0.09152376651763916,
          0.06861039996147156,
          0.06445208936929703,
          0.11054378002882004,
          0.2229551076889038,
          0.10779386013746262,
          0.13835537433624268,
          0.04105880483984947,
          0.1925857812166214,
          0.17713096737861633,
          0.13955947756767273,
          0.09326959401369095,
          0.13524866104125977,
          0.05454164743423462,
          0.029815465211868286,
          0.050092000514268875,
          0.11886914074420929,
          0.06534720212221146,
          0.07254699617624283,
          0.1374056488275528,
          0.07734639197587967,
          0.2438996136188507,
          0.06605764478445053,
          0.03194756060838699,
          0.18294554948806763,
          0.043644849210977554,
          0.11595845967531204,
          0.1617804616689682,
          0.16071626543998718,
          0.19224977493286133,
          0.3479818105697632,
          0.18068303167819977,
          0.1297369748353958,
          0.11320848762989044,
          0.034971244633197784,
          0.24557331204414368,
          0.24552690982818604,
          0.21026431024074554,
          0.2299771010875702,
          0.048990648239851,
          0.09527060389518738,
          0.12772734463214874,
          0.10406412929296494,
          0.1614769995212555,
          0.1524706333875656,
          0.09543110430240631,
          0.11888688802719116,
          0.0761016234755516,
          0.07085159420967102,
          0.22559629380702972,
          0.10988946259021759,
          0.0949685126543045,
          0.07428432255983353,
          0.1241641566157341,
          0.12243878096342087,
          0.08479656279087067,
          0.0952947810292244,
          0.0774611383676529,
          0.09999588131904602,
          0.07790485769510269,
          0.07964293658733368,
          0.21538017690181732,
          0.18830913305282593,
          0.15407486259937286,
          0.11857270449399948,
          0.08314286172389984,
          0.04577913135290146,
          0.2109285444021225,
          0.14943109452724457,
          0.1886003613471985,
          0.06392037868499756,
          0.08935263752937317,
          0.11712036281824112,
          0.21583594381809235,
          0.16329525411128998,
          0.13631749153137207,
          0.0886017233133316,
          0.21670056879520416,
          0.06724561005830765,
          0.04706357419490814,
          0.14239659905433655,
          0.07754737883806229,
          0.0600232258439064,
          0.02099040523171425,
          0.04054228588938713,
          0.09909887611865997,
          0.0741669237613678,
          0.07538794726133347,
          0.07744217664003372,
          0.06124211847782135,
          0.1670895665884018,
          0.09300629794597626,
          0.03529779240489006,
          0.05556724965572357,
          0.03762025013566017,
          0.07756669074296951,
          0.12137890607118607,
          0.030720647424459457,
          0.058777034282684326,
          0.12043481320142746,
          0.04529832676053047,
          0.13737528026103973,
          0.20748253166675568,
          0.023532984778285027,
          0.1767904907464981,
          0.09832398593425751,
          0.1445746123790741,
          0.1769290715456009,
          0.04272884503006935,
          0.16642121970653534,
          0.11947217583656311,
          0.06665654480457306,
          0.1152968481183052,
          0.08005982637405396,
          0.15477684140205383,
          0.09468428045511246,
          0.10220146924257278,
          0.11320590227842331,
          0.08045244961977005,
          0.09578610956668854,
          0.02457842044532299,
          0.0783243253827095,
          0.05383904650807381,
          0.08829759806394577,
          0.07175464183092117,
          0.08381175249814987,
          0.020336680114269257,
          0.08525779098272324,
          0.11368516087532043,
          0.11354435980319977,
          0.02952861413359642,
          0.06211737170815468,
          0.11070919781923294,
          0.06906242668628693,
          0.08971857279539108,
          0.04636424779891968,
          0.02353844791650772,
          0.033361565321683884,
          0.10741447657346725,
          0.058590006083250046,
          0.17274323105812073,
          0.17481814324855804,
          0.046542905271053314,
          0.05417737364768982,
          0.09887266159057617,
          0.0424865297973156,
          0.18041886389255524,
          0.15261103212833405,
          0.13225975632667542,
          0.17643405497074127,
          0.09129643440246582,
          0.0928715318441391,
          0.20758965611457825,
          0.0862446203827858,
          0.026965349912643433,
          0.06764402240514755,
          0.0296167004853487,
          0.08371323347091675,
          0.09901446849107742,
          0.09441464394330978,
          0.19782328605651855,
          0.14639852941036224,
          0.02387845329940319,
          0.05169312655925751,
          0.08012295514345169,
          0.01529175415635109,
          0.18454337120056152,
          0.016732169315218925,
          0.0728360041975975,
          0.04720527306199074,
          0.05798560008406639,
          0.05626960098743439,
          0.08912916481494904,
          0.07822033017873764,
          0.20519699156284332,
          0.09674376994371414,
          0.11097011715173721,
          0.1064729392528534,
          0.056564006954431534,
          0.11647362262010574,
          0.05081618204712868,
          0.08233249932527542,
          0.043621208518743515,
          0.03744646906852722,
          0.2985581159591675,
          0.16800910234451294,
          0.06429882347583771,
          0.0904185101389885,
          0.1268138587474823,
          0.035783350467681885,
          0.05268415808677673,
          0.055438075214624405,
          0.21634496748447418,
          0.027819855138659477,
          0.05497989431023598,
          0.06985048204660416,
          0.03512576222419739,
          0.09544894844293594,
          0.060291580855846405,
          0.131399005651474,
          0.04057302325963974,
          0.06977958977222443,
          0.18454819917678833,
          0.023543382063508034,
          0.160687655210495,
          0.039002060890197754,
          0.04758811742067337,
          0.0847238078713417,
          0.03998809680342674,
          0.05487538501620293,
          0.06424207240343094,
          0.12880674004554749,
          0.1176636591553688,
          0.07361301779747009,
          0.10703776776790619,
          0.07147777080535889,
          0.3963179588317871,
          0.08291671425104141,
          0.04586300626397133,
          0.03720344603061676,
          0.1192985400557518,
          0.04965556412935257,
          0.07001276314258575,
          0.05821147933602333,
          0.0581868439912796,
          0.027480632066726685,
          0.014887812547385693,
          0.08094630390405655,
          0.06537258625030518,
          0.25263115763664246,
          0.1513378918170929,
          0.18759001791477203,
          0.14978088438510895,
          0.046721648424863815,
          0.2759579122066498,
          0.06938925385475159,
          0.2756431996822357,
          0.10486523061990738,
          0.09761892259120941,
          0.0734909325838089,
          0.08731783926486969,
          0.10529480129480362,
          0.06968174129724503,
          0.12086273729801178,
          0.0760188102722168,
          0.194156676530838,
          0.025245262309908867,
          0.11849793046712875,
          0.07595867663621902,
          0.08171693980693817,
          0.09325087070465088,
          0.12823766469955444,
          0.10497290641069412,
          0.023957913741469383,
          0.16868902742862701,
          0.11180323362350464,
          0.04343758523464203,
          0.10808609426021576,
          0.054106809198856354,
          0.032331619411706924,
          0.19456997513771057,
          0.03156488016247749,
          0.023355672135949135,
          0.01140227448195219,
          0.05214114487171173,
          0.041045181453228,
          0.037194110453128815,
          0.05999879166483879,
          0.04814812168478966,
          0.10815778374671936,
          0.1117451936006546,
          0.06262239813804626,
          0.15669019520282745,
          0.03967725858092308,
          0.04531668499112129,
          0.05665923282504082,
          0.11041504889726639,
          0.08199901133775711,
          0.03165147453546524,
          0.10493524372577667,
          0.03787810355424881,
          0.06632748991250992,
          0.048434097319841385,
          0.1662399023771286,
          0.029631495475769043,
          0.07332347333431244,
          0.10248129069805145,
          0.0430779755115509,
          0.08863703906536102,
          0.06876064091920853,
          0.1727532148361206,
          0.06790703535079956,
          0.14691002666950226,
          0.04804285988211632,
          0.07223086804151535,
          0.0656873807311058,
          0.09717048704624176,
          0.0191599503159523,
          0.0867033377289772,
          0.032763510942459106,
          0.0966385081410408,
          0.10863026231527328,
          0.02466382086277008,
          0.2072652131319046,
          0.1628718376159668,
          0.12546969950199127,
          0.1734842211008072,
          0.07012443989515305,
          0.07228875905275345,
          0.13002361357212067,
          0.06045573577284813,
          0.08117660880088806,
          0.09230031073093414,
          0.038758378475904465,
          0.06652560830116272,
          0.10064428299665451,
          0.05979900807142258,
          0.043389786034822464,
          0.03534454479813576,
          0.1278190016746521,
          0.04007597640156746,
          0.0661642998456955,
          0.13322663307189941,
          0.10218019783496857,
          0.13511022925376892,
          0.05026046931743622,
          0.11913362890481949,
          0.0759347528219223,
          0.08714250475168228,
          0.03692108392715454,
          0.20692108571529388,
          0.13772989809513092,
          0.15106862783432007,
          0.04918596148490906,
          0.10438666492700577,
          0.09734825044870377,
          0.07389559596776962,
          0.03593341261148453,
          0.15257979929447174,
          0.08054765313863754,
          0.10376807302236557,
          0.10597293823957443,
          0.1353558897972107,
          0.09043233096599579,
          0.09976262599229813,
          0.13235986232757568,
          0.045261457562446594,
          0.07199399173259735,
          0.13699857890605927,
          0.31996023654937744,
          0.0869244933128357,
          0.04134450480341911,
          0.035168349742889404,
          0.12541715800762177,
          0.22319041192531586,
          0.11584457755088806,
          0.01782381162047386,
          0.02737448550760746,
          0.11876026540994644,
          0.016181915998458862,
          0.07823408395051956,
          0.016969498246908188,
          0.059708982706069946,
          0.09852184355258942,
          0.03764079138636589,
          0.020215358585119247,
          0.09135646373033524,
          0.07708390057086945,
          0.20012272894382477,
          0.13558554649353027,
          0.03552562743425369,
          0.06742463260889053,
          0.10936170071363449,
          0.19614914059638977,
          0.03605390712618828,
          0.10826212167739868,
          0.03642996400594711,
          0.08262570202350616,
          0.17545291781425476,
          0.08421291410923004,
          0.12084854394197464,
          0.15199816226959229,
          0.09439881891012192,
          0.13966681063175201,
          0.0462169349193573,
          0.16150858998298645,
          0.04921523109078407,
          0.27242159843444824,
          0.023372534662485123,
          0.04393576458096504,
          0.12350178509950638,
          0.0698096975684166,
          0.06754977256059647,
          0.03518233448266983,
          0.08919662982225418,
          0.03090999275445938,
          0.1922197937965393,
          0.0727955549955368,
          0.045826543122529984,
          0.21367941796779633,
          0.042425401508808136,
          0.02956400066614151,
          0.030406992882490158,
          0.0216591227799654,
          0.03944304957985878,
          0.07933389395475388,
          0.06610239297151566,
          0.039425671100616455,
          0.03806610032916069,
          0.04088885709643364,
          0.1725316196680069,
          0.076156847178936,
          0.02169647440314293,
          0.11612031608819962,
          0.10423588007688522,
          0.13812559843063354,
          0.0278847124427557,
          0.12522782385349274,
          0.13500043749809265,
          0.08596853166818619,
          0.013968197628855705,
          0.00983476173132658,
          0.05695098638534546,
          0.17471683025360107,
          0.09953608363866806,
          0.09540385007858276,
          0.14096581935882568,
          0.08196091651916504,
          0.05652909353375435,
          0.09337127208709717,
          0.06719547510147095,
          0.08846532553434372,
          0.04932451248168945,
          0.03182496130466461,
          0.1490483433008194,
          0.06127148121595383,
          0.15308740735054016,
          0.11371023952960968,
          0.07027935236692429,
          0.06207101419568062,
          0.17488637566566467,
          0.09796566516160965,
          0.05647001788020134,
          0.0895005613565445,
          0.0966632291674614,
          0.1265280693769455,
          0.09739220142364502,
          0.12507978081703186,
          0.186167910695076,
          0.0407407283782959,
          0.07412944734096527,
          0.0653330534696579,
          0.1686319261789322,
          0.10138040035963058,
          0.12163276225328445,
          0.0805128887295723,
          0.05153943598270416,
          0.09531482309103012,
          0.08008973300457001,
          0.019143197685480118,
          0.2069641649723053,
          0.029329298064112663,
          0.13724756240844727,
          0.020772887393832207,
          0.016469676047563553,
          0.19381798803806305,
          0.17974528670310974,
          0.0517890527844429,
          0.08497323840856552,
          0.11640715599060059,
          0.2097497582435608,
          0.1803872287273407,
          0.04927501827478409,
          0.07429847121238708,
          0.07034218311309814,
          0.19504672288894653,
          0.1276024878025055,
          0.12670624256134033,
          0.14749135076999664,
          0.0960400179028511,
          0.1798962950706482,
          0.06034596264362335,
          0.10975487530231476,
          0.07579752802848816,
          0.036226775497198105,
          0.06443830579519272,
          0.039763227105140686,
          0.014371906407177448,
          0.12492714822292328,
          0.12178368866443634,
          0.0795367956161499,
          0.0339374803006649,
          0.17172686755657196,
          0.02045297436416149,
          0.1551949828863144,
          0.12337939441204071,
          0.06251390278339386,
          0.061506375670433044,
          0.2630408704280853,
          0.19113445281982422,
          0.04551444202661514,
          0.13957832753658295,
          0.02706824243068695,
          0.06019973009824753,
          0.02995096892118454,
          0.13361597061157227,
          0.0419013574719429,
          0.057176198810338974,
          0.05026808753609657,
          0.17383308708667755,
          0.08310865610837936,
          0.0475865863263607,
          0.04702598601579666,
          0.09946323186159134,
          0.02526296302676201,
          0.06654658168554306,
          0.16009022295475006,
          0.09320535510778427,
          0.10386422276496887,
          0.13691726326942444,
          0.01337870117276907,
          0.04182036221027374,
          0.08440063148736954,
          0.0470738559961319,
          0.18832723796367645,
          0.02378673478960991,
          0.1253035068511963,
          0.07489321380853653,
          0.05733940750360489,
          0.06781965494155884,
          0.06451674550771713,
          0.036090705543756485,
          0.08473589271306992,
          0.1354811042547226,
          0.054032325744628906,
          0.2792179584503174,
          0.01576165296137333,
          0.07183333486318588,
          0.04951314628124237,
          0.07255963981151581,
          0.021174408495426178,
          0.020989134907722473,
          0.04307572543621063,
          0.07746948301792145,
          0.06067034602165222,
          0.08222798258066177,
          0.14542493224143982,
          0.055016595870256424,
          0.030381139367818832,
          0.12075983732938766,
          0.03759560361504555,
          0.1492147147655487,
          0.152834951877594,
          0.07331125438213348,
          0.16699627041816711,
          0.11008014529943466,
          0.07873907685279846,
          0.14003318548202515,
          0.10999103635549545,
          0.07379663735628128,
          0.08276736736297607,
          0.05997174233198166,
          0.0883881226181984,
          0.08292613178491592,
          0.20526738464832306,
          0.05266695097088814,
          0.049516089260578156,
          0.08986333757638931,
          0.03537963330745697,
          0.18396294116973877,
          0.05518198758363724,
          0.034455034881830215,
          0.08108413219451904,
          0.04366699606180191,
          0.09130140393972397,
          0.03234671801328659,
          0.07252912223339081,
          0.032324519008398056,
          0.0984698235988617,
          0.08618161082267761,
          0.06288403272628784,
          0.034730441868305206,
          0.15371538698673248,
          0.04734833538532257,
          0.059978924691677094,
          0.17814168334007263,
          0.10567247867584229,
          0.10853387415409088,
          0.1392722874879837,
          0.0869678258895874,
          0.1567588746547699,
          0.04242799058556557,
          0.1478009670972824,
          0.12503181397914886,
          0.1040600836277008,
          0.08824672549962997,
          0.1752602458000183,
          0.020203743129968643,
          0.06474784761667252,
          0.06090903654694557,
          0.07346568256616592,
          0.16794054210186005,
          0.04812571406364441,
          0.11303611844778061,
          0.15672104060649872,
          0.059883568435907364,
          0.215323805809021,
          0.04836207628250122,
          0.03491823375225067,
          0.030781349167227745,
          0.032289378345012665,
          0.02239176630973816,
          0.15340125560760498,
          0.0292742270976305,
          0.07581441104412079,
          0.0659133717417717,
          0.13324587047100067,
          0.06109078973531723,
          0.043566375970840454,
          0.1577279269695282,
          0.11297550052404404,
          0.04694465547800064,
          0.1328836977481842,
          0.1186276227235794,
          0.17852820456027985,
          0.060126375406980515,
          0.10817370563745499,
          0.00834941677749157,
          0.03457683324813843,
          0.01636764593422413,
          0.11907190084457397,
          0.19453038275241852,
          0.11236956715583801,
          0.06179385259747505,
          0.1074773296713829,
          0.11834109574556351,
          0.026611022651195526,
          0.13587400317192078,
          0.08493126183748245,
          0.12439984083175659,
          0.09676423668861389,
          0.3298860490322113,
          0.10178519785404205,
          0.07371971756219864,
          0.05357641354203224,
          0.0237300805747509,
          0.03226086124777794,
          0.16193217039108276,
          0.10122337192296982,
          0.04614969715476036,
          0.03161025419831276,
          0.07186058908700943,
          0.057006873190402985,
          0.053689196705818176,
          0.16138842701911926,
          0.08052774518728256,
          0.07324942946434021,
          0.10962310433387756,
          0.020795419812202454,
          0.05673838034272194,
          0.032614849507808685,
          0.0993400439620018,
          0.06477582454681396,
          0.05333930253982544,
          0.05686290189623833,
          0.13590987026691437,
          0.0985899418592453,
          0.06950106471776962,
          0.1306224912405014,
          0.028965365141630173,
          0.04206687584519386,
          0.07025790214538574,
          0.05926794558763504,
          0.13981008529663086,
          0.061775434762239456,
          0.16245706379413605,
          0.06110387668013573,
          0.05029371380805969,
          0.16577881574630737,
          0.08528590202331543,
          0.04501478746533394,
          0.05467692390084267,
          0.027164539322257042,
          0.16950160264968872,
          0.045176051557064056,
          0.05672749504446983,
          0.025559280067682266,
          0.09171991050243378,
          0.08380525559186935,
          0.11973563581705093,
          0.135576531291008,
          0.022106358781456947,
          0.12000574171543121,
          0.06817755848169327,
          0.10735759884119034,
          0.1121295616030693,
          0.03343473747372627,
          0.13320712745189667,
          0.05011669546365738,
          0.025161974132061005,
          0.10754287242889404,
          0.05606353282928467,
          0.06394848227500916,
          0.08777926117181778,
          0.05595168471336365,
          0.10407610237598419,
          0.10302304476499557,
          0.037734631448984146,
          0.025546543300151825,
          0.018276311457157135,
          0.16210155189037323,
          0.0584513358771801,
          0.14299741387367249,
          0.12447208911180496,
          0.07474491000175476,
          0.12209808826446533,
          0.10564778745174408,
          0.05006423220038414,
          0.01863730698823929,
          0.11184852570295334,
          0.01898711733520031,
          0.00547077925875783,
          0.09786980599164963,
          0.15891510248184204,
          0.11553332954645157,
          0.16918636858463287,
          0.14799764752388,
          0.09589588642120361,
          0.24639840424060822,
          0.10589368641376495,
          0.09037236869335175,
          0.11137937754392624,
          0.03673774003982544,
          0.10978969186544418,
          0.016066966578364372,
          0.3021010160446167,
          0.03083479218184948,
          0.0640370175242424,
          0.1465340554714203,
          0.025825832039117813,
          0.06941821426153183,
          0.13618053495883942,
          0.17422892153263092,
          0.12820854783058167,
          0.04275983199477196,
          0.08671070635318756,
          0.14121754467487335,
          0.11814768612384796,
          0.06283777952194214,
          0.056583814322948456,
          0.0529019832611084,
          0.037947945296764374,
          0.19050423800945282,
          0.02335095778107643,
          0.059681810438632965,
          0.024835851043462753,
          0.041288651525974274,
          0.026136497035622597,
          0.05643225088715553,
          0.0335686132311821,
          0.021287720650434494,
          0.03298153728246689,
          0.059508372098207474,
          0.17319554090499878,
          0.03956640511751175,
          0.10656029731035233,
          0.027628712356090546,
          0.1548672467470169,
          0.03163279965519905,
          0.026625845581293106,
          0.18801699578762054,
          0.1658576875925064,
          0.12284955382347107,
          0.043028414249420166,
          0.019305424764752388,
          0.04717433080077171,
          0.09783884882926941,
          0.11618688702583313,
          0.055253054946660995,
          0.08370925486087799,
          0.03579161688685417,
          0.2071007788181305,
          0.024408631026744843,
          0.019040381535887718,
          0.2695884704589844,
          0.12484059482812881,
          0.02397961914539337,
          0.08660341799259186,
          0.13869763910770416,
          0.10743232071399689,
          0.03813422843813896,
          0.15358655154705048,
          0.08834660053253174,
          0.05951104313135147,
          0.20369619131088257,
          0.142247274518013,
          0.06207911670207977,
          0.07179770618677139,
          0.07173511385917664,
          0.06801662594079971,
          0.18799735605716705,
          0.13016164302825928,
          0.06426148116588593,
          0.015632519498467445,
          0.05638759210705757,
          0.1102883443236351,
          0.03079729527235031,
          0.14091548323631287,
          0.01994514651596546,
          0.09690850973129272,
          0.04157150536775589,
          0.07274643331766129,
          0.09800202399492264,
          0.09023801237344742,
          0.03398565202951431,
          0.060151610523462296,
          0.05155698210000992,
          0.022397480905056,
          0.0664869174361229,
          0.10456832498311996,
          0.01093613263219595,
          0.05839509144425392,
          0.05038264021277428,
          0.08391866832971573,
          0.042233243584632874,
          0.05085910111665726,
          0.0785619243979454,
          0.17952878773212433,
          0.18958920240402222,
          0.111044742166996,
          0.009705175645649433,
          0.1435200721025467,
          0.05385388433933258,
          0.06919890642166138,
          0.12239142507314682,
          0.07123114168643951,
          0.06286673247814178,
          0.15139715373516083,
          0.1339622586965561,
          0.1384306401014328,
          0.079766184091568,
          0.0710458979010582,
          0.10323603451251984,
          0.06830646842718124,
          0.028268013149499893,
          0.07647132128477097,
          0.06906653940677643,
          0.08542284369468689,
          0.10226951539516449,
          0.11067740619182587,
          0.10219787806272507,
          0.06549762934446335,
          0.13747847080230713,
          0.2394176721572876,
          0.13262367248535156,
          0.09550242871046066,
          0.11862131953239441,
          0.06035478413105011,
          0.09362010657787323,
          0.22650130093097687,
          0.17538855969905853,
          0.08134753257036209,
          0.035131458193063736,
          0.06882346421480179,
          0.05152689293026924,
          0.10785539448261261,
          0.08066714555025101,
          0.009403824806213379,
          0.160799041390419,
          0.04610956087708473,
          0.02339641936123371,
          0.05996236205101013,
          0.03992491587996483,
          0.11828672885894775,
          0.04137318953871727,
          0.010641486383974552,
          0.05764658749103546,
          0.14292843639850616,
          0.036723535507917404,
          0.03255203738808632,
          0.028195027261972427,
          0.2093508094549179,
          0.02607896737754345,
          0.117417111992836,
          0.1948014497756958,
          0.10956870019435883,
          0.037325698882341385,
          0.10995325446128845,
          0.0248598363250494,
          0.050963982939720154,
          0.03958050161600113,
          0.07251307368278503,
          0.15168796479701996,
          0.07354925572872162,
          0.07844682037830353,
          0.051498085260391235,
          0.035143785178661346,
          0.07954435050487518,
          0.03282926604151726,
          0.2126753330230713,
          0.04957457259297371,
          0.039747316390275955,
          0.08188236504793167,
          0.04520527273416519,
          0.10603197664022446,
          0.03627626970410347,
          0.1615406721830368,
          0.07443338632583618,
          0.1124192550778389,
          0.050838202238082886,
          0.04703296348452568,
          0.16635006666183472,
          0.05382198095321655,
          0.06180793419480324,
          0.0512186735868454,
          0.09894108027219772,
          0.21404464542865753,
          0.11084368824958801,
          0.044224925339221954,
          0.044875651597976685,
          0.07245289534330368,
          0.06792309880256653,
          0.09005283564329147,
          0.09549612551927567,
          0.11333473771810532,
          0.0976669043302536,
          0.07288151234388351,
          0.12974679470062256,
          0.08806212246417999,
          0.051346857100725174,
          0.022394731640815735,
          0.0160715002566576,
          0.053195443004369736,
          0.09956569969654083,
          0.06628923863172531,
          0.03613274171948433,
          0.06453420966863632,
          0.0690784603357315,
          0.12418919801712036,
          0.02246362343430519,
          0.21526922285556793,
          0.07837647199630737,
          0.05161562189459801,
          0.06283178925514221,
          0.0558939166367054,
          0.239996537566185,
          0.051711201667785645,
          0.02950373664498329,
          0.1518949270248413,
          0.08370405435562134,
          0.13814066350460052,
          0.0476791150867939,
          0.13292603194713593,
          0.08405331522226334,
          0.05639487877488136,
          0.11862891167402267,
          0.12429697811603546,
          0.08132985234260559,
          0.02642453834414482,
          0.06361358612775803,
          0.07147855311632156,
          0.06449474394321442,
          0.04484718292951584,
          0.045905694365501404,
          0.11509455740451813,
          0.014738949947059155,
          0.04056292027235031,
          0.09185270965099335,
          0.11591047793626785,
          0.07862783223390579,
          0.0432717502117157,
          0.11562363803386688,
          0.07604686915874481,
          0.06402838230133057,
          0.04656846821308136,
          0.10679493099451065,
          0.14376479387283325,
          0.07595907151699066,
          0.04836180433630943,
          0.09436852484941483,
          0.07708605378866196,
          0.021117668598890305,
          0.03917953744530678,
          0.07585365325212479,
          0.025579432025551796,
          0.049721673130989075,
          0.05170625075697899,
          0.028560400009155273,
          0.09000401943922043,
          0.09293729811906815,
          0.051620595157146454,
          0.21729592978954315,
          0.10296957194805145,
          0.08338339626789093,
          0.016132475808262825,
          0.018892161548137665,
          0.0910121276974678,
          0.11445153504610062,
          0.019106097519397736,
          0.12102964520454407,
          0.0696064829826355,
          0.054068341851234436,
          0.08393040299415588,
          0.13163278996944427,
          0.24768255650997162,
          0.2224062979221344,
          0.10611222684383392,
          0.1311197727918625,
          0.014433522708714008,
          0.06303852051496506,
          0.08442838490009308,
          0.02635774202644825,
          0.057131532579660416,
          0.0412454828619957,
          0.012137277983129025,
          0.06851179152727127,
          0.1497534066438675,
          0.16305941343307495,
          0.025511670857667923,
          0.10834147781133652,
          0.12031224370002747,
          0.04466908425092697,
          0.01135719008743763,
          0.13786424696445465,
          0.012330211699008942,
          0.06003028526902199,
          0.05438145250082016,
          0.04384136572480202,
          0.10864593833684921,
          0.07759062945842743,
          0.12549179792404175,
          0.03557872772216797,
          0.05923373997211456,
          0.014992588199675083,
          0.07042841613292694,
          0.0683918222784996,
          0.02842712216079235,
          0.058291252702474594,
          0.061260029673576355,
          0.1003468781709671,
          0.0710919126868248,
          0.12194975465536118,
          0.1629178375005722,
          0.05497650429606438,
          0.009518505074083805,
          0.0362386628985405,
          0.10311686247587204,
          0.05562244728207588,
          0.09668400883674622,
          0.02066880650818348,
          0.030413394793868065,
          0.12860524654388428,
          0.04711848124861717,
          0.10341616719961166,
          0.12105415016412735,
          0.08166170120239258,
          0.11394113302230835,
          0.13236641883850098,
          0.020160820335149765,
          0.022119194269180298,
          0.10380387306213379,
          0.026023173704743385
         ],
         "yaxis": "y"
        }
       ],
       "layout": {
        "height": 360,
        "hovermode": "x unified",
        "legend": {
         "tracegroupgap": 0
        },
        "template": {
         "data": {
          "bar": [
           {
            "error_x": {
             "color": "#2a3f5f"
            },
            "error_y": {
             "color": "#2a3f5f"
            },
            "marker": {
             "line": {
              "color": "#E5ECF6",
              "width": 0.5
             },
             "pattern": {
              "fillmode": "overlay",
              "size": 10,
              "solidity": 0.2
             }
            },
            "type": "bar"
           }
          ],
          "barpolar": [
           {
            "marker": {
             "line": {
              "color": "#E5ECF6",
              "width": 0.5
             },
             "pattern": {
              "fillmode": "overlay",
              "size": 10,
              "solidity": 0.2
             }
            },
            "type": "barpolar"
           }
          ],
          "carpet": [
           {
            "aaxis": {
             "endlinecolor": "#2a3f5f",
             "gridcolor": "white",
             "linecolor": "white",
             "minorgridcolor": "white",
             "startlinecolor": "#2a3f5f"
            },
            "baxis": {
             "endlinecolor": "#2a3f5f",
             "gridcolor": "white",
             "linecolor": "white",
             "minorgridcolor": "white",
             "startlinecolor": "#2a3f5f"
            },
            "type": "carpet"
           }
          ],
          "choropleth": [
           {
            "colorbar": {
             "outlinewidth": 0,
             "ticks": ""
            },
            "type": "choropleth"
           }
          ],
          "contour": [
           {
            "colorbar": {
             "outlinewidth": 0,
             "ticks": ""
            },
            "colorscale": [
             [
              0,
              "#0d0887"
             ],
             [
              0.1111111111111111,
              "#46039f"
             ],
             [
              0.2222222222222222,
              "#7201a8"
             ],
             [
              0.3333333333333333,
              "#9c179e"
             ],
             [
              0.4444444444444444,
              "#bd3786"
             ],
             [
              0.5555555555555556,
              "#d8576b"
             ],
             [
              0.6666666666666666,
              "#ed7953"
             ],
             [
              0.7777777777777778,
              "#fb9f3a"
             ],
             [
              0.8888888888888888,
              "#fdca26"
             ],
             [
              1,
              "#f0f921"
             ]
            ],
            "type": "contour"
           }
          ],
          "contourcarpet": [
           {
            "colorbar": {
             "outlinewidth": 0,
             "ticks": ""
            },
            "type": "contourcarpet"
           }
          ],
          "heatmap": [
           {
            "colorbar": {
             "outlinewidth": 0,
             "ticks": ""
            },
            "colorscale": [
             [
              0,
              "#0d0887"
             ],
             [
              0.1111111111111111,
              "#46039f"
             ],
             [
              0.2222222222222222,
              "#7201a8"
             ],
             [
              0.3333333333333333,
              "#9c179e"
             ],
             [
              0.4444444444444444,
              "#bd3786"
             ],
             [
              0.5555555555555556,
              "#d8576b"
             ],
             [
              0.6666666666666666,
              "#ed7953"
             ],
             [
              0.7777777777777778,
              "#fb9f3a"
             ],
             [
              0.8888888888888888,
              "#fdca26"
             ],
             [
              1,
              "#f0f921"
             ]
            ],
            "type": "heatmap"
           }
          ],
          "heatmapgl": [
           {
            "colorbar": {
             "outlinewidth": 0,
             "ticks": ""
            },
            "colorscale": [
             [
              0,
              "#0d0887"
             ],
             [
              0.1111111111111111,
              "#46039f"
             ],
             [
              0.2222222222222222,
              "#7201a8"
             ],
             [
              0.3333333333333333,
              "#9c179e"
             ],
             [
              0.4444444444444444,
              "#bd3786"
             ],
             [
              0.5555555555555556,
              "#d8576b"
             ],
             [
              0.6666666666666666,
              "#ed7953"
             ],
             [
              0.7777777777777778,
              "#fb9f3a"
             ],
             [
              0.8888888888888888,
              "#fdca26"
             ],
             [
              1,
              "#f0f921"
             ]
            ],
            "type": "heatmapgl"
           }
          ],
          "histogram": [
           {
            "marker": {
             "pattern": {
              "fillmode": "overlay",
              "size": 10,
              "solidity": 0.2
             }
            },
            "type": "histogram"
           }
          ],
          "histogram2d": [
           {
            "colorbar": {
             "outlinewidth": 0,
             "ticks": ""
            },
            "colorscale": [
             [
              0,
              "#0d0887"
             ],
             [
              0.1111111111111111,
              "#46039f"
             ],
             [
              0.2222222222222222,
              "#7201a8"
             ],
             [
              0.3333333333333333,
              "#9c179e"
             ],
             [
              0.4444444444444444,
              "#bd3786"
             ],
             [
              0.5555555555555556,
              "#d8576b"
             ],
             [
              0.6666666666666666,
              "#ed7953"
             ],
             [
              0.7777777777777778,
              "#fb9f3a"
             ],
             [
              0.8888888888888888,
              "#fdca26"
             ],
             [
              1,
              "#f0f921"
             ]
            ],
            "type": "histogram2d"
           }
          ],
          "histogram2dcontour": [
           {
            "colorbar": {
             "outlinewidth": 0,
             "ticks": ""
            },
            "colorscale": [
             [
              0,
              "#0d0887"
             ],
             [
              0.1111111111111111,
              "#46039f"
             ],
             [
              0.2222222222222222,
              "#7201a8"
             ],
             [
              0.3333333333333333,
              "#9c179e"
             ],
             [
              0.4444444444444444,
              "#bd3786"
             ],
             [
              0.5555555555555556,
              "#d8576b"
             ],
             [
              0.6666666666666666,
              "#ed7953"
             ],
             [
              0.7777777777777778,
              "#fb9f3a"
             ],
             [
              0.8888888888888888,
              "#fdca26"
             ],
             [
              1,
              "#f0f921"
             ]
            ],
            "type": "histogram2dcontour"
           }
          ],
          "mesh3d": [
           {
            "colorbar": {
             "outlinewidth": 0,
             "ticks": ""
            },
            "type": "mesh3d"
           }
          ],
          "parcoords": [
           {
            "line": {
             "colorbar": {
              "outlinewidth": 0,
              "ticks": ""
             }
            },
            "type": "parcoords"
           }
          ],
          "pie": [
           {
            "automargin": true,
            "type": "pie"
           }
          ],
          "scatter": [
           {
            "fillpattern": {
             "fillmode": "overlay",
             "size": 10,
             "solidity": 0.2
            },
            "type": "scatter"
           }
          ],
          "scatter3d": [
           {
            "line": {
             "colorbar": {
              "outlinewidth": 0,
              "ticks": ""
             }
            },
            "marker": {
             "colorbar": {
              "outlinewidth": 0,
              "ticks": ""
             }
            },
            "type": "scatter3d"
           }
          ],
          "scattercarpet": [
           {
            "marker": {
             "colorbar": {
              "outlinewidth": 0,
              "ticks": ""
             }
            },
            "type": "scattercarpet"
           }
          ],
          "scattergeo": [
           {
            "marker": {
             "colorbar": {
              "outlinewidth": 0,
              "ticks": ""
             }
            },
            "type": "scattergeo"
           }
          ],
          "scattergl": [
           {
            "marker": {
             "colorbar": {
              "outlinewidth": 0,
              "ticks": ""
             }
            },
            "type": "scattergl"
           }
          ],
          "scattermapbox": [
           {
            "marker": {
             "colorbar": {
              "outlinewidth": 0,
              "ticks": ""
             }
            },
            "type": "scattermapbox"
           }
          ],
          "scatterpolar": [
           {
            "marker": {
             "colorbar": {
              "outlinewidth": 0,
              "ticks": ""
             }
            },
            "type": "scatterpolar"
           }
          ],
          "scatterpolargl": [
           {
            "marker": {
             "colorbar": {
              "outlinewidth": 0,
              "ticks": ""
             }
            },
            "type": "scatterpolargl"
           }
          ],
          "scatterternary": [
           {
            "marker": {
             "colorbar": {
              "outlinewidth": 0,
              "ticks": ""
             }
            },
            "type": "scatterternary"
           }
          ],
          "surface": [
           {
            "colorbar": {
             "outlinewidth": 0,
             "ticks": ""
            },
            "colorscale": [
             [
              0,
              "#0d0887"
             ],
             [
              0.1111111111111111,
              "#46039f"
             ],
             [
              0.2222222222222222,
              "#7201a8"
             ],
             [
              0.3333333333333333,
              "#9c179e"
             ],
             [
              0.4444444444444444,
              "#bd3786"
             ],
             [
              0.5555555555555556,
              "#d8576b"
             ],
             [
              0.6666666666666666,
              "#ed7953"
             ],
             [
              0.7777777777777778,
              "#fb9f3a"
             ],
             [
              0.8888888888888888,
              "#fdca26"
             ],
             [
              1,
              "#f0f921"
             ]
            ],
            "type": "surface"
           }
          ],
          "table": [
           {
            "cells": {
             "fill": {
              "color": "#EBF0F8"
             },
             "line": {
              "color": "white"
             }
            },
            "header": {
             "fill": {
              "color": "#C8D4E3"
             },
             "line": {
              "color": "white"
             }
            },
            "type": "table"
           }
          ]
         },
         "layout": {
          "annotationdefaults": {
           "arrowcolor": "#2a3f5f",
           "arrowhead": 0,
           "arrowwidth": 1
          },
          "autotypenumbers": "strict",
          "coloraxis": {
           "colorbar": {
            "outlinewidth": 0,
            "ticks": ""
           }
          },
          "colorscale": {
           "diverging": [
            [
             0,
             "#8e0152"
            ],
            [
             0.1,
             "#c51b7d"
            ],
            [
             0.2,
             "#de77ae"
            ],
            [
             0.3,
             "#f1b6da"
            ],
            [
             0.4,
             "#fde0ef"
            ],
            [
             0.5,
             "#f7f7f7"
            ],
            [
             0.6,
             "#e6f5d0"
            ],
            [
             0.7,
             "#b8e186"
            ],
            [
             0.8,
             "#7fbc41"
            ],
            [
             0.9,
             "#4d9221"
            ],
            [
             1,
             "#276419"
            ]
           ],
           "sequential": [
            [
             0,
             "#0d0887"
            ],
            [
             0.1111111111111111,
             "#46039f"
            ],
            [
             0.2222222222222222,
             "#7201a8"
            ],
            [
             0.3333333333333333,
             "#9c179e"
            ],
            [
             0.4444444444444444,
             "#bd3786"
            ],
            [
             0.5555555555555556,
             "#d8576b"
            ],
            [
             0.6666666666666666,
             "#ed7953"
            ],
            [
             0.7777777777777778,
             "#fb9f3a"
            ],
            [
             0.8888888888888888,
             "#fdca26"
            ],
            [
             1,
             "#f0f921"
            ]
           ],
           "sequentialminus": [
            [
             0,
             "#0d0887"
            ],
            [
             0.1111111111111111,
             "#46039f"
            ],
            [
             0.2222222222222222,
             "#7201a8"
            ],
            [
             0.3333333333333333,
             "#9c179e"
            ],
            [
             0.4444444444444444,
             "#bd3786"
            ],
            [
             0.5555555555555556,
             "#d8576b"
            ],
            [
             0.6666666666666666,
             "#ed7953"
            ],
            [
             0.7777777777777778,
             "#fb9f3a"
            ],
            [
             0.8888888888888888,
             "#fdca26"
            ],
            [
             1,
             "#f0f921"
            ]
           ]
          },
          "colorway": [
           "#636efa",
           "#EF553B",
           "#00cc96",
           "#ab63fa",
           "#FFA15A",
           "#19d3f3",
           "#FF6692",
           "#B6E880",
           "#FF97FF",
           "#FECB52"
          ],
          "font": {
           "color": "#2a3f5f"
          },
          "geo": {
           "bgcolor": "white",
           "lakecolor": "white",
           "landcolor": "#E5ECF6",
           "showlakes": true,
           "showland": true,
           "subunitcolor": "white"
          },
          "hoverlabel": {
           "align": "left"
          },
          "hovermode": "closest",
          "mapbox": {
           "style": "light"
          },
          "paper_bgcolor": "white",
          "plot_bgcolor": "#E5ECF6",
          "polar": {
           "angularaxis": {
            "gridcolor": "white",
            "linecolor": "white",
            "ticks": ""
           },
           "bgcolor": "#E5ECF6",
           "radialaxis": {
            "gridcolor": "white",
            "linecolor": "white",
            "ticks": ""
           }
          },
          "scene": {
           "xaxis": {
            "backgroundcolor": "#E5ECF6",
            "gridcolor": "white",
            "gridwidth": 2,
            "linecolor": "white",
            "showbackground": true,
            "ticks": "",
            "zerolinecolor": "white"
           },
           "yaxis": {
            "backgroundcolor": "#E5ECF6",
            "gridcolor": "white",
            "gridwidth": 2,
            "linecolor": "white",
            "showbackground": true,
            "ticks": "",
            "zerolinecolor": "white"
           },
           "zaxis": {
            "backgroundcolor": "#E5ECF6",
            "gridcolor": "white",
            "gridwidth": 2,
            "linecolor": "white",
            "showbackground": true,
            "ticks": "",
            "zerolinecolor": "white"
           }
          },
          "shapedefaults": {
           "line": {
            "color": "#2a3f5f"
           }
          },
          "ternary": {
           "aaxis": {
            "gridcolor": "white",
            "linecolor": "white",
            "ticks": ""
           },
           "baxis": {
            "gridcolor": "white",
            "linecolor": "white",
            "ticks": ""
           },
           "bgcolor": "#E5ECF6",
           "caxis": {
            "gridcolor": "white",
            "linecolor": "white",
            "ticks": ""
           }
          },
          "title": {
           "x": 0.05
          },
          "xaxis": {
           "automargin": true,
           "gridcolor": "white",
           "linecolor": "white",
           "ticks": "",
           "title": {
            "standoff": 15
           },
           "zerolinecolor": "white",
           "zerolinewidth": 2
          },
          "yaxis": {
           "automargin": true,
           "gridcolor": "white",
           "linecolor": "white",
           "ticks": "",
           "title": {
            "standoff": 15
           },
           "zerolinecolor": "white",
           "zerolinewidth": 2
          }
         }
        },
        "title": {
         "text": "SimpleMLP training on MNIST"
        },
        "width": 700,
        "xaxis": {
         "anchor": "y",
         "autorange": true,
         "domain": [
          0,
          1
         ],
         "range": [
          0,
          2813
         ],
         "title": {
          "text": "Num batches seen"
         },
         "type": "linear"
        },
        "yaxis": {
         "anchor": "x",
         "domain": [
          0,
          1
         ],
         "range": [
          0,
          2.4251559734344483
         ],
         "title": {
          "text": "Cross entropy loss"
         },
         "type": "linear"
        }
       }
      },
      "image/png": "[encoded data removed]",
      "text/html": [
       "<div>                            <div id=\"fada765e-b067-45a3-9c36-63df7e27b285\" class=\"plotly-graph-div\" style=\"height:525px; width:700px;\"></div>            <script type=\"text/javascript\">                require([\"plotly\"], function(Plotly) {                    window.PLOTLYENV=window.PLOTLYENV || {};                                    if (document.getElementById(\"fada765e-b067-45a3-9c36-63df7e27b285\")) {                    Plotly.newPlot(                        \"fada765e-b067-45a3-9c36-63df7e27b285\",                        [{\"hovertemplate\":\"Num batches seen=%{x}\\u003cbr\\u003eCross entropy loss=%{y}\\u003cextra\\u003e\\u003c\\u002fextra\\u003e\",\"legendgroup\":\"\",\"line\":{\"color\":\"#636efa\",\"dash\":\"solid\"},\"marker\":{\"symbol\":\"circle\"},\"mode\":\"lines\",\"name\":\"\",\"showlegend\":false,\"x\":[0,1,2,3,4,5,6,7,8,9,10,11,12,13,14,15,16,17,18,19,20,21,22,23,24,25,26,27,28,29,30,31,32,33,34,35,36,37,38,39,40,41,42,43,44,45,46,47,48,49,50,51,52,53,54,55,56,57,58,59,60,61,62,63,64,65,66,67,68,69,70,71,72,73,74,75,76,77,78,79,80,81,82,83,84,85,86,87,88,89,90,91,92,93,94,95,96,97,98,99,100,101,102,103,104,105,106,107,108,109,110,111,112,113,114,115,116,117,118,119,120,121,122,123,124,125,126,127,128,129,130,131,132,133,134,135,136,137,138,139,140,141,142,143,144,145,146,147,148,149,150,151,152,153,154,155,156,157,158,159,160,161,162,163,164,165,166,167,168,169,170,171,172,173,174,175,176,177,178,179,180,181,182,183,184,185,186,187,188,189,190,191,192,193,194,195,196,197,198,199,200,201,202,203,204,205,206,207,208,209,210,211,212,213,214,215,216,217,218,219,220,221,222,223,224,225,226,227,228,229,230,231,232,233,234,235,236,237,238,239,240,241,242,243,244,245,246,247,248,249,250,251,252,253,254,255,256,257,258,259,260,261,262,263,264,265,266,267,268,269,270,271,272,273,274,275,276,277,278,279,280,281,282,283,284,285,286,287,288,289,290,291,292,293,294,295,296,297,298,299,300,301,302,303,304,305,306,307,308,309,310,311,312,313,314,315,316,317,318,319,320,321,322,323,324,325,326,327,328,329,330,331,332,333,334,335,336,337,338,339,340,341,342,343,344,345,346,347,348,349,350,351,352,353,354,355,356,357,358,359,360,361,362,363,364,365,366,367,368,369,370,371,372,373,374,375,376,377,378,379,380,381,382,383,384,385,386,387,388,389,390,391,392,393,394,395,396,397,398,399,400,401,402,403,404,405,406,407,408,409,410,411,412,413,414,415,416,417,418,419,420,421,422,423,424,425,426,427,428,429,430,431,432,433,434,435,436,437,438,439,440,441,442,443,444,445,446,447,448,449,450,451,452,453,454,455,456,457,458,459,460,461,462,463,464,465,466,467,468,469,470,471,472,473,474,475,476,477,478,479,480,481,482,483,484,485,486,487,488,489,490,491,492,493,494,495,496,497,498,499,500,501,502,503,504,505,506,507,508,509,510,511,512,513,514,515,516,517,518,519,520,521,522,523,524,525,526,527,528,529,530,531,532,533,534,535,536,537,538,539,540,541,542,543,544,545,546,547,548,549,550,551,552,553,554,555,556,557,558,559,560,561,562,563,564,565,566,567,568,569,570,571,572,573,574,575,576,577,578,579,580,581,582,583,584,585,586,587,588,589,590,591,592,593,594,595,596,597,598,599,600,601,602,603,604,605,606,607,608,609,610,611,612,613,614,615,616,617,618,619,620,621,622,623,624,625,626,627,628,629,630,631,632,633,634,635,636,637,638,639,640,641,642,643,644,645,646,647,648,649,650,651,652,653,654,655,656,657,658,659,660,661,662,663,664,665,666,667,668,669,670,671,672,673,674,675,676,677,678,679,680,681,682,683,684,685,686,687,688,689,690,691,692,693,694,695,696,697,698,699,700,701,702,703,704,705,706,707,708,709,710,711,712,713,714,715,716,717,718,719,720,721,722,723,724,725,726,727,728,729,730,731,732,733,734,735,736,737,738,739,740,741,742,743,744,745,746,747,748,749,750,751,752,753,754,755,756,757,758,759,760,761,762,763,764,765,766,767,768,769,770,771,772,773,774,775,776,777,778,779,780,781,782,783,784,785,786,787,788,789,790,791,792,793,794,795,796,797,798,799,800,801,802,803,804,805,806,807,808,809,810,811,812,813,814,815,816,817,818,819,820,821,822,823,824,825,826,827,828,829,830,831,832,833,834,835,836,837,838,839,840,841,842,843,844,845,846,847,848,849,850,851,852,853,854,855,856,857,858,859,860,861,862,863,864,865,866,867,868,869,870,871,872,873,874,875,876,877,878,879,880,881,882,883,884,885,886,887,888,889,890,891,892,893,894,895,896,897,898,899,900,901,902,903,904,905,906,907,908,909,910,911,912,913,914,915,916,917,918,919,920,921,922,923,924,925,926,927,928,929,930,931,932,933,934,935,936,937,938,939,940,941,942,943,944,945,946,947,948,949,950,951,952,953,954,955,956,957,958,959,960,961,962,963,964,965,966,967,968,969,970,971,972,973,974,975,976,977,978,979,980,981,982,983,984,985,986,987,988,989,990,991,992,993,994,995,996,997,998,999,1000,1001,1002,1003,1004,1005,1006,1007,1008,1009,1010,1011,1012,1013,1014,1015,1016,1017,1018,1019,1020,1021,1022,1023,1024,1025,1026,1027,1028,1029,1030,1031,1032,1033,1034,1035,1036,1037,1038,1039,1040,1041,1042,1043,1044,1045,1046,1047,1048,1049,1050,1051,1052,1053,1054,1055,1056,1057,1058,1059,1060,1061,1062,1063,1064,1065,1066,1067,1068,1069,1070,1071,1072,1073,1074,1075,1076,1077,1078,1079,1080,1081,1082,1083,1084,1085,1086,1087,1088,1089,1090,1091,1092,1093,1094,1095,1096,1097,1098,1099,1100,1101,1102,1103,1104,1105,1106,1107,1108,1109,1110,1111,1112,1113,1114,1115,1116,1117,1118,1119,1120,1121,1122,1123,1124,1125,1126,1127,1128,1129,1130,1131,1132,1133,1134,1135,1136,1137,1138,1139,1140,1141,1142,1143,1144,1145,1146,1147,1148,1149,1150,1151,1152,1153,1154,1155,1156,1157,1158,1159,1160,1161,1162,1163,1164,1165,1166,1167,1168,1169,1170,1171,1172,1173,1174,1175,1176,1177,1178,1179,1180,1181,1182,1183,1184,1185,1186,1187,1188,1189,1190,1191,1192,1193,1194,1195,1196,1197,1198,1199,1200,1201,1202,1203,1204,1205,1206,1207,1208,1209,1210,1211,1212,1213,1214,1215,1216,1217,1218,1219,1220,1221,1222,1223,1224,1225,1226,1227,1228,1229,1230,1231,1232,1233,1234,1235,1236,1237,1238,1239,1240,1241,1242,1243,1244,1245,1246,1247,1248,1249,1250,1251,1252,1253,1254,1255,1256,1257,1258,1259,1260,1261,1262,1263,1264,1265,1266,1267,1268,1269,1270,1271,1272,1273,1274,1275,1276,1277,1278,1279,1280,1281,1282,1283,1284,1285,1286,1287,1288,1289,1290,1291,1292,1293,1294,1295,1296,1297,1298,1299,1300,1301,1302,1303,1304,1305,1306,1307,1308,1309,1310,1311,1312,1313,1314,1315,1316,1317,1318,1319,1320,1321,1322,1323,1324,1325,1326,1327,1328,1329,1330,1331,1332,1333,1334,1335,1336,1337,1338,1339,1340,1341,1342,1343,1344,1345,1346,1347,1348,1349,1350,1351,1352,1353,1354,1355,1356,1357,1358,1359,1360,1361,1362,1363,1364,1365,1366,1367,1368,1369,1370,1371,1372,1373,1374,1375,1376,1377,1378,1379,1380,1381,1382,1383,1384,1385,1386,1387,1388,1389,1390,1391,1392,1393,1394,1395,1396,1397,1398,1399,1400,1401,1402,1403,1404,1405,1406,1407,1408,1409,1410,1411,1412,1413,1414,1415,1416,1417,1418,1419,1420,1421,1422,1423,1424,1425,1426,1427,1428,1429,1430,1431,1432,1433,1434,1435,1436,1437,1438,1439,1440,1441,1442,1443,1444,1445,1446,1447,1448,1449,1450,1451,1452,1453,1454,1455,1456,1457,1458,1459,1460,1461,1462,1463,1464,1465,1466,1467,1468,1469,1470,1471,1472,1473,1474,1475,1476,1477,1478,1479,1480,1481,1482,1483,1484,1485,1486,1487,1488,1489,1490,1491,1492,1493,1494,1495,1496,1497,1498,1499,1500,1501,1502,1503,1504,1505,1506,1507,1508,1509,1510,1511,1512,1513,1514,1515,1516,1517,1518,1519,1520,1521,1522,1523,1524,1525,1526,1527,1528,1529,1530,1531,1532,1533,1534,1535,1536,1537,1538,1539,1540,1541,1542,1543,1544,1545,1546,1547,1548,1549,1550,1551,1552,1553,1554,1555,1556,1557,1558,1559,1560,1561,1562,1563,1564,1565,1566,1567,1568,1569,1570,1571,1572,1573,1574,1575,1576,1577,1578,1579,1580,1581,1582,1583,1584,1585,1586,1587,1588,1589,1590,1591,1592,1593,1594,1595,1596,1597,1598,1599,1600,1601,1602,1603,1604,1605,1606,1607,1608,1609,1610,1611,1612,1613,1614,1615,1616,1617,1618,1619,1620,1621,1622,1623,1624,1625,1626,1627,1628,1629,1630,1631,1632,1633,1634,1635,1636,1637,1638,1639,1640,1641,1642,1643,1644,1645,1646,1647,1648,1649,1650,1651,1652,1653,1654,1655,1656,1657,1658,1659,1660,1661,1662,1663,1664,1665,1666,1667,1668,1669,1670,1671,1672,1673,1674,1675,1676,1677,1678,1679,1680,1681,1682,1683,1684,1685,1686,1687,1688,1689,1690,1691,1692,1693,1694,1695,1696,1697,1698,1699,1700,1701,1702,1703,1704,1705,1706,1707,1708,1709,1710,1711,1712,1713,1714,1715,1716,1717,1718,1719,1720,1721,1722,1723,1724,1725,1726,1727,1728,1729,1730,1731,1732,1733,1734,1735,1736,1737,1738,1739,1740,1741,1742,1743,1744,1745,1746,1747,1748,1749,1750,1751,1752,1753,1754,1755,1756,1757,1758,1759,1760,1761,1762,1763,1764,1765,1766,1767,1768,1769,1770,1771,1772,1773,1774,1775,1776,1777,1778,1779,1780,1781,1782,1783,1784,1785,1786,1787,1788,1789,1790,1791,1792,1793,1794,1795,1796,1797,1798,1799,1800,1801,1802,1803,1804,1805,1806,1807,1808,1809,1810,1811,1812,1813,1814,1815,1816,1817,1818,1819,1820,1821,1822,1823,1824,1825,1826,1827,1828,1829,1830,1831,1832,1833,1834,1835,1836,1837,1838,1839,1840,1841,1842,1843,1844,1845,1846,1847,1848,1849,1850,1851,1852,1853,1854,1855,1856,1857,1858,1859,1860,1861,1862,1863,1864,1865,1866,1867,1868,1869,1870,1871,1872,1873,1874,1875,1876,1877,1878,1879,1880,1881,1882,1883,1884,1885,1886,1887,1888,1889,1890,1891,1892,1893,1894,1895,1896,1897,1898,1899,1900,1901,1902,1903,1904,1905,1906,1907,1908,1909,1910,1911,1912,1913,1914,1915,1916,1917,1918,1919,1920,1921,1922,1923,1924,1925,1926,1927,1928,1929,1930,1931,1932,1933,1934,1935,1936,1937,1938,1939,1940,1941,1942,1943,1944,1945,1946,1947,1948,1949,1950,1951,1952,1953,1954,1955,1956,1957,1958,1959,1960,1961,1962,1963,1964,1965,1966,1967,1968,1969,1970,1971,1972,1973,1974,1975,1976,1977,1978,1979,1980,1981,1982,1983,1984,1985,1986,1987,1988,1989,1990,1991,1992,1993,1994,1995,1996,1997,1998,1999,2000,2001,2002,2003,2004,2005,2006,2007,2008,2009,2010,2011,2012,2013,2014,2015,2016,2017,2018,2019,2020,2021,2022,2023,2024,2025,2026,2027,2028,2029,2030,2031,2032,2033,2034,2035,2036,2037,2038,2039,2040,2041,2042,2043,2044,2045,2046,2047,2048,2049,2050,2051,2052,2053,2054,2055,2056,2057,2058,2059,2060,2061,2062,2063,2064,2065,2066,2067,2068,2069,2070,2071,2072,2073,2074,2075,2076,2077,2078,2079,2080,2081,2082,2083,2084,2085,2086,2087,2088,2089,2090,2091,2092,2093,2094,2095,2096,2097,2098,2099,2100,2101,2102,2103,2104,2105,2106,2107,2108,2109,2110,2111,2112,2113,2114,2115,2116,2117,2118,2119,2120,2121,2122,2123,2124,2125,2126,2127,2128,2129,2130,2131,2132,2133,2134,2135,2136,2137,2138,2139,2140,2141,2142,2143,2144,2145,2146,2147,2148,2149,2150,2151,2152,2153,2154,2155,2156,2157,2158,2159,2160,2161,2162,2163,2164,2165,2166,2167,2168,2169,2170,2171,2172,2173,2174,2175,2176,2177,2178,2179,2180,2181,2182,2183,2184,2185,2186,2187,2188,2189,2190,2191,2192,2193,2194,2195,2196,2197,2198,2199,2200,2201,2202,2203,2204,2205,2206,2207,2208,2209,2210,2211,2212,2213,2214,2215,2216,2217,2218,2219,2220,2221,2222,2223,2224,2225,2226,2227,2228,2229,2230,2231,2232,2233,2234,2235,2236,2237,2238,2239,2240,2241,2242,2243,2244,2245,2246,2247,2248,2249,2250,2251,2252,2253,2254,2255,2256,2257,2258,2259,2260,2261,2262,2263,2264,2265,2266,2267,2268,2269,2270,2271,2272,2273,2274,2275,2276,2277,2278,2279,2280,2281,2282,2283,2284,2285,2286,2287,2288,2289,2290,2291,2292,2293,2294,2295,2296,2297,2298,2299,2300,2301,2302,2303,2304,2305,2306,2307,2308,2309,2310,2311,2312,2313,2314,2315,2316,2317,2318,2319,2320,2321,2322,2323,2324,2325,2326,2327,2328,2329,2330,2331,2332,2333,2334,2335,2336,2337,2338,2339,2340,2341,2342,2343,2344,2345,2346,2347,2348,2349,2350,2351,2352,2353,2354,2355,2356,2357,2358,2359,2360,2361,2362,2363,2364,2365,2366,2367,2368,2369,2370,2371,2372,2373,2374,2375,2376,2377,2378,2379,2380,2381,2382,2383,2384,2385,2386,2387,2388,2389,2390,2391,2392,2393,2394,2395,2396,2397,2398,2399,2400,2401,2402,2403,2404,2405,2406,2407,2408,2409,2410,2411,2412,2413,2414,2415,2416,2417,2418,2419,2420,2421,2422,2423,2424,2425,2426,2427,2428,2429,2430,2431,2432,2433,2434,2435,2436,2437,2438,2439,2440,2441,2442,2443,2444,2445,2446,2447,2448,2449,2450,2451,2452,2453,2454,2455,2456,2457,2458,2459,2460,2461,2462,2463,2464,2465,2466,2467,2468,2469,2470,2471,2472,2473,2474,2475,2476,2477,2478,2479,2480,2481,2482,2483,2484,2485,2486,2487,2488,2489,2490,2491,2492,2493,2494,2495,2496,2497,2498,2499,2500,2501,2502,2503,2504,2505,2506,2507,2508,2509,2510,2511,2512,2513,2514,2515,2516,2517,2518,2519,2520,2521,2522,2523,2524,2525,2526,2527,2528,2529,2530,2531,2532,2533,2534,2535,2536,2537,2538,2539,2540,2541,2542,2543,2544,2545,2546,2547,2548,2549,2550,2551,2552,2553,2554,2555,2556,2557,2558,2559,2560,2561,2562,2563,2564,2565,2566,2567,2568,2569,2570,2571,2572,2573,2574,2575,2576,2577,2578,2579,2580,2581,2582,2583,2584,2585,2586,2587,2588,2589,2590,2591,2592,2593,2594,2595,2596,2597,2598,2599,2600,2601,2602,2603,2604,2605,2606,2607,2608,2609,2610,2611,2612,2613,2614,2615,2616,2617,2618,2619,2620,2621,2622,2623,2624,2625,2626,2627,2628,2629,2630,2631,2632,2633,2634,2635,2636,2637,2638,2639,2640,2641,2642,2643,2644,2645,2646,2647,2648,2649,2650,2651,2652,2653,2654,2655,2656,2657,2658,2659,2660,2661,2662,2663,2664,2665,2666,2667,2668,2669,2670,2671,2672,2673,2674,2675,2676,2677,2678,2679,2680,2681,2682,2683,2684,2685,2686,2687,2688,2689,2690,2691,2692,2693,2694,2695,2696,2697,2698,2699,2700,2701,2702,2703,2704,2705,2706,2707,2708,2709,2710,2711,2712,2713,2714,2715,2716,2717,2718,2719,2720,2721,2722,2723,2724,2725,2726,2727,2728,2729,2730,2731,2732,2733,2734,2735,2736,2737,2738,2739,2740,2741,2742,2743,2744,2745,2746,2747,2748,2749,2750,2751,2752,2753,2754,2755,2756,2757,2758,2759,2760,2761,2762,2763,2764,2765,2766,2767,2768,2769,2770,2771,2772,2773,2774,2775,2776,2777,2778,2779,2780,2781,2782,2783,2784,2785,2786,2787,2788,2789,2790,2791,2792,2793,2794,2795,2796,2797,2798,2799,2800,2801,2802,2803,2804,2805,2806,2807,2808,2809,2810,2811,2812,2813],\"xaxis\":\"x\",\"y\":[2.3251559734344482,2.1899561882019043,2.0857603549957275,2.007858991622925,1.924787998199463,1.785571575164795,1.7026519775390625,1.6517277956008911,1.5013939142227173,1.3114511966705322,1.244167447090149,1.1490024328231812,1.0637861490249634,1.0831713676452637,1.1527951955795288,0.9597364664077759,0.8293412327766418,0.8561869263648987,0.6329257488250732,0.7269243001937866,0.6823172569274902,0.7884976863861084,0.6540948748588562,0.7205842137336731,0.681823194026947,0.7854545712471008,0.6578453183174133,0.5725762844085693,0.6509605646133423,0.5277220606803894,0.6837617754936218,0.6697075963020325,0.43317893147468567,0.586920440196991,0.39207273721694946,0.49177566170692444,0.6929730176925659,0.5363925695419312,0.41898277401924133,0.7507126331329346,0.5796421766281128,0.5422189235687256,0.471838116645813,0.5398873686790466,0.6038573980331421,0.4603736996650696,0.5160475969314575,0.42081135511398315,0.35898640751838684,0.4584179222583771,0.5210264325141907,0.4477579891681671,0.3517126739025116,0.501759946346283,0.3151480555534363,0.5130077004432678,0.5823908448219299,0.48610439896583557,0.5041514039039612,0.289551705121994,0.560695469379425,0.32094451785087585,0.46514928340911865,0.23731157183647156,0.26500341296195984,0.4696921408176422,0.313387006521225,0.5674278736114502,0.4478105902671814,0.5569561123847961,0.4649234712123871,0.29630783200263977,0.38782113790512085,0.44228026270866394,0.3822709918022156,0.4883017838001251,0.33133605122566223,0.4443925619125366,0.18105189502239227,0.5302590131759644,0.4637221097946167,0.4322969913482666,0.3138696849346161,0.2226809710264206,0.32036420702934265,0.34152811765670776,0.29036590456962585,0.11999925971031189,0.3235601484775543,0.37805044651031494,0.46483883261680603,0.3396788239479065,0.33302849531173706,0.367986798286438,0.2956910729408264,0.47921058535575867,0.4392392039299011,0.27168744802474976,0.29026225209236145,0.3440994918346405,0.2612208425998688,0.25778335332870483,0.4175955057144165,0.30101412534713745,0.48220688104629517,0.5455048084259033,0.2060815691947937,0.3750016987323761,0.3945344388484955,0.4852844178676605,0.48455801606178284,0.2127954512834549,0.38645923137664795,0.25360140204429626,0.40147271752357483,0.32708191871643066,0.4968951940536499,0.30172136425971985,0.22496618330478668,0.41339045763015747,0.2873397767543793,0.33641141653060913,0.44447213411331177,0.5871761441230774,0.12900418043136597,0.3271261751651764,0.28516384959220886,0.29566922783851624,0.27328401803970337,0.31692060828208923,0.19964316487312317,0.3272361755371094,0.25594812631607056,0.20906469225883484,0.2776690125465393,0.1433883011341095,0.3140854835510254,0.3745763897895813,0.29840415716171265,0.45707666873931885,0.5187821388244629,0.14155688881874084,0.3293939530849457,0.3066982328891754,0.2797439396381378,0.40219542384147644,0.4045370817184448,0.23388756811618805,0.4494650661945343,0.17257075011730194,0.22765275835990906,0.4840378761291504,0.43202900886535645,0.2563993036746979,0.2757203280925751,0.2322169542312622,0.24704167246818542,0.16106519103050232,0.4632319211959839,0.2870085835456848,0.4020470976829529,0.4021774232387543,0.3811730444431305,0.24485614895820618,0.4410777688026428,0.8566401600837708,0.3571203947067261,0.5971840620040894,0.4945521354675293,0.3525782525539398,0.28109627962112427,0.22833506762981415,0.34595242142677307,0.3457775413990021,0.29265135526657104,0.31667327880859375,0.3283950090408325,0.18049828708171844,0.3115043640136719,0.21778666973114014,0.2675008475780487,0.366507351398468,0.3682393431663513,0.25381287932395935,0.46083468198776245,0.3897990882396698,0.46100571751594543,0.18727034330368042,0.3976878523826599,0.25199687480926514,0.5800707340240479,0.40537795424461365,0.30375662446022034,0.20063625276088715,0.33021214604377747,0.47613584995269775,0.39649510383605957,0.310016006231308,0.49132034182548523,0.3148745894432068,0.36173215508461,0.3215623199939728,0.26902416348457336,0.19134308397769928,0.4711717665195465,0.4659413695335388,0.3859255015850067,0.22243903577327728,0.1390688270330429,0.5044440031051636,0.311852365732193,0.5356876850128174,0.40021052956581116,0.28770437836647034,0.319064199924469,0.14958734810352325,0.279670387506485,0.2768874764442444,0.12799732387065887,0.21462392807006836,0.30768513679504395,0.2853284776210785,0.2408108413219452,0.29265615344047546,0.2345108538866043,0.273762971162796,0.26658129692077637,0.39381226897239685,0.13981637358665466,0.3321920335292816,0.23693828284740448,0.28265854716300964,0.2390156388282776,0.4393821656703949,0.27193883061408997,0.3756847679615021,0.27507269382476807,0.3780671954154968,0.20961487293243408,0.2450093775987625,0.2184392213821411,0.09151209145784378,0.172663614153862,0.4943062663078308,0.35154634714126587,0.39736780524253845,0.3725520670413971,0.19380752742290497,0.36651918292045593,0.26778149604797363,0.2066883146762848,0.21085600554943085,0.21130436658859253,0.1792125701904297,0.22070865333080292,0.3009386658668518,0.2064770758152008,0.29268309473991394,0.2653668522834778,0.3048960864543915,0.3540976941585541,0.35530972480773926,0.11045525968074799,0.22716933488845825,0.22516562044620514,0.21531449258327484,0.10355453938245773,0.2454478144645691,0.3028315603733063,0.2587295174598694,0.19051997363567352,0.3375782072544098,0.29178309440612793,0.2787752151489258,0.5697841644287109,0.17624671757221222,0.2418874204158783,0.26464030146598816,0.2153782993555069,0.21805544197559357,0.19188933074474335,0.17975375056266785,0.2252267599105835,0.3532177209854126,0.34167060256004333,0.22979535162448883,0.2101205289363861,0.4267437756061554,0.19228814542293549,0.41226208209991455,0.18511267006397247,0.2770368158817291,0.33639416098594666,0.24024324119091034,0.1727076768875122,0.38208669424057007,0.15001221001148224,0.1641603410243988,0.3283620774745941,0.291427344083786,0.20078690350055695,0.24308465421199799,0.4144570529460907,0.4333830773830414,0.12951074540615082,0.3828151524066925,0.2880403697490692,0.1479635238647461,0.272051066160202,0.2664293348789215,0.3772113025188446,0.2193855345249176,0.3042413592338562,0.24015511572360992,0.5944554209709167,0.3933604955673218,0.27352043986320496,0.48991864919662476,0.4957175552845001,0.25492730736732483,0.22910484671592712,0.2344701588153839,0.406264990568161,0.4145345687866211,0.17571263015270233,0.13363556563854218,0.19960959255695343,0.34536585211753845,0.3579893410205841,0.3161415457725525,0.19995485246181488,0.2754595875740051,0.1288806051015854,0.34795477986335754,0.2541655898094177,0.19778881967067719,0.3275222182273865,0.21119575202465057,0.18249846994876862,0.39815786480903625,0.27460628747940063,0.32680439949035645,0.2596583664417267,0.23460239171981812,0.258274644613266,0.3738999366760254,0.34628355503082275,0.19557933509349823,0.18501687049865723,0.3981912136077881,0.3196711242198944,0.23745371401309967,0.2060624063014984,0.21360081434249878,0.24532067775726318,0.1858641803264618,0.1816800832748413,0.09181062877178192,0.44118553400039673,0.19886024296283722,0.2150406539440155,0.30691787600517273,0.16740453243255615,0.16474761068820953,0.18002364039421082,0.13716953992843628,0.38663730025291443,0.3171843886375427,0.3082220256328583,0.1507420390844345,0.09432771056890488,0.21552728116512299,0.15700310468673706,0.08928681164979935,0.5011956691741943,0.3381175994873047,0.16800127923488617,0.20620197057724,0.3755919635295868,0.32744070887565613,0.18740972876548767,0.26707109808921814,0.16213110089302063,0.2585687041282654,0.17549556493759155,0.1769687980413437,0.1746365875005722,0.264989972114563,0.17616169154644012,0.12556864321231842,0.5121352672576904,0.1760351061820984,0.1488310545682907,0.3994169533252716,0.4082100987434387,0.14618416130542755,0.15522487461566925,0.14765720069408417,0.24820055067539215,0.27235913276672363,0.2949942648410797,0.31930145621299744,0.20159870386123657,0.2149975299835205,0.07945442199707031,0.32928764820098877,0.21906933188438416,0.22756552696228027,0.12017940729856491,0.3679504990577698,0.13853999972343445,0.3304555416107178,0.20069918036460876,0.1419176459312439,0.27875086665153503,0.15573449432849884,0.2958223521709442,0.1659165620803833,0.17708468437194824,0.18006956577301025,0.33583635091781616,0.12306888401508331,0.1919420212507248,0.18338583409786224,0.14238771796226501,0.21136023104190826,0.24440120160579681,0.22287112474441528,0.48332419991493225,0.19169096648693085,0.23285721242427826,0.2117987424135208,0.1739286184310913,0.08352234214544296,0.23816676437854767,0.37656739354133606,0.28513166308403015,0.29971975088119507,0.4360061287879944,0.17165793478488922,0.20401105284690857,0.1566358208656311,0.19224506616592407,0.18091905117034912,0.135064497590065,0.28645995259284973,0.4252340793609619,0.19027744233608246,0.37370043992996216,0.18191535770893097,0.2725375294685364,0.1827262043952942,0.25863078236579895,0.37798231840133667,0.2851925492286682,0.24578551948070526,0.18885943293571472,0.1504128873348236,0.34772950410842896,0.21747072041034698,0.15392106771469116,0.25825366377830505,0.2621166706085205,0.4179515242576599,0.19106411933898926,0.4651854932308197,0.3294034004211426,0.40448227524757385,0.12013151496648788,0.2000412791967392,0.09802086651325226,0.22891227900981903,0.15441147983074188,0.15190285444259644,0.2727634608745575,0.24703864753246307,0.1386682540178299,0.17063884437084198,0.26474815607070923,0.17227217555046082,0.33365899324417114,0.23477253317832947,0.19913087785243988,0.10789678990840912,0.5219326615333557,0.06364984065294266,0.24054507911205292,0.18895870447158813,0.26770728826522827,0.18665573000907898,0.110844187438488,0.3267715871334076,0.34959179162979126,0.38341182470321655,0.26056283712387085,0.15371032059192657,0.22023433446884155,0.15886016190052032,0.11858335137367249,0.2975376844406128,0.28411057591438293,0.3295496106147766,0.19970767199993134,0.27227991819381714,0.1411341279745102,0.1798219531774521,0.2381734400987625,0.17249080538749695,0.1751561015844345,0.1714617908000946,0.15764132142066956,0.15879955887794495,0.11985380202531815,0.10363452136516571,0.2199145257472992,0.2350124567747116,0.16980578005313873,0.09297124296426773,0.2798289656639099,0.2570478916168213,0.1735757738351822,0.22623378038406372,0.21492193639278412,0.14644421637058258,0.30270126461982727,0.43347635865211487,0.4091281294822693,0.22812750935554504,0.17841553688049316,0.21236185729503632,0.3633696436882019,0.3808248043060303,0.13673897087574005,0.13543155789375305,0.24370282888412476,0.19195379316806793,0.2910044193267822,0.18562942743301392,0.12911351025104523,0.22463059425354004,0.08765232563018799,0.06225528568029404,0.19087079167366028,0.25957170128822327,0.12996500730514526,0.28117746114730835,0.21388082206249237,0.2273435741662979,0.251971036195755,0.26519760489463806,0.14817658066749573,0.18855948746204376,0.11648613959550858,0.08796782791614532,0.14667503535747528,0.17777666449546814,0.36135244369506836,0.5428962111473083,0.07763367891311646,0.13882693648338318,0.41437026858329773,0.0715409591794014,0.19523929059505463,0.11719491332769394,0.28529515862464905,0.1272478997707367,0.28823941946029663,0.341244101524353,0.08620460331439972,0.27614277601242065,0.13479213416576385,0.20292407274246216,0.16709443926811218,0.2553018033504486,0.2328941375017166,0.26444512605667114,0.3048819601535797,0.4283015727996826,0.13011573255062103,0.20894679427146912,0.5003724098205566,0.1777552217245102,0.1989850401878357,0.19308029115200043,0.11288507282733917,0.18344807624816895,0.18220576643943787,0.16361989080905914,0.2272830754518509,0.15225280821323395,0.39008206129074097,0.2423446923494339,0.08381175249814987,0.20802515745162964,0.2751651704311371,0.20096208155155182,0.16233591735363007,0.17949222028255463,0.19851553440093994,0.29631179571151733,0.10552052408456802,0.1877518743276596,0.14572183787822723,0.09321603924036026,0.0862119048833847,0.25246167182922363,0.25380319356918335,0.3522402048110962,0.14872461557388306,0.14821001887321472,0.1662828028202057,0.12067246437072754,0.1083577573299408,0.1945716142654419,0.23486225306987762,0.2772294282913208,0.24319276213645935,0.19922882318496704,0.14970920979976654,0.10359353572130203,0.11471595615148544,0.1762664020061493,0.3197285532951355,0.18878231942653656,0.15697506070137024,0.08934088051319122,0.31725430488586426,0.16306503117084503,0.10978297889232635,0.21887598931789398,0.16104914247989655,0.13103336095809937,0.13155823945999146,0.16578012704849243,0.1770658940076828,0.1904260218143463,0.27375710010528564,0.2818145453929901,0.2217170000076294,0.2262984812259674,0.12779085338115692,0.1707341969013214,0.14300650358200073,0.09210549294948578,0.4030059278011322,0.17744772136211395,0.4269717037677765,0.16526734828948975,0.17500774562358856,0.16554640233516693,0.16788780689239502,0.26081356406211853,0.0738956481218338,0.2646152377128601,0.08672905713319778,0.19772394001483917,0.2593453526496887,0.17129868268966675,0.29780706763267517,0.17930927872657776,0.44671010971069336,0.23913565278053284,0.24004580080509186,0.19622698426246643,0.24392305314540863,0.22166743874549866,0.17841333150863647,0.2741507291793823,0.06191222369670868,0.2646493911743164,0.10903481394052505,0.10367009043693542,0.2427797168493271,0.1546313464641571,0.23384840786457062,0.11556780338287354,0.15125855803489685,0.20910657942295074,0.1265203207731247,0.25385695695877075,0.1104750856757164,0.1615544855594635,0.11884792149066925,0.17765790224075317,0.23537184298038483,0.24537518620491028,0.11171786487102509,0.26464059948921204,0.22683437168598175,0.1286545693874359,0.1471705585718155,0.21211330592632294,0.19840893149375916,0.1112828329205513,0.1222173348069191,0.18539436161518097,0.3118833303451538,0.3502795398235321,0.15507625043392181,0.22218438982963562,0.11259952932596207,0.15447475016117096,0.07219881564378738,0.07090502977371216,0.18274933099746704,0.256041556596756,0.09519112855195999,0.11596328765153885,0.20051224529743195,0.13217030465602875,0.2673514485359192,0.144053652882576,0.22470800578594208,0.283662885427475,0.20688335597515106,0.15979835391044617,0.2820785343647003,0.1626676768064499,0.15403234958648682,0.12759797275066376,0.05119491368532181,0.29907310009002686,0.1049194410443306,0.20728431642055511,0.1852867305278778,0.2760736048221588,0.2703063189983368,0.19118236005306244,0.1437481790781021,0.3368335962295532,0.21788965165615082,0.15035422146320343,0.18390537798404694,0.47211211919784546,0.13095590472221375,0.078761525452137,0.251034140586853,0.15658023953437805,0.19539648294448853,0.20337969064712524,0.13430878520011902,0.19439105689525604,0.22134268283843994,0.16511403024196625,0.09220384061336517,0.10015558451414108,0.1636277139186859,0.1911231130361557,0.31960928440093994,0.16016675531864166,0.10707829147577286,0.30405911803245544,0.40467584133148193,0.06411084532737732,0.4261011779308319,0.33457767963409424,0.15477032959461212,0.16801615059375763,0.29487425088882446,0.1901722550392151,0.25329503417015076,0.06316739320755005,0.17143559455871582,0.25032493472099304,0.11783641576766968,0.2685455083847046,0.12518377602100372,0.24145324528217316,0.11351355910301208,0.2539471685886383,0.07915504276752472,0.1309945434331894,0.0969833955168724,0.5244238376617432,0.11642419546842575,0.11457956582307816,0.20727334916591644,0.20179976522922516,0.11199524998664856,0.16121381521224976,0.233764186501503,0.08055253326892853,0.36651885509490967,0.17937615513801575,0.1407098025083542,0.06944540143013,0.04602080583572388,0.14093011617660522,0.08594736456871033,0.16604289412498474,0.30752721428871155,0.10850553959608078,0.15963715314865112,0.19770929217338562,0.08790276199579239,0.05903518944978714,0.0950717031955719,0.2265050709247589,0.1657257378101349,0.35770946741104126,0.27355360984802246,0.1804906725883484,0.13426370918750763,0.2105283886194229,0.1479257047176361,0.16464389860630035,0.15952810645103455,0.22071108222007751,0.16293929517269135,0.324407696723938,0.16565805673599243,0.19710764288902283,0.10529737174510956,0.18765859305858612,0.16192209720611572,0.1871204972267151,0.3009454607963562,0.15643452107906342,0.1025657057762146,0.25676047801971436,0.21213001012802124,0.14995868504047394,0.34324532747268677,0.12052178382873535,0.17855656147003174,0.1392744928598404,0.056492745876312256,0.12068044394254684,0.11804378777742386,0.16996900737285614,0.13026423752307892,0.12479221820831299,0.1675257533788681,0.17219310998916626,0.15667136013507843,0.10308368504047394,0.15071316063404083,0.19468985497951508,0.11632457375526428,0.12695175409317017,0.19432464241981506,0.2774161696434021,0.29885536432266235,0.0518413670361042,0.1318550854921341,0.0978083461523056,0.3703779876232147,0.22642190754413605,0.23146015405654907,0.1187174841761589,0.11659390479326248,0.14367127418518066,0.11192221194505692,0.12477991729974747,0.16711491346359253,0.0909300446510315,0.08375149220228195,0.1888325959444046,0.16702397167682648,0.10005389899015427,0.1670207977294922,0.05911669135093689,0.17328248918056488,0.20830179750919342,0.3487856388092041,0.2127138376235962,0.2361767292022705,0.10566039383411407,0.1693788319826126,0.0697430968284607,0.09851005673408508,0.09847693145275116,0.18413467705249786,0.19782918691635132,0.2876285910606384,0.05362022668123245,0.21309657394886017,0.11008226871490479,0.1365794688463211,0.09453613311052322,0.06500812619924545,0.2880442440509796,0.15676207840442657,0.10332540422677994,0.12727515399456024,0.1818564534187317,0.17346960306167603,0.14525073766708374,0.20109640061855316,0.23718807101249695,0.16974478960037231,0.22707833349704742,0.13491448760032654,0.24024145305156708,0.19048340618610382,0.15823213756084442,0.1330891251564026,0.09414804726839066,0.08826731145381927,0.1522757112979889,0.2368108481168747,0.347586452960968,0.06771565973758698,0.12957090139389038,0.08469454944133759,0.1641548126935959,0.1718732714653015,0.02738642692565918,0.14205271005630493,0.11856827884912491,0.060466039925813675,0.20977866649627686,0.15272529423236847,0.09630823880434036,0.11352789402008057,0.3116726875305176,0.07827898859977722,0.0599542073905468,0.2790253758430481,0.32091259956359863,0.30157870054244995,0.11024744808673859,0.0787997841835022,0.16626325249671936,0.20640581846237183,0.1458623707294464,0.1285887211561203,0.1632271409034729,0.2566016912460327,0.4419585168361664,0.23934626579284668,0.19483178853988647,0.1643473505973816,0.18908768892288208,0.168232724070549,0.18080544471740723,0.23319827020168304,0.17985597252845764,0.10007605701684952,0.19009892642498016,0.16912434995174408,0.09927764534950256,0.15465135872364044,0.14471159875392914,0.2058761715888977,0.06787887960672379,0.02628868818283081,0.13754642009735107,0.07380004227161407,0.16041404008865356,0.12297084182500839,0.13932886719703674,0.1158963218331337,0.11408369243144989,0.23174495995044708,0.1477803736925125,0.13558048009872437,0.15935833752155304,0.13899827003479004,0.10780759155750275,0.19045448303222656,0.37095755338668823,0.2978185713291168,0.2340153455734253,0.11841607093811035,0.14105603098869324,0.1783708930015564,0.188473179936409,0.10927644371986389,0.07400691509246826,0.06447943300008774,0.13863268494606018,0.20909053087234497,0.06016214191913605,0.2549334764480591,0.10637563467025757,0.2964003384113312,0.0884605199098587,0.11612366139888763,0.18815971910953522,0.055082034319639206,0.15241533517837524,0.17405381798744202,0.19214199483394623,0.06420388072729111,0.03142257407307625,0.08109164983034134,0.08686602860689163,0.10081440955400467,0.16388921439647675,0.19845519959926605,0.13400660455226898,0.1012897714972496,0.2013421654701233,0.13288922607898712,0.13790756464004517,0.05111943557858467,0.067318856716156,0.03997991606593132,0.19057978689670563,0.2379303276538849,0.09371648728847504,0.052006982266902924,0.05906405299901962,0.238655686378479,0.1763598471879959,0.14202287793159485,0.1361844390630722,0.12323364615440369,0.04010246321558952,0.19357018172740936,0.16932639479637146,0.15006689727306366,0.23998573422431946,0.0831526666879654,0.06006687134504318,0.09129834175109863,0.1353379637002945,0.11207694560289383,0.14747996628284454,0.08679648488759995,0.0935051217675209,0.1117536798119545,0.0798325464129448,0.25407645106315613,0.13061924278736115,0.18640713393688202,0.15455591678619385,0.33555078506469727,0.1788119375705719,0.046593405306339264,0.09379871934652328,0.14090269804000854,0.12977075576782227,0.16068601608276367,0.10736781358718872,0.13403728604316711,0.12573324143886566,0.13253158330917358,0.13819895684719086,0.10981450229883194,0.07464025914669037,0.1638355404138565,0.17949478328227997,0.22060959041118622,0.10816027969121933,0.13124299049377441,0.21318134665489197,0.1910540908575058,0.11713782697916031,0.2158677875995636,0.21953654289245605,0.13952279090881348,0.18875762820243835,0.13137558102607727,0.19405758380889893,0.1693151444196701,0.14378367364406586,0.24442820250988007,0.42966461181640625,0.20383568108081818,0.05403878167271614,0.17557890713214874,0.0594908781349659,0.26102954149246216,0.19229428470134735,0.15841782093048096,0.1198856458067894,0.27603161334991455,0.07516298443078995,0.10904096066951752,0.10283105075359344,0.11250381916761398,0.08297737687826157,0.15388357639312744,0.09215682744979858,0.1530863344669342,0.3430885970592499,0.07745411992073059,0.22982294857501984,0.1462349146604538,0.26910120248794556,0.07824546843767166,0.13682794570922852,0.12978877127170563,0.16481168568134308,0.12368243932723999,0.12409994751214981,0.1582038700580597,0.03650131821632385,0.07974877953529358,0.20904016494750977,0.09322039783000946,0.12587551772594452,0.13744013011455536,0.11007073521614075,0.07306379824876785,0.1582285761833191,0.21550863981246948,0.09609927982091904,0.13483625650405884,0.12458565831184387,0.11049686372280121,0.08224734663963318,0.11351991444826126,0.09593082964420319,0.17649005353450775,0.08373309671878815,0.1229269951581955,0.16596779227256775,0.11340705305337906,0.07132136076688766,0.09555170685052872,0.06121019273996353,0.11111890524625778,0.09421399235725403,0.03496904671192169,0.1100720688700676,0.04815167933702469,0.050597552210092545,0.12041261792182922,0.0515650250017643,0.04920511692762375,0.167489156126976,0.1252458393573761,0.04834058880805969,0.06503915786743164,0.1487254500389099,0.08202579617500305,0.08034743368625641,0.17652811110019684,0.061262696981430054,0.1375778764486313,0.08314240723848343,0.14191073179244995,0.14967775344848633,0.016457902267575264,0.1069299653172493,0.1514934003353119,0.10559709370136261,0.10207070410251617,0.11854512244462967,0.19907496869564056,0.24937571585178375,0.0588952861726284,0.12201796472072601,0.08565987646579742,0.1334201693534851,0.14993242919445038,0.2823804020881653,0.17270542681217194,0.25432083010673523,0.0996527373790741,0.11460030823945999,0.11977490782737732,0.10808819532394409,0.10694818198680878,0.06155027821660042,0.1474754959344864,0.15394310653209686,0.23738300800323486,0.16845189034938812,0.10519919544458389,0.19277802109718323,0.05138882249593735,0.3703145980834961,0.1779402792453766,0.0889025554060936,0.07421566545963287,0.06379745155572891,0.09916465729475021,0.15607692301273346,0.0914299413561821,0.12746596336364746,0.08986417204141617,0.032048389315605164,0.06809461116790771,0.04046132043004036,0.08788865804672241,0.04613649100065231,0.21418435871601105,0.24437987804412842,0.08476787805557251,0.160551518201828,0.08506572991609573,0.12031133472919464,0.08056503534317017,0.15763017535209656,0.1289682686328888,0.20290663838386536,0.08442019671201706,0.2542042136192322,0.20556508004665375,0.14925099909305573,0.26875555515289307,0.12404229491949081,0.03416372835636139,0.16196365654468536,0.06106628477573395,0.0567966029047966,0.07960116118192673,0.17507225275039673,0.045345015823841095,0.1449166238307953,0.07789960503578186,0.2117086499929428,0.10778166353702545,0.16567160189151764,0.10238081216812134,0.12751127779483795,0.10256727039813995,0.29495367407798767,0.10873556137084961,0.16243155300617218,0.29623058438301086,0.0814870074391365,0.10857617855072021,0.031740691512823105,0.06403752416372299,0.19948610663414001,0.06696072220802307,0.09255818277597427,0.062463656067848206,0.2725655436515808,0.05472393333911896,0.06085557863116264,0.09622150659561157,0.28368765115737915,0.2549116015434265,0.12172744423151016,0.07554617524147034,0.056309815496206284,0.04922957345843315,0.0745781883597374,0.08926290273666382,0.07728873938322067,0.16640737652778625,0.09159605950117111,0.15476547181606293,0.17262393236160278,0.15327471494674683,0.2220688909292221,0.15285563468933105,0.21873778104782104,0.11884667724370956,0.14535050094127655,0.22973939776420593,0.06420465558767319,0.20942743122577667,0.32810765504837036,0.10147085785865784,0.15002571046352386,0.08417006582021713,0.1711951196193695,0.0586945116519928,0.08302802592515945,0.15320973098278046,0.12504726648330688,0.15079618990421295,0.3621879816055298,0.11477579921483994,0.16201020777225494,0.09092941135168076,0.06659357249736786,0.08912328630685806,0.017401210963726044,0.31002673506736755,0.08926156163215637,0.14075104892253876,0.04583219811320305,0.13721582293510437,0.13439004123210907,0.07019254565238953,0.08138111233711243,0.1440662443637848,0.05651266127824783,0.27215927839279175,0.06545349210500717,0.1308974176645279,0.15873001515865326,0.09574762731790543,0.09463822841644287,0.09008526802062988,0.17284442484378815,0.13026756048202515,0.15251749753952026,0.08047178387641907,0.11015971004962921,0.12216474860906601,0.193106010556221,0.14392279088497162,0.05336258187890053,0.05045462027192116,0.135040745139122,0.09380505234003067,0.3639974296092987,0.11136562377214432,0.3105911910533905,0.15003521740436554,0.15539123117923737,0.14473216235637665,0.04623468220233917,0.10721132904291153,0.04282664507627487,0.12981879711151123,0.14924398064613342,0.09002377092838287,0.05118367448449135,0.10807916522026062,0.06590704619884491,0.14895901083946228,0.16666829586029053,0.073863185942173,0.06653419137001038,0.07001297175884247,0.07444321364164352,0.17301951348781586,0.07519661635160446,0.07369710505008698,0.11231517791748047,0.07552416622638702,0.13616624474525452,0.06227016821503639,0.05914893001317978,0.07080914080142975,0.10394104570150375,0.09093975275754929,0.069890595972538,0.15547806024551392,0.16170157492160797,0.10592379420995712,0.11917169392108917,0.18564456701278687,0.09498060494661331,0.24513103067874908,0.15873539447784424,0.19335401058197021,0.08039242029190063,0.17535385489463806,0.03782971575856209,0.2125779241323471,0.05848460644483566,0.16160666942596436,0.04585680738091469,0.08612258732318878,0.193623885512352,0.11901616305112839,0.07619927078485489,0.0673728957772255,0.271004319190979,0.12873977422714233,0.1500108391046524,0.10738056898117065,0.044124212116003036,0.08167543262243271,0.09540683031082153,0.33644890785217285,0.053696684539318085,0.12446249276399612,0.08269406855106354,0.24544194340705872,0.17844222486019135,0.0332784503698349,0.03315521776676178,0.07398855686187744,0.2146235853433609,0.14570006728172302,0.06471607089042664,0.1554880142211914,0.1172901839017868,0.14504489302635193,0.09007599949836731,0.08462465554475784,0.049722567200660706,0.06536317616701126,0.26285648345947266,0.13923929631710052,0.11261124908924103,0.14366717636585236,0.11572946608066559,0.06334645301103592,0.1652640551328659,0.5676178932189941,0.10553457587957382,0.07998713105916977,0.17137299478054047,0.0837918072938919,0.23358798027038574,0.07223239541053772,0.036866653710603714,0.1648356020450592,0.1668260395526886,0.04265514016151428,0.4082447588443756,0.3018091320991516,0.22495737671852112,0.15101487934589386,0.17879842221736908,0.08480823040008545,0.11448339372873306,0.1529092788696289,0.11333410441875458,0.16809505224227905,0.1524261087179184,0.1406942903995514,0.15429256856441498,0.21595431864261627,0.15360631048679352,0.10884203016757965,0.13027656078338623,0.03722285106778145,0.12028999626636505,0.08290156722068787,0.06823045760393143,0.04605705291032791,0.13185612857341766,0.10314291715621948,0.1828959435224533,0.21993201971054077,0.21937738358974457,0.06579259783029556,0.09628881514072418,0.21398408710956573,0.0637284517288208,0.10047879815101624,0.13471966981887817,0.09949279576539993,0.11233741790056229,0.23102425038814545,0.05336432904005051,0.184167742729187,0.04085391014814377,0.09514272212982178,0.09556090086698532,0.0634523332118988,0.17552052438259125,0.09485437721014023,0.11027336120605469,0.17519523203372955,0.08604475110769272,0.13958503305912018,0.04810338839888573,0.07067330926656723,0.0822691097855568,0.07921841740608215,0.08449190855026245,0.274062842130661,0.0736951157450676,0.23923994600772858,0.1082376092672348,0.08771487325429916,0.09343519806861877,0.26345378160476685,0.07305476069450378,0.02748948149383068,0.18734388053417206,0.11705031991004944,0.06007068231701851,0.15526683628559113,0.0575496144592762,0.028374571353197098,0.05162644758820534,0.06637892872095108,0.26784875988960266,0.10388697683811188,0.12709522247314453,0.12790849804878235,0.010960557498037815,0.15120728313922882,0.10796540975570679,0.12385005503892899,0.09471090883016586,0.09138479828834534,0.02988317608833313,0.1080208495259285,0.1103295087814331,0.046411119401454926,0.2403039038181305,0.33668142557144165,0.030759422108530998,0.08655760437250137,0.054703280329704285,0.12137211859226227,0.13803605735301971,0.15371327102184296,0.1103452742099762,0.04171214625239372,0.1313025802373886,0.04235255718231201,0.14994020760059357,0.12590037286281586,0.0821998119354248,0.20957770943641663,0.12234336882829666,0.07444073259830475,0.028010953217744827,0.021440725773572922,0.06825027614831924,0.28337737917900085,0.20577184855937958,0.10242847353219986,0.1038362979888916,0.12354572862386703,0.07747474312782288,0.040176186710596085,0.13249795138835907,0.08368981629610062,0.1619100570678711,0.11853540688753128,0.030967961996793747,0.03328981623053551,0.19185954332351685,0.15175378322601318,0.22557811439037323,0.0976024642586708,0.05098898336291313,0.17990875244140625,0.11987601220607758,0.17130470275878906,0.20436403155326843,0.06721484661102295,0.06838724762201309,0.19369161128997803,0.12135946750640869,0.09052721410989761,0.1100401058793068,0.10506020486354828,0.3140324652194977,0.2256614863872528,0.22743897140026093,0.11876514554023743,0.1267879158258438,0.05724986270070076,0.24252891540527344,0.10073969513177872,0.060231439769268036,0.05564742535352707,0.10848303884267807,0.151835635304451,0.24886426329612732,0.10063081979751587,0.24301472306251526,0.06652049720287323,0.0500507652759552,0.06869702786207199,0.030487434938549995,0.035496193915605545,0.11714445054531097,0.06224263831973076,0.13646988570690155,0.1607532948255539,0.10850292444229126,0.16066430509090424,0.09224247187376022,0.23666560649871826,0.08798836171627045,0.05965948849916458,0.14224717020988464,0.11725755780935287,0.22416478395462036,0.10008450597524643,0.11635355651378632,0.20395991206169128,0.07169663906097412,0.13438814878463745,0.04790087044239044,0.06076197326183319,0.05962555110454559,0.23105311393737793,0.045562587678432465,0.1296868771314621,0.2701442837715149,0.21093763411045074,0.06711523234844208,0.2387315183877945,0.22885900735855103,0.19046330451965332,0.13621151447296143,0.10457407683134079,0.10221070051193237,0.07201523333787918,0.09190157800912857,0.07034625858068466,0.04359709843993187,0.07417085766792297,0.05884112790226936,0.06676305830478668,0.09179767221212387,0.0896105170249939,0.06611989438533783,0.24278299510478973,0.22257521748542786,0.05314052477478981,0.07011772692203522,0.2420702576637268,0.12071231007575989,0.027664421126246452,0.2003890424966812,0.06555245816707611,0.16533830761909485,0.06704754382371902,0.10983927547931671,0.08200160413980484,0.11829933524131775,0.1749802529811859,0.098879374563694,0.045502688735723495,0.06797183305025101,0.09898218512535095,0.13642901182174683,0.08039093017578125,0.0481535904109478,0.05304182320833206,0.1026574969291687,0.08604927361011505,0.09413711726665497,0.12657105922698975,0.051471807062625885,0.20041967928409576,0.046955350786447525,0.06608337163925171,0.035787712782621384,0.06523251533508301,0.12533116340637207,0.1229528859257698,0.17392262816429138,0.14781953394412994,0.020449919626116753,0.14684385061264038,0.1058633103966713,0.05795856565237045,0.12540404498577118,0.12210604548454285,0.1501692533493042,0.0648459941148758,0.08475389331579208,0.12308068573474884,0.17159338295459747,0.018585722893476486,0.0413784496486187,0.07451097667217255,0.12216582894325256,0.05075693130493164,0.08103977888822556,0.1780467927455902,0.11443457752466202,0.1760164052248001,0.11585107445716858,0.09491393715143204,0.07801441103219986,0.08643409609794617,0.17295213043689728,0.1443949043750763,0.09396358579397202,0.15239523351192474,0.10098101943731308,0.05732344835996628,0.16261006891727448,0.07619722187519073,0.05118300020694733,0.09643935412168503,0.2613784074783325,0.06525455415248871,0.1316251903772354,0.07162606716156006,0.09687484055757523,0.1549071967601776,0.06945064663887024,0.1011357456445694,0.11765680462121964,0.1697654277086258,0.08401118963956833,0.0806894525885582,0.11310885101556778,0.1273660659790039,0.02611391246318817,0.1759941577911377,0.18659941852092743,0.08592599630355835,0.05671973153948784,0.10449977964162827,0.19138628244400024,0.11428140848875046,0.13840535283088684,0.16659240424633026,0.16206178069114685,0.0997684895992279,0.11289776116609573,0.2177465707063675,0.15192832052707672,0.06801454722881317,0.0369592159986496,0.2400919646024704,0.18384073674678802,0.06736864894628525,0.13005682826042175,0.17941735684871674,0.08837993443012238,0.0908132866024971,0.21148955821990967,0.07976136356592178,0.12061409652233124,0.09930232912302017,0.12416458874940872,0.21349096298217773,0.06785303354263306,0.019817039370536804,0.06196804717183113,0.23259127140045166,0.053876060992479324,0.05856165289878845,0.0695420429110527,0.08873004466295242,0.057015154510736465,0.19113919138908386,0.09454215317964554,0.1109292283654213,0.09409221261739731,0.1285994052886963,0.04980914667248726,0.038011662662029266,0.07266557961702347,0.03674980252981186,0.15328934788703918,0.15263141691684723,0.2852889895439148,0.13973720371723175,0.10580349713563919,0.11116869747638702,0.09018254280090332,0.11981089413166046,0.2063741385936737,0.1903940886259079,0.09282334893941879,0.056090958416461945,0.10168969631195068,0.12787316739559174,0.027674783021211624,0.14530174434185028,0.06456363201141357,0.08748723566532135,0.24794897437095642,0.14902861416339874,0.09001915901899338,0.1731414794921875,0.05729788541793823,0.09559977799654007,0.10727734863758087,0.10019172728061676,0.03676937520503998,0.22413279116153717,0.06755708903074265,0.09152376651763916,0.06861039996147156,0.06445208936929703,0.11054378002882004,0.2229551076889038,0.10779386013746262,0.13835537433624268,0.04105880483984947,0.1925857812166214,0.17713096737861633,0.13955947756767273,0.09326959401369095,0.13524866104125977,0.05454164743423462,0.029815465211868286,0.050092000514268875,0.11886914074420929,0.06534720212221146,0.07254699617624283,0.1374056488275528,0.07734639197587967,0.2438996136188507,0.06605764478445053,0.03194756060838699,0.18294554948806763,0.043644849210977554,0.11595845967531204,0.1617804616689682,0.16071626543998718,0.19224977493286133,0.3479818105697632,0.18068303167819977,0.1297369748353958,0.11320848762989044,0.034971244633197784,0.24557331204414368,0.24552690982818604,0.21026431024074554,0.2299771010875702,0.048990648239851,0.09527060389518738,0.12772734463214874,0.10406412929296494,0.1614769995212555,0.1524706333875656,0.09543110430240631,0.11888688802719116,0.0761016234755516,0.07085159420967102,0.22559629380702972,0.10988946259021759,0.0949685126543045,0.07428432255983353,0.1241641566157341,0.12243878096342087,0.08479656279087067,0.0952947810292244,0.0774611383676529,0.09999588131904602,0.07790485769510269,0.07964293658733368,0.21538017690181732,0.18830913305282593,0.15407486259937286,0.11857270449399948,0.08314286172389984,0.04577913135290146,0.2109285444021225,0.14943109452724457,0.1886003613471985,0.06392037868499756,0.08935263752937317,0.11712036281824112,0.21583594381809235,0.16329525411128998,0.13631749153137207,0.0886017233133316,0.21670056879520416,0.06724561005830765,0.04706357419490814,0.14239659905433655,0.07754737883806229,0.0600232258439064,0.02099040523171425,0.04054228588938713,0.09909887611865997,0.0741669237613678,0.07538794726133347,0.07744217664003372,0.06124211847782135,0.1670895665884018,0.09300629794597626,0.03529779240489006,0.05556724965572357,0.03762025013566017,0.07756669074296951,0.12137890607118607,0.030720647424459457,0.058777034282684326,0.12043481320142746,0.04529832676053047,0.13737528026103973,0.20748253166675568,0.023532984778285027,0.1767904907464981,0.09832398593425751,0.1445746123790741,0.1769290715456009,0.04272884503006935,0.16642121970653534,0.11947217583656311,0.06665654480457306,0.1152968481183052,0.08005982637405396,0.15477684140205383,0.09468428045511246,0.10220146924257278,0.11320590227842331,0.08045244961977005,0.09578610956668854,0.02457842044532299,0.0783243253827095,0.05383904650807381,0.08829759806394577,0.07175464183092117,0.08381175249814987,0.020336680114269257,0.08525779098272324,0.11368516087532043,0.11354435980319977,0.02952861413359642,0.06211737170815468,0.11070919781923294,0.06906242668628693,0.08971857279539108,0.04636424779891968,0.02353844791650772,0.033361565321683884,0.10741447657346725,0.058590006083250046,0.17274323105812073,0.17481814324855804,0.046542905271053314,0.05417737364768982,0.09887266159057617,0.0424865297973156,0.18041886389255524,0.15261103212833405,0.13225975632667542,0.17643405497074127,0.09129643440246582,0.0928715318441391,0.20758965611457825,0.0862446203827858,0.026965349912643433,0.06764402240514755,0.0296167004853487,0.08371323347091675,0.09901446849107742,0.09441464394330978,0.19782328605651855,0.14639852941036224,0.02387845329940319,0.05169312655925751,0.08012295514345169,0.01529175415635109,0.18454337120056152,0.016732169315218925,0.0728360041975975,0.04720527306199074,0.05798560008406639,0.05626960098743439,0.08912916481494904,0.07822033017873764,0.20519699156284332,0.09674376994371414,0.11097011715173721,0.1064729392528534,0.056564006954431534,0.11647362262010574,0.05081618204712868,0.08233249932527542,0.043621208518743515,0.03744646906852722,0.2985581159591675,0.16800910234451294,0.06429882347583771,0.0904185101389885,0.1268138587474823,0.035783350467681885,0.05268415808677673,0.055438075214624405,0.21634496748447418,0.027819855138659477,0.05497989431023598,0.06985048204660416,0.03512576222419739,0.09544894844293594,0.060291580855846405,0.131399005651474,0.04057302325963974,0.06977958977222443,0.18454819917678833,0.023543382063508034,0.160687655210495,0.039002060890197754,0.04758811742067337,0.0847238078713417,0.03998809680342674,0.05487538501620293,0.06424207240343094,0.12880674004554749,0.1176636591553688,0.07361301779747009,0.10703776776790619,0.07147777080535889,0.3963179588317871,0.08291671425104141,0.04586300626397133,0.03720344603061676,0.1192985400557518,0.04965556412935257,0.07001276314258575,0.05821147933602333,0.0581868439912796,0.027480632066726685,0.014887812547385693,0.08094630390405655,0.06537258625030518,0.25263115763664246,0.1513378918170929,0.18759001791477203,0.14978088438510895,0.046721648424863815,0.2759579122066498,0.06938925385475159,0.2756431996822357,0.10486523061990738,0.09761892259120941,0.0734909325838089,0.08731783926486969,0.10529480129480362,0.06968174129724503,0.12086273729801178,0.0760188102722168,0.194156676530838,0.025245262309908867,0.11849793046712875,0.07595867663621902,0.08171693980693817,0.09325087070465088,0.12823766469955444,0.10497290641069412,0.023957913741469383,0.16868902742862701,0.11180323362350464,0.04343758523464203,0.10808609426021576,0.054106809198856354,0.032331619411706924,0.19456997513771057,0.03156488016247749,0.023355672135949135,0.01140227448195219,0.05214114487171173,0.041045181453228,0.037194110453128815,0.05999879166483879,0.04814812168478966,0.10815778374671936,0.1117451936006546,0.06262239813804626,0.15669019520282745,0.03967725858092308,0.04531668499112129,0.05665923282504082,0.11041504889726639,0.08199901133775711,0.03165147453546524,0.10493524372577667,0.03787810355424881,0.06632748991250992,0.048434097319841385,0.1662399023771286,0.029631495475769043,0.07332347333431244,0.10248129069805145,0.0430779755115509,0.08863703906536102,0.06876064091920853,0.1727532148361206,0.06790703535079956,0.14691002666950226,0.04804285988211632,0.07223086804151535,0.0656873807311058,0.09717048704624176,0.0191599503159523,0.0867033377289772,0.032763510942459106,0.0966385081410408,0.10863026231527328,0.02466382086277008,0.2072652131319046,0.1628718376159668,0.12546969950199127,0.1734842211008072,0.07012443989515305,0.07228875905275345,0.13002361357212067,0.06045573577284813,0.08117660880088806,0.09230031073093414,0.038758378475904465,0.06652560830116272,0.10064428299665451,0.05979900807142258,0.043389786034822464,0.03534454479813576,0.1278190016746521,0.04007597640156746,0.0661642998456955,0.13322663307189941,0.10218019783496857,0.13511022925376892,0.05026046931743622,0.11913362890481949,0.0759347528219223,0.08714250475168228,0.03692108392715454,0.20692108571529388,0.13772989809513092,0.15106862783432007,0.04918596148490906,0.10438666492700577,0.09734825044870377,0.07389559596776962,0.03593341261148453,0.15257979929447174,0.08054765313863754,0.10376807302236557,0.10597293823957443,0.1353558897972107,0.09043233096599579,0.09976262599229813,0.13235986232757568,0.045261457562446594,0.07199399173259735,0.13699857890605927,0.31996023654937744,0.0869244933128357,0.04134450480341911,0.035168349742889404,0.12541715800762177,0.22319041192531586,0.11584457755088806,0.01782381162047386,0.02737448550760746,0.11876026540994644,0.016181915998458862,0.07823408395051956,0.016969498246908188,0.059708982706069946,0.09852184355258942,0.03764079138636589,0.020215358585119247,0.09135646373033524,0.07708390057086945,0.20012272894382477,0.13558554649353027,0.03552562743425369,0.06742463260889053,0.10936170071363449,0.19614914059638977,0.03605390712618828,0.10826212167739868,0.03642996400594711,0.08262570202350616,0.17545291781425476,0.08421291410923004,0.12084854394197464,0.15199816226959229,0.09439881891012192,0.13966681063175201,0.0462169349193573,0.16150858998298645,0.04921523109078407,0.27242159843444824,0.023372534662485123,0.04393576458096504,0.12350178509950638,0.0698096975684166,0.06754977256059647,0.03518233448266983,0.08919662982225418,0.03090999275445938,0.1922197937965393,0.0727955549955368,0.045826543122529984,0.21367941796779633,0.042425401508808136,0.02956400066614151,0.030406992882490158,0.0216591227799654,0.03944304957985878,0.07933389395475388,0.06610239297151566,0.039425671100616455,0.03806610032916069,0.04088885709643364,0.1725316196680069,0.076156847178936,0.02169647440314293,0.11612031608819962,0.10423588007688522,0.13812559843063354,0.0278847124427557,0.12522782385349274,0.13500043749809265,0.08596853166818619,0.013968197628855705,0.00983476173132658,0.05695098638534546,0.17471683025360107,0.09953608363866806,0.09540385007858276,0.14096581935882568,0.08196091651916504,0.05652909353375435,0.09337127208709717,0.06719547510147095,0.08846532553434372,0.04932451248168945,0.03182496130466461,0.1490483433008194,0.06127148121595383,0.15308740735054016,0.11371023952960968,0.07027935236692429,0.06207101419568062,0.17488637566566467,0.09796566516160965,0.05647001788020134,0.0895005613565445,0.0966632291674614,0.1265280693769455,0.09739220142364502,0.12507978081703186,0.186167910695076,0.0407407283782959,0.07412944734096527,0.0653330534696579,0.1686319261789322,0.10138040035963058,0.12163276225328445,0.0805128887295723,0.05153943598270416,0.09531482309103012,0.08008973300457001,0.019143197685480118,0.2069641649723053,0.029329298064112663,0.13724756240844727,0.020772887393832207,0.016469676047563553,0.19381798803806305,0.17974528670310974,0.0517890527844429,0.08497323840856552,0.11640715599060059,0.2097497582435608,0.1803872287273407,0.04927501827478409,0.07429847121238708,0.07034218311309814,0.19504672288894653,0.1276024878025055,0.12670624256134033,0.14749135076999664,0.0960400179028511,0.1798962950706482,0.06034596264362335,0.10975487530231476,0.07579752802848816,0.036226775497198105,0.06443830579519272,0.039763227105140686,0.014371906407177448,0.12492714822292328,0.12178368866443634,0.0795367956161499,0.0339374803006649,0.17172686755657196,0.02045297436416149,0.1551949828863144,0.12337939441204071,0.06251390278339386,0.061506375670433044,0.2630408704280853,0.19113445281982422,0.04551444202661514,0.13957832753658295,0.02706824243068695,0.06019973009824753,0.02995096892118454,0.13361597061157227,0.0419013574719429,0.057176198810338974,0.05026808753609657,0.17383308708667755,0.08310865610837936,0.0475865863263607,0.04702598601579666,0.09946323186159134,0.02526296302676201,0.06654658168554306,0.16009022295475006,0.09320535510778427,0.10386422276496887,0.13691726326942444,0.01337870117276907,0.04182036221027374,0.08440063148736954,0.0470738559961319,0.18832723796367645,0.02378673478960991,0.1253035068511963,0.07489321380853653,0.05733940750360489,0.06781965494155884,0.06451674550771713,0.036090705543756485,0.08473589271306992,0.1354811042547226,0.054032325744628906,0.2792179584503174,0.01576165296137333,0.07183333486318588,0.04951314628124237,0.07255963981151581,0.021174408495426178,0.020989134907722473,0.04307572543621063,0.07746948301792145,0.06067034602165222,0.08222798258066177,0.14542493224143982,0.055016595870256424,0.030381139367818832,0.12075983732938766,0.03759560361504555,0.1492147147655487,0.152834951877594,0.07331125438213348,0.16699627041816711,0.11008014529943466,0.07873907685279846,0.14003318548202515,0.10999103635549545,0.07379663735628128,0.08276736736297607,0.05997174233198166,0.0883881226181984,0.08292613178491592,0.20526738464832306,0.05266695097088814,0.049516089260578156,0.08986333757638931,0.03537963330745697,0.18396294116973877,0.05518198758363724,0.034455034881830215,0.08108413219451904,0.04366699606180191,0.09130140393972397,0.03234671801328659,0.07252912223339081,0.032324519008398056,0.0984698235988617,0.08618161082267761,0.06288403272628784,0.034730441868305206,0.15371538698673248,0.04734833538532257,0.059978924691677094,0.17814168334007263,0.10567247867584229,0.10853387415409088,0.1392722874879837,0.0869678258895874,0.1567588746547699,0.04242799058556557,0.1478009670972824,0.12503181397914886,0.1040600836277008,0.08824672549962997,0.1752602458000183,0.020203743129968643,0.06474784761667252,0.06090903654694557,0.07346568256616592,0.16794054210186005,0.04812571406364441,0.11303611844778061,0.15672104060649872,0.059883568435907364,0.215323805809021,0.04836207628250122,0.03491823375225067,0.030781349167227745,0.032289378345012665,0.02239176630973816,0.15340125560760498,0.0292742270976305,0.07581441104412079,0.0659133717417717,0.13324587047100067,0.06109078973531723,0.043566375970840454,0.1577279269695282,0.11297550052404404,0.04694465547800064,0.1328836977481842,0.1186276227235794,0.17852820456027985,0.060126375406980515,0.10817370563745499,0.00834941677749157,0.03457683324813843,0.01636764593422413,0.11907190084457397,0.19453038275241852,0.11236956715583801,0.06179385259747505,0.1074773296713829,0.11834109574556351,0.026611022651195526,0.13587400317192078,0.08493126183748245,0.12439984083175659,0.09676423668861389,0.3298860490322113,0.10178519785404205,0.07371971756219864,0.05357641354203224,0.0237300805747509,0.03226086124777794,0.16193217039108276,0.10122337192296982,0.04614969715476036,0.03161025419831276,0.07186058908700943,0.057006873190402985,0.053689196705818176,0.16138842701911926,0.08052774518728256,0.07324942946434021,0.10962310433387756,0.020795419812202454,0.05673838034272194,0.032614849507808685,0.0993400439620018,0.06477582454681396,0.05333930253982544,0.05686290189623833,0.13590987026691437,0.0985899418592453,0.06950106471776962,0.1306224912405014,0.028965365141630173,0.04206687584519386,0.07025790214538574,0.05926794558763504,0.13981008529663086,0.061775434762239456,0.16245706379413605,0.06110387668013573,0.05029371380805969,0.16577881574630737,0.08528590202331543,0.04501478746533394,0.05467692390084267,0.027164539322257042,0.16950160264968872,0.045176051557064056,0.05672749504446983,0.025559280067682266,0.09171991050243378,0.08380525559186935,0.11973563581705093,0.135576531291008,0.022106358781456947,0.12000574171543121,0.06817755848169327,0.10735759884119034,0.1121295616030693,0.03343473747372627,0.13320712745189667,0.05011669546365738,0.025161974132061005,0.10754287242889404,0.05606353282928467,0.06394848227500916,0.08777926117181778,0.05595168471336365,0.10407610237598419,0.10302304476499557,0.037734631448984146,0.025546543300151825,0.018276311457157135,0.16210155189037323,0.0584513358771801,0.14299741387367249,0.12447208911180496,0.07474491000175476,0.12209808826446533,0.10564778745174408,0.05006423220038414,0.01863730698823929,0.11184852570295334,0.01898711733520031,0.00547077925875783,0.09786980599164963,0.15891510248184204,0.11553332954645157,0.16918636858463287,0.14799764752388,0.09589588642120361,0.24639840424060822,0.10589368641376495,0.09037236869335175,0.11137937754392624,0.03673774003982544,0.10978969186544418,0.016066966578364372,0.3021010160446167,0.03083479218184948,0.0640370175242424,0.1465340554714203,0.025825832039117813,0.06941821426153183,0.13618053495883942,0.17422892153263092,0.12820854783058167,0.04275983199477196,0.08671070635318756,0.14121754467487335,0.11814768612384796,0.06283777952194214,0.056583814322948456,0.0529019832611084,0.037947945296764374,0.19050423800945282,0.02335095778107643,0.059681810438632965,0.024835851043462753,0.041288651525974274,0.026136497035622597,0.05643225088715553,0.0335686132311821,0.021287720650434494,0.03298153728246689,0.059508372098207474,0.17319554090499878,0.03956640511751175,0.10656029731035233,0.027628712356090546,0.1548672467470169,0.03163279965519905,0.026625845581293106,0.18801699578762054,0.1658576875925064,0.12284955382347107,0.043028414249420166,0.019305424764752388,0.04717433080077171,0.09783884882926941,0.11618688702583313,0.055253054946660995,0.08370925486087799,0.03579161688685417,0.2071007788181305,0.024408631026744843,0.019040381535887718,0.2695884704589844,0.12484059482812881,0.02397961914539337,0.08660341799259186,0.13869763910770416,0.10743232071399689,0.03813422843813896,0.15358655154705048,0.08834660053253174,0.05951104313135147,0.20369619131088257,0.142247274518013,0.06207911670207977,0.07179770618677139,0.07173511385917664,0.06801662594079971,0.18799735605716705,0.13016164302825928,0.06426148116588593,0.015632519498467445,0.05638759210705757,0.1102883443236351,0.03079729527235031,0.14091548323631287,0.01994514651596546,0.09690850973129272,0.04157150536775589,0.07274643331766129,0.09800202399492264,0.09023801237344742,0.03398565202951431,0.060151610523462296,0.05155698210000992,0.022397480905056,0.0664869174361229,0.10456832498311996,0.01093613263219595,0.05839509144425392,0.05038264021277428,0.08391866832971573,0.042233243584632874,0.05085910111665726,0.0785619243979454,0.17952878773212433,0.18958920240402222,0.111044742166996,0.009705175645649433,0.1435200721025467,0.05385388433933258,0.06919890642166138,0.12239142507314682,0.07123114168643951,0.06286673247814178,0.15139715373516083,0.1339622586965561,0.1384306401014328,0.079766184091568,0.0710458979010582,0.10323603451251984,0.06830646842718124,0.028268013149499893,0.07647132128477097,0.06906653940677643,0.08542284369468689,0.10226951539516449,0.11067740619182587,0.10219787806272507,0.06549762934446335,0.13747847080230713,0.2394176721572876,0.13262367248535156,0.09550242871046066,0.11862131953239441,0.06035478413105011,0.09362010657787323,0.22650130093097687,0.17538855969905853,0.08134753257036209,0.035131458193063736,0.06882346421480179,0.05152689293026924,0.10785539448261261,0.08066714555025101,0.009403824806213379,0.160799041390419,0.04610956087708473,0.02339641936123371,0.05996236205101013,0.03992491587996483,0.11828672885894775,0.04137318953871727,0.010641486383974552,0.05764658749103546,0.14292843639850616,0.036723535507917404,0.03255203738808632,0.028195027261972427,0.2093508094549179,0.02607896737754345,0.117417111992836,0.1948014497756958,0.10956870019435883,0.037325698882341385,0.10995325446128845,0.0248598363250494,0.050963982939720154,0.03958050161600113,0.07251307368278503,0.15168796479701996,0.07354925572872162,0.07844682037830353,0.051498085260391235,0.035143785178661346,0.07954435050487518,0.03282926604151726,0.2126753330230713,0.04957457259297371,0.039747316390275955,0.08188236504793167,0.04520527273416519,0.10603197664022446,0.03627626970410347,0.1615406721830368,0.07443338632583618,0.1124192550778389,0.050838202238082886,0.04703296348452568,0.16635006666183472,0.05382198095321655,0.06180793419480324,0.0512186735868454,0.09894108027219772,0.21404464542865753,0.11084368824958801,0.044224925339221954,0.044875651597976685,0.07245289534330368,0.06792309880256653,0.09005283564329147,0.09549612551927567,0.11333473771810532,0.0976669043302536,0.07288151234388351,0.12974679470062256,0.08806212246417999,0.051346857100725174,0.022394731640815735,0.0160715002566576,0.053195443004369736,0.09956569969654083,0.06628923863172531,0.03613274171948433,0.06453420966863632,0.0690784603357315,0.12418919801712036,0.02246362343430519,0.21526922285556793,0.07837647199630737,0.05161562189459801,0.06283178925514221,0.0558939166367054,0.239996537566185,0.051711201667785645,0.02950373664498329,0.1518949270248413,0.08370405435562134,0.13814066350460052,0.0476791150867939,0.13292603194713593,0.08405331522226334,0.05639487877488136,0.11862891167402267,0.12429697811603546,0.08132985234260559,0.02642453834414482,0.06361358612775803,0.07147855311632156,0.06449474394321442,0.04484718292951584,0.045905694365501404,0.11509455740451813,0.014738949947059155,0.04056292027235031,0.09185270965099335,0.11591047793626785,0.07862783223390579,0.0432717502117157,0.11562363803386688,0.07604686915874481,0.06402838230133057,0.04656846821308136,0.10679493099451065,0.14376479387283325,0.07595907151699066,0.04836180433630943,0.09436852484941483,0.07708605378866196,0.021117668598890305,0.03917953744530678,0.07585365325212479,0.025579432025551796,0.049721673130989075,0.05170625075697899,0.028560400009155273,0.09000401943922043,0.09293729811906815,0.051620595157146454,0.21729592978954315,0.10296957194805145,0.08338339626789093,0.016132475808262825,0.018892161548137665,0.0910121276974678,0.11445153504610062,0.019106097519397736,0.12102964520454407,0.0696064829826355,0.054068341851234436,0.08393040299415588,0.13163278996944427,0.24768255650997162,0.2224062979221344,0.10611222684383392,0.1311197727918625,0.014433522708714008,0.06303852051496506,0.08442838490009308,0.02635774202644825,0.057131532579660416,0.0412454828619957,0.012137277983129025,0.06851179152727127,0.1497534066438675,0.16305941343307495,0.025511670857667923,0.10834147781133652,0.12031224370002747,0.04466908425092697,0.01135719008743763,0.13786424696445465,0.012330211699008942,0.06003028526902199,0.05438145250082016,0.04384136572480202,0.10864593833684921,0.07759062945842743,0.12549179792404175,0.03557872772216797,0.05923373997211456,0.014992588199675083,0.07042841613292694,0.0683918222784996,0.02842712216079235,0.058291252702474594,0.061260029673576355,0.1003468781709671,0.0710919126868248,0.12194975465536118,0.1629178375005722,0.05497650429606438,0.009518505074083805,0.0362386628985405,0.10311686247587204,0.05562244728207588,0.09668400883674622,0.02066880650818348,0.030413394793868065,0.12860524654388428,0.04711848124861717,0.10341616719961166,0.12105415016412735,0.08166170120239258,0.11394113302230835,0.13236641883850098,0.020160820335149765,0.022119194269180298,0.10380387306213379,0.026023173704743385],\"yaxis\":\"y\",\"type\":\"scattergl\"}],                        {\"template\":{\"data\":{\"histogram2dcontour\":[{\"type\":\"histogram2dcontour\",\"colorbar\":{\"outlinewidth\":0,\"ticks\":\"\"},\"colorscale\":[[0.0,\"#0d0887\"],[0.1111111111111111,\"#46039f\"],[0.2222222222222222,\"#7201a8\"],[0.3333333333333333,\"#9c179e\"],[0.4444444444444444,\"#bd3786\"],[0.5555555555555556,\"#d8576b\"],[0.6666666666666666,\"#ed7953\"],[0.7777777777777778,\"#fb9f3a\"],[0.8888888888888888,\"#fdca26\"],[1.0,\"#f0f921\"]]}],\"choropleth\":[{\"type\":\"choropleth\",\"colorbar\":{\"outlinewidth\":0,\"ticks\":\"\"}}],\"histogram2d\":[{\"type\":\"histogram2d\",\"colorbar\":{\"outlinewidth\":0,\"ticks\":\"\"},\"colorscale\":[[0.0,\"#0d0887\"],[0.1111111111111111,\"#46039f\"],[0.2222222222222222,\"#7201a8\"],[0.3333333333333333,\"#9c179e\"],[0.4444444444444444,\"#bd3786\"],[0.5555555555555556,\"#d8576b\"],[0.6666666666666666,\"#ed7953\"],[0.7777777777777778,\"#fb9f3a\"],[0.8888888888888888,\"#fdca26\"],[1.0,\"#f0f921\"]]}],\"heatmap\":[{\"type\":\"heatmap\",\"colorbar\":{\"outlinewidth\":0,\"ticks\":\"\"},\"colorscale\":[[0.0,\"#0d0887\"],[0.1111111111111111,\"#46039f\"],[0.2222222222222222,\"#7201a8\"],[0.3333333333333333,\"#9c179e\"],[0.4444444444444444,\"#bd3786\"],[0.5555555555555556,\"#d8576b\"],[0.6666666666666666,\"#ed7953\"],[0.7777777777777778,\"#fb9f3a\"],[0.8888888888888888,\"#fdca26\"],[1.0,\"#f0f921\"]]}],\"heatmapgl\":[{\"type\":\"heatmapgl\",\"colorbar\":{\"outlinewidth\":0,\"ticks\":\"\"},\"colorscale\":[[0.0,\"#0d0887\"],[0.1111111111111111,\"#46039f\"],[0.2222222222222222,\"#7201a8\"],[0.3333333333333333,\"#9c179e\"],[0.4444444444444444,\"#bd3786\"],[0.5555555555555556,\"#d8576b\"],[0.6666666666666666,\"#ed7953\"],[0.7777777777777778,\"#fb9f3a\"],[0.8888888888888888,\"#fdca26\"],[1.0,\"#f0f921\"]]}],\"contourcarpet\":[{\"type\":\"contourcarpet\",\"colorbar\":{\"outlinewidth\":0,\"ticks\":\"\"}}],\"contour\":[{\"type\":\"contour\",\"colorbar\":{\"outlinewidth\":0,\"ticks\":\"\"},\"colorscale\":[[0.0,\"#0d0887\"],[0.1111111111111111,\"#46039f\"],[0.2222222222222222,\"#7201a8\"],[0.3333333333333333,\"#9c179e\"],[0.4444444444444444,\"#bd3786\"],[0.5555555555555556,\"#d8576b\"],[0.6666666666666666,\"#ed7953\"],[0.7777777777777778,\"#fb9f3a\"],[0.8888888888888888,\"#fdca26\"],[1.0,\"#f0f921\"]]}],\"surface\":[{\"type\":\"surface\",\"colorbar\":{\"outlinewidth\":0,\"ticks\":\"\"},\"colorscale\":[[0.0,\"#0d0887\"],[0.1111111111111111,\"#46039f\"],[0.2222222222222222,\"#7201a8\"],[0.3333333333333333,\"#9c179e\"],[0.4444444444444444,\"#bd3786\"],[0.5555555555555556,\"#d8576b\"],[0.6666666666666666,\"#ed7953\"],[0.7777777777777778,\"#fb9f3a\"],[0.8888888888888888,\"#fdca26\"],[1.0,\"#f0f921\"]]}],\"mesh3d\":[{\"type\":\"mesh3d\",\"colorbar\":{\"outlinewidth\":0,\"ticks\":\"\"}}],\"scatter\":[{\"fillpattern\":{\"fillmode\":\"overlay\",\"size\":10,\"solidity\":0.2},\"type\":\"scatter\"}],\"parcoords\":[{\"type\":\"parcoords\",\"line\":{\"colorbar\":{\"outlinewidth\":0,\"ticks\":\"\"}}}],\"scatterpolargl\":[{\"type\":\"scatterpolargl\",\"marker\":{\"colorbar\":{\"outlinewidth\":0,\"ticks\":\"\"}}}],\"bar\":[{\"error_x\":{\"color\":\"#2a3f5f\"},\"error_y\":{\"color\":\"#2a3f5f\"},\"marker\":{\"line\":{\"color\":\"#E5ECF6\",\"width\":0.5},\"pattern\":{\"fillmode\":\"overlay\",\"size\":10,\"solidity\":0.2}},\"type\":\"bar\"}],\"scattergeo\":[{\"type\":\"scattergeo\",\"marker\":{\"colorbar\":{\"outlinewidth\":0,\"ticks\":\"\"}}}],\"scatterpolar\":[{\"type\":\"scatterpolar\",\"marker\":{\"colorbar\":{\"outlinewidth\":0,\"ticks\":\"\"}}}],\"histogram\":[{\"marker\":{\"pattern\":{\"fillmode\":\"overlay\",\"size\":10,\"solidity\":0.2}},\"type\":\"histogram\"}],\"scattergl\":[{\"type\":\"scattergl\",\"marker\":{\"colorbar\":{\"outlinewidth\":0,\"ticks\":\"\"}}}],\"scatter3d\":[{\"type\":\"scatter3d\",\"line\":{\"colorbar\":{\"outlinewidth\":0,\"ticks\":\"\"}},\"marker\":{\"colorbar\":{\"outlinewidth\":0,\"ticks\":\"\"}}}],\"scattermapbox\":[{\"type\":\"scattermapbox\",\"marker\":{\"colorbar\":{\"outlinewidth\":0,\"ticks\":\"\"}}}],\"scatterternary\":[{\"type\":\"scatterternary\",\"marker\":{\"colorbar\":{\"outlinewidth\":0,\"ticks\":\"\"}}}],\"scattercarpet\":[{\"type\":\"scattercarpet\",\"marker\":{\"colorbar\":{\"outlinewidth\":0,\"ticks\":\"\"}}}],\"carpet\":[{\"aaxis\":{\"endlinecolor\":\"#2a3f5f\",\"gridcolor\":\"white\",\"linecolor\":\"white\",\"minorgridcolor\":\"white\",\"startlinecolor\":\"#2a3f5f\"},\"baxis\":{\"endlinecolor\":\"#2a3f5f\",\"gridcolor\":\"white\",\"linecolor\":\"white\",\"minorgridcolor\":\"white\",\"startlinecolor\":\"#2a3f5f\"},\"type\":\"carpet\"}],\"table\":[{\"cells\":{\"fill\":{\"color\":\"#EBF0F8\"},\"line\":{\"color\":\"white\"}},\"header\":{\"fill\":{\"color\":\"#C8D4E3\"},\"line\":{\"color\":\"white\"}},\"type\":\"table\"}],\"barpolar\":[{\"marker\":{\"line\":{\"color\":\"#E5ECF6\",\"width\":0.5},\"pattern\":{\"fillmode\":\"overlay\",\"size\":10,\"solidity\":0.2}},\"type\":\"barpolar\"}],\"pie\":[{\"automargin\":true,\"type\":\"pie\"}]},\"layout\":{\"autotypenumbers\":\"strict\",\"colorway\":[\"#636efa\",\"#EF553B\",\"#00cc96\",\"#ab63fa\",\"#FFA15A\",\"#19d3f3\",\"#FF6692\",\"#B6E880\",\"#FF97FF\",\"#FECB52\"],\"font\":{\"color\":\"#2a3f5f\"},\"hovermode\":\"closest\",\"hoverlabel\":{\"align\":\"left\"},\"paper_bgcolor\":\"white\",\"plot_bgcolor\":\"#E5ECF6\",\"polar\":{\"bgcolor\":\"#E5ECF6\",\"angularaxis\":{\"gridcolor\":\"white\",\"linecolor\":\"white\",\"ticks\":\"\"},\"radialaxis\":{\"gridcolor\":\"white\",\"linecolor\":\"white\",\"ticks\":\"\"}},\"ternary\":{\"bgcolor\":\"#E5ECF6\",\"aaxis\":{\"gridcolor\":\"white\",\"linecolor\":\"white\",\"ticks\":\"\"},\"baxis\":{\"gridcolor\":\"white\",\"linecolor\":\"white\",\"ticks\":\"\"},\"caxis\":{\"gridcolor\":\"white\",\"linecolor\":\"white\",\"ticks\":\"\"}},\"coloraxis\":{\"colorbar\":{\"outlinewidth\":0,\"ticks\":\"\"}},\"colorscale\":{\"sequential\":[[0.0,\"#0d0887\"],[0.1111111111111111,\"#46039f\"],[0.2222222222222222,\"#7201a8\"],[0.3333333333333333,\"#9c179e\"],[0.4444444444444444,\"#bd3786\"],[0.5555555555555556,\"#d8576b\"],[0.6666666666666666,\"#ed7953\"],[0.7777777777777778,\"#fb9f3a\"],[0.8888888888888888,\"#fdca26\"],[1.0,\"#f0f921\"]],\"sequentialminus\":[[0.0,\"#0d0887\"],[0.1111111111111111,\"#46039f\"],[0.2222222222222222,\"#7201a8\"],[0.3333333333333333,\"#9c179e\"],[0.4444444444444444,\"#bd3786\"],[0.5555555555555556,\"#d8576b\"],[0.6666666666666666,\"#ed7953\"],[0.7777777777777778,\"#fb9f3a\"],[0.8888888888888888,\"#fdca26\"],[1.0,\"#f0f921\"]],\"diverging\":[[0,\"#8e0152\"],[0.1,\"#c51b7d\"],[0.2,\"#de77ae\"],[0.3,\"#f1b6da\"],[0.4,\"#fde0ef\"],[0.5,\"#f7f7f7\"],[0.6,\"#e6f5d0\"],[0.7,\"#b8e186\"],[0.8,\"#7fbc41\"],[0.9,\"#4d9221\"],[1,\"#276419\"]]},\"xaxis\":{\"gridcolor\":\"white\",\"linecolor\":\"white\",\"ticks\":\"\",\"title\":{\"standoff\":15},\"zerolinecolor\":\"white\",\"automargin\":true,\"zerolinewidth\":2},\"yaxis\":{\"gridcolor\":\"white\",\"linecolor\":\"white\",\"ticks\":\"\",\"title\":{\"standoff\":15},\"zerolinecolor\":\"white\",\"automargin\":true,\"zerolinewidth\":2},\"scene\":{\"xaxis\":{\"backgroundcolor\":\"#E5ECF6\",\"gridcolor\":\"white\",\"linecolor\":\"white\",\"showbackground\":true,\"ticks\":\"\",\"zerolinecolor\":\"white\",\"gridwidth\":2},\"yaxis\":{\"backgroundcolor\":\"#E5ECF6\",\"gridcolor\":\"white\",\"linecolor\":\"white\",\"showbackground\":true,\"ticks\":\"\",\"zerolinecolor\":\"white\",\"gridwidth\":2},\"zaxis\":{\"backgroundcolor\":\"#E5ECF6\",\"gridcolor\":\"white\",\"linecolor\":\"white\",\"showbackground\":true,\"ticks\":\"\",\"zerolinecolor\":\"white\",\"gridwidth\":2}},\"shapedefaults\":{\"line\":{\"color\":\"#2a3f5f\"}},\"annotationdefaults\":{\"arrowcolor\":\"#2a3f5f\",\"arrowhead\":0,\"arrowwidth\":1},\"geo\":{\"bgcolor\":\"white\",\"landcolor\":\"#E5ECF6\",\"subunitcolor\":\"white\",\"showland\":true,\"showlakes\":true,\"lakecolor\":\"white\"},\"title\":{\"x\":0.05},\"mapbox\":{\"style\":\"light\"}}},\"xaxis\":{\"anchor\":\"y\",\"domain\":[0.0,1.0],\"title\":{\"text\":\"Num batches seen\"}},\"yaxis\":{\"anchor\":\"x\",\"domain\":[0.0,1.0],\"title\":{\"text\":\"Cross entropy loss\"},\"range\":[0,2.4251559734344483]},\"legend\":{\"tracegroupgap\":0},\"title\":{\"text\":\"SimpleMLP training on MNIST\"},\"width\":700,\"hovermode\":\"x unified\"},                        {\"responsive\": true}                    ).then(function(){\n",
       "                            \n",
       "var gd = document.getElementById('fada765e-b067-45a3-9c36-63df7e27b285');\n",
       "var x = new MutationObserver(function (mutations, observer) {{\n",
       "        var display = window.getComputedStyle(gd).display;\n",
       "        if (!display || display === 'none') {{\n",
       "            console.log([gd, 'removed!']);\n",
       "            Plotly.purge(gd);\n",
       "            observer.disconnect();\n",
       "        }}\n",
       "}});\n",
       "\n",
       "// Listen for the removal of the full notebook cells\n",
       "var notebookContainer = gd.closest('#notebook-container');\n",
       "if (notebookContainer) {{\n",
       "    x.observe(notebookContainer, {childList: true});\n",
       "}}\n",
       "\n",
       "// Listen for the clearing of the current output cell\n",
       "var outputEl = gd.closest('.output');\n",
       "if (outputEl) {{\n",
       "    x.observe(outputEl, {childList: true});\n",
       "}}\n",
       "\n",
       "                        })                };                });            </script>        </div>"
      ]
     },
     "metadata": {},
     "output_type": "display_data"
    },
    {
     "data": {
      "application/vnd.plotly.v1+json": {
       "config": {
        "plotlyServerURL": "https://plot.ly"
       },
       "data": [
        {
         "hovertemplate": "Num epoch seen=%{x}<br>Accuracy=%{y}<extra></extra>",
         "legendgroup": "",
         "line": {
          "color": "#636efa",
          "dash": "solid"
         },
         "marker": {
          "symbol": "circle"
         },
         "mode": "lines",
         "name": "",
         "orientation": "v",
         "showlegend": false,
         "type": "scatter",
         "x": [
          0,
          1,
          2
         ],
         "xaxis": "x",
         "y": [
          0.957099974155426,
          0.9702000021934509,
          0.9735999703407288
         ],
         "yaxis": "y"
        }
       ],
       "layout": {
        "height": 360,
        "hovermode": "x unified",
        "legend": {
         "tracegroupgap": 0
        },
        "template": {
         "data": {
          "bar": [
           {
            "error_x": {
             "color": "#2a3f5f"
            },
            "error_y": {
             "color": "#2a3f5f"
            },
            "marker": {
             "line": {
              "color": "#E5ECF6",
              "width": 0.5
             },
             "pattern": {
              "fillmode": "overlay",
              "size": 10,
              "solidity": 0.2
             }
            },
            "type": "bar"
           }
          ],
          "barpolar": [
           {
            "marker": {
             "line": {
              "color": "#E5ECF6",
              "width": 0.5
             },
             "pattern": {
              "fillmode": "overlay",
              "size": 10,
              "solidity": 0.2
             }
            },
            "type": "barpolar"
           }
          ],
          "carpet": [
           {
            "aaxis": {
             "endlinecolor": "#2a3f5f",
             "gridcolor": "white",
             "linecolor": "white",
             "minorgridcolor": "white",
             "startlinecolor": "#2a3f5f"
            },
            "baxis": {
             "endlinecolor": "#2a3f5f",
             "gridcolor": "white",
             "linecolor": "white",
             "minorgridcolor": "white",
             "startlinecolor": "#2a3f5f"
            },
            "type": "carpet"
           }
          ],
          "choropleth": [
           {
            "colorbar": {
             "outlinewidth": 0,
             "ticks": ""
            },
            "type": "choropleth"
           }
          ],
          "contour": [
           {
            "colorbar": {
             "outlinewidth": 0,
             "ticks": ""
            },
            "colorscale": [
             [
              0,
              "#0d0887"
             ],
             [
              0.1111111111111111,
              "#46039f"
             ],
             [
              0.2222222222222222,
              "#7201a8"
             ],
             [
              0.3333333333333333,
              "#9c179e"
             ],
             [
              0.4444444444444444,
              "#bd3786"
             ],
             [
              0.5555555555555556,
              "#d8576b"
             ],
             [
              0.6666666666666666,
              "#ed7953"
             ],
             [
              0.7777777777777778,
              "#fb9f3a"
             ],
             [
              0.8888888888888888,
              "#fdca26"
             ],
             [
              1,
              "#f0f921"
             ]
            ],
            "type": "contour"
           }
          ],
          "contourcarpet": [
           {
            "colorbar": {
             "outlinewidth": 0,
             "ticks": ""
            },
            "type": "contourcarpet"
           }
          ],
          "heatmap": [
           {
            "colorbar": {
             "outlinewidth": 0,
             "ticks": ""
            },
            "colorscale": [
             [
              0,
              "#0d0887"
             ],
             [
              0.1111111111111111,
              "#46039f"
             ],
             [
              0.2222222222222222,
              "#7201a8"
             ],
             [
              0.3333333333333333,
              "#9c179e"
             ],
             [
              0.4444444444444444,
              "#bd3786"
             ],
             [
              0.5555555555555556,
              "#d8576b"
             ],
             [
              0.6666666666666666,
              "#ed7953"
             ],
             [
              0.7777777777777778,
              "#fb9f3a"
             ],
             [
              0.8888888888888888,
              "#fdca26"
             ],
             [
              1,
              "#f0f921"
             ]
            ],
            "type": "heatmap"
           }
          ],
          "heatmapgl": [
           {
            "colorbar": {
             "outlinewidth": 0,
             "ticks": ""
            },
            "colorscale": [
             [
              0,
              "#0d0887"
             ],
             [
              0.1111111111111111,
              "#46039f"
             ],
             [
              0.2222222222222222,
              "#7201a8"
             ],
             [
              0.3333333333333333,
              "#9c179e"
             ],
             [
              0.4444444444444444,
              "#bd3786"
             ],
             [
              0.5555555555555556,
              "#d8576b"
             ],
             [
              0.6666666666666666,
              "#ed7953"
             ],
             [
              0.7777777777777778,
              "#fb9f3a"
             ],
             [
              0.8888888888888888,
              "#fdca26"
             ],
             [
              1,
              "#f0f921"
             ]
            ],
            "type": "heatmapgl"
           }
          ],
          "histogram": [
           {
            "marker": {
             "pattern": {
              "fillmode": "overlay",
              "size": 10,
              "solidity": 0.2
             }
            },
            "type": "histogram"
           }
          ],
          "histogram2d": [
           {
            "colorbar": {
             "outlinewidth": 0,
             "ticks": ""
            },
            "colorscale": [
             [
              0,
              "#0d0887"
             ],
             [
              0.1111111111111111,
              "#46039f"
             ],
             [
              0.2222222222222222,
              "#7201a8"
             ],
             [
              0.3333333333333333,
              "#9c179e"
             ],
             [
              0.4444444444444444,
              "#bd3786"
             ],
             [
              0.5555555555555556,
              "#d8576b"
             ],
             [
              0.6666666666666666,
              "#ed7953"
             ],
             [
              0.7777777777777778,
              "#fb9f3a"
             ],
             [
              0.8888888888888888,
              "#fdca26"
             ],
             [
              1,
              "#f0f921"
             ]
            ],
            "type": "histogram2d"
           }
          ],
          "histogram2dcontour": [
           {
            "colorbar": {
             "outlinewidth": 0,
             "ticks": ""
            },
            "colorscale": [
             [
              0,
              "#0d0887"
             ],
             [
              0.1111111111111111,
              "#46039f"
             ],
             [
              0.2222222222222222,
              "#7201a8"
             ],
             [
              0.3333333333333333,
              "#9c179e"
             ],
             [
              0.4444444444444444,
              "#bd3786"
             ],
             [
              0.5555555555555556,
              "#d8576b"
             ],
             [
              0.6666666666666666,
              "#ed7953"
             ],
             [
              0.7777777777777778,
              "#fb9f3a"
             ],
             [
              0.8888888888888888,
              "#fdca26"
             ],
             [
              1,
              "#f0f921"
             ]
            ],
            "type": "histogram2dcontour"
           }
          ],
          "mesh3d": [
           {
            "colorbar": {
             "outlinewidth": 0,
             "ticks": ""
            },
            "type": "mesh3d"
           }
          ],
          "parcoords": [
           {
            "line": {
             "colorbar": {
              "outlinewidth": 0,
              "ticks": ""
             }
            },
            "type": "parcoords"
           }
          ],
          "pie": [
           {
            "automargin": true,
            "type": "pie"
           }
          ],
          "scatter": [
           {
            "fillpattern": {
             "fillmode": "overlay",
             "size": 10,
             "solidity": 0.2
            },
            "type": "scatter"
           }
          ],
          "scatter3d": [
           {
            "line": {
             "colorbar": {
              "outlinewidth": 0,
              "ticks": ""
             }
            },
            "marker": {
             "colorbar": {
              "outlinewidth": 0,
              "ticks": ""
             }
            },
            "type": "scatter3d"
           }
          ],
          "scattercarpet": [
           {
            "marker": {
             "colorbar": {
              "outlinewidth": 0,
              "ticks": ""
             }
            },
            "type": "scattercarpet"
           }
          ],
          "scattergeo": [
           {
            "marker": {
             "colorbar": {
              "outlinewidth": 0,
              "ticks": ""
             }
            },
            "type": "scattergeo"
           }
          ],
          "scattergl": [
           {
            "marker": {
             "colorbar": {
              "outlinewidth": 0,
              "ticks": ""
             }
            },
            "type": "scattergl"
           }
          ],
          "scattermapbox": [
           {
            "marker": {
             "colorbar": {
              "outlinewidth": 0,
              "ticks": ""
             }
            },
            "type": "scattermapbox"
           }
          ],
          "scatterpolar": [
           {
            "marker": {
             "colorbar": {
              "outlinewidth": 0,
              "ticks": ""
             }
            },
            "type": "scatterpolar"
           }
          ],
          "scatterpolargl": [
           {
            "marker": {
             "colorbar": {
              "outlinewidth": 0,
              "ticks": ""
             }
            },
            "type": "scatterpolargl"
           }
          ],
          "scatterternary": [
           {
            "marker": {
             "colorbar": {
              "outlinewidth": 0,
              "ticks": ""
             }
            },
            "type": "scatterternary"
           }
          ],
          "surface": [
           {
            "colorbar": {
             "outlinewidth": 0,
             "ticks": ""
            },
            "colorscale": [
             [
              0,
              "#0d0887"
             ],
             [
              0.1111111111111111,
              "#46039f"
             ],
             [
              0.2222222222222222,
              "#7201a8"
             ],
             [
              0.3333333333333333,
              "#9c179e"
             ],
             [
              0.4444444444444444,
              "#bd3786"
             ],
             [
              0.5555555555555556,
              "#d8576b"
             ],
             [
              0.6666666666666666,
              "#ed7953"
             ],
             [
              0.7777777777777778,
              "#fb9f3a"
             ],
             [
              0.8888888888888888,
              "#fdca26"
             ],
             [
              1,
              "#f0f921"
             ]
            ],
            "type": "surface"
           }
          ],
          "table": [
           {
            "cells": {
             "fill": {
              "color": "#EBF0F8"
             },
             "line": {
              "color": "white"
             }
            },
            "header": {
             "fill": {
              "color": "#C8D4E3"
             },
             "line": {
              "color": "white"
             }
            },
            "type": "table"
           }
          ]
         },
         "layout": {
          "annotationdefaults": {
           "arrowcolor": "#2a3f5f",
           "arrowhead": 0,
           "arrowwidth": 1
          },
          "autotypenumbers": "strict",
          "coloraxis": {
           "colorbar": {
            "outlinewidth": 0,
            "ticks": ""
           }
          },
          "colorscale": {
           "diverging": [
            [
             0,
             "#8e0152"
            ],
            [
             0.1,
             "#c51b7d"
            ],
            [
             0.2,
             "#de77ae"
            ],
            [
             0.3,
             "#f1b6da"
            ],
            [
             0.4,
             "#fde0ef"
            ],
            [
             0.5,
             "#f7f7f7"
            ],
            [
             0.6,
             "#e6f5d0"
            ],
            [
             0.7,
             "#b8e186"
            ],
            [
             0.8,
             "#7fbc41"
            ],
            [
             0.9,
             "#4d9221"
            ],
            [
             1,
             "#276419"
            ]
           ],
           "sequential": [
            [
             0,
             "#0d0887"
            ],
            [
             0.1111111111111111,
             "#46039f"
            ],
            [
             0.2222222222222222,
             "#7201a8"
            ],
            [
             0.3333333333333333,
             "#9c179e"
            ],
            [
             0.4444444444444444,
             "#bd3786"
            ],
            [
             0.5555555555555556,
             "#d8576b"
            ],
            [
             0.6666666666666666,
             "#ed7953"
            ],
            [
             0.7777777777777778,
             "#fb9f3a"
            ],
            [
             0.8888888888888888,
             "#fdca26"
            ],
            [
             1,
             "#f0f921"
            ]
           ],
           "sequentialminus": [
            [
             0,
             "#0d0887"
            ],
            [
             0.1111111111111111,
             "#46039f"
            ],
            [
             0.2222222222222222,
             "#7201a8"
            ],
            [
             0.3333333333333333,
             "#9c179e"
            ],
            [
             0.4444444444444444,
             "#bd3786"
            ],
            [
             0.5555555555555556,
             "#d8576b"
            ],
            [
             0.6666666666666666,
             "#ed7953"
            ],
            [
             0.7777777777777778,
             "#fb9f3a"
            ],
            [
             0.8888888888888888,
             "#fdca26"
            ],
            [
             1,
             "#f0f921"
            ]
           ]
          },
          "colorway": [
           "#636efa",
           "#EF553B",
           "#00cc96",
           "#ab63fa",
           "#FFA15A",
           "#19d3f3",
           "#FF6692",
           "#B6E880",
           "#FF97FF",
           "#FECB52"
          ],
          "font": {
           "color": "#2a3f5f"
          },
          "geo": {
           "bgcolor": "white",
           "lakecolor": "white",
           "landcolor": "#E5ECF6",
           "showlakes": true,
           "showland": true,
           "subunitcolor": "white"
          },
          "hoverlabel": {
           "align": "left"
          },
          "hovermode": "closest",
          "mapbox": {
           "style": "light"
          },
          "paper_bgcolor": "white",
          "plot_bgcolor": "#E5ECF6",
          "polar": {
           "angularaxis": {
            "gridcolor": "white",
            "linecolor": "white",
            "ticks": ""
           },
           "bgcolor": "#E5ECF6",
           "radialaxis": {
            "gridcolor": "white",
            "linecolor": "white",
            "ticks": ""
           }
          },
          "scene": {
           "xaxis": {
            "backgroundcolor": "#E5ECF6",
            "gridcolor": "white",
            "gridwidth": 2,
            "linecolor": "white",
            "showbackground": true,
            "ticks": "",
            "zerolinecolor": "white"
           },
           "yaxis": {
            "backgroundcolor": "#E5ECF6",
            "gridcolor": "white",
            "gridwidth": 2,
            "linecolor": "white",
            "showbackground": true,
            "ticks": "",
            "zerolinecolor": "white"
           },
           "zaxis": {
            "backgroundcolor": "#E5ECF6",
            "gridcolor": "white",
            "gridwidth": 2,
            "linecolor": "white",
            "showbackground": true,
            "ticks": "",
            "zerolinecolor": "white"
           }
          },
          "shapedefaults": {
           "line": {
            "color": "#2a3f5f"
           }
          },
          "ternary": {
           "aaxis": {
            "gridcolor": "white",
            "linecolor": "white",
            "ticks": ""
           },
           "baxis": {
            "gridcolor": "white",
            "linecolor": "white",
            "ticks": ""
           },
           "bgcolor": "#E5ECF6",
           "caxis": {
            "gridcolor": "white",
            "linecolor": "white",
            "ticks": ""
           }
          },
          "title": {
           "x": 0.05
          },
          "xaxis": {
           "automargin": true,
           "gridcolor": "white",
           "linecolor": "white",
           "ticks": "",
           "title": {
            "standoff": 15
           },
           "zerolinecolor": "white",
           "zerolinewidth": 2
          },
          "yaxis": {
           "automargin": true,
           "gridcolor": "white",
           "linecolor": "white",
           "ticks": "",
           "title": {
            "standoff": 15
           },
           "zerolinecolor": "white",
           "zerolinewidth": 2
          }
         }
        },
        "title": {
         "text": "SimpleMLP training on MNIST"
        },
        "width": 700,
        "xaxis": {
         "anchor": "y",
         "autorange": true,
         "domain": [
          0,
          1
         ],
         "range": [
          0,
          2
         ],
         "title": {
          "text": "Num epoch seen"
         },
         "type": "linear"
        },
        "yaxis": {
         "anchor": "x",
         "domain": [
          0,
          1
         ],
         "range": [
          0.857099974155426,
          1.0735999703407288
         ],
         "title": {
          "text": "Accuracy"
         },
         "type": "linear"
        }
       }
      },
      "image/png": "[encoded data removed]",
      "text/html": [
       "<div>                            <div id=\"a23bbee7-c872-45c5-85ec-eb7e28cb601c\" class=\"plotly-graph-div\" style=\"height:525px; width:700px;\"></div>            <script type=\"text/javascript\">                require([\"plotly\"], function(Plotly) {                    window.PLOTLYENV=window.PLOTLYENV || {};                                    if (document.getElementById(\"a23bbee7-c872-45c5-85ec-eb7e28cb601c\")) {                    Plotly.newPlot(                        \"a23bbee7-c872-45c5-85ec-eb7e28cb601c\",                        [{\"hovertemplate\":\"Num epoch seen=%{x}\\u003cbr\\u003eAccuracy=%{y}\\u003cextra\\u003e\\u003c\\u002fextra\\u003e\",\"legendgroup\":\"\",\"line\":{\"color\":\"#636efa\",\"dash\":\"solid\"},\"marker\":{\"symbol\":\"circle\"},\"mode\":\"lines\",\"name\":\"\",\"orientation\":\"v\",\"showlegend\":false,\"x\":[0,1,2],\"xaxis\":\"x\",\"y\":[0.957099974155426,0.9702000021934509,0.9735999703407288],\"yaxis\":\"y\",\"type\":\"scatter\"}],                        {\"template\":{\"data\":{\"histogram2dcontour\":[{\"type\":\"histogram2dcontour\",\"colorbar\":{\"outlinewidth\":0,\"ticks\":\"\"},\"colorscale\":[[0.0,\"#0d0887\"],[0.1111111111111111,\"#46039f\"],[0.2222222222222222,\"#7201a8\"],[0.3333333333333333,\"#9c179e\"],[0.4444444444444444,\"#bd3786\"],[0.5555555555555556,\"#d8576b\"],[0.6666666666666666,\"#ed7953\"],[0.7777777777777778,\"#fb9f3a\"],[0.8888888888888888,\"#fdca26\"],[1.0,\"#f0f921\"]]}],\"choropleth\":[{\"type\":\"choropleth\",\"colorbar\":{\"outlinewidth\":0,\"ticks\":\"\"}}],\"histogram2d\":[{\"type\":\"histogram2d\",\"colorbar\":{\"outlinewidth\":0,\"ticks\":\"\"},\"colorscale\":[[0.0,\"#0d0887\"],[0.1111111111111111,\"#46039f\"],[0.2222222222222222,\"#7201a8\"],[0.3333333333333333,\"#9c179e\"],[0.4444444444444444,\"#bd3786\"],[0.5555555555555556,\"#d8576b\"],[0.6666666666666666,\"#ed7953\"],[0.7777777777777778,\"#fb9f3a\"],[0.8888888888888888,\"#fdca26\"],[1.0,\"#f0f921\"]]}],\"heatmap\":[{\"type\":\"heatmap\",\"colorbar\":{\"outlinewidth\":0,\"ticks\":\"\"},\"colorscale\":[[0.0,\"#0d0887\"],[0.1111111111111111,\"#46039f\"],[0.2222222222222222,\"#7201a8\"],[0.3333333333333333,\"#9c179e\"],[0.4444444444444444,\"#bd3786\"],[0.5555555555555556,\"#d8576b\"],[0.6666666666666666,\"#ed7953\"],[0.7777777777777778,\"#fb9f3a\"],[0.8888888888888888,\"#fdca26\"],[1.0,\"#f0f921\"]]}],\"heatmapgl\":[{\"type\":\"heatmapgl\",\"colorbar\":{\"outlinewidth\":0,\"ticks\":\"\"},\"colorscale\":[[0.0,\"#0d0887\"],[0.1111111111111111,\"#46039f\"],[0.2222222222222222,\"#7201a8\"],[0.3333333333333333,\"#9c179e\"],[0.4444444444444444,\"#bd3786\"],[0.5555555555555556,\"#d8576b\"],[0.6666666666666666,\"#ed7953\"],[0.7777777777777778,\"#fb9f3a\"],[0.8888888888888888,\"#fdca26\"],[1.0,\"#f0f921\"]]}],\"contourcarpet\":[{\"type\":\"contourcarpet\",\"colorbar\":{\"outlinewidth\":0,\"ticks\":\"\"}}],\"contour\":[{\"type\":\"contour\",\"colorbar\":{\"outlinewidth\":0,\"ticks\":\"\"},\"colorscale\":[[0.0,\"#0d0887\"],[0.1111111111111111,\"#46039f\"],[0.2222222222222222,\"#7201a8\"],[0.3333333333333333,\"#9c179e\"],[0.4444444444444444,\"#bd3786\"],[0.5555555555555556,\"#d8576b\"],[0.6666666666666666,\"#ed7953\"],[0.7777777777777778,\"#fb9f3a\"],[0.8888888888888888,\"#fdca26\"],[1.0,\"#f0f921\"]]}],\"surface\":[{\"type\":\"surface\",\"colorbar\":{\"outlinewidth\":0,\"ticks\":\"\"},\"colorscale\":[[0.0,\"#0d0887\"],[0.1111111111111111,\"#46039f\"],[0.2222222222222222,\"#7201a8\"],[0.3333333333333333,\"#9c179e\"],[0.4444444444444444,\"#bd3786\"],[0.5555555555555556,\"#d8576b\"],[0.6666666666666666,\"#ed7953\"],[0.7777777777777778,\"#fb9f3a\"],[0.8888888888888888,\"#fdca26\"],[1.0,\"#f0f921\"]]}],\"mesh3d\":[{\"type\":\"mesh3d\",\"colorbar\":{\"outlinewidth\":0,\"ticks\":\"\"}}],\"scatter\":[{\"fillpattern\":{\"fillmode\":\"overlay\",\"size\":10,\"solidity\":0.2},\"type\":\"scatter\"}],\"parcoords\":[{\"type\":\"parcoords\",\"line\":{\"colorbar\":{\"outlinewidth\":0,\"ticks\":\"\"}}}],\"scatterpolargl\":[{\"type\":\"scatterpolargl\",\"marker\":{\"colorbar\":{\"outlinewidth\":0,\"ticks\":\"\"}}}],\"bar\":[{\"error_x\":{\"color\":\"#2a3f5f\"},\"error_y\":{\"color\":\"#2a3f5f\"},\"marker\":{\"line\":{\"color\":\"#E5ECF6\",\"width\":0.5},\"pattern\":{\"fillmode\":\"overlay\",\"size\":10,\"solidity\":0.2}},\"type\":\"bar\"}],\"scattergeo\":[{\"type\":\"scattergeo\",\"marker\":{\"colorbar\":{\"outlinewidth\":0,\"ticks\":\"\"}}}],\"scatterpolar\":[{\"type\":\"scatterpolar\",\"marker\":{\"colorbar\":{\"outlinewidth\":0,\"ticks\":\"\"}}}],\"histogram\":[{\"marker\":{\"pattern\":{\"fillmode\":\"overlay\",\"size\":10,\"solidity\":0.2}},\"type\":\"histogram\"}],\"scattergl\":[{\"type\":\"scattergl\",\"marker\":{\"colorbar\":{\"outlinewidth\":0,\"ticks\":\"\"}}}],\"scatter3d\":[{\"type\":\"scatter3d\",\"line\":{\"colorbar\":{\"outlinewidth\":0,\"ticks\":\"\"}},\"marker\":{\"colorbar\":{\"outlinewidth\":0,\"ticks\":\"\"}}}],\"scattermapbox\":[{\"type\":\"scattermapbox\",\"marker\":{\"colorbar\":{\"outlinewidth\":0,\"ticks\":\"\"}}}],\"scatterternary\":[{\"type\":\"scatterternary\",\"marker\":{\"colorbar\":{\"outlinewidth\":0,\"ticks\":\"\"}}}],\"scattercarpet\":[{\"type\":\"scattercarpet\",\"marker\":{\"colorbar\":{\"outlinewidth\":0,\"ticks\":\"\"}}}],\"carpet\":[{\"aaxis\":{\"endlinecolor\":\"#2a3f5f\",\"gridcolor\":\"white\",\"linecolor\":\"white\",\"minorgridcolor\":\"white\",\"startlinecolor\":\"#2a3f5f\"},\"baxis\":{\"endlinecolor\":\"#2a3f5f\",\"gridcolor\":\"white\",\"linecolor\":\"white\",\"minorgridcolor\":\"white\",\"startlinecolor\":\"#2a3f5f\"},\"type\":\"carpet\"}],\"table\":[{\"cells\":{\"fill\":{\"color\":\"#EBF0F8\"},\"line\":{\"color\":\"white\"}},\"header\":{\"fill\":{\"color\":\"#C8D4E3\"},\"line\":{\"color\":\"white\"}},\"type\":\"table\"}],\"barpolar\":[{\"marker\":{\"line\":{\"color\":\"#E5ECF6\",\"width\":0.5},\"pattern\":{\"fillmode\":\"overlay\",\"size\":10,\"solidity\":0.2}},\"type\":\"barpolar\"}],\"pie\":[{\"automargin\":true,\"type\":\"pie\"}]},\"layout\":{\"autotypenumbers\":\"strict\",\"colorway\":[\"#636efa\",\"#EF553B\",\"#00cc96\",\"#ab63fa\",\"#FFA15A\",\"#19d3f3\",\"#FF6692\",\"#B6E880\",\"#FF97FF\",\"#FECB52\"],\"font\":{\"color\":\"#2a3f5f\"},\"hovermode\":\"closest\",\"hoverlabel\":{\"align\":\"left\"},\"paper_bgcolor\":\"white\",\"plot_bgcolor\":\"#E5ECF6\",\"polar\":{\"bgcolor\":\"#E5ECF6\",\"angularaxis\":{\"gridcolor\":\"white\",\"linecolor\":\"white\",\"ticks\":\"\"},\"radialaxis\":{\"gridcolor\":\"white\",\"linecolor\":\"white\",\"ticks\":\"\"}},\"ternary\":{\"bgcolor\":\"#E5ECF6\",\"aaxis\":{\"gridcolor\":\"white\",\"linecolor\":\"white\",\"ticks\":\"\"},\"baxis\":{\"gridcolor\":\"white\",\"linecolor\":\"white\",\"ticks\":\"\"},\"caxis\":{\"gridcolor\":\"white\",\"linecolor\":\"white\",\"ticks\":\"\"}},\"coloraxis\":{\"colorbar\":{\"outlinewidth\":0,\"ticks\":\"\"}},\"colorscale\":{\"sequential\":[[0.0,\"#0d0887\"],[0.1111111111111111,\"#46039f\"],[0.2222222222222222,\"#7201a8\"],[0.3333333333333333,\"#9c179e\"],[0.4444444444444444,\"#bd3786\"],[0.5555555555555556,\"#d8576b\"],[0.6666666666666666,\"#ed7953\"],[0.7777777777777778,\"#fb9f3a\"],[0.8888888888888888,\"#fdca26\"],[1.0,\"#f0f921\"]],\"sequentialminus\":[[0.0,\"#0d0887\"],[0.1111111111111111,\"#46039f\"],[0.2222222222222222,\"#7201a8\"],[0.3333333333333333,\"#9c179e\"],[0.4444444444444444,\"#bd3786\"],[0.5555555555555556,\"#d8576b\"],[0.6666666666666666,\"#ed7953\"],[0.7777777777777778,\"#fb9f3a\"],[0.8888888888888888,\"#fdca26\"],[1.0,\"#f0f921\"]],\"diverging\":[[0,\"#8e0152\"],[0.1,\"#c51b7d\"],[0.2,\"#de77ae\"],[0.3,\"#f1b6da\"],[0.4,\"#fde0ef\"],[0.5,\"#f7f7f7\"],[0.6,\"#e6f5d0\"],[0.7,\"#b8e186\"],[0.8,\"#7fbc41\"],[0.9,\"#4d9221\"],[1,\"#276419\"]]},\"xaxis\":{\"gridcolor\":\"white\",\"linecolor\":\"white\",\"ticks\":\"\",\"title\":{\"standoff\":15},\"zerolinecolor\":\"white\",\"automargin\":true,\"zerolinewidth\":2},\"yaxis\":{\"gridcolor\":\"white\",\"linecolor\":\"white\",\"ticks\":\"\",\"title\":{\"standoff\":15},\"zerolinecolor\":\"white\",\"automargin\":true,\"zerolinewidth\":2},\"scene\":{\"xaxis\":{\"backgroundcolor\":\"#E5ECF6\",\"gridcolor\":\"white\",\"linecolor\":\"white\",\"showbackground\":true,\"ticks\":\"\",\"zerolinecolor\":\"white\",\"gridwidth\":2},\"yaxis\":{\"backgroundcolor\":\"#E5ECF6\",\"gridcolor\":\"white\",\"linecolor\":\"white\",\"showbackground\":true,\"ticks\":\"\",\"zerolinecolor\":\"white\",\"gridwidth\":2},\"zaxis\":{\"backgroundcolor\":\"#E5ECF6\",\"gridcolor\":\"white\",\"linecolor\":\"white\",\"showbackground\":true,\"ticks\":\"\",\"zerolinecolor\":\"white\",\"gridwidth\":2}},\"shapedefaults\":{\"line\":{\"color\":\"#2a3f5f\"}},\"annotationdefaults\":{\"arrowcolor\":\"#2a3f5f\",\"arrowhead\":0,\"arrowwidth\":1},\"geo\":{\"bgcolor\":\"white\",\"landcolor\":\"#E5ECF6\",\"subunitcolor\":\"white\",\"showland\":true,\"showlakes\":true,\"lakecolor\":\"white\"},\"title\":{\"x\":0.05},\"mapbox\":{\"style\":\"light\"}}},\"xaxis\":{\"anchor\":\"y\",\"domain\":[0.0,1.0],\"title\":{\"text\":\"Num epoch seen\"}},\"yaxis\":{\"anchor\":\"x\",\"domain\":[0.0,1.0],\"title\":{\"text\":\"Accuracy\"},\"range\":[0.857099974155426,1.0735999703407288]},\"legend\":{\"tracegroupgap\":0},\"title\":{\"text\":\"SimpleMLP training on MNIST\"},\"width\":700,\"hovermode\":\"x unified\"},                        {\"responsive\": true}                    ).then(function(){\n",
       "                            \n",
       "var gd = document.getElementById('a23bbee7-c872-45c5-85ec-eb7e28cb601c');\n",
       "var x = new MutationObserver(function (mutations, observer) {{\n",
       "        var display = window.getComputedStyle(gd).display;\n",
       "        if (!display || display === 'none') {{\n",
       "            console.log([gd, 'removed!']);\n",
       "            Plotly.purge(gd);\n",
       "            observer.disconnect();\n",
       "        }}\n",
       "}});\n",
       "\n",
       "// Listen for the removal of the full notebook cells\n",
       "var notebookContainer = gd.closest('#notebook-container');\n",
       "if (notebookContainer) {{\n",
       "    x.observe(notebookContainer, {childList: true});\n",
       "}}\n",
       "\n",
       "// Listen for the clearing of the current output cell\n",
       "var outputEl = gd.closest('.output');\n",
       "if (outputEl) {{\n",
       "    x.observe(outputEl, {childList: true});\n",
       "}}\n",
       "\n",
       "                        })                };                });            </script>        </div>"
      ]
     },
     "metadata": {},
     "output_type": "display_data"
    }
   ],
   "source": [
    "args = SimpleMLPTrainingArgs()\n",
    "args.subset = 1\n",
    "train_val(args)"
   ]
  },
  {
   "cell_type": "markdown",
   "metadata": {
    "id": "LfyUq0vw-yLZ"
   },
   "source": [
    "<details>\n",
    "<summary>Help - I'm not sure how to measure correct classifications.</summary>\n",
    "\n",
    "You can take argmax of the output of your model, using `torch.argmax` (with the keyword argument `dim` to specify the dimension you want to take max over).\n",
    "\n",
    "</details>\n",
    "\n",
    "<details>\n",
    "<summary>Help - I get <code>RuntimeError: expected scalar type Float but found Byte</code>.</summary>\n",
    "\n",
    "This is commonly because one of your operations is between tensors with the wrong datatypes (e.g. `int` and `float`). Try navigating to the error line and checking your dtypes (or using VSCode's built-in debugger).\n",
    "</details>\n"
   ]
  },
  {
   "cell_type": "markdown",
   "metadata": {
    "id": "s9OP8Ag6-zJh"
   },
   "source": [
    "\n",
    "You should find that after the first epoch, the model is already doing much better than random chance, and it improves slightly in subsequent epochs."
   ]
  },
  {
   "cell_type": "markdown",
   "metadata": {
    "id": "DiUVKtaD7HuH"
   },
   "source": [
    "# 3️⃣ Convolutions"
   ]
  },
  {
   "cell_type": "markdown",
   "metadata": {
    "id": "tQSrbH46-0QP"
   },
   "source": [
    "> ### Learning Objectives\n",
    ">\n",
    "> * Learn how convolutions work, and why they are useful for vision models\n",
    "> * Implement your own convolutions, and maxpooling layers"
   ]
  },
  {
   "cell_type": "markdown",
   "metadata": {
    "id": "SuRmZru0-3Nu"
   },
   "source": [
    "## Reading\n",
    "\n",
    "* [But what is a convolution?](https://www.youtube.com/watch?v=KuXjwB4LzSA) by 3Blue1Brown\n",
    "* [A Comprehensive Guide to Convolutional Neural Networks (TowardsDataScience)](https://towardsdatascience.com/a-comprehensive-guide-to-convolutional-neural-networks-the-eli5-way-3bd2b1164a53)"
   ]
  },
  {
   "cell_type": "markdown",
   "metadata": {
    "id": "Lz3jzRft-5c7"
   },
   "source": [
    "## Convolutions\n",
    "\n",
    "Here are some questions about convolutions to make sure you've understood the material. Once you finish the article above, you should try and answer these questions without referring back to the original article.\n",
    "\n",
    "<details>\n",
    "<summary>Why would convolutional layers be less likely to overfit data than standard linear (fully connected) layers?</summary>\n",
    "\n",
    "Convolutional layers require significantly fewer weights to be learned. This is because the same kernel is applied all across the image, rather than every pair of `(input, output)` nodes requiring a different weight to be learned.\n",
    "</details>\n",
    "\n",
    "<details>\n",
    "<summary>Suppose you fixed some random permutation of the pixels in an image, and applied this to all images in your dataset, before training a convolutional neural network for classifying images. Do you expect this to be less effective, or equally effective?</summary>\n",
    "\n",
    "It will be less effective, because CNNs work thanks to **spatial locality** - groups of pixels close together are more meaningful. For instance, CNNs will often learn convolutions at an early layer which recognise gradients or simple shapes. If you permute the pixels (even if you permute in the same way for every image), you destroy locality.\n",
    "</details>\n",
    "\n",
    "<details>\n",
    "<summary>If you have a 28x28 image, and you apply a 3x3 convolution with stride 1, padding 1, what shape will the output be?</summary>\n",
    "\n",
    "It will be the same shape, i.e. `28x28`. In the post linked above, this is described as **same padding**. Tomorrow, we'll build an MNIST classifier which uses these convolutions.\n",
    "</details>\n",
    "\n",
    "<br>\n",
    "\n"
   ]
  },
  {
   "cell_type": "markdown",
   "metadata": {
    "id": "yv2Io_aadwoj"
   },
   "source": [
    "A note on terminology - you might see docs and docstrings sometimes use `num_features`, sometimes use `channels`, and sometimes just `C`. Often these two terms interchangeable. Our neural network inputs will often be RGB images and so we will have `channels=3` corresponding to the 3 colors red/green/blue. As we pass our initial image through convolutional layers, the number of channels will change. In the context of convolutions, the number of features and number of channels usually refer to the same value."
   ]
  },
  {
   "cell_type": "markdown",
   "metadata": {
    "id": "vCWlpGwJ-61Z"
   },
   "source": [
    "### Exercise - implement `Conv2d`\n",
    "\n",
    "```yaml\n",
    "Difficulty: 🔴🔴🔴⚪⚪\n",
    "Importance: 🔵🔵🔵🔵⚪\n",
    "\n",
    "You should spend up to ~20 minutes on this exercise.\n",
    "\n",
    "Make sure you understand what operation is taking place here, and how the dimensions are changing.\n",
    "```\n",
    "\n",
    "Rather than implementing the `conv2d` function from scratch, we'll allow you to use `t.nn.functional.conv2d`. In the exercise below, you should use this function to implement the `nn.Conv2d` layer. In other words, you should:\n",
    "\n",
    "* Initialize the weights for the convolutional layer in the `__init__` function.\n",
    "    * You should look at the PyTorch page for `nn.Conv2d` [here](https://pytorch.org/docs/stable/generated/torch.nn.Conv2d.html) to understand what the shape of the weights should be.\n",
    "    * We assume `bias=False`, so the only `nn.Parameter` object we need to define is `weight`.\n",
    "    * You should use **Xavier initialization**, as described near the end of the documentation page linked above. (There's a hint on this below, if you get stuck.)\n",
    "* Implement the `forward` method, which should apply the convolutional layer to the input.\n",
    "    * In other words, it should implement the `torch.nn.functional.conv2d` function (documentation [here](https://pytorch.org/docs/stable/generated/torch.nn.functional.conv2d.html)), using the weights and biases (and other layer parameters) that you initialized in `__init__`.\n",
    "* Fill in the `extra_repr` method, to print out the convolutional layer's parameters."
   ]
  },
  {
   "cell_type": "code",
   "execution_count": null,
   "metadata": {
    "id": "qIxmCK0O--SW"
   },
   "outputs": [],
   "source": [
    "class Conv2d(nn.Module):\n",
    "    def __init__(\n",
    "        self, in_channels: int, out_channels: int, kernel_size: int, stride: int = 1, padding: int = 0\n",
    "    ):\n",
    "        '''\n",
    "        Same as torch.nn.Conv2d with bias=False.\n",
    "\n",
    "        Name your weight field `self.weight` for compatibility with the PyTorch version.\n",
    "        '''\n",
    "        super().__init__()\n",
    "        pass\n",
    "\n",
    "    def forward(self, x: t.Tensor) -> t.Tensor:\n",
    "        '''Apply the functional conv2d, which you can import.'''\n",
    "        pass\n",
    "\n",
    "    def extra_repr(self) -> str:\n",
    "        pass\n",
    "\n",
    "\n",
    "tests.test_conv2d_module(Conv2d)\n",
    "m = Conv2d(in_channels=24, out_channels=12, kernel_size=3, stride=2, padding=1)\n",
    "print(f\"Manually verify that this is an informative repr: {m}\")"
   ]
  },
  {
   "cell_type": "markdown",
   "metadata": {
    "id": "ZLMoCNt0-_tD"
   },
   "source": [
    "<details>\n",
    "<summary>Help - I don't know what to use as number of inputs, when doing Xavier initialisation.</summary>\n",
    "\n",
    "In the case of convolutions, each value in the output is computed by taking the product over `in_channels * kernel_width * kernel_height` elements. So this should be our value for $N_{in}$.\n",
    "</details>\n"
   ]
  },
  {
   "cell_type": "markdown",
   "metadata": {
    "id": "6SwWo9OX_A5P"
   },
   "source": [
    "### Exercise - implement `MaxPool2d`\n",
    "\n",
    "```yaml\n",
    "Difficulty: 🔴🔴⚪⚪⚪\n",
    "Importance: 🔵🔵⚪⚪⚪\n",
    "\n",
    "You should spend up to ~10 minutes on this exercise.\n",
    "```\n",
    "\n",
    "Next, you should implement `MaxPool2d`. This module is often applied after a convolutional layer, to reduce the spatial dimensions of the output. It works by taking the maximum value in each kernel-sized window, and outputting that value. For instance, if we have a 2x2 kernel, then we take the maximum of each 2x2 window in the input.\n",
    "\n",
    "You should use `torch.nn.functional.max_pool2d` to implement this layer. The documentation page can be found [here](https://pytorch.org/docs/stable/generated/torch.nn.functional.max_pool2d.html), and the documentation for `nn.MaxPool2d` can be found [here](https://pytorch.org/docs/stable/generated/torch.nn.MaxPool2d.html).\n"
   ]
  },
  {
   "cell_type": "code",
   "execution_count": null,
   "metadata": {
    "id": "TTXDmJmr_CoH"
   },
   "outputs": [],
   "source": [
    "class MaxPool2d(nn.Module):\n",
    "    def __init__(self, kernel_size: int, stride: Optional[int] = None, padding: int = 1):\n",
    "        super().__init__()\n",
    "        pass\n",
    "\n",
    "    def forward(self, x: t.Tensor) -> t.Tensor:\n",
    "        '''Call the functional version of max_pool2d.'''\n",
    "        pass\n",
    "\n",
    "    def extra_repr(self) -> str:\n",
    "        '''Add additional information to the string representation of this class.'''\n",
    "        pass\n",
    "\n",
    "\n",
    "tests.test_maxpool2d_module(MaxPool2d)\n",
    "m = MaxPool2d(kernel_size=3, stride=2, padding=1)\n",
    "print(f\"Manually verify that this is an informative repr: {m}\")"
   ]
  },
  {
   "cell_type": "markdown",
   "metadata": {
    "id": "cfoClwI3_bpS"
   },
   "source": [
    "<details>\n",
    "<summary>Help - I'm really confused about what to do here!</summary>\n",
    "\n",
    "Your `forward` method should just implement the `maxpool2d` function. In order to get the parameters for this function like `kernel_size` and `stride`, you'll need to initialise them in `__init__`.\n",
    "\n",
    "Remember that `MaxPool2d` has no weights - it's just a wrapper for the `maxpool2d` function.\n",
    "\n",
    "---\n",
    "\n",
    "Ideally, the `extra_repr` method should output something like:\n",
    "```python\n",
    "\"kernel_size=3, stride=2, padding=1\"\n",
    "```\n",
    "\n",
    "so that when you print the module, it will look like this:\n",
    "\n",
    "```python\n",
    "MaxPool2d(kernel_size=3, stride=2, padding=1)\n",
    "```\n",
    "</details>"
   ]
  },
  {
   "cell_type": "markdown",
   "metadata": {
    "id": "a9NImreY7IZb"
   },
   "source": [
    "# 4️⃣ ResNets"
   ]
  },
  {
   "cell_type": "markdown",
   "metadata": {
    "id": "l8IZLzE0_gCS"
   },
   "source": [
    "> ### Learning Objectives\n",
    ">\n",
    "> * Learn about skip connections, and how they help overcome the degradation problem\n",
    "> * Learn about batch normalization, and why it is used in training\n",
    "> * Assemble your own ResNet, and load in weights from PyTorch's ResNet implementation"
   ]
  },
  {
   "cell_type": "markdown",
   "metadata": {
    "id": "-9ZGesNI_hYQ"
   },
   "source": [
    "## Reading\n",
    "\n",
    "* [Batch Normalization in Convolutional Neural Networks](https://www.baeldung.com/cs/batch-normalization-cnn)\n",
    "* [Deep Residual Learning for Image Recognition](https://arxiv.org/pdf/1512.03385.pdf)\n",
    "\n",
    "You should move on once you can answer the following questions:\n",
    "\n",
    "\n",
    "<details>\n",
    "<summary>\"Batch Normalization allows us to be less careful about initialization.\" Explain this statement.</summary>\n",
    "\n",
    "Weight initialisation methods like Xavier (which we encountered yesterday) are based on the idea of making sure the activations have approximately the same distribution across layers at initialisation. But batch normalisation ensures that this is the case as signals pass through the network.\n",
    "</details>\n",
    "\n",
    "<details>\n",
    "<summary>Give three reasons why batch norm improves the performance of neural networks.</summary>\n",
    "\n",
    "The reasons given in the first linked document above are:\n",
    "\n",
    "* Normalising inputs speeds up computation\n",
    "* Internal covariate shift is reduced, i.e. the mean and standard deviation is kept constant across the layers.\n",
    "* Regularisation effect: noise internal to each minibatch is reduced\n",
    "</details>\n",
    "\n",
    "<details>\n",
    "<summary>If you have an input tensor of size (batch, channels, width, height), and you apply a batchnorm layer, how many learned parameters will there be?</summary>\n",
    "\n",
    "A mean and standard deviation is calculated for each channel (i.e. each calculation is done across the batch, width, and height dimensions). So the number of learned params will be `2 * channels`.\n",
    "</details>\n",
    "\n",
    "<details>\n",
    "<summary>In the paper, the diagram shows additive skip connections (i.e. F(x) + x). One can also form concatenated skip connections, by \"gluing together\" F(x) and x into a single tensor. Give one advantage and one disadvantage of these, relative to additive connections.</summary>\n",
    "\n",
    "One advantage of concatenation: the subsequent layers can re-use middle representations; maintaining more information which can lead to better performance. Also, this still works if the tensors aren't exactly the same shape. One disadvantage: less compact, so there may be more weights to learn in subsequent layers.\n",
    "\n",
    "Crucially, both the addition and concatenation methods have the property of preserving information, to at least some degree of fidelity. For instance, you can [use calculus to show](https://theaisummer.com/skip-connections/#:~:text=residual%20skip%20connections.-,ResNet%3A%20skip%20connections%C2%A0via%C2%A0addition,-The%20core%20idea) that both methods will fix the vanishing gradients problem.\n",
    "</details>\n",
    "\n",
    "\n",
    "In this section, we'll do a more advanced version of the exercise in part 1. Rather than building a relatively simple network in which computation can be easily represented by a sequence of simple layers, we're going to build a more complex architecture which requires us to define nested blocks.\n",
    "\n",
    "We'll start by defining a few more `nn.Module` objects, which we hadn't needed before."
   ]
  },
  {
   "cell_type": "markdown",
   "metadata": {
    "id": "q94dxuju_jpr"
   },
   "source": [
    "## Sequential\n",
    "\n",
    "Firstly, now that we're working with large and complex architectures, we should create a version of `nn.Sequential`. Recall that we briefly came across `nn.Sequential` at the end of the first day, when building our (extremely simple) neural network. As the name suggests, when an `nn.Sequential` is fed an input, it sequentially applies each of its submodules to the input, with the output from one module feeding into the next one.\n",
    "\n",
    "The implementation is given to you below. A few notes:\n",
    "\n",
    "* In initalization, we add to the `_modules` dictionary.\n",
    "    * This is a special type of dict called an **ordered dictionary**, which preserves the order of elements that get added (although Python sort-of does this now by default).\n",
    "    * When we call `self.parameters()`, this recursively goes through all modules in `self._modules`, and returns the params in those modules. This means we can nest sequentials within sequentials!\n",
    "* The special `__getitem__` and `__setitem__` methods determine behaviour when we get and set modules within the sequential.\n",
    "* The `repr` of the base class `nn.Module` already recursively prints out the submodules, so we don't need to write anything in `extra_repr`.\n",
    "    * To see how this works in practice, try defining a `Sequential` which takes a sequence of modules that you've defined above, and see what it looks like when you print it.\n",
    "\n",
    "Don't worry about deeply understanding this code. The main takeaway is that `nn.Sequential` is a useful list-like object to store modules, and apply them all sequentially.\n",
    "\n",
    "<details>\n",
    "<summary>Aside - initializing Sequential with an OrderedDict</summary>\n",
    "\n",
    "The actual `nn.Sequential` module can be initialized with an ordered dictionary, rather than a list of modules. For instance, rather than doing this:\n",
    "\n",
    "```python\n",
    "seq = nn.Sequential(\n",
    "    nn.Linear(10, 20),\n",
    "    nn.ReLU(),\n",
    "    nn.Linear(20, 30)\n",
    ")\n",
    "```\n",
    "\n",
    "we can do this:\n",
    "\n",
    "```python\n",
    "seq = nn.Sequential(OrderedDict([\n",
    "    (\"linear1\", nn.Linear(10, 20)),\n",
    "    (\"relu\", nn.ReLU()),\n",
    "    (\"linear2\", nn.Linear(20, 30))\n",
    "]))\n",
    "```\n",
    "\n",
    "This is handy if we want to give each module an descriptive name.\n",
    "\n",
    "The `Sequential` implementation below doesn't allow the input to be an OrderedDict. As a bonus exercise, can you rewrite the `__init__`, `__getitem__` and `__setitem__` methods to allow the input to be an OrderedDict?\n",
    "\n",
    "</details>"
   ]
  },
  {
   "cell_type": "code",
   "execution_count": null,
   "metadata": {
    "id": "WW236Tbi_kwt"
   },
   "outputs": [],
   "source": [
    "class Sequential(nn.Module):\n",
    "    _modules: Dict[str, nn.Module]\n",
    "\n",
    "    def __init__(self, *modules: nn.Module):\n",
    "        super().__init__()\n",
    "        for index, mod in enumerate(modules):\n",
    "            self._modules[str(index)] = mod\n",
    "\n",
    "    def __getitem__(self, index: int) -> nn.Module:\n",
    "        index %= len(self._modules) # deal with negative indices\n",
    "        return self._modules[str(index)]\n",
    "\n",
    "    def __setitem__(self, index: int, module: nn.Module) -> None:\n",
    "        index %= len(self._modules) # deal with negative indices\n",
    "        self._modules[str(index)] = module\n",
    "\n",
    "    def forward(self, x: t.Tensor) -> t.Tensor:\n",
    "        '''Chain each module together, with the output from one feeding into the next one.'''\n",
    "        for mod in self._modules.values():\n",
    "            x = mod(x)\n",
    "        return x"
   ]
  },
  {
   "cell_type": "markdown",
   "metadata": {
    "id": "LjC8u9Pz_mF8"
   },
   "source": [
    "## BatchNorm2d\n",
    "\n",
    "Now, we'll implement our `BatchNorm2d`, the layer described in the documents you hopefully read above.\n",
    "\n",
    "Something which might have occurred to you as you read about batch norm - how does it work when in inference mode? It makes sense to normalize over a batch of multiple input data, but normalizing over a single datapoint doesn't make any sense! This is why we have to introduce a new PyTorch concept: **buffers**.\n",
    "\n",
    "Unlike `nn.Parameter`, a buffer is not its own type and does not wrap a `Tensor`. A buffer is just a regular `Tensor` on which you've called [self.register_buffer](https://pytorch.org/docs/stable/generated/torch.nn.Module.html#torch.nn.Module.register_buffer) from inside a `nn.Module`. As an example, `self.register_buffer(\"variable_name\", t.zeros(10))` will define an object `self.variable_name` and register it as a buffer.\n",
    "\n",
    "What is a buffer, and why is it different to a standard attribute or to a `nn.Parameter` object? The differences are as follows:\n",
    "\n",
    "* It is normally included in the output of `module.state_dict()`, meaning that `torch.save` and `torch.load` will serialize and deserialize it.\n",
    "* It is moved between devices when you call `model.to(device)`.\n",
    "* It is not included in `module.parameters`, so optimizers won't see or modify it. Instead, your module will modify it as appropriate within `forward`."
   ]
  },
  {
   "cell_type": "markdown",
   "metadata": {
    "id": "0oGSzB8K_njw"
   },
   "source": [
    "### Train and Eval Modes\n",
    "\n",
    "This is your first implementation that needs to care about the value of `self.training`, which is set to True by default, and can be set to False by `self.eval()` or to True by `self.train()`.\n",
    "\n",
    "In training mode, you should use the mean and variance of the batch you're on, but you should also update a stored `running_mean` and `running_var` on each call to `forward` using the \"momentum\" argument as described in the PyTorch docs. Your `running_mean` shuld be intialized as all zeros; your `running_var` should be initialized as all ones. Also, you should keep track of `num_batches_tracked`.\n",
    "\n",
    "<details>\n",
    "<summary>Aside on <code>num_batches_tracked</code> (optional, unimportant)</summary>\n",
    "\n",
    "PyTorch uses this to calculate momentum for calculation of the moving averages in the event that the module is intialized with `momentum=None`, although you don't need to worry about this because you can assume that the momentum parameter will always be a float in our use cases; we're just keeping track of `num_batches_tracked` to be consistent with PyTorch's version of BatchNorm2d, and to make sure that our state dictionaries have the same items.\n",
    "\n",
    "</details>\n",
    "\n",
    "In eval mode, you should use the running mean and variance that you stored before (not the mean and variance from the current batch)."
   ]
  },
  {
   "cell_type": "markdown",
   "metadata": {
    "id": "5mgv9tNi_pHn"
   },
   "source": [
    "### Exercise - implement `BatchNorm2d`\n",
    "\n",
    "```yaml\n",
    "Difficulty: 🔴🔴🔴🔴⚪\n",
    "Importance: 🔵🔵🔵🔵⚪\n",
    "\n",
    "You should spend up to 20-40 minutes on this exercise.\n",
    "\n",
    "This is the most challenging module you'll have implemented so far. Getting all the dimensions and operations right can be tricky.\n",
    "```\n",
    "\n",
    "Implement `BatchNorm2d` according to the [PyTorch docs](https://pytorch.org/docs/stable/generated/torch.nn.BatchNorm2d.html). Call your learnable parameters `weight` and `bias` for consistency with PyTorch.\n",
    "\n",
    "We're implementing it with `affine=True` and `track_running_stats=True`.\n",
    "\n",
    "A few tips (some of them are repeated from above):\n",
    "\n",
    "- Remember to differentiate between training mode, when `self.training=True` (you calculate mean & variance and update the running values) and eval mode, when `self.training=False` (you use the running values).\n",
    "- After you''ve normalized `x`, don't forget to multiply by `weight` and add `bias` (you might need to reshape these tensors so that they broadcast correctly).\n",
    "\n",
    "<details>\n",
    "<summary>Help - I don't understand which dimensions I should be taking the mean over.</summary>\n",
    "\n",
    "The input has shape `(batch, channels, height, width)` (where channels is synonymous with features). You want to calculate the mean and variance for each channel, meaning you should reduce over all dimensions except the first, e.g. `t.mean(x, dim=(0, 2, 3))`. You should then update the running mean and variance accordingly.\n",
    "\n",
    "Tip: use the argument `keepdim=True` in your mean and variance calculations, to make sure that the mean & variance still broadcast with the original input when you calculate `(x - mean) / std`.\n",
    "\n",
    "</details>\n",
    "\n",
    "<details>\n",
    "<summary>Help - I don't understand what the formula for updating the running mean / variance should be.</summary>\n",
    "\n",
    "You want `running_mean <- (1 - momentum) * running_mean + momentum * new_mean`. Again, make sure you get the dimensions right - all the tensors in this operation should be 1D, with shape `(num_features,)`.\n",
    "\n",
    "</details>\n",
    "\n",
    "If you're struggling with this implementation, we do recommend reading the solution, because there are lots of non-obvious ways this implementation can go wrong."
   ]
  },
  {
   "cell_type": "code",
   "execution_count": null,
   "metadata": {
    "id": "ddpDrKaN_qSn"
   },
   "outputs": [],
   "source": [
    "class BatchNorm2d(nn.Module):\n",
    "    # The type hints below aren't functional, they're just for documentation\n",
    "    running_mean: Float[Tensor, \"num_features\"]\n",
    "    running_var: Float[Tensor, \"num_features\"]\n",
    "    num_batches_tracked: Int[Tensor, \"\"] # This is how we denote a scalar tensor\n",
    "\n",
    "    def __init__(self, num_features: int, eps=1e-05, momentum=0.1):\n",
    "        '''\n",
    "        Like nn.BatchNorm2d with track_running_stats=True and affine=True.\n",
    "\n",
    "        Name the learnable affine parameters `weight` and `bias` in that order.\n",
    "        '''\n",
    "        super().__init__()\n",
    "        pass\n",
    "\n",
    "    def forward(self, x: t.Tensor) -> t.Tensor:\n",
    "        '''\n",
    "        Normalize each channel.\n",
    "\n",
    "        Compute the variance using `torch.var(x, unbiased=False)`\n",
    "        Hint: you may also find it helpful to use the argument `keepdim`.\n",
    "\n",
    "        x: shape (batch, channels, height, width)\n",
    "        Return: shape (batch, channels, height, width)\n",
    "        '''\n",
    "        pass\n",
    "\n",
    "    def extra_repr(self) -> str:\n",
    "        pass\n",
    "\n",
    "\n",
    "tests.test_batchnorm2d_module(BatchNorm2d)\n",
    "tests.test_batchnorm2d_forward(BatchNorm2d)\n",
    "tests.test_batchnorm2d_running_mean(BatchNorm2d)"
   ]
  },
  {
   "cell_type": "markdown",
   "metadata": {
    "id": "2NB2SCy6_s54"
   },
   "source": [
    "## AveragePool\n",
    "\n",
    "Let's end our collection of `nn.Module`s with an easy one 🙂\n",
    "\n",
    "The ResNet has a Linear layer with 1000 outputs at the end in order to produce classification logits for each of the 1000 classes. Any Linear needs to have a constant number of input features, but the ResNet is supposed to be compatible with arbitrary height and width, so we can't just do a pooling operation with a fixed kernel size and stride.\n",
    "\n",
    "Luckily, the simplest possible solution works decently: take the mean over the spatial dimensions. Intuitively, each position has an equal \"vote\" for what objects it can \"see\"."
   ]
  },
  {
   "cell_type": "markdown",
   "metadata": {
    "id": "gIirsi-0_uOk"
   },
   "source": [
    "### Exercise - implement `AveragePool`\n",
    "\n",
    "```yaml\n",
    "Difficulty: 🔴⚪⚪⚪⚪\n",
    "Importance: 🔵🔵⚪⚪⚪\n",
    "\n",
    "You should spend up to 5-10 minutes on this exercise.\n",
    "```\n",
    "\n",
    "This should be a pretty straightforward implementation; it doesn't have any weights or parameters of any kind, so you only need to implement the `forward` method."
   ]
  },
  {
   "cell_type": "code",
   "execution_count": null,
   "metadata": {
    "id": "JrSwTHMi_v2B"
   },
   "outputs": [],
   "source": [
    "class AveragePool(nn.Module):\n",
    "    def forward(self, x: t.Tensor) -> t.Tensor:\n",
    "        '''\n",
    "        x: shape (batch, channels, height, width)\n",
    "        Return: shape (batch, channels)\n",
    "        '''\n",
    "        pass"
   ]
  },
  {
   "cell_type": "markdown",
   "metadata": {
    "id": "wgL5nJrD_yD6"
   },
   "source": [
    "## Building ResNet\n",
    "\n",
    "Now we have all the building blocks we need to start assembling your own ResNet! The following diagram describes the architecture of ResNet34 - the other versions are broadly similar. Unless otherwise noted, convolutions have a kernel_size of 3x3, a stride of 1, and a padding of 1. None of the convolutions have biases.\n",
    "\n",
    "<details>\n",
    "<summary>Question: there would be no advantage to enabling biases on the convolutional layers. Why?</summary>\n",
    "\n",
    "Every convolution layer in this network is followed by a batch normalization layer. The first operation in the batch normalization layer is to subtract the mean of each output channel. But a convolutional bias just adds some scalar `b` to each output channel, increasing the mean by `b`. This means that for any `b` added, the batch normalization will subtract `b` to exactly negate the bias term.\n",
    "</details>\n",
    "\n",
    "<details>\n",
    "<summary>Question: why is it necessary for the output of the left and right computational tracks in ResidualBlock to be the same shape?</summary>\n",
    "\n",
    "Because they're added together at the end of the tracks. If they weren't the same shape, then they couldn't be added together.\n",
    "</details>\n",
    "\n",
    "<details>\n",
    "<summary>Help - I'm confused about how the nested subgraphs work.</summary>\n",
    "\n",
    "The right-most block in the diagram, `ResidualBlock`, is nested inside `BlockGroup` multiple times. When you see `ResidualBlock` in `BlockGroup`, you should visualise a copy of `ResidualBlock` sitting in that position.\n",
    "    \n",
    "Similarly, `BlockGroup` is nested multiple times (four to be precise) in the full `ResNet34` architecture.\n",
    "</details>\n",
    "\n",
    "<img src=\"https://raw.githubusercontent.com/callummcdougall/computational-thread-art/master/example_images/misc/resnet_diagram_fixed3.svg\" width=\"900\">"
   ]
  },
  {
   "cell_type": "markdown",
   "metadata": {
    "id": "LPuBVH3I_3gr"
   },
   "source": [
    "### Exercise - implement `ResidualBlock`\n",
    "\n",
    "```yaml\n",
    "Difficulty: 🔴🔴🔴⚪⚪\n",
    "Importance: 🔵🔵🔵🔵⚪\n",
    "\n",
    "You should spend up to 15-20 minutes on this exercise.\n",
    "```\n",
    "\n",
    "Implement `ResidualBlock` by referring to the diagram.\n",
    "\n",
    "The number of channels changes from `in_feats` to `out_feats` at the first convolution in each branch; the second convolution in the left branch will have `out_feats` input channels and `out_feats` output channels.\n",
    "\n",
    "The right branch being `OPTIONAL` means that its behaviour depends on the `first_stride` argument:\n",
    "\n",
    "* If `first_stride=1`, this branch is just the identity operator, in other words it's a simple skip connection. Using `nn.Identity` might be useful here.\n",
    "    * (You can be sure that when `first_stride=1`, we always have `in_feats=out_feats`.)\n",
    "* If `first_stride>1`, this branch includes a convolutional layer with stride equal to `first_stride`, and a `BatchNorm` layer. This is also used as the stride of the **Strided Conv** in the left branch.\n",
    "\n",
    "\n",
    "<details>\n",
    "<summary>Question - why does the first_stride argument apply to only the first conv layer in the left branch, rather than to both convs in the left branch?</summary>\n",
    "\n",
    "This is to make sure that the size of the left and right branches are the same. If the `first_stride` argument applied to both left convs then the input would be downsampled too much so it would be smaller than the output of the right branch.\n",
    "    \n",
    "It's important for the size of the output of the left and right tracks to be the same, because they're added together at the end.\n",
    "</details>\n",
    "\n",
    "<details>\n",
    "<summary>Help - I'm completely stuck on parts of the architecture.</summary>\n",
    "\n",
    "In this case, you can use the following code to import your own `resnet34`, and inspect its architecture:\n",
    "\n",
    "```python\n",
    "resnet = models.resnet34()\n",
    "print(torchinfo.summary(resnet, input_size=(1, 3, 64, 64)))\n",
    "```\n",
    "\n",
    "This will generate output telling you the names of each module, as well as the parameter counts.\n",
    "\n",
    "Unfortunately, this function won't work on your own model if your model breaks when an image is passed through. Since a lot of the time mistakes in the architecture will mean your model doesn't work, you won't be able to use `torchinfo.summary` on your model. Instead, you should compare the models by printing them out.\n",
    "</details>"
   ]
  },
  {
   "cell_type": "code",
   "execution_count": null,
   "metadata": {
    "id": "chmn1EIj_41m"
   },
   "outputs": [],
   "source": [
    "class ResidualBlock(nn.Module):\n",
    "    def __init__(self, in_feats: int, out_feats: int, first_stride=1):\n",
    "        '''\n",
    "        A single residual block with optional downsampling.\n",
    "\n",
    "        For compatibility with the pretrained model, declare the left side branch first using a `Sequential`.\n",
    "\n",
    "        If first_stride is > 1, this means the optional (conv + bn) should be present on the right branch. Declare it second using another `Sequential`.\n",
    "        '''\n",
    "        super().__init__()\n",
    "        pass\n",
    "\n",
    "    def forward(self, x: t.Tensor) -> t.Tensor:\n",
    "        '''\n",
    "        Compute the forward pass.\n",
    "\n",
    "        x: shape (batch, in_feats, height, width)\n",
    "\n",
    "        Return: shape (batch, out_feats, height / stride, width / stride)\n",
    "\n",
    "        If no downsampling block is present, the addition should just add the left branch's output to the input.\n",
    "        '''\n",
    "        pass\n",
    "\n",
    "\n",
    "tests.test_residual_block(ResidualBlock)"
   ]
  },
  {
   "cell_type": "markdown",
   "metadata": {
    "id": "dQSt4TVg_7LS"
   },
   "source": [
    "### Exercise - implement `BlockGroup`\n",
    "\n",
    "```yaml\n",
    "Difficulty: 🔴🔴🔴⚪⚪\n",
    "Importance: 🔵🔵🔵🔵⚪\n",
    "\n",
    "You should spend up to 10-15 minutes on this exercise.\n",
    "```\n",
    "\n",
    "Implement `BlockGroup` according to the diagram.\n",
    "\n",
    "The number of channels changes from `in_feats` to `out_feats` in the first `ResidualBlock` (all subsequent blocks will have `out_feats` input channels and `out_feats` output channels).\n",
    "\n",
    "The `height` and `width` of the input will only be changed if `first_stride>1` (in which case it will be downsampled by exactly this amount).\n",
    "\n",
    "You can also read the docstring for a description of the input and output shapes.\n"
   ]
  },
  {
   "cell_type": "code",
   "execution_count": null,
   "metadata": {
    "id": "nKFjfm06_8Wp"
   },
   "outputs": [],
   "source": [
    "class BlockGroup(nn.Module):\n",
    "    def __init__(self, n_blocks: int, in_feats: int, out_feats: int, first_stride=1):\n",
    "        '''An n_blocks-long sequence of ResidualBlock where only the first block uses the provided stride.'''\n",
    "        super().__init__()\n",
    "        pass\n",
    "\n",
    "    def forward(self, x: t.Tensor) -> t.Tensor:\n",
    "        '''\n",
    "        Compute the forward pass.\n",
    "\n",
    "        x: shape (batch, in_feats, height, width)\n",
    "\n",
    "        Return: shape (batch, out_feats, height / first_stride, width / first_stride)\n",
    "        '''\n",
    "        pass\n",
    "\n",
    "\n",
    "tests.test_block_group(BlockGroup)"
   ]
  },
  {
   "cell_type": "markdown",
   "metadata": {
    "id": "940asI-B_-9i"
   },
   "source": [
    "### Exercise - implement `ResNet34`\n",
    "\n",
    "```yaml\n",
    "Difficulty: 🔴🔴🔴🔴⚪\n",
    "Importance: 🔵🔵🔵🔵⚪\n",
    "\n",
    "You should spend up to 25-30 minutes on this exercise.\n",
    "\n",
    "You may have to return to this and previous exercises, if you find a bug later.\n",
    "```\n",
    "\n",
    "Last step! Assemble `ResNet34` using the diagram.\n",
    "\n",
    "\n",
    "<details>\n",
    "<summary>Help - I'm not sure how to construct each of the BlockGroups.</summary>\n",
    "\n",
    "Each BlockGroup takes arguments `n_blocks`, `in_feats`, `out_feats` and `first_stride`. In the initialisation of `ResNet34` below, we're given a list of `n_blocks`, `out_feats` and `first_stride` for each of the BlockGroups. To find `in_feats` for each block, it suffices to note two things:\n",
    "    \n",
    "1. The first `in_feats` should be 64, because the input is coming from the convolutional layer with 64 output channels.\n",
    "2. The `out_feats` of each layer should be equal to the `in_feats` of the subsequent layer (because the BlockGroups are stacked one after the other; with no operations in between to change the shape).\n",
    "\n",
    "You can use these two facts to construct a list `in_features_per_group`, and then create your BlockGroups by zipping through all four lists.\n",
    "</details>\n",
    "\n",
    "<details>\n",
    "<summary>Help - I'm not sure how to construct the 7x7 conv at the very start.</summary>\n",
    "\n",
    "All the information about this convolution is given in the diagram, except for `in_channels`. Recall that the input to this layer is an RGB image. Can you deduce from this how many input channels your layer should have?\n",
    "</details>"
   ]
  },
  {
   "cell_type": "code",
   "execution_count": null,
   "metadata": {
    "id": "pD2tSK1HAAIN"
   },
   "outputs": [],
   "source": [
    "class ResNet34(nn.Module):\n",
    "    def __init__(\n",
    "        self,\n",
    "        n_blocks_per_group=[3, 4, 6, 3],\n",
    "        out_features_per_group=[64, 128, 256, 512],\n",
    "        first_strides_per_group=[1, 2, 2, 2],\n",
    "        n_classes=1000,\n",
    "    ):\n",
    "        pass\n",
    "\n",
    "    def forward(self, x: t.Tensor) -> t.Tensor:\n",
    "        '''\n",
    "        x: shape (batch, channels, height, width)\n",
    "        Return: shape (batch, n_classes)\n",
    "        '''\n",
    "        pass\n",
    "\n",
    "\n",
    "my_resnet = ResNet34()"
   ]
  },
  {
   "cell_type": "markdown",
   "metadata": {
    "id": "tFyxZEj_ADHI"
   },
   "source": [
    "Now that you've built your `ResNet34`, we'll copy weights over from PyTorch's pretrained resnet to yours. This is a good way to verify that you've designed the architecture correctly."
   ]
  },
  {
   "cell_type": "code",
   "execution_count": null,
   "metadata": {
    "id": "zFiExIYeAEXh"
   },
   "outputs": [],
   "source": [
    "def copy_weights(my_resnet: ResNet34, pretrained_resnet: models.resnet.ResNet) -> ResNet34:\n",
    "    '''Copy over the weights of `pretrained_resnet` to your resnet.'''\n",
    "\n",
    "    # Get the state dictionaries for each model, check they have the same number of parameters & buffers\n",
    "    mydict = my_resnet.state_dict()\n",
    "    pretraineddict = pretrained_resnet.state_dict()\n",
    "    assert len(mydict) == len(pretraineddict), \"Mismatching state dictionaries.\"\n",
    "\n",
    "    # Define a dictionary mapping the names of your parameters / buffers to their values in the pretrained model\n",
    "    state_dict_to_load = {\n",
    "        mykey: pretrainedvalue\n",
    "        for (mykey, myvalue), (pretrainedkey, pretrainedvalue) in zip(mydict.items(), pretraineddict.items())\n",
    "    }\n",
    "\n",
    "    # Load in this dictionary to your model\n",
    "    my_resnet.load_state_dict(state_dict_to_load)\n",
    "\n",
    "    return my_resnet\n",
    "\n",
    "\n",
    "pretrained_resnet = models.resnet34(weights=models.ResNet34_Weights.IMAGENET1K_V1)\n",
    "my_resnet = copy_weights(my_resnet, pretrained_resnet)"
   ]
  },
  {
   "cell_type": "markdown",
   "metadata": {
    "id": "F4SqVsqoAFi2"
   },
   "source": [
    "This function uses the `state_dict()` method, which returns an  `OrderedDict` (documentation [here](https://realpython.com/python-ordereddict/)) object containing all the parameter/buffer names and their values. State dicts can be extracted from models, saved to your filesystem (this is a common way to store the results of training a model), and can also be loaded back into a model using the `load_state_dict` method. (Note that you can also load weights using a regular Python `dict`, but since Python 3.7, the builtin `dict` is guaranteed to maintain items in the order they're inserted.)\n",
    "\n",
    "If the copying fails, this means that your model's layers don't match up with the layers in the PyTorch model implementation.\n",
    "\n",
    "To debug here, we've given you a helpful function `print_param_count` (from `utils.py`), which takes two models and prints out a stylized dataframe comparing the parameter names and shapes of each model. It will tell you when your model matches up with the PyTorch implementation. It can be used as follows:\n"
   ]
  },
  {
   "cell_type": "code",
   "execution_count": null,
   "metadata": {
    "id": "wAAMfNwQTEEa"
   },
   "outputs": [],
   "source": [
    "print_param_count(my_resnet, pretrained_resnet)"
   ]
  },
  {
   "cell_type": "markdown",
   "metadata": {
    "id": "2olK_Yb6TDfI"
   },
   "source": [
    "You'll hopefully see something like the image below (the layer names not necessarily matching, but the parameter counts & shapes hopefully matching).\n",
    "\n",
    "<img src=\"https://raw.githubusercontent.com/callummcdougall/Fundamentals/main/images/resnet-compared.png\" width=\"900\">\n",
    "\n",
    "Tweaking your model until all the layers match up might be a difficult and frustrating exercise at times! However, it's a pretty good example of the kind of low-level model implementation and debugging that is important for your growth as ML engineers. We'll be doing a few more model-building exercises similar to these in later sections."
   ]
  },
  {
   "cell_type": "markdown",
   "metadata": {
    "id": "Qdlj-azIAGzT"
   },
   "source": [
    "## Running Your Model\n",
    "\n",
    "We've provided you with some images for your model to classify:"
   ]
  },
  {
   "cell_type": "code",
   "execution_count": null,
   "metadata": {
    "id": "SaK9CAV3AIG2"
   },
   "outputs": [],
   "source": [
    "IMAGE_FILENAMES = [\n",
    "    \"chimpanzee.jpg\",\n",
    "    \"golden_retriever.jpg\",\n",
    "    \"platypus.jpg\",\n",
    "    \"frogs.jpg\",\n",
    "    \"fireworks.jpg\",\n",
    "    \"astronaut.jpg\",\n",
    "    \"iguana.jpg\",\n",
    "    \"volcano.jpg\",\n",
    "    \"goofy.jpg\",\n",
    "    \"dragonfly.jpg\",\n",
    "]\n",
    "\n",
    "IMAGE_FOLDER = section_dir / \"resnet_inputs\"\n",
    "\n",
    "images = [Image.open(IMAGE_FOLDER / filename) for filename in IMAGE_FILENAMES]"
   ]
  },
  {
   "cell_type": "markdown",
   "metadata": {
    "id": "0GL8fU67AJl3"
   },
   "source": [
    "Our `images` are of type `PIL.Image.Image`, so we can just call them in a cell to display them."
   ]
  },
  {
   "cell_type": "code",
   "execution_count": null,
   "metadata": {
    "id": "0a0wyprlAKMl"
   },
   "outputs": [],
   "source": [
    "images[0]"
   ]
  },
  {
   "cell_type": "markdown",
   "metadata": {
    "id": "AKZX5btkALEZ"
   },
   "source": [
    "We now need to define a `transform` object like we did for MNIST. We will use the same transforms to convert the PIL image to a tensor, and to normalize it. But we also want to resize the images to `height=224, width=224`, because not all of them start out with this size and we need them to be consistent before passing them through our model.\n",
    "\n",
    "In the normalization step, we'll use a mean of `[0.485, 0.456, 0.406]`, and a standard deviation of `[0.229, 0.224, 0.225]` (these are the mean and std dev of images from [ImageNet](https://www.image-net.org/)). Note that the means and std devs have three elements, because ImageNet contains RGB rather than monochrome images, and we're normalising over each of the three RGB channels separately."
   ]
  },
  {
   "cell_type": "code",
   "execution_count": null,
   "metadata": {
    "id": "wLAjqJp4AM2y"
   },
   "outputs": [],
   "source": [
    "IMAGE_SIZE = 224\n",
    "IMAGENET_MEAN = [0.485, 0.456, 0.406]\n",
    "IMAGENET_STD = [0.229, 0.224, 0.225]\n",
    "\n",
    "IMAGENET_TRANSFORM = transforms.Compose([\n",
    "    transforms.ToTensor(),\n",
    "    transforms.Resize((IMAGE_SIZE, IMAGE_SIZE)),\n",
    "    transforms.Normalize(mean=IMAGENET_MEAN, std=IMAGENET_STD),\n",
    "])\n",
    "\n",
    "prepared_images = t.stack([IMAGENET_TRANSFORM(img) for img in images], dim=0)\n",
    "\n",
    "assert prepared_images.shape == (len(images), 3, IMAGE_SIZE, IMAGE_SIZE)"
   ]
  },
  {
   "cell_type": "markdown",
   "metadata": {
    "id": "158B2_GpAMM-"
   },
   "source": [
    "### Exercise - verify your model's predictions\n",
    "\n",
    "```c\n",
    "Difficulty: 🔴🔴⚪⚪⚪\n",
    "Importance: 🔵🔵🔵⚪⚪\n",
    "\n",
    "You should spend up to ~10 minutes on this exercise.\n",
    "```\n",
    "\n",
    "Lastly, you should run your model with these prepared images, and verify that your predictions are the same as the model's predictions.\n",
    "\n",
    "You can do this by filling in the `predict` function below, then running the code. We've also provided you with a file `imagenet_labels.json` which you can use to get the actual classnames of imagenet data, and see what your model's predictions actually are.\n"
   ]
  },
  {
   "cell_type": "code",
   "execution_count": null,
   "metadata": {
    "id": "NpHmhQ_lAQrK"
   },
   "outputs": [],
   "source": [
    "def predict(model, images: t.Tensor) -> List[int]:\n",
    "    '''\n",
    "    Returns the predicted class for each image (as a list of ints).\n",
    "    '''\n",
    "    pass\n",
    "\n",
    "\n",
    "with open(section_dir / \"imagenet_labels.json\") as f:\n",
    "    imagenet_labels = list(json.load(f).values())\n",
    "\n",
    "# Check your predictions match those of the pretrained model\n",
    "my_predictions = predict(my_resnet, prepared_images)\n",
    "pretrained_predictions = predict(pretrained_resnet, prepared_images)\n",
    "assert all(my_predictions == pretrained_predictions)\n",
    "print(\"All predictions match!\")\n",
    "\n",
    "# Print out your predictions, next to the corresponding images\n",
    "for img, label in zip(images, my_predictions):\n",
    "    print(f\"Class {label}: {imagenet_labels[label]}\")\n",
    "    display(img)\n",
    "    print()"
   ]
  },
  {
   "cell_type": "markdown",
   "metadata": {
    "id": "9kRkih3iAS85"
   },
   "source": [
    "If you've done everything correctly, your version should give the same classifications, and the percentages should match at least to a couple decimal places.\n",
    "\n",
    "If it does, congratulations, you've now run an entire ResNet, using barely any code from `torch.nn`! The only things we used were `nn.Module` and `nn.Parameter`.\n",
    "\n",
    "If it doesn't, you get to practice model debugging! Remember to use the `utils.print_param_count` function that was provided.\n",
    "\n",
    "\n",
    "<details>\n",
    "<summary>Help! My model is predicting roughly the same percentage for every category!</summary>\n",
    "\n",
    "This can indicate that your model weights are randomly initialized, meaning the weight loading process didn't actually take. Or, you reinitialized your model by accident after loading the weights.\n",
    "</details>"
   ]
  },
  {
   "cell_type": "markdown",
   "metadata": {
    "id": "s61_73_XAUcP"
   },
   "source": [
    "### Aside - hooks\n",
    "\n",
    "One problem you might have encountered is that your model outputs `NaN`s rather than actual numbers. When debugging this, it's useful to try and identify which module the error first appears in. This is a great use-case for **hooks**, which are something we'll be digging a lot more into during our mechanistic interpretability exercises later on.\n",
    "\n",
    "A hook is basically a function which you can attach to a particular `nn.Module`, which gets executed during your model's forward or backward passes. Here, we'll only consider forward hooks. A hook function's type signature is:\n",
    "\n",
    "```python\n",
    "def hook(module: nn.Module, inputs: List[t.Tensor], output: t.Tensor) -> None:\n",
    "    pass\n",
    "```\n",
    "\n",
    "The `inputs` argument is a list of the inputs to the module (often just one tensor), and the `output` argument is the output of the module. This hook gets registered to a module by calling `module.register_forward_hook(hook)`. During forward passes, the hook function will run.\n",
    "\n",
    "Here is some code which will check for `NaN`s in the output of each module, and raise a `ValueError` if it finds any. We've also given you an example tiny network which produces a `NaN` in the output of the second layer, to demonstrate it on."
   ]
  },
  {
   "cell_type": "code",
   "execution_count": null,
   "metadata": {
    "id": "73uTZ_iwAVz7"
   },
   "outputs": [],
   "source": [
    "class NanModule(nn.Module):\n",
    "    '''\n",
    "    Define a module that always returns NaNs (we will use hooks to identify this error).\n",
    "    '''\n",
    "    def forward(self, x):\n",
    "        return t.full_like(x, float('nan'))\n",
    "\n",
    "\n",
    "model = nn.Sequential(\n",
    "    nn.Identity(),\n",
    "    NanModule(),\n",
    "    nn.Identity()\n",
    ")\n",
    "\n",
    "\n",
    "def hook_check_for_nan_output(module: nn.Module, input: Tuple[t.Tensor], output: t.Tensor) -> None:\n",
    "    '''\n",
    "    Hook function which detects when the output of a layer is NaN.\n",
    "    '''\n",
    "    if t.isnan(output).any():\n",
    "        raise ValueError(f\"NaN output from {module}\")\n",
    "\n",
    "\n",
    "def add_hook(module: nn.Module) -> None:\n",
    "    '''\n",
    "    Register our hook function in a module.\n",
    "\n",
    "    Use model.apply(add_hook) to recursively apply the hook to model and all submodules.\n",
    "    '''\n",
    "    module.register_forward_hook(hook_check_for_nan_output)\n",
    "\n",
    "\n",
    "def remove_hooks(module: nn.Module) -> None:\n",
    "    '''\n",
    "    Remove all hooks from module.\n",
    "\n",
    "    Use module.apply(remove_hooks) to do this recursively.\n",
    "    '''\n",
    "    module._backward_hooks.clear()\n",
    "    module._forward_hooks.clear()\n",
    "    module._forward_pre_hooks.clear()\n",
    "\n",
    "\n",
    "model = model.apply(add_hook)\n",
    "input = t.randn(3)\n",
    "\n",
    "try:\n",
    "    output = model(input)\n",
    "except ValueError as e:\n",
    "    print(e)\n",
    "\n",
    "model = model.apply(remove_hooks)"
   ]
  },
  {
   "cell_type": "markdown",
   "metadata": {
    "id": "AAjJsqsGAW5T"
   },
   "source": [
    "When you run this code, you should find it raising an error at the `NanModule`.\n",
    "\n",
    "\n",
    "> Important - when you're working with PyTorch hooks, make sure you remember to remove them at the end of each exercise! This is a classic source of bugs, and one of the things that make PyTorch hooks so janky. When we study TransformerLens in the next chapter, we'll use a version of hooks that is essentially the same under the hood, but comes with quite a few quality of life improvements!\n"
   ]
  },
  {
   "cell_type": "markdown",
   "metadata": {
    "id": "s14T6NUJ7Ivu"
   },
   "source": [
    "# 5️⃣ Bonus - Convolutions From Scratch"
   ]
  },
  {
   "cell_type": "markdown",
   "metadata": {
    "id": "X9KqJA1tAazT"
   },
   "source": [
    "> ### Learning objectives\n",
    ">\n",
    "> * Understand how array strides work, and why they're important for efficient linear operations\n",
    "> * Learn how to use `as_strided` to perform simple linear operations like trace and matrix multiplication\n",
    "> * Implement your own convolutions and maxpooling functions using stride-based methods"
   ]
  },
  {
   "cell_type": "markdown",
   "metadata": {
    "id": "o3QlojagAeZR"
   },
   "source": [
    "This section is designed to get you familiar with the implementational details of layers like `Linear` and `Conv2d`. You'll be using libraries like `einops`, and functions like `torch.as_strided` to get a very low-level picture of how these operations work, which will help build up your overall understanding.\n",
    "\n",
    "Note that `torch.as_strided` isn't something which will come up explicitly in much of the rest of the course (unlike `einops`). The purpose of the stride exercises is more to give you an appreciation for what's going on under the hood, so that we can build layers of abstraction on top of that during the rest of this week (and by extension this course). I see this as analogous to how [many CS courses](https://cs50.harvard.edu/x/2023/) start by teaching you about languages like C and concepts like pointers and memory management before moving on to higher-level langauges like Python which abstract away these details. The hope is that when you get to the later sections of the course, you'll have the tools to understand them better."
   ]
  },
  {
   "cell_type": "markdown",
   "metadata": {
    "id": "kJmEJuqIAgCp"
   },
   "source": [
    "## Reading\n",
    "\n",
    "* [Python NumPy, 6.1 - `as_strided()`](https://www.youtube.com/watch?v=VlkzN00P0Bc) explains what array strides are.\n",
    "* [`as_strided` and `sum` are all you need](https://jott.live/markdown/as_strided) gives an overview of how to use `as_strided` to perform array operations.\n",
    "* [Advanced NumPy: Master stride tricks with 25 illustrated exercises](https://towardsdatascience.com/advanced-numpy-master-stride-tricks-with-25-illustrated-exercises-923a9393ab20) provides several clear and intuitive examples of `as_strided` being used to construct arrays."
   ]
  },
  {
   "cell_type": "markdown",
   "metadata": {
    "id": "UWyoJvVwAhUf"
   },
   "source": [
    "## Basic stride exercises\n",
    "\n",
    "Array strides, and the `as_strided` method, are important to understand well because lots of linear operations are actually implementing something like `as_strided` under the hood.\n",
    "\n",
    "Run the following code, to define this tensor:"
   ]
  },
  {
   "cell_type": "code",
   "execution_count": null,
   "metadata": {
    "id": "IAGwqQvsAiEm"
   },
   "outputs": [],
   "source": [
    "test_input = t.tensor(\n",
    "    [[0, 1, 2, 3, 4],\n",
    "    [5, 6, 7, 8, 9],\n",
    "    [10, 11, 12, 13, 14],\n",
    "    [15, 16, 17, 18, 19]], dtype=t.float\n",
    ")"
   ]
  },
  {
   "cell_type": "markdown",
   "metadata": {
    "id": "--Xk5kawAi54"
   },
   "source": [
    "This tensor is stored in a contiguous block in computer memory.\n",
    "\n",
    "We can call the `stride` method to get the strides of this particular array. Running `test_input.stride()`, we get `(5, 1)`. This means that we need to skip over one element in the storage of this tensor to get to the next element in the row, and 5 elements to get the next element in the column (because you have to jump over all 5 elements in the row). Another way of phrasing this: the `n`th element in the stride is the number of elements we need to skip over to move one index position in the `n`th dimension."
   ]
  },
  {
   "cell_type": "markdown",
   "metadata": {
    "id": "NzDUJNT2Aj7d"
   },
   "source": [
    "### Exercise - fill in the correct size and stride\n",
    "\n",
    "```yaml\n",
    "Difficulty: 🔴🔴🔴🔴⚪\n",
    "Importance: 🔵🔵⚪⚪⚪\n",
    "\n",
    "You should spend up to ~30 minutes on these exercises collectively.\n",
    "\n",
    "as_strided exercises can be notoriously confusing and fiddly, so you should be willing to look at the solution if you're stuck. They are not the most important part of the material today.\n",
    "```\n",
    "\n",
    "In the exercises below, we will work with the `test_input` tensor above. You should fill in the `size` and `stride` arguments so that calling `test_input.as_strided` with these arguments produces the desired output. When you run the cell, the `for` loop at the end will iterate through the test cases and print out whether the test passed or failed.\n",
    "\n",
    "We've already filled in the first two as an example, along with illustrations explaining what's going on:\n",
    "\n",
    "<img src=\"https://raw.githubusercontent.com/callummcdougall/computational-thread-art/master/example_images/misc/strides2.png\" width=\"650\">\n",
    "\n",
    "By the end of these examples, hopefully you'll have a clear idea of what's going on. If you're still confused by some of these, then the dropdown below the codeblock contains some annotations to explain the answers."
   ]
  },
  {
   "cell_type": "code",
   "execution_count": null,
   "metadata": {
    "id": "SuENcLRfAliH"
   },
   "outputs": [],
   "source": [
    "import torch as t\n",
    "from collections import namedtuple\n",
    "\n",
    "TestCase = namedtuple(\"TestCase\", [\"output\", \"size\", \"stride\"])\n",
    "\n",
    "test_cases = [\n",
    "    TestCase(\n",
    "        output=t.tensor([0, 1, 2, 3]),\n",
    "        size=(4,),\n",
    "        stride=(1,),\n",
    "    ),\n",
    "    TestCase(\n",
    "        output=t.tensor([[0, 2], [5, 7]]),\n",
    "        size=(2, 2),\n",
    "        stride=(5, 2),\n",
    "    ),\n",
    "\n",
    "    TestCase(\n",
    "        output=t.tensor([0, 1, 2, 3, 4]),\n",
    "        size=None,\n",
    "        stride=None,\n",
    "    ),\n",
    "\n",
    "    TestCase(\n",
    "        output=t.tensor([0, 5, 10, 15]),\n",
    "        size=None,\n",
    "        stride=None,\n",
    "    ),\n",
    "\n",
    "    TestCase(\n",
    "        output=t.tensor([\n",
    "            [0, 1, 2],\n",
    "            [5, 6, 7]\n",
    "        ]),\n",
    "        size=None,\n",
    "        stride=None,\n",
    "    ),\n",
    "\n",
    "    TestCase(\n",
    "        output=t.tensor([\n",
    "            [0, 1, 2],\n",
    "            [10, 11, 12]\n",
    "        ]),\n",
    "        size=None,\n",
    "        stride=None,\n",
    "    ),\n",
    "\n",
    "    TestCase(\n",
    "        output=t.tensor([\n",
    "            [0, 0, 0],\n",
    "            [11, 11, 11]\n",
    "        ]),\n",
    "        size=None,\n",
    "        stride=None,\n",
    "    ),\n",
    "\n",
    "    TestCase(\n",
    "        output=t.tensor([0, 6, 12, 18]),\n",
    "        size=None,\n",
    "        stride=None,\n",
    "    ),\n",
    "]\n",
    "\n",
    "for (i, test_case) in enumerate(test_cases):\n",
    "    if (test_case.size is None) or (test_case.stride is None):\n",
    "        print(f\"Test {i} failed: attempt missing.\")\n",
    "    else:\n",
    "        actual = test_input.as_strided(size=test_case.size, stride=test_case.stride)\n",
    "        if (test_case.output != actual).any():\n",
    "            print(f\"Test {i} failed:\")\n",
    "            print(f\"Expected: {test_case.output}\")\n",
    "            print(f\"Actual: {actual}\\n\")\n",
    "        else:\n",
    "            print(f\"Test {i} passed!\\n\")"
   ]
  },
  {
   "cell_type": "markdown",
   "metadata": {
    "id": "botRE5uJAo8-"
   },
   "source": [
    "## Intermediate stride exercises\n",
    "\n",
    "Now that you're comfortable with the basics, we'll dive a little deeper with `as_strided`. In the last few exercises of this section, you'll start to implement some more challenging stride functions: trace, matrix-vector and matrix-matrix multiplication, just like we did for `einsum` in the previous section."
   ]
  },
  {
   "cell_type": "markdown",
   "metadata": {
    "id": "7GSNNOztAp9L"
   },
   "source": [
    "### Exercise - trace\n",
    "\n",
    "```yaml\n",
    "Difficulty: 🔴🔴⚪⚪⚪\n",
    "Importance: 🔵🔵⚪⚪⚪\n",
    "\n",
    "You should spend up to 10-15 minutes on this exercise.\n",
    "\n",
    "Use the hint if you're stuck.\n",
    "```"
   ]
  },
  {
   "cell_type": "code",
   "execution_count": null,
   "metadata": {
    "id": "TDhgB-K8Aqp1"
   },
   "outputs": [],
   "source": [
    "def as_strided_trace(mat: Float[Tensor, \"i j\"]) -> Float[Tensor, \"\"]:\n",
    "    '''\n",
    "    Returns the same as `torch.trace`, using only `as_strided` and `sum` methods.\n",
    "    '''\n",
    "    pass\n",
    "\n",
    "\n",
    "tests.test_trace(as_strided_trace)"
   ]
  },
  {
   "cell_type": "markdown",
   "metadata": {
    "id": "edGiIjSpArxv"
   },
   "source": [
    "<details>\n",
    "<summary>Hint</summary>\n",
    "\n",
    "The trace is the sum of all the elements you get from starting at `[0, 0]` and then continually stepping down and right one element. Use strides to create a 1D array which contains these elements.\n",
    "</details>"
   ]
  },
  {
   "cell_type": "markdown",
   "metadata": {
    "id": "Ul_HRILDAs3Y"
   },
   "source": [
    "### Exercise - matrix-vector multiplication\n",
    "\n",
    "```yaml\n",
    "Difficulty: 🔴🔴🔴⚪⚪\n",
    "Importance: 🔵🔵🔵⚪⚪\n",
    "\n",
    "You should spend up to 15-20 minutes on this exercise.\n",
    "\n",
    "The hints should be especially useful here if you're stuck. There are two hints available to you.\n",
    "```\n",
    "                \n",
    "You should implement this using only `as_strided` and `sum` methods, and elementwise multiplication `*` - in other words, no matrix multiplication functions!"
   ]
  },
  {
   "cell_type": "code",
   "execution_count": null,
   "metadata": {
    "id": "_hrXwmeWAxJo"
   },
   "outputs": [],
   "source": [
    "def as_strided_mv(mat: Float[Tensor, \"i j\"], vec: Float[Tensor, \"j\"]) -> Float[Tensor, \"i\"]:\n",
    "    '''\n",
    "    Returns the same as `torch.matmul`, using only `as_strided` and `sum` methods.\n",
    "    '''\n",
    "    pass\n",
    "\n",
    "\n",
    "tests.test_mv(as_strided_mv)\n",
    "tests.test_mv2(as_strided_mv)"
   ]
  },
  {
   "cell_type": "markdown",
   "metadata": {
    "id": "g0pl3_O2AzHS"
   },
   "source": [
    "<details>\n",
    "<summary>Hint 1</summary>\n",
    "\n",
    "You want your output array to be as follows:\n",
    "\n",
    "$$\n",
    "\\text{output}[i] = \\sum_j \\text{mat}[i, j] \\times \\text{vector}[j]\n",
    "$$\n",
    "\n",
    "so first try to create an array with:\n",
    "\n",
    "$$\n",
    "\\text{arr}[i, j] = \\text{mat}[i, j] \\times \\text{vector}[j]\n",
    "$$\n",
    "\n",
    "then you can calculate `output` by summing over the second dimension of `arr`.\n",
    "</details>\n",
    "\n",
    "<details>\n",
    "<summary>Hint 2</summary>\n",
    "\n",
    "First try to use strides to create `vec_expanded` such that:\n",
    "\n",
    "$$\n",
    "\\text{vec\\_expanded}[i, j] = \\text{vec}[j]\n",
    "$$\n",
    "\n",
    "We can then compute:\n",
    "\n",
    "$$\n",
    "\\begin{align}\n",
    "\\text{arr}[i, j] &= \\text{mat}[i, j] \\times \\text{vec\\_expanded}[i, j] \\\\\n",
    "\\text{output}[i, j] &= \\sum_j \\text{arr}[i, j]\n",
    "\\end{align}\n",
    "$$\n",
    "\n",
    "with the first equation being a simple elementwise multiplication, and the second equation being a sum over the second dimension.\n",
    "\n",
    "</details>\n",
    "\n",
    "<details>\n",
    "<summary>Help - I'm passing the first test, but failing the second.</summary>\n",
    "\n",
    "It's possible that the input matrices you recieve could themselves be the output of an `as_strided` operation, so that they're represented in memory in a non-contiguous way. Make sure that your `as_strided `operation is using the strides from the original input arrays, i.e. it's not just assuming the last element in the `stride()` tuple is 1.\n",
    "</details>"
   ]
  },
  {
   "cell_type": "markdown",
   "metadata": {
    "id": "TVPY8njeA0mP"
   },
   "source": [
    "### Exercise - matrix-matrix multiplication\n",
    "\n",
    "```yaml\n",
    "Difficulty: 🔴🔴🔴🔴⚪\n",
    "Importance: 🔵🔵🔵⚪⚪\n",
    "\n",
    "You should spend up to 15-20 minutes on this exercise.\n",
    "\n",
    "The hints should be especially useful here if you're stuck. There are two hints available to you.\n",
    "```\n",
    "                \n",
    "Like the previous function, this should only involve `as_strided`, `sum`, and pointwise multiplication."
   ]
  },
  {
   "cell_type": "code",
   "execution_count": null,
   "metadata": {
    "id": "-3dPJSY3A12F"
   },
   "outputs": [],
   "source": [
    "def as_strided_mm(matA: Float[Tensor, \"i j\"], matB: Float[Tensor, \"j k\"]) -> Float[Tensor, \"i k\"]:\n",
    "    '''\n",
    "    Returns the same as `torch.matmul`, using only `as_strided` and `sum` methods.\n",
    "    '''\n",
    "    pass\n",
    "\n",
    "\n",
    "tests.test_mm(as_strided_mm)\n",
    "tests.test_mm2(as_strided_mm)"
   ]
  },
  {
   "cell_type": "markdown",
   "metadata": {
    "id": "FngMxa-CA3zd"
   },
   "source": [
    "<details>\n",
    "<summary>Hint 1</summary>\n",
    "\n",
    "If you did the first one, this isn't too dissimilar. We have:\n",
    "\n",
    "$$\n",
    "\\text{output}[i, k] = \\sum_j \\text{matA}[i, j] \\times \\text{matB}[j, k]\n",
    "$$\n",
    "\n",
    "\n",
    "so in this case, try to create an array with:\n",
    "\n",
    "$$\n",
    "\\text{arr}[i, j, k] = \\text{matA}[i, j] \\times \\text{matB}[j, k]\n",
    "$$\n",
    "\n",
    "then sum this array over `j` to get our output.\n",
    "\n",
    "We need to create expanded versions of both `matA` and `matB` in order to take this product.\n",
    "</details>\n",
    "\n",
    "<details>\n",
    "<summary>Hint 2</summary>\n",
    "\n",
    "We want to compute\n",
    "\n",
    "$$\n",
    "\\text{matA\\_expanded}[i, j, k] = \\text{matA}[i, j]\n",
    "$$\n",
    "\n",
    "so our stride for `matA` should be `(matA.stride(0), matA.stride(1), 0)`.\n",
    "        \n",
    "A similar idea applies for `matB`.\n",
    "</details>"
   ]
  },
  {
   "cell_type": "markdown",
   "metadata": {
    "id": "OMQ4W5raA5Eq"
   },
   "source": [
    "## conv1d minimal\n",
    "\n",
    "Here, we will implement the PyTorch `conv1d` function, which can be found [here](https://pytorch.org/docs/stable/generated/torch.nn.Conv1d.html). We will start with a simple implementation where `stride=1` and `padding=0`, with the other arguments set to their default values.\n",
    "\n",
    "Firstly, some explanation of `conv1d` in PyTorch. The `1` in `1d` here refers to the number of dimensions along which we slide the weights (also called the kernel) when we convolve. Importantly, it does not refer to the number of dimensions of the tensors that are being used in our calculations. Typically the input and kernel are both 3D:\n",
    "\n",
    "* `input.shape = (batch, in_channels, width)`\n",
    "* `kernel.shape = (out_channels, in_channels, kernel_width)`\n",
    "\n",
    "A typical convolution operation is illustrated in the sketch below. Some notes on this sketch:\n",
    "\n",
    "* The `kernel_width` dimension of the kernel slides along the `width` dimension of the input. The `output_width` of the output is determined by the number of kernels that can be fit inside it; the formula can be seen in the right part of the sketch.\n",
    "* For each possible position of the kernel inside the model (i.e. each freezeframe position in the sketch), the operation happening is as follows:\n",
    "    * We take the product of the kernel values with the corresponding input values, and then take the sum\n",
    "    * This gives us a single value for each output channel\n",
    "    * These values are then passed into the output tensor\n",
    "* The sketch assumes a batch size of 1. To generalise to a larger batch number, we can just imagine this operation being repeated identically on every input.\n",
    "\n",
    "\n",
    "<img src=\"https://raw.githubusercontent.com/callummcdougall/computational-thread-art/master/example_images/misc/ch0-conv1d-general.png\" width=1050>"
   ]
  },
  {
   "cell_type": "markdown",
   "metadata": {
    "id": "g7TYxZ4yA6E4"
   },
   "source": [
    "### A note on `out_channels`\n",
    "\n",
    "The out_channels in a conv2d layer denotes the number of filters the layer uses. Each filter detects specific features in the input, producing an output with as many channels as filters.\n",
    "\n",
    "This number isn't tied to the input image's channels but is a design choice in the neural network architecture. Commonly, powers of 2 are chosen for computational efficiency, and deeper layers might have more channels to capture complex features. Additionally, this parameter is sometimes chosen based on the heuristic of wanting to balance the parameter count / compute for each layer - which is why you often see `out_channels` growing as the size of each feature map gets smaller."
   ]
  },
  {
   "cell_type": "markdown",
   "metadata": {
    "id": "xBuudWSnA7S4"
   },
   "source": [
    "### Exercise - implement minimal 1D conv (part 1)\n",
    "\n",
    "```yaml\n",
    "Difficulty: 🔴🔴🔴🔴⚪\n",
    "Importance: 🔵🔵⚪⚪⚪\n",
    "\n",
    "You should spend up to 15-20 minutes on this exercise.\n",
    "\n",
    "Use the diagram in the dropdown below, if you're stuck.\n",
    "```\n",
    "\n",
    "Below, you should implement `conv1d_minimal`. This is a function which works just like `conv1d`, but takes the default stride and padding values (these will be added back in later). You are allowed to use `as_strided` and `einsum`.\n",
    "\n",
    "Because this is a difficult exercise, we've given you a \"simplified\" function to implement first. This gets rid of the batch dimension, and input & output channel dimensions, so you only have to think about `x` and `weights` being one-dimensional tensors:\n",
    "\n",
    "\n",
    "<img src=\"https://raw.githubusercontent.com/callummcdougall/computational-thread-art/master/example_images/misc/ch0-conv1d-A.png\" width=620>\n"
   ]
  },
  {
   "cell_type": "code",
   "execution_count": null,
   "metadata": {
    "id": "ZaixoAbSA8tX"
   },
   "outputs": [],
   "source": [
    "def conv1d_minimal_simple(x: Float[Tensor, \"w\"], weights: Float[Tensor, \"kw\"]) -> Float[Tensor, \"ow\"]:\n",
    "    '''\n",
    "    Like torch's conv1d using bias=False and all other keyword arguments left at their default values.\n",
    "\n",
    "    Simplifications: batch = input channels = output channels = 1.\n",
    "\n",
    "    x: shape (width,)\n",
    "    weights: shape (kernel_width,)\n",
    "\n",
    "    Returns: shape (output_width,)\n",
    "    '''\n",
    "    pass\n",
    "\n",
    "\n",
    "tests.test_conv1d_minimal_simple(conv1d_minimal_simple)"
   ]
  },
  {
   "cell_type": "markdown",
   "metadata": {
    "id": "F67R7lk-A-cA"
   },
   "source": [
    "<details>\n",
    "<summary>If you're stuck on <code>conv1d_minimal_simple</code>, click here to see a diagram which should help.</summary>\n",
    "\n",
    "This diagram illustrates the striding operation you'll need to perform on `x`. Once you do this, it's just a matter of using the right `einsum` operation to get the output.\n",
    "\n",
    "<img src=\"https://raw.githubusercontent.com/callummcdougall/computational-thread-art/master/example_images/misc/ch0-conv1d-explained.png\" width=800>\n",
    "</details>"
   ]
  },
  {
   "cell_type": "markdown",
   "metadata": {
    "id": "l_U-UBFwBJ2c"
   },
   "source": [
    "### Exercise - implement minimal 1D conv (part 2)\n",
    "\n",
    "```yaml\n",
    "Difficulty: 🔴🔴🔴🔴⚪\n",
    "Importance: 🔵🔵⚪⚪⚪\n",
    "\n",
    "You should spend up to 15-25 minutes on this exercise.\n",
    "```\n",
    "\n",
    "Once you've implemented this function, you should now adapt it to make a \"full version\", which includes batch, in_channel and out_channel dimensions. If you're stuck, the dropdowns provide hints for how each of these new dimensions should be handled."
   ]
  },
  {
   "cell_type": "code",
   "execution_count": null,
   "metadata": {
    "id": "6xb_NYuOBBTv"
   },
   "outputs": [],
   "source": [
    "def conv1d_minimal(x: Float[Tensor, \"b ic w\"], weights: Float[Tensor, \"oc ic kw\"]) -> Float[Tensor, \"b oc ow\"]:\n",
    "    '''\n",
    "    Like torch's conv1d using bias=False and all other keyword arguments left at their default values.\n",
    "\n",
    "    x: shape (batch, in_channels, width)\n",
    "    weights: shape (out_channels, in_channels, kernel_width)\n",
    "\n",
    "    Returns: shape (batch, out_channels, output_width)\n",
    "    '''\n",
    "    pass\n",
    "\n",
    "\n",
    "tests.test_conv1d_minimal(conv1d_minimal)"
   ]
  },
  {
   "cell_type": "markdown",
   "metadata": {
    "id": "eyPivH7UBErm"
   },
   "source": [
    "<details>\n",
    "<summary>Help - I'm stuck on going from <code>conv1d_minimal_simple</code> to <code>conv1d_minimal</code>.</summary>\n",
    "\n",
    "The principle is the same as before. In your function, you should:\n",
    "\n",
    "* Create a strided version of `x` by adding a dimension of length `output_width` and with the same stride as the `width` stride of `x` (the purpose of which is to be able to do all the convolutions at once).\n",
    "* Perform an einsum between this strided version of `x` and `weights`, summing over the appropriate dimensions.\n",
    "\n",
    "The way each of the new dimensions `batch`, `out_channels` and `in_channels` are handled is as follows:\n",
    "\n",
    "* `batch` - this is an extra dimension for `x`, it is *not* summed over when creating `output`.\n",
    "* `out_channels` - this is an extra dimension for `weights`, it is *not* summed over when creating `output`.\n",
    "* `in_channels` - this is an extra dimension for `weights` *and* for `x`, it *is* summed over when creating `output`.\n",
    "</details>"
   ]
  },
  {
   "cell_type": "markdown",
   "metadata": {
    "id": "U2QEYj_vBg2c"
   },
   "source": [
    "## conv2d minimal\n",
    "\n",
    "2D convolutions are conceptually similar to 1D. The only difference is in how you move the kernel across the tensor as you take your convolution. In this case, you will be moving the tensor across two dimensions:\n",
    "\n",
    "\n",
    "<img src=\"https://raw.githubusercontent.com/callummcdougall/computational-thread-art/master/example_images/misc/ch0-conv2d-B.png\" width=850>\n",
    "\n",
    "\n",
    "For this reason, 1D convolutions tend to be used for signals (e.g. audio), 2D convolutions are used for images, and 3D convolutions are used for 3D scans (e.g. in medical applications)."
   ]
  },
  {
   "cell_type": "markdown",
   "metadata": {
    "id": "qOweHTUdBiYN"
   },
   "source": [
    "### Exercise - implement 2D minimal convolutions\n",
    "\n",
    "```yaml\n",
    "Difficulty: 🔴🔴🔴🔴⚪\n",
    "Importance: 🔵🔵⚪⚪⚪\n",
    "\n",
    "You should spend up to 20-25 minutes on this exercise.\n",
    "\n",
    "Use the diagram in the dropdown below, if you're stuck.\n",
    "```\n",
    "\n",
    "You should implement `conv2d` in a similar way to `conv1d`. Again, this is expected to be difficult and there are several hints you can go through.\n"
   ]
  },
  {
   "cell_type": "code",
   "execution_count": null,
   "metadata": {
    "id": "K2gWlN--BjWx"
   },
   "outputs": [],
   "source": [
    "def conv2d_minimal(x: Float[Tensor, \"b ic h w\"], weights: Float[Tensor, \"oc ic kh kw\"]) -> Float[Tensor, \"b oc oh ow\"]:\n",
    "    '''\n",
    "    Like torch's conv2d using bias=False and all other keyword arguments left at their default values.\n",
    "\n",
    "    x: shape (batch, in_channels, height, width)\n",
    "    weights: shape (out_channels, in_channels, kernel_height, kernel_width)\n",
    "\n",
    "    Returns: shape (batch, out_channels, output_height, output_width)\n",
    "    '''\n",
    "    pass\n",
    "\n",
    "\n",
    "tests.test_conv2d_minimal(conv2d_minimal)"
   ]
  },
  {
   "cell_type": "markdown",
   "metadata": {
    "id": "aYf8KQDLBksZ"
   },
   "source": [
    "<details>\n",
    "<summary>Hint & diagram</summary>\n",
    "\n",
    "You should be doing the same thing that you did for the 1D version. The only difference is that you're introducing 2 new dimensions to your strided version of x, rather than 1 (their sizes should be `output_height` and `output_width`, and their strides should be the same as the original `height` and `width` strides of `x` respectively).\n",
    "\n",
    "<img src=\"https://raw.githubusercontent.com/callummcdougall/computational-thread-art/master/example_images/misc/ch0-conv2d-explained.png\" width=1000>\n",
    "</details>"
   ]
  },
  {
   "cell_type": "markdown",
   "metadata": {
    "id": "IGmDZNLYBl3j"
   },
   "source": [
    "## Padding"
   ]
  },
  {
   "cell_type": "markdown",
   "metadata": {
    "id": "QwjtT9jCBo59"
   },
   "source": [
    "For a full version of `conv`, and for `maxpool` (which will follow shortly), you'll need to implement `pad` helper functions. PyTorch has some very generic padding functions, but to keep things simple and build up gradually, we'll write 1D and 2D functions individually."
   ]
  },
  {
   "cell_type": "markdown",
   "metadata": {
    "id": "r8L-K0noBm0k"
   },
   "source": [
    "### Exercise - implement padding\n",
    "\n",
    "```yaml\n",
    "Difficulty: 🔴🔴⚪⚪⚪\n",
    "Importance: 🔵🔵⚪⚪⚪\n",
    "\n",
    "You should spend up to 15-20 minutes on this exercise, and the next.\n",
    "```\n",
    "\n",
    "Tips:\n",
    "* Use the `new_full` method of the input tensor. This is a clean way to ensure that the output tensor is on the same device as the input, and has the same dtype.\n",
    "* You can use three dots to denote slicing over multiple dimensions. For instance, `x[..., 0]` will take the `0th` slice of `x` along its last dimension. This is equivalent to `x[:, 0]` for 2D, `x[:, :, 0]` for 3D, etc.\n"
   ]
  },
  {
   "cell_type": "code",
   "execution_count": null,
   "metadata": {
    "id": "A6Co7RolBtcB"
   },
   "outputs": [],
   "source": [
    "def pad1d(x: t.Tensor, left: int, right: int, pad_value: float) -> t.Tensor:\n",
    "    '''Return a new tensor with padding applied to the edges.\n",
    "\n",
    "    x: shape (batch, in_channels, width), dtype float32\n",
    "\n",
    "    Return: shape (batch, in_channels, left + right + width)\n",
    "    '''\n",
    "    pass\n",
    "\n",
    "\n",
    "tests.test_pad1d(pad1d)\n",
    "tests.test_pad1d_multi_channel(pad1d)"
   ]
  },
  {
   "cell_type": "markdown",
   "metadata": {
    "id": "tt7ihRI_Bq_r"
   },
   "source": [
    "<details>\n",
    "<summary>Help - I get <code>RuntimeError: The expanded size of the tensor (0) must match ...</code></summary>\n",
    "\n",
    "This might be because you've indexed with `left : -right`. Think about what will happen here when `right` is zero.\n",
    "</details>"
   ]
  },
  {
   "cell_type": "markdown",
   "metadata": {
    "id": "WIk0IcDtBwh7"
   },
   "source": [
    "Once you've passed the tests, you can implement the 2D version:"
   ]
  },
  {
   "cell_type": "code",
   "execution_count": null,
   "metadata": {
    "id": "p4vM262FBxeB"
   },
   "outputs": [],
   "source": [
    "def pad2d(x: t.Tensor, left: int, right: int, top: int, bottom: int, pad_value: float) -> t.Tensor:\n",
    "    '''Return a new tensor with padding applied to the edges.\n",
    "\n",
    "    x: shape (batch, in_channels, height, width), dtype float32\n",
    "\n",
    "    Return: shape (batch, in_channels, top + height + bottom, left + width + right)\n",
    "    '''\n",
    "    pass\n",
    "\n",
    "\n",
    "tests.test_pad2d(pad2d)\n",
    "tests.test_pad2d_multi_channel(pad2d)"
   ]
  },
  {
   "cell_type": "markdown",
   "metadata": {
    "id": "GiE5YMSKBzqt"
   },
   "source": [
    "## Full convolutions\n",
    "\n",
    "Now, you'll extend `conv1d` to handle the `stride` and `padding` arguments.\n",
    "\n",
    "`stride` is the number of input positions that the kernel slides at each step. `padding` is the number of zeros concatenated to each side of the input before the convolution.\n",
    "\n",
    "Output shape should be `(batch, output_channels, output_length)`, where output_length can be calculated as follows:\n",
    "\n",
    "$$\n",
    "\\text{output_length} = \\left\\lfloor\\frac{\\text{input_length} + 2 \\times \\text{padding} - \\text{kernel_size}}{\\text{stride}} \\right\\rfloor + 1\n",
    "$$\n",
    "\n",
    "Verify for yourself that the forumla above simplifies to the formula we used earlier when padding is 0 and stride is 1.\n",
    "\n",
    "Docs for pytorch's `conv1d` can be found [here](https://pytorch.org/docs/stable/generated/torch.nn.Conv1d.html)."
   ]
  },
  {
   "cell_type": "markdown",
   "metadata": {
    "id": "-jw5yO6MB0n6"
   },
   "source": [
    "### Exercise - implement 1D convolutions\n",
    "\n",
    "```yaml\n",
    "Difficulty: 🔴🔴🔴🔴⚪\n",
    "Importance: 🔵🔵⚪⚪⚪\n",
    "\n",
    "You should spend up to 20-25 minutes on this exercise.\n",
    "```"
   ]
  },
  {
   "cell_type": "code",
   "execution_count": null,
   "metadata": {
    "id": "fKePyHQcB4h8"
   },
   "outputs": [],
   "source": [
    "def conv1d(\n",
    "    x: Float[Tensor, \"b ic w\"],\n",
    "    weights: Float[Tensor, \"oc ic kw\"],\n",
    "    stride: int = 1,\n",
    "    padding: int = 0\n",
    ") -> Float[Tensor, \"b oc ow\"]:\n",
    "    '''\n",
    "    Like torch's conv1d using bias=False.\n",
    "\n",
    "    x: shape (batch, in_channels, width)\n",
    "    weights: shape (out_channels, in_channels, kernel_width)\n",
    "\n",
    "    Returns: shape (batch, out_channels, output_width)\n",
    "    '''\n",
    "    pass\n",
    "\n",
    "\n",
    "tests.test_conv1d(conv1d)"
   ]
  },
  {
   "cell_type": "markdown",
   "metadata": {
    "id": "0homPQffB6pd"
   },
   "source": [
    "<details>\n",
    "<summary>Hint - dealing with padding</summary>\n",
    "\n",
    "As the first line of your function, replace `x` with the padded version of `x`. This way, you won't have to worry about accounting for padding in the rest of the function (e.g. in the formula for the output width).\n",
    "</details>\n",
    "\n",
    "<details>\n",
    "<summary>Hint - dealing with strides</summary>\n",
    "\n",
    "The following diagram shows how you should create the strided version of `x` differently, if you have a stride of 2 rather than the default stride of 1.\n",
    "\n",
    "<img src=\"https://raw.githubusercontent.com/callummcdougall/computational-thread-art/master/example_images/misc/ch0-conv1d-strides.png\" width=\"850\">\n",
    "\n",
    "Remember, you'll need a new formula for `output_width` (see formula in the  [documentation](https://pytorch.org/docs/stable/generated/torch.nn.Conv1d.html) for help with this, or see if you can derive it without help).\n",
    "</details>"
   ]
  },
  {
   "cell_type": "markdown",
   "metadata": {
    "id": "F-2a6qySB746"
   },
   "source": [
    "### Exercise - implement 2D convolutions\n",
    "\n",
    "```yaml\n",
    "Difficulty: 🔴🔴🔴🔴⚪\n",
    "Importance: 🔵🔵⚪⚪⚪\n",
    "\n",
    "You should spend up to 20-25 minutes on this exercise.\n",
    "```\n",
    "\n",
    "A recurring pattern in these 2d functions is allowing the user to specify either an int or a pair of ints for an argument: examples are stride and padding. We've provided some type aliases and a helper function to simplify working with these."
   ]
  },
  {
   "cell_type": "code",
   "execution_count": null,
   "metadata": {
    "id": "L1-ILvUiB9BF"
   },
   "outputs": [],
   "source": [
    "IntOrPair = Union[int, Tuple[int, int]]\n",
    "Pair = Tuple[int, int]\n",
    "\n",
    "def force_pair(v: IntOrPair) -> Pair:\n",
    "    '''Convert v to a pair of int, if it isn't already.'''\n",
    "    if isinstance(v, tuple):\n",
    "        if len(v) != 2:\n",
    "            raise ValueError(v)\n",
    "        return (int(v[0]), int(v[1]))\n",
    "    elif isinstance(v, int):\n",
    "        return (v, v)\n",
    "    raise ValueError(v)\n",
    "\n",
    "# Examples of how this function can be used:\n",
    "\n",
    "for v in [(1, 2), 2, (1, 2, 3)]:\n",
    "    try:\n",
    "        print(f\"{v!r:9} -> {force_pair(v)!r}\")\n",
    "    except ValueError:\n",
    "        print(f\"{v!r:9} -> ValueError\")\n"
   ]
  },
  {
   "cell_type": "markdown",
   "metadata": {
    "id": "sm0B5_xWB9xb"
   },
   "source": [
    "Finally, you can implement a full version of `conv2d`. If you've done the full version of `conv1d`, and you've done `conv2d_minimal`, then you should be able to pull code from here to help you.\n"
   ]
  },
  {
   "cell_type": "code",
   "execution_count": null,
   "metadata": {
    "id": "mNEFOr2xB_UX"
   },
   "outputs": [],
   "source": [
    "def conv2d(\n",
    "    x: Float[Tensor, \"b ic h w\"],\n",
    "    weights: Float[Tensor, \"oc ic kh kw\"],\n",
    "    stride: IntOrPair = 1,\n",
    "    padding: IntOrPair = 0\n",
    ") -> Float[Tensor, \"b oc oh ow\"]:\n",
    "    '''\n",
    "    Like torch's conv2d using bias=False\n",
    "\n",
    "    x: shape (batch, in_channels, height, width)\n",
    "    weights: shape (out_channels, in_channels, kernel_height, kernel_width)\n",
    "\n",
    "    Returns: shape (batch, out_channels, output_height, output_width)\n",
    "    '''\n",
    "    pass\n",
    "\n",
    "\n",
    "tests.test_conv2d(conv2d)"
   ]
  },
  {
   "cell_type": "markdown",
   "metadata": {
    "id": "Dge2beyxCBqa"
   },
   "source": [
    "## Max pooling\n",
    "\n",
    "We have just one function left now - **max pooling**. You can review the [TowardsDataScience](https://towardsdatascience.com/a-comprehensive-guide-to-convolutional-neural-networks-the-eli5-way-3bd2b1164a53) post from earlier to understand max pooling better.\n",
    "\n",
    "A \"max pooling\" layer is similar to a convolution in that you have a window sliding over some number of dimensions. The main difference is that there's no kernel: instead of multiplying by the kernel and adding, you just take the maximum.\n",
    "\n",
    "The way multiple channels work is also different. A convolution has some number of input and output channels, and each output channel is a function of all the input channels. There can be any number of output channels. In a pooling layer, the maximum operation is applied independently for each input channel, meaning the number of output channels is necessarily equal to the number of input channels."
   ]
  },
  {
   "cell_type": "markdown",
   "metadata": {
    "id": "ewHK2_PmCCmH"
   },
   "source": [
    "### Exercise - implement 2D max pooling\n",
    "\n",
    "```yaml\n",
    "Difficulty: 🔴🔴⚪⚪⚪\n",
    "Importance: 🔵🔵🔵⚪⚪\n",
    "\n",
    "You should spend up to 10-15 minutes on this exercise.\n",
    "```\n",
    "\n",
    "Implement `maxpool2d` using `torch.as_strided` and `torch.amax` (= max over axes) together. Your version should behave the same as the PyTorch version, but only the indicated arguments need to be supported."
   ]
  },
  {
   "cell_type": "code",
   "execution_count": null,
   "metadata": {
    "id": "_n5_51lFCDrj"
   },
   "outputs": [],
   "source": [
    "def maxpool2d(\n",
    "    x: Float[Tensor, \"b ic h w\"],\n",
    "    kernel_size: IntOrPair,\n",
    "    stride: Optional[IntOrPair] = None,\n",
    "    padding: IntOrPair = 0\n",
    ") -> Float[Tensor, \"b ic oh ow\"]:\n",
    "    '''\n",
    "    Like PyTorch's maxpool2d.\n",
    "\n",
    "    x: shape (batch, channels, height, width)\n",
    "    stride: if None, should be equal to the kernel size\n",
    "\n",
    "    Return: (batch, channels, output_height, output_width)\n",
    "    '''\n",
    "    pass\n",
    "\n",
    "\n",
    "tests.test_maxpool2d(maxpool2d)"
   ]
  },
  {
   "cell_type": "markdown",
   "metadata": {
    "id": "gnMZr3SqCGPR"
   },
   "source": [
    "<details>\n",
    "<summary>Hint</summary>\n",
    "\n",
    "Conceptually, this is similar to `conv2d`.\n",
    "    \n",
    "In `conv2d`, you had to use `as_strided` to turn the 4D tensor `x` into a 6D tensor `x_strided` (adding dimensions over which you would take the convolution), then multiply this tensor by the kernel and sum over these two new dimensions.\n",
    "\n",
    "`maxpool2d` is the same, except that you're simply taking max over those dimensions rather than a dot product with the kernel. So you should find yourself able to reuse a lot of code from your `conv2d` function.\n",
    "</details>\n",
    "\n",
    "<details>\n",
    "<summary>Help - I'm getting a small number of mismatched elements each time (e.g. between 0 and 5%).</summary>\n",
    "\n",
    "This is likely because you used an incorrect `pad_value`. In the convolution function, we set `pad_value=0` so these values wouldn't have any effect in the linear transformation. What pad value would make our padded elements \"invisible\" when we take the maximum?\n",
    "</details>"
   ]
  },
  {
   "cell_type": "markdown",
   "metadata": {
    "id": "EzucGMUuCHJz"
   },
   "source": [
    "Now, you're finished! You can go back to the ResNets exercises, and build your ResNet ***entirely using your own stride-based functions***."
   ]
  },
  {
   "cell_type": "markdown",
   "metadata": {
    "id": "eXGCrNHa7ek0"
   },
   "source": [
    "# 6️⃣ Bonus - Feature Extraction"
   ]
  },
  {
   "cell_type": "markdown",
   "metadata": {
    "id": "1lExsNK_CMK8"
   },
   "source": [
    "> ### Learning Objectives\n",
    ">\n",
    "> * Understand the difference between feature extraction and finetuning\n",
    "> * Perform feature extraction on a pre-trained ResNet"
   ]
  },
  {
   "cell_type": "markdown",
   "metadata": {
    "id": "VgLwvWdcCNse"
   },
   "source": [
    "Now that you've seen how to build a modular training loop, and you've seen how ResNet works and is built, we're going to put these two things together to finetune a ResNet model on a new dataset.\n",
    "\n",
    "**Finetuning** can mean slightly different things in different contexts, but broadly speaking it means using the weights of an already trained network as the starting values for training a new network. Because training networks from scratch is very computationally expensive, this is a common practice in ML.\n",
    "\n",
    "The specific type of finetuning we'll be doing here is called **feature extraction**. This is when we freeze most layers of a model except the last few, and perform gradient descent on those. We call this feature extraction because the earlier layers of the model have already learned to identify important features of the data (and these features are also relevant for the new task), so all that we have to do is train a few final layers in the model to extract these features.\n",
    "\n",
    "*Terminology note - sometimes feature extraction and finetuning are defined differently, with finetuning referring to the training of all the weights in a pretrained model (usually with a small or decaying learning rate), and feature extraction referring to the freezing of some layers and training of others. To avoid confusion here, we'll use the term \"feature extraction\" rather than \"finetuning\".*\n",
    "\n",
    "<img src=\"https://raw.githubusercontent.com/callummcdougall/computational-thread-art/master/example_images/misc/feature_extraction.png\" width=\"400\">\n",
    "\n",
    "How do we prepare a model for feature extraction? By **freezing layers** of our model.\n",
    "\n",
    "We'll discuss freezing layers & the backpropagation algorithm in much more detail tomorrow, but for now it's fine to just understand what's going on at a basic level. When we call `loss.backward()` in our training loop (or when this is implicitly called by our PyTorch Lightning trainer), this propagates gradients from our `loss` scalar back to all parameters in our model. If a parameter has its `requires_grad` attribute set to `False`, it means gradients won't be computed for this tensor during backpropagation. Thanks to PyTorch helpfully keeping track of the parameters which require gradients (using a structure called the **computational graph**), if we set `requires_grad = False` for the first few layers of parameters in our model, PyTorch will actually save us time and compute by not calculating gradients for these parameters at all.\n",
    "\n",
    "See the code below as an example of how gradient propagation stops at tensors with `requires_grad = False`."
   ]
  },
  {
   "cell_type": "code",
   "execution_count": null,
   "metadata": {
    "id": "agKRNMZdCOyX"
   },
   "outputs": [],
   "source": [
    "layer0, layer1 = nn.Linear(3, 4), nn.Linear(4, 5)\n",
    "\n",
    "layer0.requires_grad_(False) # generic code to set `param.requires_grad = False` recursively for a module (or entire model)\n",
    "\n",
    "x = t.randn(3)\n",
    "out = layer1(layer0(x)).sum()\n",
    "out.backward()\n",
    "\n",
    "assert layer0.weight.grad is None\n",
    "assert layer1.weight.grad is not None"
   ]
  },
  {
   "cell_type": "markdown",
   "metadata": {
    "id": "45kAMRkdCP9Q"
   },
   "source": [
    "### Exercise - prepare ResNet for feature extraction\n",
    "\n",
    "```yaml\n",
    "Difficulty: 🔴🔴🔴⚪⚪\n",
    "Importance: 🔵🔵🔵⚪⚪\n",
    "\n",
    "You should spend up to 15-20 minutes on this exercise.\n",
    "```\n",
    "\n",
    "First, you should complete the function below to do the following:\n",
    "\n",
    "* Instantiate a `ResNet34` model using your class, and copy in weights from a pretrained model (you can use code from earlier here)\n",
    "* Disable gradients for all layers\n",
    "* Replace the final linear layer with a new linear layer, which has the same number of `in_features`, but a different number of `out_features` (given by the `n_classes` argument)."
   ]
  },
  {
   "cell_type": "code",
   "execution_count": null,
   "metadata": {
    "id": "9cKUSDh6CRYT"
   },
   "outputs": [],
   "source": [
    "def get_resnet_for_feature_extraction(n_classes: int) -> ResNet34:\n",
    "    '''\n",
    "    Creates a ResNet34 instance, replaces its final linear layer with a classifier\n",
    "    for `n_classes` classes, and freezes all weights except the ones in this layer.\n",
    "\n",
    "    Returns the ResNet model.\n",
    "    '''\n",
    "    pass\n",
    "\n",
    "\n",
    "tests.test_get_resnet_for_feature_extraction(get_resnet_for_feature_extraction)"
   ]
  },
  {
   "cell_type": "markdown",
   "metadata": {
    "id": "t5XvR7W7CT_f"
   },
   "source": [
    "We'll now give you some boilerplate code to load in and transform your data (this code should be quite familiar to you from the code in earlier sections).\n"
   ]
  },
  {
   "cell_type": "code",
   "execution_count": null,
   "metadata": {
    "id": "NghlPkEpCU3O"
   },
   "outputs": [],
   "source": [
    "def get_cifar(subset: int):\n",
    "    cifar_trainset = datasets.CIFAR10(root='./data', train=True, download=True, transform=IMAGENET_TRANSFORM)\n",
    "    cifar_testset = datasets.CIFAR10(root='./data', train=False, download=True, transform=IMAGENET_TRANSFORM)\n",
    "\n",
    "    if subset > 1:\n",
    "        cifar_trainset = Subset(cifar_trainset, indices=range(0, len(cifar_trainset), subset))\n",
    "        cifar_testset = Subset(cifar_testset, indices=range(0, len(cifar_testset), subset))\n",
    "\n",
    "    return cifar_trainset, cifar_testset\n",
    "\n",
    "\n",
    "@dataclass\n",
    "class ResNetTrainingArgs():\n",
    "    batch_size: int = 64\n",
    "    epochs: int = 3\n",
    "    optimizer: Type[t.optim.Optimizer] = t.optim.Adam\n",
    "    learning_rate: float = 1e-3\n",
    "    n_classes: int = 10\n",
    "    subset: int = 10"
   ]
  },
  {
   "cell_type": "markdown",
   "metadata": {
    "id": "_3oxKxDQCZFB"
   },
   "source": [
    "The dataclass we've defined containing training arguments is basically the same as the one we had for the convnet, the main difference is that we're now using the [CIFAR-10 dataset](https://www.cs.toronto.edu/~kriz/cifar.html). This is the dataset we'll be training our model on. It consists of 60000 32x32 colour images in 10 classes, with 6000 images per class. See the link for more information.\n"
   ]
  },
  {
   "cell_type": "markdown",
   "metadata": {
    "id": "7Pw3KlTmCcSl"
   },
   "source": [
    "### Exercise - write training loop for feature extraction\n",
    "\n",
    "```yaml\n",
    "Difficulty: 🔴🔴🔴⚪⚪\n",
    "Importance: 🔵🔵🔵⚪⚪\n",
    "\n",
    "You should spend up to 15-25 minutes on this exercise.\n",
    "```\n",
    "\n",
    "We now come to the final task - write a training loop for your ResNet model.\n",
    "\n",
    "A few things to remember:\n",
    "\n",
    "* You can optionally pass only a subset of your model's parameters to the optimizer when defining it, e.g. `Adam(model.out_layers[-1].parameters(), ...)`. But you don't have to do this, because the gradients for all other parameters have been frozen.\n",
    "* Make sure you call `model.train()` before your training loop, and `model.eval()` before your validation loop. This changes the behaviour of your BatchNorm layers (recall from the previous section that BatchNorm behaves differently in eval mode, using lagged mean and variance estimators rather than computing mean and variance across the input data).\n",
    "* Because the dataset is large, you might want nested progress bars: one for the epochs, and one for each epoch. Also, **make sure you're connected to GPU runtime rather than CPU.**"
   ]
  },
  {
   "cell_type": "code",
   "execution_count": null,
   "metadata": {
    "id": "Mw0OrNTKCdS_"
   },
   "outputs": [],
   "source": [
    "# YOUR CODE HERE - write your `ResNetTrainer` class\n",
    "\n",
    "args = ResNetTrainingArgs()\n",
    "trainer = ResNetTrainer(args)\n",
    "trainer.train()\n",
    "plot_train_loss_and_test_accuracy_from_trainer(trainer, title=\"Feature extraction with ResNet34\")"
   ]
  },
  {
   "cell_type": "markdown",
   "metadata": {
    "id": "c4kj-fsTCgaJ"
   },
   "source": [
    "<details>\n",
    "<summary>Spoilers - what kind of results should you get?</summary>\n",
    "\n",
    "If you train the whole model rather than just the final layer, you should find accuracy increases very slowly, not getting very far above random chance. This reflects the fact that the model is trying to learn a new task (classifying images into 10 classes) from scratch, rather than just learning to extract features from images, and this takes a long time!\n",
    "\n",
    "If you train just the final layer, your accuracy should reach around 70-80% by the first epoch. This is because the model is already very good at extracting features from images, and it just needs to learn how to turn these features into predictions for this new set of classes.\n",
    "\n",
    "</details>"
   ]
  }
 ],
 "metadata": {
  "accelerator": "GPU",
  "colab": {
   "collapsed_sections": [
    "jd3LpCav3UXu",
    "cmgIafL_7EUG",
    "59YGDI3p7FdX",
    "DiUVKtaD7HuH",
    "a9NImreY7IZb",
    "s14T6NUJ7Ivu",
    "eXGCrNHa7ek0"
   ],
   "gpuType": "T4",
   "provenance": []
  },
  "environment": {
   "kernel": "python3",
   "name": "pytorch-gpu.1-13.m103",
   "type": "gcloud",
   "uri": "gcr.io/deeplearning-platform-release/pytorch-gpu.1-13:m103"
  },
  "kernelspec": {
   "display_name": "Python 3 (ipykernel)",
   "language": "python",
   "name": "python3"
  },
  "language_info": {
   "codemirror_mode": {
    "name": "ipython",
    "version": 3
   },
   "file_extension": ".py",
   "mimetype": "text/x-python",
   "name": "python",
   "nbconvert_exporter": "python",
   "pygments_lexer": "ipython3",
   "version": "3.10.13"
  }
 },
 "nbformat": 4,
 "nbformat_minor": 4
}
